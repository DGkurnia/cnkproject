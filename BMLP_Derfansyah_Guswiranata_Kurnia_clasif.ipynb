{
  "nbformat": 4,
  "nbformat_minor": 0,
  "metadata": {
    "colab": {
      "provenance": [],
      "gpuType": "V28",
      "include_colab_link": true
    },
    "kernelspec": {
      "name": "python3",
      "display_name": "Python 3"
    },
    "language_info": {
      "name": "python"
    },
    "accelerator": "TPU"
  },
  "cells": [
    {
      "cell_type": "markdown",
      "metadata": {
        "id": "view-in-github",
        "colab_type": "text"
      },
      "source": [
        "<a href=\"https://colab.research.google.com/github/DGkurnia/cnkproject/blob/main/BMLP_Derfansyah_Guswiranata_Kurnia_clasif.ipynb\" target=\"_parent\"><img src=\"https://colab.research.google.com/assets/colab-badge.svg\" alt=\"Open In Colab\"/></a>"
      ]
    },
    {
      "cell_type": "markdown",
      "source": [
        "# **1. Import Library**"
      ],
      "metadata": {
        "id": "fKADPWcFKlj3"
      }
    },
    {
      "cell_type": "markdown",
      "source": [
        "Pada tahap ini, Anda perlu mengimpor beberapa pustaka (library) Python yang dibutuhkan untuk analisis data dan pembangunan model machine learning."
      ],
      "metadata": {
        "id": "LgA3ERnVn84N"
      }
    },
    {
      "cell_type": "code",
      "source": [
        "#Perpustakaan awal\n",
        "import numpy as np\n",
        "import pandas as pd\n",
        "import matplotlib.pyplot as plt\n",
        "import seaborn as sns\n",
        "import warnings\n",
        "import time"
      ],
      "metadata": {
        "id": "BlmvjLY9M4Yj"
      },
      "execution_count": 1,
      "outputs": []
    },
    {
      "cell_type": "code",
      "source": [
        "#perpustakaan untuk impordata\n",
        "import sys\n",
        "from google.colab import drive\n",
        "drive.mount('/content/drive')"
      ],
      "metadata": {
        "colab": {
          "base_uri": "https://localhost:8080/"
        },
        "id": "-64RkH0-DIGK",
        "outputId": "767d2337-0a3f-49ed-d678-da7d1e680a07"
      },
      "execution_count": 2,
      "outputs": [
        {
          "output_type": "stream",
          "name": "stdout",
          "text": [
            "Mounted at /content/drive\n"
          ]
        }
      ]
    },
    {
      "cell_type": "code",
      "source": [
        "#instalasi regressor\n",
        "!pip install catboost #catboost\n",
        "!pip install lightgbm #lightbgm"
      ],
      "metadata": {
        "colab": {
          "base_uri": "https://localhost:8080/"
        },
        "id": "eXDvIqulDkns",
        "outputId": "2152c138-7a48-4b55-bdd3-57f13986b88a"
      },
      "execution_count": 3,
      "outputs": [
        {
          "output_type": "stream",
          "name": "stdout",
          "text": [
            "Collecting catboost\n",
            "  Downloading catboost-1.2.7-cp310-cp310-manylinux2014_x86_64.whl.metadata (1.2 kB)\n",
            "Collecting graphviz (from catboost)\n",
            "  Downloading graphviz-0.20.3-py3-none-any.whl.metadata (12 kB)\n",
            "Requirement already satisfied: matplotlib in /usr/local/lib/python3.10/dist-packages (from catboost) (3.8.0)\n",
            "Requirement already satisfied: numpy<2.0,>=1.16.0 in /usr/local/lib/python3.10/dist-packages (from catboost) (1.26.4)\n",
            "Requirement already satisfied: pandas>=0.24 in /usr/local/lib/python3.10/dist-packages (from catboost) (2.2.2)\n",
            "Requirement already satisfied: scipy in /usr/local/lib/python3.10/dist-packages (from catboost) (1.13.1)\n",
            "Requirement already satisfied: plotly in /usr/local/lib/python3.10/dist-packages (from catboost) (5.24.1)\n",
            "Requirement already satisfied: six in /usr/local/lib/python3.10/dist-packages (from catboost) (1.16.0)\n",
            "Requirement already satisfied: python-dateutil>=2.8.2 in /usr/local/lib/python3.10/dist-packages (from pandas>=0.24->catboost) (2.9.0.post0)\n",
            "Requirement already satisfied: pytz>=2020.1 in /usr/local/lib/python3.10/dist-packages (from pandas>=0.24->catboost) (2024.2)\n",
            "Requirement already satisfied: tzdata>=2022.7 in /usr/local/lib/python3.10/dist-packages (from pandas>=0.24->catboost) (2024.2)\n",
            "Requirement already satisfied: contourpy>=1.0.1 in /usr/local/lib/python3.10/dist-packages (from matplotlib->catboost) (1.3.0)\n",
            "Requirement already satisfied: cycler>=0.10 in /usr/local/lib/python3.10/dist-packages (from matplotlib->catboost) (0.12.1)\n",
            "Requirement already satisfied: fonttools>=4.22.0 in /usr/local/lib/python3.10/dist-packages (from matplotlib->catboost) (4.54.1)\n",
            "Requirement already satisfied: kiwisolver>=1.0.1 in /usr/local/lib/python3.10/dist-packages (from matplotlib->catboost) (1.4.7)\n",
            "Requirement already satisfied: packaging>=20.0 in /usr/local/lib/python3.10/dist-packages (from matplotlib->catboost) (24.1)\n",
            "Requirement already satisfied: pillow>=6.2.0 in /usr/local/lib/python3.10/dist-packages (from matplotlib->catboost) (11.0.0)\n",
            "Requirement already satisfied: pyparsing>=2.3.1 in /usr/local/lib/python3.10/dist-packages (from matplotlib->catboost) (3.2.0)\n",
            "Requirement already satisfied: tenacity>=6.2.0 in /usr/local/lib/python3.10/dist-packages (from plotly->catboost) (9.0.0)\n",
            "Downloading catboost-1.2.7-cp310-cp310-manylinux2014_x86_64.whl (98.7 MB)\n",
            "\u001b[2K   \u001b[90m━━━━━━━━━━━━━━━━━━━━━━━━━━━━━━━━━━━━━━━━\u001b[0m \u001b[32m98.7/98.7 MB\u001b[0m \u001b[31m11.3 MB/s\u001b[0m eta \u001b[36m0:00:00\u001b[0m\n",
            "\u001b[?25hDownloading graphviz-0.20.3-py3-none-any.whl (47 kB)\n",
            "\u001b[2K   \u001b[90m━━━━━━━━━━━━━━━━━━━━━━━━━━━━━━━━━━━━━━━━\u001b[0m \u001b[32m47.1/47.1 kB\u001b[0m \u001b[31m2.6 MB/s\u001b[0m eta \u001b[36m0:00:00\u001b[0m\n",
            "\u001b[?25hInstalling collected packages: graphviz, catboost\n",
            "Successfully installed catboost-1.2.7 graphviz-0.20.3\n",
            "Collecting lightgbm\n",
            "  Downloading lightgbm-4.5.0-py3-none-manylinux_2_28_x86_64.whl.metadata (17 kB)\n",
            "Requirement already satisfied: numpy>=1.17.0 in /usr/local/lib/python3.10/dist-packages (from lightgbm) (1.26.4)\n",
            "Requirement already satisfied: scipy in /usr/local/lib/python3.10/dist-packages (from lightgbm) (1.13.1)\n",
            "Downloading lightgbm-4.5.0-py3-none-manylinux_2_28_x86_64.whl (3.6 MB)\n",
            "\u001b[2K   \u001b[90m━━━━━━━━━━━━━━━━━━━━━━━━━━━━━━━━━━━━━━━━\u001b[0m \u001b[32m3.6/3.6 MB\u001b[0m \u001b[31m36.4 MB/s\u001b[0m eta \u001b[36m0:00:00\u001b[0m\n",
            "\u001b[?25hInstalling collected packages: lightgbm\n",
            "Successfully installed lightgbm-4.5.0\n"
          ]
        }
      ]
    },
    {
      "cell_type": "code",
      "source": [
        "#instalasi paket (p1)\n",
        "from sklearn.exceptions import ConvergenceWarning\n",
        "from sklearn.linear_model import LinearRegression, Ridge, Lasso, ElasticNet\n",
        "from sklearn.ensemble import RandomForestRegressor, GradientBoostingRegressor\n",
        "from sklearn.svm import SVR\n",
        "#lanjut"
      ],
      "metadata": {
        "id": "zGqRUtmlEds3"
      },
      "execution_count": 4,
      "outputs": []
    },
    {
      "cell_type": "code",
      "source": [
        "#Bagian 2\n",
        "from sklearn.metrics import mean_squared_error\n",
        "from sklearn.linear_model import LinearRegression\n",
        "from sklearn.model_selection import train_test_split, cross_val_score,GridSearchCV\n",
        "from sklearn.preprocessing import MinMaxScaler, LabelEncoder, StandardScaler, RobustScaler\n",
        "from sklearn.impute import KNNImputer\n",
        "from sklearn import metrics\n",
        "from sklearn.metrics import mean_squared_error, mean_absolute_error, r2_score"
      ],
      "metadata": {
        "id": "IlWN2asZEpoC"
      },
      "execution_count": 5,
      "outputs": []
    },
    {
      "cell_type": "code",
      "source": [
        "#Robust scaler\n",
        "from sklearn.preprocessing import RobustScaler"
      ],
      "metadata": {
        "id": "8s37UFiUFALr"
      },
      "execution_count": 6,
      "outputs": []
    },
    {
      "cell_type": "code",
      "source": [
        "#instalasi precision and recall\n",
        "from sklearn.metrics import precision_score, recall_score, f1_score"
      ],
      "metadata": {
        "id": "UcIyHFEKqWkq"
      },
      "execution_count": 57,
      "outputs": []
    },
    {
      "cell_type": "code",
      "source": [
        "#instalasi xgboost\n",
        "!pip install xgboost"
      ],
      "metadata": {
        "colab": {
          "base_uri": "https://localhost:8080/"
        },
        "id": "wgO7pNYOGeU4",
        "outputId": "480e101a-6673-4fd2-b705-67c323be8d5e"
      },
      "execution_count": 8,
      "outputs": [
        {
          "output_type": "stream",
          "name": "stdout",
          "text": [
            "Collecting xgboost\n",
            "  Downloading xgboost-2.1.2-py3-none-manylinux_2_28_x86_64.whl.metadata (2.1 kB)\n",
            "Requirement already satisfied: numpy in /usr/local/lib/python3.10/dist-packages (from xgboost) (1.26.4)\n",
            "Collecting nvidia-nccl-cu12 (from xgboost)\n",
            "  Downloading nvidia_nccl_cu12-2.23.4-py3-none-manylinux2014_x86_64.whl.metadata (1.8 kB)\n",
            "Requirement already satisfied: scipy in /usr/local/lib/python3.10/dist-packages (from xgboost) (1.13.1)\n",
            "Downloading xgboost-2.1.2-py3-none-manylinux_2_28_x86_64.whl (153.9 MB)\n",
            "\u001b[2K   \u001b[90m━━━━━━━━━━━━━━━━━━━━━━━━━━━━━━━━━━━━━━━━\u001b[0m \u001b[32m153.9/153.9 MB\u001b[0m \u001b[31m6.9 MB/s\u001b[0m eta \u001b[36m0:00:00\u001b[0m\n",
            "\u001b[?25hDownloading nvidia_nccl_cu12-2.23.4-py3-none-manylinux2014_x86_64.whl (199.0 MB)\n",
            "\u001b[2K   \u001b[90m━━━━━━━━━━━━━━━━━━━━━━━━━━━━━━━━━━━━━━━━\u001b[0m \u001b[32m199.0/199.0 MB\u001b[0m \u001b[31m2.2 MB/s\u001b[0m eta \u001b[36m0:00:00\u001b[0m\n",
            "\u001b[?25hInstalling collected packages: nvidia-nccl-cu12, xgboost\n",
            "Successfully installed nvidia-nccl-cu12-2.23.4 xgboost-2.1.2\n"
          ]
        }
      ]
    },
    {
      "cell_type": "code",
      "source": [
        "#instalasi regressor\n",
        "from catboost import CatBoostRegressor\n",
        "from lightgbm import LGBMRegressor\n",
        "from sklearn.neighbors import KNeighborsRegressor\n",
        "#lanjutan impor regresor\n",
        "from sklearn.tree import DecisionTreeRegressor\n",
        "from xgboost import XGBRegressor"
      ],
      "metadata": {
        "id": "zAicf9VODOFI"
      },
      "execution_count": 9,
      "outputs": []
    },
    {
      "cell_type": "markdown",
      "source": [
        "# **2. Memuat Dataset dari Hasil Clustering**"
      ],
      "metadata": {
        "id": "f3YIEnAFKrKL"
      }
    },
    {
      "cell_type": "markdown",
      "source": [
        "Memuat dataset hasil clustering dari file CSV ke dalam variabel DataFrame."
      ],
      "metadata": {
        "id": "Ey3ItwTen_7E"
      }
    },
    {
      "cell_type": "code",
      "source": [
        "#Pemeriksaan data\n",
        "#Instalasi dataset dari Google Drive\n",
        "clabnb = pd.read_csv('/content/drive/MyDrive/csv-files/clusairbnb.csv')\n",
        "#persiapan salinan\n",
        "clabnbii = clabnb.copy()\n",
        "clabnbii.head(7)"
      ],
      "metadata": {
        "colab": {
          "base_uri": "https://localhost:8080/",
          "height": 462
        },
        "collapsed": true,
        "id": "D4v0HY7vEx_f",
        "outputId": "c388ba77-f0ed-45e1-d240-2001375ebf18"
      },
      "execution_count": 10,
      "outputs": [
        {
          "output_type": "execute_result",
          "data": {
            "text/plain": [
              "      id                                             name  host_id  \\\n",
              "0   3831                  Cozy Entire Floor of Brownstone     4869   \n",
              "1   5238               Cute & Cozy Lower East Side 1 bdrm     7549   \n",
              "2   6848                 Only 2 stops to Manhattan studio    15991   \n",
              "3   7097                Perfect for Your Parents + Garden    17571   \n",
              "4   7726  Hip Historic Brownstone Apartment with Backyard    20950   \n",
              "5   8490           MAISON DES SIRENES1,bohemian apartment    25183   \n",
              "6  11708                        Cute apt in artist's home    44145   \n",
              "\n",
              "          host_name neighbourhood_group       neighbourhood  latitude  \\\n",
              "0       LisaRoxanne            Brooklyn        Clinton Hill  40.68514   \n",
              "1               Ben           Manhattan           Chinatown  40.71344   \n",
              "2     Allen & Irina            Brooklyn        Williamsburg  40.70837   \n",
              "3              Jane            Brooklyn         Fort Greene  40.69169   \n",
              "4  Adam And Charity            Brooklyn       Crown Heights  40.67592   \n",
              "5          Nathalie            Brooklyn  Bedford-Stuyvesant  40.68371   \n",
              "6            Tyrome            Brooklyn            Bushwick  40.70186   \n",
              "\n",
              "   longitude        room_type  price  minimum_nights  number_of_reviews  \\\n",
              "0  -73.95976  Entire home/apt     89               1                270   \n",
              "1  -73.99037  Entire home/apt    150               1                160   \n",
              "2  -73.95352  Entire home/apt    140               2                148   \n",
              "3  -73.97185  Entire home/apt    215               2                198   \n",
              "4  -73.94694  Entire home/apt     99               3                 53   \n",
              "5  -73.94028  Entire home/apt    120               2                 88   \n",
              "6  -73.92745  Entire home/apt     85               2                231   \n",
              "\n",
              "  last_review  reviews_per_month  calculated_host_listings_count  \\\n",
              "0  2019-07-05                  4                               1   \n",
              "1  2019-06-09                  1                               4   \n",
              "2  2019-06-29                  1                               1   \n",
              "3  2019-06-28                  1                               1   \n",
              "4  2019-06-22                  4                               1   \n",
              "5  2019-06-19                  0                               2   \n",
              "6  2019-06-22                  1                               2   \n",
              "\n",
              "   availability_365     Cluster  \n",
              "0               194  unit asing  \n",
              "1               188  unit asing  \n",
              "2                46  unit asing  \n",
              "3               321  unit asing  \n",
              "4                21  unit asing  \n",
              "5               233  unit asing  \n",
              "6                22  unit asing  "
            ],
            "text/html": [
              "\n",
              "  <div id=\"df-becd0130-dd09-4403-94a0-7ec664cdaf95\" class=\"colab-df-container\">\n",
              "    <div>\n",
              "<style scoped>\n",
              "    .dataframe tbody tr th:only-of-type {\n",
              "        vertical-align: middle;\n",
              "    }\n",
              "\n",
              "    .dataframe tbody tr th {\n",
              "        vertical-align: top;\n",
              "    }\n",
              "\n",
              "    .dataframe thead th {\n",
              "        text-align: right;\n",
              "    }\n",
              "</style>\n",
              "<table border=\"1\" class=\"dataframe\">\n",
              "  <thead>\n",
              "    <tr style=\"text-align: right;\">\n",
              "      <th></th>\n",
              "      <th>id</th>\n",
              "      <th>name</th>\n",
              "      <th>host_id</th>\n",
              "      <th>host_name</th>\n",
              "      <th>neighbourhood_group</th>\n",
              "      <th>neighbourhood</th>\n",
              "      <th>latitude</th>\n",
              "      <th>longitude</th>\n",
              "      <th>room_type</th>\n",
              "      <th>price</th>\n",
              "      <th>minimum_nights</th>\n",
              "      <th>number_of_reviews</th>\n",
              "      <th>last_review</th>\n",
              "      <th>reviews_per_month</th>\n",
              "      <th>calculated_host_listings_count</th>\n",
              "      <th>availability_365</th>\n",
              "      <th>Cluster</th>\n",
              "    </tr>\n",
              "  </thead>\n",
              "  <tbody>\n",
              "    <tr>\n",
              "      <th>0</th>\n",
              "      <td>3831</td>\n",
              "      <td>Cozy Entire Floor of Brownstone</td>\n",
              "      <td>4869</td>\n",
              "      <td>LisaRoxanne</td>\n",
              "      <td>Brooklyn</td>\n",
              "      <td>Clinton Hill</td>\n",
              "      <td>40.68514</td>\n",
              "      <td>-73.95976</td>\n",
              "      <td>Entire home/apt</td>\n",
              "      <td>89</td>\n",
              "      <td>1</td>\n",
              "      <td>270</td>\n",
              "      <td>2019-07-05</td>\n",
              "      <td>4</td>\n",
              "      <td>1</td>\n",
              "      <td>194</td>\n",
              "      <td>unit asing</td>\n",
              "    </tr>\n",
              "    <tr>\n",
              "      <th>1</th>\n",
              "      <td>5238</td>\n",
              "      <td>Cute &amp; Cozy Lower East Side 1 bdrm</td>\n",
              "      <td>7549</td>\n",
              "      <td>Ben</td>\n",
              "      <td>Manhattan</td>\n",
              "      <td>Chinatown</td>\n",
              "      <td>40.71344</td>\n",
              "      <td>-73.99037</td>\n",
              "      <td>Entire home/apt</td>\n",
              "      <td>150</td>\n",
              "      <td>1</td>\n",
              "      <td>160</td>\n",
              "      <td>2019-06-09</td>\n",
              "      <td>1</td>\n",
              "      <td>4</td>\n",
              "      <td>188</td>\n",
              "      <td>unit asing</td>\n",
              "    </tr>\n",
              "    <tr>\n",
              "      <th>2</th>\n",
              "      <td>6848</td>\n",
              "      <td>Only 2 stops to Manhattan studio</td>\n",
              "      <td>15991</td>\n",
              "      <td>Allen &amp; Irina</td>\n",
              "      <td>Brooklyn</td>\n",
              "      <td>Williamsburg</td>\n",
              "      <td>40.70837</td>\n",
              "      <td>-73.95352</td>\n",
              "      <td>Entire home/apt</td>\n",
              "      <td>140</td>\n",
              "      <td>2</td>\n",
              "      <td>148</td>\n",
              "      <td>2019-06-29</td>\n",
              "      <td>1</td>\n",
              "      <td>1</td>\n",
              "      <td>46</td>\n",
              "      <td>unit asing</td>\n",
              "    </tr>\n",
              "    <tr>\n",
              "      <th>3</th>\n",
              "      <td>7097</td>\n",
              "      <td>Perfect for Your Parents + Garden</td>\n",
              "      <td>17571</td>\n",
              "      <td>Jane</td>\n",
              "      <td>Brooklyn</td>\n",
              "      <td>Fort Greene</td>\n",
              "      <td>40.69169</td>\n",
              "      <td>-73.97185</td>\n",
              "      <td>Entire home/apt</td>\n",
              "      <td>215</td>\n",
              "      <td>2</td>\n",
              "      <td>198</td>\n",
              "      <td>2019-06-28</td>\n",
              "      <td>1</td>\n",
              "      <td>1</td>\n",
              "      <td>321</td>\n",
              "      <td>unit asing</td>\n",
              "    </tr>\n",
              "    <tr>\n",
              "      <th>4</th>\n",
              "      <td>7726</td>\n",
              "      <td>Hip Historic Brownstone Apartment with Backyard</td>\n",
              "      <td>20950</td>\n",
              "      <td>Adam And Charity</td>\n",
              "      <td>Brooklyn</td>\n",
              "      <td>Crown Heights</td>\n",
              "      <td>40.67592</td>\n",
              "      <td>-73.94694</td>\n",
              "      <td>Entire home/apt</td>\n",
              "      <td>99</td>\n",
              "      <td>3</td>\n",
              "      <td>53</td>\n",
              "      <td>2019-06-22</td>\n",
              "      <td>4</td>\n",
              "      <td>1</td>\n",
              "      <td>21</td>\n",
              "      <td>unit asing</td>\n",
              "    </tr>\n",
              "    <tr>\n",
              "      <th>5</th>\n",
              "      <td>8490</td>\n",
              "      <td>MAISON DES SIRENES1,bohemian apartment</td>\n",
              "      <td>25183</td>\n",
              "      <td>Nathalie</td>\n",
              "      <td>Brooklyn</td>\n",
              "      <td>Bedford-Stuyvesant</td>\n",
              "      <td>40.68371</td>\n",
              "      <td>-73.94028</td>\n",
              "      <td>Entire home/apt</td>\n",
              "      <td>120</td>\n",
              "      <td>2</td>\n",
              "      <td>88</td>\n",
              "      <td>2019-06-19</td>\n",
              "      <td>0</td>\n",
              "      <td>2</td>\n",
              "      <td>233</td>\n",
              "      <td>unit asing</td>\n",
              "    </tr>\n",
              "    <tr>\n",
              "      <th>6</th>\n",
              "      <td>11708</td>\n",
              "      <td>Cute apt in artist's home</td>\n",
              "      <td>44145</td>\n",
              "      <td>Tyrome</td>\n",
              "      <td>Brooklyn</td>\n",
              "      <td>Bushwick</td>\n",
              "      <td>40.70186</td>\n",
              "      <td>-73.92745</td>\n",
              "      <td>Entire home/apt</td>\n",
              "      <td>85</td>\n",
              "      <td>2</td>\n",
              "      <td>231</td>\n",
              "      <td>2019-06-22</td>\n",
              "      <td>1</td>\n",
              "      <td>2</td>\n",
              "      <td>22</td>\n",
              "      <td>unit asing</td>\n",
              "    </tr>\n",
              "  </tbody>\n",
              "</table>\n",
              "</div>\n",
              "    <div class=\"colab-df-buttons\">\n",
              "\n",
              "  <div class=\"colab-df-container\">\n",
              "    <button class=\"colab-df-convert\" onclick=\"convertToInteractive('df-becd0130-dd09-4403-94a0-7ec664cdaf95')\"\n",
              "            title=\"Convert this dataframe to an interactive table.\"\n",
              "            style=\"display:none;\">\n",
              "\n",
              "  <svg xmlns=\"http://www.w3.org/2000/svg\" height=\"24px\" viewBox=\"0 -960 960 960\">\n",
              "    <path d=\"M120-120v-720h720v720H120Zm60-500h600v-160H180v160Zm220 220h160v-160H400v160Zm0 220h160v-160H400v160ZM180-400h160v-160H180v160Zm440 0h160v-160H620v160ZM180-180h160v-160H180v160Zm440 0h160v-160H620v160Z\"/>\n",
              "  </svg>\n",
              "    </button>\n",
              "\n",
              "  <style>\n",
              "    .colab-df-container {\n",
              "      display:flex;\n",
              "      gap: 12px;\n",
              "    }\n",
              "\n",
              "    .colab-df-convert {\n",
              "      background-color: #E8F0FE;\n",
              "      border: none;\n",
              "      border-radius: 50%;\n",
              "      cursor: pointer;\n",
              "      display: none;\n",
              "      fill: #1967D2;\n",
              "      height: 32px;\n",
              "      padding: 0 0 0 0;\n",
              "      width: 32px;\n",
              "    }\n",
              "\n",
              "    .colab-df-convert:hover {\n",
              "      background-color: #E2EBFA;\n",
              "      box-shadow: 0px 1px 2px rgba(60, 64, 67, 0.3), 0px 1px 3px 1px rgba(60, 64, 67, 0.15);\n",
              "      fill: #174EA6;\n",
              "    }\n",
              "\n",
              "    .colab-df-buttons div {\n",
              "      margin-bottom: 4px;\n",
              "    }\n",
              "\n",
              "    [theme=dark] .colab-df-convert {\n",
              "      background-color: #3B4455;\n",
              "      fill: #D2E3FC;\n",
              "    }\n",
              "\n",
              "    [theme=dark] .colab-df-convert:hover {\n",
              "      background-color: #434B5C;\n",
              "      box-shadow: 0px 1px 3px 1px rgba(0, 0, 0, 0.15);\n",
              "      filter: drop-shadow(0px 1px 2px rgba(0, 0, 0, 0.3));\n",
              "      fill: #FFFFFF;\n",
              "    }\n",
              "  </style>\n",
              "\n",
              "    <script>\n",
              "      const buttonEl =\n",
              "        document.querySelector('#df-becd0130-dd09-4403-94a0-7ec664cdaf95 button.colab-df-convert');\n",
              "      buttonEl.style.display =\n",
              "        google.colab.kernel.accessAllowed ? 'block' : 'none';\n",
              "\n",
              "      async function convertToInteractive(key) {\n",
              "        const element = document.querySelector('#df-becd0130-dd09-4403-94a0-7ec664cdaf95');\n",
              "        const dataTable =\n",
              "          await google.colab.kernel.invokeFunction('convertToInteractive',\n",
              "                                                    [key], {});\n",
              "        if (!dataTable) return;\n",
              "\n",
              "        const docLinkHtml = 'Like what you see? Visit the ' +\n",
              "          '<a target=\"_blank\" href=https://colab.research.google.com/notebooks/data_table.ipynb>data table notebook</a>'\n",
              "          + ' to learn more about interactive tables.';\n",
              "        element.innerHTML = '';\n",
              "        dataTable['output_type'] = 'display_data';\n",
              "        await google.colab.output.renderOutput(dataTable, element);\n",
              "        const docLink = document.createElement('div');\n",
              "        docLink.innerHTML = docLinkHtml;\n",
              "        element.appendChild(docLink);\n",
              "      }\n",
              "    </script>\n",
              "  </div>\n",
              "\n",
              "\n",
              "<div id=\"df-1125148b-60b6-4126-8637-057a734eb066\">\n",
              "  <button class=\"colab-df-quickchart\" onclick=\"quickchart('df-1125148b-60b6-4126-8637-057a734eb066')\"\n",
              "            title=\"Suggest charts\"\n",
              "            style=\"display:none;\">\n",
              "\n",
              "<svg xmlns=\"http://www.w3.org/2000/svg\" height=\"24px\"viewBox=\"0 0 24 24\"\n",
              "     width=\"24px\">\n",
              "    <g>\n",
              "        <path d=\"M19 3H5c-1.1 0-2 .9-2 2v14c0 1.1.9 2 2 2h14c1.1 0 2-.9 2-2V5c0-1.1-.9-2-2-2zM9 17H7v-7h2v7zm4 0h-2V7h2v10zm4 0h-2v-4h2v4z\"/>\n",
              "    </g>\n",
              "</svg>\n",
              "  </button>\n",
              "\n",
              "<style>\n",
              "  .colab-df-quickchart {\n",
              "      --bg-color: #E8F0FE;\n",
              "      --fill-color: #1967D2;\n",
              "      --hover-bg-color: #E2EBFA;\n",
              "      --hover-fill-color: #174EA6;\n",
              "      --disabled-fill-color: #AAA;\n",
              "      --disabled-bg-color: #DDD;\n",
              "  }\n",
              "\n",
              "  [theme=dark] .colab-df-quickchart {\n",
              "      --bg-color: #3B4455;\n",
              "      --fill-color: #D2E3FC;\n",
              "      --hover-bg-color: #434B5C;\n",
              "      --hover-fill-color: #FFFFFF;\n",
              "      --disabled-bg-color: #3B4455;\n",
              "      --disabled-fill-color: #666;\n",
              "  }\n",
              "\n",
              "  .colab-df-quickchart {\n",
              "    background-color: var(--bg-color);\n",
              "    border: none;\n",
              "    border-radius: 50%;\n",
              "    cursor: pointer;\n",
              "    display: none;\n",
              "    fill: var(--fill-color);\n",
              "    height: 32px;\n",
              "    padding: 0;\n",
              "    width: 32px;\n",
              "  }\n",
              "\n",
              "  .colab-df-quickchart:hover {\n",
              "    background-color: var(--hover-bg-color);\n",
              "    box-shadow: 0 1px 2px rgba(60, 64, 67, 0.3), 0 1px 3px 1px rgba(60, 64, 67, 0.15);\n",
              "    fill: var(--button-hover-fill-color);\n",
              "  }\n",
              "\n",
              "  .colab-df-quickchart-complete:disabled,\n",
              "  .colab-df-quickchart-complete:disabled:hover {\n",
              "    background-color: var(--disabled-bg-color);\n",
              "    fill: var(--disabled-fill-color);\n",
              "    box-shadow: none;\n",
              "  }\n",
              "\n",
              "  .colab-df-spinner {\n",
              "    border: 2px solid var(--fill-color);\n",
              "    border-color: transparent;\n",
              "    border-bottom-color: var(--fill-color);\n",
              "    animation:\n",
              "      spin 1s steps(1) infinite;\n",
              "  }\n",
              "\n",
              "  @keyframes spin {\n",
              "    0% {\n",
              "      border-color: transparent;\n",
              "      border-bottom-color: var(--fill-color);\n",
              "      border-left-color: var(--fill-color);\n",
              "    }\n",
              "    20% {\n",
              "      border-color: transparent;\n",
              "      border-left-color: var(--fill-color);\n",
              "      border-top-color: var(--fill-color);\n",
              "    }\n",
              "    30% {\n",
              "      border-color: transparent;\n",
              "      border-left-color: var(--fill-color);\n",
              "      border-top-color: var(--fill-color);\n",
              "      border-right-color: var(--fill-color);\n",
              "    }\n",
              "    40% {\n",
              "      border-color: transparent;\n",
              "      border-right-color: var(--fill-color);\n",
              "      border-top-color: var(--fill-color);\n",
              "    }\n",
              "    60% {\n",
              "      border-color: transparent;\n",
              "      border-right-color: var(--fill-color);\n",
              "    }\n",
              "    80% {\n",
              "      border-color: transparent;\n",
              "      border-right-color: var(--fill-color);\n",
              "      border-bottom-color: var(--fill-color);\n",
              "    }\n",
              "    90% {\n",
              "      border-color: transparent;\n",
              "      border-bottom-color: var(--fill-color);\n",
              "    }\n",
              "  }\n",
              "</style>\n",
              "\n",
              "  <script>\n",
              "    async function quickchart(key) {\n",
              "      const quickchartButtonEl =\n",
              "        document.querySelector('#' + key + ' button');\n",
              "      quickchartButtonEl.disabled = true;  // To prevent multiple clicks.\n",
              "      quickchartButtonEl.classList.add('colab-df-spinner');\n",
              "      try {\n",
              "        const charts = await google.colab.kernel.invokeFunction(\n",
              "            'suggestCharts', [key], {});\n",
              "      } catch (error) {\n",
              "        console.error('Error during call to suggestCharts:', error);\n",
              "      }\n",
              "      quickchartButtonEl.classList.remove('colab-df-spinner');\n",
              "      quickchartButtonEl.classList.add('colab-df-quickchart-complete');\n",
              "    }\n",
              "    (() => {\n",
              "      let quickchartButtonEl =\n",
              "        document.querySelector('#df-1125148b-60b6-4126-8637-057a734eb066 button');\n",
              "      quickchartButtonEl.style.display =\n",
              "        google.colab.kernel.accessAllowed ? 'block' : 'none';\n",
              "    })();\n",
              "  </script>\n",
              "</div>\n",
              "\n",
              "    </div>\n",
              "  </div>\n"
            ],
            "application/vnd.google.colaboratory.intrinsic+json": {
              "type": "dataframe",
              "variable_name": "clabnbii",
              "summary": "{\n  \"name\": \"clabnbii\",\n  \"rows\": 48895,\n  \"fields\": [\n    {\n      \"column\": \"id\",\n      \"properties\": {\n        \"dtype\": \"number\",\n        \"std\": 10983108,\n        \"min\": 2539,\n        \"max\": 36487245,\n        \"num_unique_values\": 48895,\n        \"samples\": [\n          5236146,\n          31205946,\n          19330743\n        ],\n        \"semantic_type\": \"\",\n        \"description\": \"\"\n      }\n    },\n    {\n      \"column\": \"name\",\n      \"properties\": {\n        \"dtype\": \"string\",\n        \"num_unique_values\": 47905,\n        \"samples\": [\n          \"Lovely room/Great Location in Williamsburg!\",\n          \"1 Bed Room BEST LOCATION EPIC VIEWS\",\n          \"Cozy room in a Victorian house in Central Brooklyn\"\n        ],\n        \"semantic_type\": \"\",\n        \"description\": \"\"\n      }\n    },\n    {\n      \"column\": \"host_id\",\n      \"properties\": {\n        \"dtype\": \"number\",\n        \"std\": 78610967,\n        \"min\": 2438,\n        \"max\": 274321313,\n        \"num_unique_values\": 37457,\n        \"samples\": [\n          2371814,\n          153781232,\n          61689461\n        ],\n        \"semantic_type\": \"\",\n        \"description\": \"\"\n      }\n    },\n    {\n      \"column\": \"host_name\",\n      \"properties\": {\n        \"dtype\": \"category\",\n        \"num_unique_values\": 11452,\n        \"samples\": [\n          \"Eg\",\n          \"Sam & Stefanie\",\n          \"Zachory\"\n        ],\n        \"semantic_type\": \"\",\n        \"description\": \"\"\n      }\n    },\n    {\n      \"column\": \"neighbourhood_group\",\n      \"properties\": {\n        \"dtype\": \"category\",\n        \"num_unique_values\": 5,\n        \"samples\": [\n          \"Manhattan\",\n          \"Staten Island\",\n          \"Queens\"\n        ],\n        \"semantic_type\": \"\",\n        \"description\": \"\"\n      }\n    },\n    {\n      \"column\": \"neighbourhood\",\n      \"properties\": {\n        \"dtype\": \"category\",\n        \"num_unique_values\": 221,\n        \"samples\": [\n          \"Coney Island\",\n          \"Marble Hill\",\n          \"West Brighton\"\n        ],\n        \"semantic_type\": \"\",\n        \"description\": \"\"\n      }\n    },\n    {\n      \"column\": \"latitude\",\n      \"properties\": {\n        \"dtype\": \"number\",\n        \"std\": 0.05453007805737192,\n        \"min\": 40.49979,\n        \"max\": 40.91306,\n        \"num_unique_values\": 19048,\n        \"samples\": [\n          40.86029,\n          40.68767,\n          40.72704\n        ],\n        \"semantic_type\": \"\",\n        \"description\": \"\"\n      }\n    },\n    {\n      \"column\": \"longitude\",\n      \"properties\": {\n        \"dtype\": \"number\",\n        \"std\": 0.04615673610637153,\n        \"min\": -74.24442,\n        \"max\": -73.71299,\n        \"num_unique_values\": 14718,\n        \"samples\": [\n          -74.00249,\n          -73.93978,\n          -73.89916\n        ],\n        \"semantic_type\": \"\",\n        \"description\": \"\"\n      }\n    },\n    {\n      \"column\": \"room_type\",\n      \"properties\": {\n        \"dtype\": \"category\",\n        \"num_unique_values\": 3,\n        \"samples\": [\n          \"Entire home/apt\",\n          \"Private room\",\n          \"Shared room\"\n        ],\n        \"semantic_type\": \"\",\n        \"description\": \"\"\n      }\n    },\n    {\n      \"column\": \"price\",\n      \"properties\": {\n        \"dtype\": \"number\",\n        \"std\": 240,\n        \"min\": 0,\n        \"max\": 10000,\n        \"num_unique_values\": 674,\n        \"samples\": [\n          898,\n          243,\n          830\n        ],\n        \"semantic_type\": \"\",\n        \"description\": \"\"\n      }\n    },\n    {\n      \"column\": \"minimum_nights\",\n      \"properties\": {\n        \"dtype\": \"number\",\n        \"std\": 20,\n        \"min\": 1,\n        \"max\": 1250,\n        \"num_unique_values\": 109,\n        \"samples\": [\n          186,\n          31,\n          30\n        ],\n        \"semantic_type\": \"\",\n        \"description\": \"\"\n      }\n    },\n    {\n      \"column\": \"number_of_reviews\",\n      \"properties\": {\n        \"dtype\": \"number\",\n        \"std\": 44,\n        \"min\": 0,\n        \"max\": 629,\n        \"num_unique_values\": 394,\n        \"samples\": [\n          280,\n          63,\n          58\n        ],\n        \"semantic_type\": \"\",\n        \"description\": \"\"\n      }\n    },\n    {\n      \"column\": \"last_review\",\n      \"properties\": {\n        \"dtype\": \"object\",\n        \"num_unique_values\": 1765,\n        \"samples\": [\n          \"2017-07-14\",\n          \"2018-07-13\",\n          \"2014-09-21\"\n        ],\n        \"semantic_type\": \"\",\n        \"description\": \"\"\n      }\n    },\n    {\n      \"column\": \"reviews_per_month\",\n      \"properties\": {\n        \"dtype\": \"number\",\n        \"std\": 1,\n        \"min\": 0,\n        \"max\": 58,\n        \"num_unique_values\": 22,\n        \"samples\": [\n          4,\n          13,\n          8\n        ],\n        \"semantic_type\": \"\",\n        \"description\": \"\"\n      }\n    },\n    {\n      \"column\": \"calculated_host_listings_count\",\n      \"properties\": {\n        \"dtype\": \"number\",\n        \"std\": 32,\n        \"min\": 1,\n        \"max\": 327,\n        \"num_unique_values\": 47,\n        \"samples\": [\n          33,\n          15,\n          31\n        ],\n        \"semantic_type\": \"\",\n        \"description\": \"\"\n      }\n    },\n    {\n      \"column\": \"availability_365\",\n      \"properties\": {\n        \"dtype\": \"number\",\n        \"std\": 131,\n        \"min\": 0,\n        \"max\": 365,\n        \"num_unique_values\": 366,\n        \"samples\": [\n          104,\n          286,\n          311\n        ],\n        \"semantic_type\": \"\",\n        \"description\": \"\"\n      }\n    },\n    {\n      \"column\": \"Cluster\",\n      \"properties\": {\n        \"dtype\": \"category\",\n        \"num_unique_values\": 7,\n        \"samples\": [\n          \"unit asing\",\n          \"unit kurang populer\",\n          \"unit sangat direkomendasikan\"\n        ],\n        \"semantic_type\": \"\",\n        \"description\": \"\"\n      }\n    }\n  ]\n}"
            }
          },
          "metadata": {},
          "execution_count": 10
        }
      ]
    },
    {
      "cell_type": "code",
      "source": [
        "#pengubahan identitas ke kolom kata-kata\n",
        "clabnbii[['id','host_id']] = clabnbii[['id','host_id']].astype(str).copy()\n",
        "clabnbii.info()"
      ],
      "metadata": {
        "colab": {
          "base_uri": "https://localhost:8080/"
        },
        "collapsed": true,
        "id": "pyG0OSSyFVf3",
        "outputId": "54784bfa-9824-4b87-bf97-a708f86921c9"
      },
      "execution_count": 11,
      "outputs": [
        {
          "output_type": "stream",
          "name": "stdout",
          "text": [
            "<class 'pandas.core.frame.DataFrame'>\n",
            "RangeIndex: 48895 entries, 0 to 48894\n",
            "Data columns (total 17 columns):\n",
            " #   Column                          Non-Null Count  Dtype  \n",
            "---  ------                          --------------  -----  \n",
            " 0   id                              48895 non-null  object \n",
            " 1   name                            48879 non-null  object \n",
            " 2   host_id                         48895 non-null  object \n",
            " 3   host_name                       48874 non-null  object \n",
            " 4   neighbourhood_group             48895 non-null  object \n",
            " 5   neighbourhood                   48895 non-null  object \n",
            " 6   latitude                        48895 non-null  float64\n",
            " 7   longitude                       48895 non-null  float64\n",
            " 8   room_type                       48895 non-null  object \n",
            " 9   price                           48895 non-null  int64  \n",
            " 10  minimum_nights                  48895 non-null  int64  \n",
            " 11  number_of_reviews               48895 non-null  int64  \n",
            " 12  last_review                     48895 non-null  object \n",
            " 13  reviews_per_month               48895 non-null  int64  \n",
            " 14  calculated_host_listings_count  48895 non-null  int64  \n",
            " 15  availability_365                48895 non-null  int64  \n",
            " 16  Cluster                         48895 non-null  object \n",
            "dtypes: float64(2), int64(6), object(9)\n",
            "memory usage: 6.3+ MB\n"
          ]
        }
      ]
    },
    {
      "cell_type": "code",
      "source": [
        "#Persiapan aspek numerikal melalui inspeksi kolom numerik\n",
        "numdf = clabnbii.select_dtypes(include=[np.number]).copy()\n",
        "numdf.info()\n",
        "#ke eksekusi"
      ],
      "metadata": {
        "id": "GHCGNTyrM5fS",
        "colab": {
          "base_uri": "https://localhost:8080/"
        },
        "collapsed": true,
        "outputId": "75dfb8ff-c3db-494c-d029-b936e867cf41"
      },
      "execution_count": 12,
      "outputs": [
        {
          "output_type": "stream",
          "name": "stdout",
          "text": [
            "<class 'pandas.core.frame.DataFrame'>\n",
            "RangeIndex: 48895 entries, 0 to 48894\n",
            "Data columns (total 8 columns):\n",
            " #   Column                          Non-Null Count  Dtype  \n",
            "---  ------                          --------------  -----  \n",
            " 0   latitude                        48895 non-null  float64\n",
            " 1   longitude                       48895 non-null  float64\n",
            " 2   price                           48895 non-null  int64  \n",
            " 3   minimum_nights                  48895 non-null  int64  \n",
            " 4   number_of_reviews               48895 non-null  int64  \n",
            " 5   reviews_per_month               48895 non-null  int64  \n",
            " 6   calculated_host_listings_count  48895 non-null  int64  \n",
            " 7   availability_365                48895 non-null  int64  \n",
            "dtypes: float64(2), int64(6)\n",
            "memory usage: 3.0 MB\n"
          ]
        }
      ]
    },
    {
      "cell_type": "code",
      "source": [
        "#Pemeriksaan matriks korelasi\n",
        "matkor = numdf.corr()\n",
        "#ilustrasi grafik melalui denag\n",
        "plt.figure(figsize=(14, 9))\n",
        "sns.heatmap(matkor, annot=True, cmap='coolwarm', linewidths=0.5)\n",
        "plt.title('Correlation Heatmap')\n",
        "plt.show()"
      ],
      "metadata": {
        "colab": {
          "base_uri": "https://localhost:8080/",
          "height": 972
        },
        "id": "tsIO1iOzG8dP",
        "outputId": "55d10ad7-f734-4ed0-c8c7-fe6430f8ae0d"
      },
      "execution_count": 14,
      "outputs": [
        {
          "output_type": "display_data",
          "data": {
            "text/plain": [
              "<Figure size 1400x900 with 2 Axes>"
            ],
            "image/png": "[encoded data removed]"
          },
          "metadata": {}
        }
      ]
    },
    {
      "cell_type": "markdown",
      "source": [
        "# **3. Data Splitting**"
      ],
      "metadata": {
        "id": "KkPem5eWL2UP"
      }
    },
    {
      "cell_type": "markdown",
      "source": [
        "Tahap Data Splitting bertujuan untuk memisahkan dataset menjadi dua bagian: data latih (training set) dan data uji (test set)."
      ],
      "metadata": {
        "id": "YYj1rl_JNI9Y"
      }
    },
    {
      "cell_type": "code",
      "source": [
        "#Inspeksi tahap awal\n",
        "numdf.info()"
      ],
      "metadata": {
        "id": "OubAW-7ONKVj",
        "colab": {
          "base_uri": "https://localhost:8080/"
        },
        "outputId": "40caee56-aab6-495c-b791-e4cfb7e1a5a6"
      },
      "execution_count": 15,
      "outputs": [
        {
          "output_type": "stream",
          "name": "stdout",
          "text": [
            "<class 'pandas.core.frame.DataFrame'>\n",
            "RangeIndex: 48895 entries, 0 to 48894\n",
            "Data columns (total 8 columns):\n",
            " #   Column                          Non-Null Count  Dtype  \n",
            "---  ------                          --------------  -----  \n",
            " 0   latitude                        48895 non-null  float64\n",
            " 1   longitude                       48895 non-null  float64\n",
            " 2   price                           48895 non-null  int64  \n",
            " 3   minimum_nights                  48895 non-null  int64  \n",
            " 4   number_of_reviews               48895 non-null  int64  \n",
            " 5   reviews_per_month               48895 non-null  int64  \n",
            " 6   calculated_host_listings_count  48895 non-null  int64  \n",
            " 7   availability_365                48895 non-null  int64  \n",
            "dtypes: float64(2), int64(6)\n",
            "memory usage: 3.0 MB\n"
          ]
        }
      ]
    },
    {
      "cell_type": "code",
      "source": [
        "#pengambilan kolom dari harga\n",
        "clasdf = numdf.iloc[:, 2:].copy()\n",
        "clasdf.info()"
      ],
      "metadata": {
        "colab": {
          "base_uri": "https://localhost:8080/"
        },
        "id": "Draf4NtbFzdd",
        "outputId": "101c399b-2c62-4711-e224-484e009b2fa3"
      },
      "execution_count": 20,
      "outputs": [
        {
          "output_type": "stream",
          "name": "stdout",
          "text": [
            "<class 'pandas.core.frame.DataFrame'>\n",
            "RangeIndex: 48895 entries, 0 to 48894\n",
            "Data columns (total 6 columns):\n",
            " #   Column                          Non-Null Count  Dtype\n",
            "---  ------                          --------------  -----\n",
            " 0   price                           48895 non-null  int64\n",
            " 1   minimum_nights                  48895 non-null  int64\n",
            " 2   number_of_reviews               48895 non-null  int64\n",
            " 3   reviews_per_month               48895 non-null  int64\n",
            " 4   calculated_host_listings_count  48895 non-null  int64\n",
            " 5   availability_365                48895 non-null  int64\n",
            "dtypes: int64(6)\n",
            "memory usage: 2.2 MB\n"
          ]
        }
      ]
    },
    {
      "cell_type": "markdown",
      "source": [
        "- Harga dan lima indikator lainya menjadi penentu\n",
        "- Tujuan pemakaian kopi adalah **\"Penjagaan data asli\"**"
      ],
      "metadata": {
        "id": "6dUpGmCFULtp"
      }
    },
    {
      "cell_type": "code",
      "source": [
        "#Persiapan 'standardisasi' melalui \"Robust scaler\"\n",
        "scaler = RobustScaler()"
      ],
      "metadata": {
        "id": "f1k9y2aOWcf4"
      },
      "execution_count": 21,
      "outputs": []
    },
    {
      "cell_type": "code",
      "source": [
        "#pengubahan dataset ke bentuk standar\n",
        "clasdfsca = scaler.fit_transform(clasdf) #sudah distandardisasi\n",
        "clasdfsca = pd.DataFrame(clasdfsca, columns=clasdf.columns) #ubah ke df\n",
        "clasdfsca.head(7)#cek hasil"
      ],
      "metadata": {
        "colab": {
          "base_uri": "https://localhost:8080/",
          "height": 269
        },
        "id": "LBRf0oqHWjaz",
        "outputId": "90f35702-b3a7-4c37-81fc-917b50fe418b"
      },
      "execution_count": 27,
      "outputs": [
        {
          "output_type": "execute_result",
          "data": {
            "text/plain": [
              "      price  minimum_nights  number_of_reviews  reviews_per_month  \\\n",
              "0 -0.160377           -0.50          11.521739                4.0   \n",
              "1  0.415094           -0.50           6.739130                1.0   \n",
              "2  0.320755           -0.25           6.217391                1.0   \n",
              "3  1.028302           -0.25           8.391304                1.0   \n",
              "4 -0.066038            0.00           2.086957                4.0   \n",
              "5  0.132075           -0.25           3.608696                0.0   \n",
              "6 -0.198113           -0.25           9.826087                1.0   \n",
              "\n",
              "   calculated_host_listings_count  availability_365  \n",
              "0                             0.0          0.656388  \n",
              "1                             3.0          0.629956  \n",
              "2                             0.0          0.004405  \n",
              "3                             0.0          1.215859  \n",
              "4                             0.0         -0.105727  \n",
              "5                             1.0          0.828194  \n",
              "6                             1.0         -0.101322  "
            ],
            "text/html": [
              "\n",
              "  <div id=\"df-b580db18-bfc3-491f-b863-22ffe3377f05\" class=\"colab-df-container\">\n",
              "    <div>\n",
              "<style scoped>\n",
              "    .dataframe tbody tr th:only-of-type {\n",
              "        vertical-align: middle;\n",
              "    }\n",
              "\n",
              "    .dataframe tbody tr th {\n",
              "        vertical-align: top;\n",
              "    }\n",
              "\n",
              "    .dataframe thead th {\n",
              "        text-align: right;\n",
              "    }\n",
              "</style>\n",
              "<table border=\"1\" class=\"dataframe\">\n",
              "  <thead>\n",
              "    <tr style=\"text-align: right;\">\n",
              "      <th></th>\n",
              "      <th>price</th>\n",
              "      <th>minimum_nights</th>\n",
              "      <th>number_of_reviews</th>\n",
              "      <th>reviews_per_month</th>\n",
              "      <th>calculated_host_listings_count</th>\n",
              "      <th>availability_365</th>\n",
              "    </tr>\n",
              "  </thead>\n",
              "  <tbody>\n",
              "    <tr>\n",
              "      <th>0</th>\n",
              "      <td>-0.160377</td>\n",
              "      <td>-0.50</td>\n",
              "      <td>11.521739</td>\n",
              "      <td>4.0</td>\n",
              "      <td>0.0</td>\n",
              "      <td>0.656388</td>\n",
              "    </tr>\n",
              "    <tr>\n",
              "      <th>1</th>\n",
              "      <td>0.415094</td>\n",
              "      <td>-0.50</td>\n",
              "      <td>6.739130</td>\n",
              "      <td>1.0</td>\n",
              "      <td>3.0</td>\n",
              "      <td>0.629956</td>\n",
              "    </tr>\n",
              "    <tr>\n",
              "      <th>2</th>\n",
              "      <td>0.320755</td>\n",
              "      <td>-0.25</td>\n",
              "      <td>6.217391</td>\n",
              "      <td>1.0</td>\n",
              "      <td>0.0</td>\n",
              "      <td>0.004405</td>\n",
              "    </tr>\n",
              "    <tr>\n",
              "      <th>3</th>\n",
              "      <td>1.028302</td>\n",
              "      <td>-0.25</td>\n",
              "      <td>8.391304</td>\n",
              "      <td>1.0</td>\n",
              "      <td>0.0</td>\n",
              "      <td>1.215859</td>\n",
              "    </tr>\n",
              "    <tr>\n",
              "      <th>4</th>\n",
              "      <td>-0.066038</td>\n",
              "      <td>0.00</td>\n",
              "      <td>2.086957</td>\n",
              "      <td>4.0</td>\n",
              "      <td>0.0</td>\n",
              "      <td>-0.105727</td>\n",
              "    </tr>\n",
              "    <tr>\n",
              "      <th>5</th>\n",
              "      <td>0.132075</td>\n",
              "      <td>-0.25</td>\n",
              "      <td>3.608696</td>\n",
              "      <td>0.0</td>\n",
              "      <td>1.0</td>\n",
              "      <td>0.828194</td>\n",
              "    </tr>\n",
              "    <tr>\n",
              "      <th>6</th>\n",
              "      <td>-0.198113</td>\n",
              "      <td>-0.25</td>\n",
              "      <td>9.826087</td>\n",
              "      <td>1.0</td>\n",
              "      <td>1.0</td>\n",
              "      <td>-0.101322</td>\n",
              "    </tr>\n",
              "  </tbody>\n",
              "</table>\n",
              "</div>\n",
              "    <div class=\"colab-df-buttons\">\n",
              "\n",
              "  <div class=\"colab-df-container\">\n",
              "    <button class=\"colab-df-convert\" onclick=\"convertToInteractive('df-b580db18-bfc3-491f-b863-22ffe3377f05')\"\n",
              "            title=\"Convert this dataframe to an interactive table.\"\n",
              "            style=\"display:none;\">\n",
              "\n",
              "  <svg xmlns=\"http://www.w3.org/2000/svg\" height=\"24px\" viewBox=\"0 -960 960 960\">\n",
              "    <path d=\"M120-120v-720h720v720H120Zm60-500h600v-160H180v160Zm220 220h160v-160H400v160Zm0 220h160v-160H400v160ZM180-400h160v-160H180v160Zm440 0h160v-160H620v160ZM180-180h160v-160H180v160Zm440 0h160v-160H620v160Z\"/>\n",
              "  </svg>\n",
              "    </button>\n",
              "\n",
              "  <style>\n",
              "    .colab-df-container {\n",
              "      display:flex;\n",
              "      gap: 12px;\n",
              "    }\n",
              "\n",
              "    .colab-df-convert {\n",
              "      background-color: #E8F0FE;\n",
              "      border: none;\n",
              "      border-radius: 50%;\n",
              "      cursor: pointer;\n",
              "      display: none;\n",
              "      fill: #1967D2;\n",
              "      height: 32px;\n",
              "      padding: 0 0 0 0;\n",
              "      width: 32px;\n",
              "    }\n",
              "\n",
              "    .colab-df-convert:hover {\n",
              "      background-color: #E2EBFA;\n",
              "      box-shadow: 0px 1px 2px rgba(60, 64, 67, 0.3), 0px 1px 3px 1px rgba(60, 64, 67, 0.15);\n",
              "      fill: #174EA6;\n",
              "    }\n",
              "\n",
              "    .colab-df-buttons div {\n",
              "      margin-bottom: 4px;\n",
              "    }\n",
              "\n",
              "    [theme=dark] .colab-df-convert {\n",
              "      background-color: #3B4455;\n",
              "      fill: #D2E3FC;\n",
              "    }\n",
              "\n",
              "    [theme=dark] .colab-df-convert:hover {\n",
              "      background-color: #434B5C;\n",
              "      box-shadow: 0px 1px 3px 1px rgba(0, 0, 0, 0.15);\n",
              "      filter: drop-shadow(0px 1px 2px rgba(0, 0, 0, 0.3));\n",
              "      fill: #FFFFFF;\n",
              "    }\n",
              "  </style>\n",
              "\n",
              "    <script>\n",
              "      const buttonEl =\n",
              "        document.querySelector('#df-b580db18-bfc3-491f-b863-22ffe3377f05 button.colab-df-convert');\n",
              "      buttonEl.style.display =\n",
              "        google.colab.kernel.accessAllowed ? 'block' : 'none';\n",
              "\n",
              "      async function convertToInteractive(key) {\n",
              "        const element = document.querySelector('#df-b580db18-bfc3-491f-b863-22ffe3377f05');\n",
              "        const dataTable =\n",
              "          await google.colab.kernel.invokeFunction('convertToInteractive',\n",
              "                                                    [key], {});\n",
              "        if (!dataTable) return;\n",
              "\n",
              "        const docLinkHtml = 'Like what you see? Visit the ' +\n",
              "          '<a target=\"_blank\" href=https://colab.research.google.com/notebooks/data_table.ipynb>data table notebook</a>'\n",
              "          + ' to learn more about interactive tables.';\n",
              "        element.innerHTML = '';\n",
              "        dataTable['output_type'] = 'display_data';\n",
              "        await google.colab.output.renderOutput(dataTable, element);\n",
              "        const docLink = document.createElement('div');\n",
              "        docLink.innerHTML = docLinkHtml;\n",
              "        element.appendChild(docLink);\n",
              "      }\n",
              "    </script>\n",
              "  </div>\n",
              "\n",
              "\n",
              "<div id=\"df-92578a71-acc7-4314-97c9-dec8fc341dce\">\n",
              "  <button class=\"colab-df-quickchart\" onclick=\"quickchart('df-92578a71-acc7-4314-97c9-dec8fc341dce')\"\n",
              "            title=\"Suggest charts\"\n",
              "            style=\"display:none;\">\n",
              "\n",
              "<svg xmlns=\"http://www.w3.org/2000/svg\" height=\"24px\"viewBox=\"0 0 24 24\"\n",
              "     width=\"24px\">\n",
              "    <g>\n",
              "        <path d=\"M19 3H5c-1.1 0-2 .9-2 2v14c0 1.1.9 2 2 2h14c1.1 0 2-.9 2-2V5c0-1.1-.9-2-2-2zM9 17H7v-7h2v7zm4 0h-2V7h2v10zm4 0h-2v-4h2v4z\"/>\n",
              "    </g>\n",
              "</svg>\n",
              "  </button>\n",
              "\n",
              "<style>\n",
              "  .colab-df-quickchart {\n",
              "      --bg-color: #E8F0FE;\n",
              "      --fill-color: #1967D2;\n",
              "      --hover-bg-color: #E2EBFA;\n",
              "      --hover-fill-color: #174EA6;\n",
              "      --disabled-fill-color: #AAA;\n",
              "      --disabled-bg-color: #DDD;\n",
              "  }\n",
              "\n",
              "  [theme=dark] .colab-df-quickchart {\n",
              "      --bg-color: #3B4455;\n",
              "      --fill-color: #D2E3FC;\n",
              "      --hover-bg-color: #434B5C;\n",
              "      --hover-fill-color: #FFFFFF;\n",
              "      --disabled-bg-color: #3B4455;\n",
              "      --disabled-fill-color: #666;\n",
              "  }\n",
              "\n",
              "  .colab-df-quickchart {\n",
              "    background-color: var(--bg-color);\n",
              "    border: none;\n",
              "    border-radius: 50%;\n",
              "    cursor: pointer;\n",
              "    display: none;\n",
              "    fill: var(--fill-color);\n",
              "    height: 32px;\n",
              "    padding: 0;\n",
              "    width: 32px;\n",
              "  }\n",
              "\n",
              "  .colab-df-quickchart:hover {\n",
              "    background-color: var(--hover-bg-color);\n",
              "    box-shadow: 0 1px 2px rgba(60, 64, 67, 0.3), 0 1px 3px 1px rgba(60, 64, 67, 0.15);\n",
              "    fill: var(--button-hover-fill-color);\n",
              "  }\n",
              "\n",
              "  .colab-df-quickchart-complete:disabled,\n",
              "  .colab-df-quickchart-complete:disabled:hover {\n",
              "    background-color: var(--disabled-bg-color);\n",
              "    fill: var(--disabled-fill-color);\n",
              "    box-shadow: none;\n",
              "  }\n",
              "\n",
              "  .colab-df-spinner {\n",
              "    border: 2px solid var(--fill-color);\n",
              "    border-color: transparent;\n",
              "    border-bottom-color: var(--fill-color);\n",
              "    animation:\n",
              "      spin 1s steps(1) infinite;\n",
              "  }\n",
              "\n",
              "  @keyframes spin {\n",
              "    0% {\n",
              "      border-color: transparent;\n",
              "      border-bottom-color: var(--fill-color);\n",
              "      border-left-color: var(--fill-color);\n",
              "    }\n",
              "    20% {\n",
              "      border-color: transparent;\n",
              "      border-left-color: var(--fill-color);\n",
              "      border-top-color: var(--fill-color);\n",
              "    }\n",
              "    30% {\n",
              "      border-color: transparent;\n",
              "      border-left-color: var(--fill-color);\n",
              "      border-top-color: var(--fill-color);\n",
              "      border-right-color: var(--fill-color);\n",
              "    }\n",
              "    40% {\n",
              "      border-color: transparent;\n",
              "      border-right-color: var(--fill-color);\n",
              "      border-top-color: var(--fill-color);\n",
              "    }\n",
              "    60% {\n",
              "      border-color: transparent;\n",
              "      border-right-color: var(--fill-color);\n",
              "    }\n",
              "    80% {\n",
              "      border-color: transparent;\n",
              "      border-right-color: var(--fill-color);\n",
              "      border-bottom-color: var(--fill-color);\n",
              "    }\n",
              "    90% {\n",
              "      border-color: transparent;\n",
              "      border-bottom-color: var(--fill-color);\n",
              "    }\n",
              "  }\n",
              "</style>\n",
              "\n",
              "  <script>\n",
              "    async function quickchart(key) {\n",
              "      const quickchartButtonEl =\n",
              "        document.querySelector('#' + key + ' button');\n",
              "      quickchartButtonEl.disabled = true;  // To prevent multiple clicks.\n",
              "      quickchartButtonEl.classList.add('colab-df-spinner');\n",
              "      try {\n",
              "        const charts = await google.colab.kernel.invokeFunction(\n",
              "            'suggestCharts', [key], {});\n",
              "      } catch (error) {\n",
              "        console.error('Error during call to suggestCharts:', error);\n",
              "      }\n",
              "      quickchartButtonEl.classList.remove('colab-df-spinner');\n",
              "      quickchartButtonEl.classList.add('colab-df-quickchart-complete');\n",
              "    }\n",
              "    (() => {\n",
              "      let quickchartButtonEl =\n",
              "        document.querySelector('#df-92578a71-acc7-4314-97c9-dec8fc341dce button');\n",
              "      quickchartButtonEl.style.display =\n",
              "        google.colab.kernel.accessAllowed ? 'block' : 'none';\n",
              "    })();\n",
              "  </script>\n",
              "</div>\n",
              "\n",
              "    </div>\n",
              "  </div>\n"
            ],
            "application/vnd.google.colaboratory.intrinsic+json": {
              "type": "dataframe",
              "variable_name": "clasdfsca",
              "summary": "{\n  \"name\": \"clasdfsca\",\n  \"rows\": 48895,\n  \"fields\": [\n    {\n      \"column\": \"price\",\n      \"properties\": {\n        \"dtype\": \"number\",\n        \"std\": 2.2656053749734677,\n        \"min\": -1.0,\n        \"max\": 93.33962264150944,\n        \"num_unique_values\": 674,\n        \"samples\": [\n          7.471698113207547,\n          1.2924528301886793,\n          6.830188679245283\n        ],\n        \"semantic_type\": \"\",\n        \"description\": \"\"\n      }\n    },\n    {\n      \"column\": \"minimum_nights\",\n      \"properties\": {\n        \"dtype\": \"number\",\n        \"std\": 5.127637383294967,\n        \"min\": -0.5,\n        \"max\": 311.75,\n        \"num_unique_values\": 109,\n        \"samples\": [\n          45.75,\n          7.0,\n          6.75\n        ],\n        \"semantic_type\": \"\",\n        \"description\": \"\"\n      }\n    },\n    {\n      \"column\": \"number_of_reviews\",\n      \"properties\": {\n        \"dtype\": \"number\",\n        \"std\": 1.9369818376819101,\n        \"min\": -0.21739130434782608,\n        \"max\": 27.130434782608695,\n        \"num_unique_values\": 394,\n        \"samples\": [\n          11.956521739130435,\n          2.5217391304347827,\n          2.3043478260869565\n        ],\n        \"semantic_type\": \"\",\n        \"description\": \"\"\n      }\n    },\n    {\n      \"column\": \"reviews_per_month\",\n      \"properties\": {\n        \"dtype\": \"number\",\n        \"std\": 1.502766602027809,\n        \"min\": 0.0,\n        \"max\": 58.0,\n        \"num_unique_values\": 22,\n        \"samples\": [\n          4.0,\n          13.0,\n          8.0\n        ],\n        \"semantic_type\": \"\",\n        \"description\": \"\"\n      }\n    },\n    {\n      \"column\": \"calculated_host_listings_count\",\n      \"properties\": {\n        \"dtype\": \"number\",\n        \"std\": 32.95251884941994,\n        \"min\": 0.0,\n        \"max\": 326.0,\n        \"num_unique_values\": 47,\n        \"samples\": [\n          32.0,\n          14.0,\n          30.0\n        ],\n        \"semantic_type\": \"\",\n        \"description\": \"\"\n      }\n    },\n    {\n      \"column\": \"availability_365\",\n      \"properties\": {\n        \"dtype\": \"number\",\n        \"std\": 0.5798338715934571,\n        \"min\": -0.19823788546255505,\n        \"max\": 1.4096916299559472,\n        \"num_unique_values\": 366,\n        \"samples\": [\n          0.2599118942731278,\n          1.0616740088105727,\n          1.171806167400881\n        ],\n        \"semantic_type\": \"\",\n        \"description\": \"\"\n      }\n    }\n  ]\n}"
            }
          },
          "metadata": {},
          "execution_count": 27
        }
      ]
    },
    {
      "cell_type": "markdown",
      "source": [
        "# **4. Membangun Model Klasifikasi**\n"
      ],
      "metadata": {
        "id": "IVPbB03CMhTT"
      }
    },
    {
      "cell_type": "markdown",
      "source": [
        "## **a. Membangun Model Klasifikasi**"
      ],
      "metadata": {
        "id": "Ned1pL9zMmBK"
      }
    },
    {
      "cell_type": "markdown",
      "source": [
        "Setelah memilih algoritma klasifikasi yang sesuai, langkah selanjutnya adalah melatih model menggunakan data latih.\n",
        "\n",
        "Berikut adalah rekomendasi tahapannya.\n",
        "1. Pilih algoritma klasifikasi yang sesuai, seperti Logistic Regression, Decision Tree, Random Forest, atau K-Nearest Neighbors (KNN).\n",
        "2. Latih model menggunakan data latih."
      ],
      "metadata": {
        "id": "WAWzPOE4Nkti"
      }
    },
    {
      "cell_type": "code",
      "source": [
        "#deklarasi X dan y\n",
        "y = clasdfsca['price'].copy() #Harga\n",
        "#ke X"
      ],
      "metadata": {
        "id": "xRQyzgRmXND4"
      },
      "execution_count": 28,
      "outputs": []
    },
    {
      "cell_type": "code",
      "source": [
        "#deklarasi X\n",
        "X = clasdfsca.drop('price', axis=1).copy() #semua kolom kecuali harga"
      ],
      "metadata": {
        "id": "8Zyoe_TWXect"
      },
      "execution_count": 29,
      "outputs": []
    },
    {
      "cell_type": "code",
      "source": [
        "#Persiapan latihan\n",
        "X_train, X_test, y_train, y_test = train_test_split(X, y, test_size=0.25, random_state=25)"
      ],
      "metadata": {
        "id": "xdhT0cNhVl6y"
      },
      "execution_count": 35,
      "outputs": []
    },
    {
      "cell_type": "markdown",
      "source": [
        "Proses awal menggunakan rasio 3:1 untuk (latihan dan tes)"
      ],
      "metadata": {
        "id": "PhSLXEOZVsdJ"
      }
    },
    {
      "cell_type": "markdown",
      "source": [
        "aspek yang diperhatikan\n",
        "* y adalah harga (dalam USD)\n",
        "* x dalah indikator lain seperti\n",
        "- * Malam minimal\n",
        "- * total ulasan\n",
        "- * ulasan bulanan\n",
        "- * total properti dari pemilik\n",
        "- * jumlah hari kamar tersedia dalam satu tahun"
      ],
      "metadata": {
        "id": "bM7CVC7QUYk1"
      }
    },
    {
      "cell_type": "code",
      "source": [
        "#Inisiasi model\n",
        "models = [('LR', LinearRegression()),\n",
        "          (\"Ridge\", Ridge()),\n",
        "          (\"Lasso\", Lasso()),\n",
        "          (\"ElasticNet\", ElasticNet()),\n",
        "          ('KNN', KNeighborsRegressor()),\n",
        "          ('CART', DecisionTreeRegressor()),\n",
        "          ('RF', RandomForestRegressor()),\n",
        "          ('GBM', GradientBoostingRegressor()),\n",
        "          (\"XGBoost\", XGBRegressor(objective='reg:squarederror')),\n",
        "          (\"LightGBM\", LGBMRegressor()),\n",
        "          (\"CatBoost\", CatBoostRegressor(verbose=False))]\n",
        "\n",
        "rmse_scores = []\n",
        "r2_scores = []\n",
        "mae_scores = []\n",
        "mse_scores = []\n",
        "execution_times = []\n",
        "#target minimal (87%)\n",
        "minr2 = 0.87 #Nilai minimal R²"
      ],
      "metadata": {
        "id": "MrsxG5ApXooz"
      },
      "execution_count": 36,
      "outputs": []
    },
    {
      "cell_type": "code",
      "source": [
        "#Deklarasi fungsi\n",
        "def log_results(name, rmse, r2, mae, mse, execution_time):\n",
        "    print(f\"RMSE: {round(rmse, 4)} ({name})\")\n",
        "    print(f\"R^2 Score: {round(r2, 4)} ({name})\")\n",
        "    print(f\"Nilai MAE: {round(mae, 4)} ({name})\")\n",
        "    print(f\"Nilai MSE: {round(mse, 4)} ({name})\")\n",
        "    print(f\"Waktu Eksekusi : {round(execution_time, 2)} detik\\n\")\n",
        "#Ke iterasi"
      ],
      "metadata": {
        "id": "gTh87hmckcri"
      },
      "execution_count": 42,
      "outputs": []
    },
    {
      "cell_type": "code",
      "source": [
        "#Bagian iterasi\n",
        "for name, regressor in models:\n",
        "    start_time = time.time()\n",
        "\n",
        "    # Fit the model\n",
        "    regressor.fit(X_train, y_train)\n",
        "\n",
        "    # Make predictions\n",
        "    y_pred = regressor.predict(X_test)\n",
        "\n",
        "    # Check RMSE value\n",
        "    rmse = np.mean(np.sqrt(-cross_val_score(regressor, X, y, cv=5, scoring=\"neg_mean_squared_error\")))\n",
        "    rmse_scores.append(rmse)\n",
        "\n",
        "    # Inspect R² value\n",
        "    r2 = metrics.r2_score(y_test, y_pred)\n",
        "    r2_scores.append(r2)\n",
        "\n",
        "    # Calculate MAE\n",
        "    mae = metrics.mean_absolute_error(y_test, y_pred)\n",
        "    mae_scores.append(mae)\n",
        "\n",
        "    # Calculate MSE\n",
        "    mse = metrics.mean_squared_error(y_test, y_pred)\n",
        "    mse_scores.append(mse)\n",
        "\n",
        "    # Calculate execution time\n",
        "    execution_time = time.time() - start_time\n",
        "    execution_times.append(execution_time)\n",
        "\n",
        "    # Log results using the new function\n",
        "    log_results(name, rmse, r2, mae, mse, execution_time)\n",
        "\n",
        "    # Check if R² value meets the threshold\n",
        "    if r2 >= minr2:\n",
        "        print(f\"Penghentian dimulai karena Target nilai R² tercapai di {name}.\")\n",
        "        break  # Stop execution if target R² is reached\n",
        "#ke"
      ],
      "metadata": {
        "colab": {
          "base_uri": "https://localhost:8080/"
        },
        "id": "A7iJLA8cXvD5",
        "outputId": "da973e10-aa86-4795-f972-57fdd17e730a"
      },
      "execution_count": 43,
      "outputs": [
        {
          "output_type": "stream",
          "name": "stdout",
          "text": [
            "RMSE: 2.2969 (LR)\n",
            "R^2 Score: 0.0105 (LR)\n",
            "Nilai MAE: 0.8593 (LR)\n",
            "Nilai MSE: 5.6682 (LR)\n",
            "Waktu Eksekusi : 0.07 detik\n",
            "\n",
            "RMSE: 2.2969 (Ridge)\n",
            "R^2 Score: 0.0105 (Ridge)\n",
            "Nilai MAE: 0.8593 (Ridge)\n",
            "Nilai MSE: 5.6682 (Ridge)\n",
            "Waktu Eksekusi : 0.07 detik\n",
            "\n",
            "RMSE: 2.2445 (Lasso)\n",
            "R^2 Score: 0.0026 (Lasso)\n",
            "Nilai MAE: 0.8608 (Lasso)\n",
            "Nilai MSE: 5.7135 (Lasso)\n",
            "Waktu Eksekusi : 0.87 detik\n",
            "\n",
            "RMSE: 2.2444 (ElasticNet)\n",
            "R^2 Score: 0.0027 (ElasticNet)\n",
            "Nilai MAE: 0.8602 (ElasticNet)\n",
            "Nilai MSE: 5.7132 (ElasticNet)\n",
            "Waktu Eksekusi : 0.75 detik\n",
            "\n",
            "RMSE: 2.612 (KNN)\n",
            "R^2 Score: -0.0029 (KNN)\n",
            "Nilai MAE: 0.8738 (KNN)\n",
            "Nilai MSE: 5.7451 (KNN)\n",
            "Waktu Eksekusi : 1.15 detik\n",
            "\n",
            "RMSE: 3.1895 (CART)\n",
            "R^2 Score: -0.4284 (CART)\n",
            "Nilai MAE: 1.0227 (CART)\n",
            "Nilai MSE: 8.1829 (CART)\n",
            "Waktu Eksekusi : 0.64 detik\n",
            "\n",
            "RMSE: 2.6615 (RF)\n",
            "R^2 Score: 0.0191 (RF)\n",
            "Nilai MAE: 0.8663 (RF)\n",
            "Nilai MSE: 5.6195 (RF)\n",
            "Waktu Eksekusi : 43.05 detik\n",
            "\n",
            "RMSE: 2.349 (GBM)\n",
            "R^2 Score: 0.0445 (GBM)\n",
            "Nilai MAE: 0.8262 (GBM)\n",
            "Nilai MSE: 5.4735 (GBM)\n",
            "Waktu Eksekusi : 10.15 detik\n",
            "\n",
            "RMSE: 2.5927 (XGBoost)\n",
            "R^2 Score: 0.0838 (XGBoost)\n",
            "Nilai MAE: 0.8201 (XGBoost)\n",
            "Nilai MSE: 5.2485 (XGBoost)\n",
            "Waktu Eksekusi : 12.22 detik\n",
            "\n",
            "[LightGBM] [Info] Auto-choosing col-wise multi-threading, the overhead of testing was 0.002104 seconds.\n",
            "You can set `force_col_wise=true` to remove the overhead.\n",
            "[LightGBM] [Info] Total Bins 627\n",
            "[LightGBM] [Info] Number of data points in the train set: 36671, number of used features: 5\n",
            "[LightGBM] [Info] Start training from score 0.440142\n",
            "[LightGBM] [Info] Auto-choosing col-wise multi-threading, the overhead of testing was 0.001686 seconds.\n",
            "You can set `force_col_wise=true` to remove the overhead.\n",
            "[LightGBM] [Info] Total Bins 607\n",
            "[LightGBM] [Info] Number of data points in the train set: 39116, number of used features: 5\n",
            "[LightGBM] [Info] Start training from score 0.312416\n",
            "[LightGBM] [Info] Auto-choosing col-wise multi-threading, the overhead of testing was 0.001591 seconds.\n",
            "You can set `force_col_wise=true` to remove the overhead.\n",
            "[LightGBM] [Info] Total Bins 625\n",
            "[LightGBM] [Info] Number of data points in the train set: 39116, number of used features: 5\n",
            "[LightGBM] [Info] Start training from score 0.323560\n",
            "[LightGBM] [Info] Auto-choosing col-wise multi-threading, the overhead of testing was 0.001585 seconds.\n",
            "You can set `force_col_wise=true` to remove the overhead.\n",
            "[LightGBM] [Info] Total Bins 621\n",
            "[LightGBM] [Info] Number of data points in the train set: 39116, number of used features: 5\n",
            "[LightGBM] [Info] Start training from score 0.392355\n",
            "[LightGBM] [Info] Auto-choosing col-wise multi-threading, the overhead of testing was 0.001732 seconds.\n",
            "You can set `force_col_wise=true` to remove the overhead.\n",
            "[LightGBM] [Info] Total Bins 622\n",
            "[LightGBM] [Info] Number of data points in the train set: 39116, number of used features: 5\n",
            "[LightGBM] [Info] Start training from score 0.586968\n",
            "[LightGBM] [Info] Auto-choosing col-wise multi-threading, the overhead of testing was 0.001766 seconds.\n",
            "You can set `force_col_wise=true` to remove the overhead.\n",
            "[LightGBM] [Info] Total Bins 630\n",
            "[LightGBM] [Info] Number of data points in the train set: 39116, number of used features: 5\n",
            "[LightGBM] [Info] Start training from score 0.588507\n",
            "RMSE: 2.4263 (LightGBM)\n",
            "R^2 Score: 0.0816 (LightGBM)\n",
            "Nilai MAE: 0.8159 (LightGBM)\n",
            "Nilai MSE: 5.2612 (LightGBM)\n",
            "Waktu Eksekusi : 2.37 detik\n",
            "\n",
            "RMSE: 2.545 (CatBoost)\n",
            "R^2 Score: 0.0842 (CatBoost)\n",
            "Nilai MAE: 0.8115 (CatBoost)\n",
            "Nilai MSE: 5.2461 (CatBoost)\n",
            "Waktu Eksekusi : 21.29 detik\n",
            "\n"
          ]
        }
      ]
    },
    {
      "cell_type": "markdown",
      "source": [
        "## Tulis narasi atau penjelasan algoritma yang Anda gunakan.\n",
        "### Narasi pemakaian Algoritma\n",
        "#### a. Persiapan standardisasi dataset sebelum pemisahan menjadi X dan y melalui *\"*Robustscaler\"**\n",
        "#### b. Pemisahan menjadi bagian 'X' dan 'y' dan bagian latihan dan tes\n",
        "#### c. Komposisi pemeriksaan meliputi\n",
        "- Regresi linear\n",
        "- Inspeksi **'XGBOOST'**\n",
        "- Teknik laso\n",
        "- Metode 'K nearest Neighboorhood'"
      ],
      "metadata": {
        "id": "seYoHNY3XU1y"
      }
    },
    {
      "cell_type": "markdown",
      "source": [
        "## **b. Evaluasi Model Klasifikasi**"
      ],
      "metadata": {
        "id": "ergzChZFEL-O"
      }
    },
    {
      "cell_type": "markdown",
      "source": [
        "Berikut adalah **rekomendasi** tahapannya.\n",
        "1. Lakukan prediksi menggunakan data uji.\n",
        "2. Hitung metrik evaluasi seperti Accuracy dan F1-Score (Opsional: Precision dan Recall).\n",
        "3. Buat confusion matrix untuk melihat detail prediksi benar dan salah."
      ],
      "metadata": {
        "id": "zOm68u-7NpLT"
      }
    },
    {
      "cell_type": "markdown",
      "source": [
        "Tulis hasil evaluasi algoritma yang digunakan, jika Anda menggunakan 2 algoritma, maka bandingkan hasilnya."
      ],
      "metadata": {
        "id": "H4_9OwrsXZlz"
      }
    },
    {
      "cell_type": "code",
      "source": [
        "#Bagian inspeksi data melalui metrik kalkulasi\n",
        "mae = mean_absolute_error(y_test, y_pred)\n",
        "mse = mean_squared_error(y_test, y_pred)\n",
        "rmse = np.sqrt(mse)\n",
        "r2 = r2_score(y_test, y_pred)\n",
        "\n",
        "print(f\"MAE: {mae:.4f}\")\n",
        "print(f\"MSE: {mse:.4f}\")\n",
        "print(f\"RMSE: {rmse:.4f}\")\n",
        "print(f\"R²: {r2:.4f}\")"
      ],
      "metadata": {
        "colab": {
          "base_uri": "https://localhost:8080/"
        },
        "id": "3oqOGYJcfhVH",
        "outputId": "f19618c7-a8cd-4fdf-aa9e-c59073ac2642"
      },
      "execution_count": 44,
      "outputs": [
        {
          "output_type": "stream",
          "name": "stdout",
          "text": [
            "MAE: 0.8115\n",
            "MSE: 5.2461\n",
            "RMSE: 2.2904\n",
            "R²: 0.0842\n"
          ]
        }
      ]
    },
    {
      "cell_type": "code",
      "source": [
        "#Bagian pemeriksaan nilai (awal deklarasi)\n",
        "# Penyetelan\n",
        "evamod = [\n",
        "    ('LR', LinearRegression()),\n",
        "    (\"Ridge\", Ridge()),\n",
        "    (\"Lasso\", Lasso()),\n",
        "    (\"ElasticNet\", ElasticNet()),\n",
        "    ('KNN', KNeighborsRegressor()),\n",
        "    ('CART', DecisionTreeRegressor()),\n",
        "    ('RF', RandomForestRegressor()),\n",
        "    ('GBM', GradientBoostingRegressor()),\n",
        "    (\"XGBoost\", XGBRegressor(objective='reg:squarederror')),\n",
        "    (\"LightGBM\", LGBMRegressor()),\n",
        "    (\"CatBoost\", CatBoostRegressor(verbose=False))\n",
        "]\n",
        "\n",
        "# Daftar skor\n",
        "rmse_scores = []\n",
        "r2_scores = []\n",
        "mae_scores = []\n",
        "mse_scores = []\n",
        "execution_times = []\n",
        "\n",
        "# Target minimal (87%)\n",
        "min_r2 = 0.87  # Nilai minimal R²\n",
        "threshold = 0.1  # Deklarasi Teshold\n",
        "# ke bagian iterasi"
      ],
      "metadata": {
        "id": "a3ibWcyKh8R7"
      },
      "execution_count": 46,
      "outputs": []
    },
    {
      "cell_type": "code",
      "source": [
        "#iterasi untuk pemeriksaan\n",
        "for name, regressor in evamod:\n",
        "    start_time = time.time()\n",
        "\n",
        "    # Fit the model\n",
        "    regressor.fit(X_train, y_train)\n",
        "\n",
        "    # Make predictions\n",
        "    y_pred = regressor.predict(X_test)\n",
        "\n",
        "    # Check RMSE\n",
        "    rmse = np.mean(np.sqrt(-cross_val_score(regressor, X, y, cv=5, scoring=\"neg_mean_squared_error\")))\n",
        "    rmse_scores.append(rmse)\n",
        "\n",
        "    # Inspect R² score\n",
        "    r2 = metrics.r2_score(y_test, y_pred)\n",
        "    r2_scores.append(r2)\n",
        "\n",
        "    # Calculate MAE\n",
        "    mae = metrics.mean_absolute_error(y_test, y_pred)\n",
        "    mae_scores.append(mae)\n",
        "\n",
        "    # Calculate MSE\n",
        "    mse = metrics.mean_squared_error(y_test, y_pred)\n",
        "    mse_scores.append(mse)\n",
        "\n",
        "    # Calculate execution time\n",
        "    execution_time = time.time() - start_time\n",
        "    execution_times.append(execution_time)\n",
        "\n",
        "    # Calculate F1 score based on a threshold\n",
        "    absolute_errors = np.abs(y_test - y_pred)\n",
        "    correct_predictions = absolute_errors <= (threshold * y_test)\n",
        "\n",
        "    true_positive = np.sum(correct_predictions)\n",
        "    precision = true_positive / len(y_test) if len(y_test) > 0 else 0\n",
        "    recall = true_positive / len(y_test) if len(y_test) > 0 else 0\n",
        "\n",
        "    f1_score = 2 * (precision * recall) / (precision + recall) if (precision + recall) > 0 else 0\n",
        "\n",
        "    # Store performance metrics\n",
        "    metrics_dict = {\n",
        "        \"name\": name,\n",
        "        \"rmse\": rmse,\n",
        "        \"r2\": r2,\n",
        "        \"mae\": mae,\n",
        "        \"mse\": mse,\n",
        "        \"execution_time\": execution_time,\n",
        "        \"f1_score\": f1_score\n",
        "    }\n",
        "\n",
        "    # Break if the target R² or F1 score is reached\n",
        "    if r2 >= min_r2 or f1_score >= 0.87:\n",
        "        print(f\"Stopping because the target R² or F1 score is reached with {name}.\")\n",
        "        break  # Stopping condition"
      ],
      "metadata": {
        "colab": {
          "base_uri": "https://localhost:8080/"
        },
        "id": "Gvr4VYBMiym7",
        "outputId": "40c87817-8ff2-46a3-d8c1-5d4ce1580968"
      },
      "execution_count": 47,
      "outputs": [
        {
          "output_type": "stream",
          "name": "stdout",
          "text": [
            "[LightGBM] [Info] Auto-choosing col-wise multi-threading, the overhead of testing was 0.002160 seconds.\n",
            "You can set `force_col_wise=true` to remove the overhead.\n",
            "[LightGBM] [Info] Total Bins 627\n",
            "[LightGBM] [Info] Number of data points in the train set: 36671, number of used features: 5\n",
            "[LightGBM] [Info] Start training from score 0.440142\n",
            "[LightGBM] [Info] Auto-choosing col-wise multi-threading, the overhead of testing was 0.001555 seconds.\n",
            "You can set `force_col_wise=true` to remove the overhead.\n",
            "[LightGBM] [Info] Total Bins 607\n",
            "[LightGBM] [Info] Number of data points in the train set: 39116, number of used features: 5\n",
            "[LightGBM] [Info] Start training from score 0.312416\n",
            "[LightGBM] [Info] Auto-choosing col-wise multi-threading, the overhead of testing was 0.001605 seconds.\n",
            "You can set `force_col_wise=true` to remove the overhead.\n",
            "[LightGBM] [Info] Total Bins 625\n",
            "[LightGBM] [Info] Number of data points in the train set: 39116, number of used features: 5\n",
            "[LightGBM] [Info] Start training from score 0.323560\n",
            "[LightGBM] [Info] Auto-choosing col-wise multi-threading, the overhead of testing was 0.001724 seconds.\n",
            "You can set `force_col_wise=true` to remove the overhead.\n",
            "[LightGBM] [Info] Total Bins 621\n",
            "[LightGBM] [Info] Number of data points in the train set: 39116, number of used features: 5\n",
            "[LightGBM] [Info] Start training from score 0.392355\n",
            "[LightGBM] [Info] Auto-choosing col-wise multi-threading, the overhead of testing was 0.001714 seconds.\n",
            "You can set `force_col_wise=true` to remove the overhead.\n",
            "[LightGBM] [Info] Total Bins 622\n",
            "[LightGBM] [Info] Number of data points in the train set: 39116, number of used features: 5\n",
            "[LightGBM] [Info] Start training from score 0.586968\n",
            "[LightGBM] [Info] Auto-choosing col-wise multi-threading, the overhead of testing was 0.001897 seconds.\n",
            "You can set `force_col_wise=true` to remove the overhead.\n",
            "[LightGBM] [Info] Total Bins 630\n",
            "[LightGBM] [Info] Number of data points in the train set: 39116, number of used features: 5\n",
            "[LightGBM] [Info] Start training from score 0.588507\n"
          ]
        }
      ]
    },
    {
      "cell_type": "code",
      "source": [
        "#pemeriksaan inspeksi\n",
        "print(f\"Model: {metrics_dict['name']}\")\n",
        "print(f\"RMSE: {round(metrics_dict['rmse'], 4)}\")\n",
        "print(f\"R² Score: {round(metrics_dict['r2'], 4)}\")\n",
        "print(f\"MAE: {round(metrics_dict['mae'], 4)}\")\n",
        "print(f\"MSE: {round(metrics_dict['mse'], 4)}\")\n",
        "print(f\"Execution Time: {round(metrics_dict['execution_time'], 2)} seconds\")\n",
        "print(f\"F1 Score: {round(metrics_dict['f1_score'], 4)}\")\n",
        "print(\"-\" * 40)  # Separator line"
      ],
      "metadata": {
        "colab": {
          "base_uri": "https://localhost:8080/"
        },
        "id": "QNBQNtXdjxSK",
        "outputId": "1f0e6d5f-103a-4c6e-a289-0907884aeaa1"
      },
      "execution_count": 50,
      "outputs": [
        {
          "output_type": "stream",
          "name": "stdout",
          "text": [
            "Model: CatBoost\n",
            "RMSE: 2.545\n",
            "R² Score: 0.0842\n",
            "MAE: 0.8115\n",
            "MSE: 5.2461\n",
            "Execution Time: 21.35 seconds\n",
            "F1 Score: 0.0294\n",
            "----------------------------------------\n"
          ]
        }
      ]
    },
    {
      "cell_type": "markdown",
      "source": [
        "## **c. Tuning Model Klasifikasi (Optional)**"
      ],
      "metadata": {
        "id": "ph9yIYDXEPuB"
      }
    },
    {
      "cell_type": "markdown",
      "source": [
        "Gunakan GridSearchCV, RandomizedSearchCV, atau metode lainnya untuk mencari kombinasi hyperparameter terbaik"
      ],
      "metadata": {
        "id": "-Bikx3LINv5e"
      }
    },
    {
      "cell_type": "code",
      "source": [
        "#Inisiasi gridsearch (deklarasi)\n",
        "gridmod = [('LR', LinearRegression()),\n",
        "          (\"Ridge\", Ridge()),\n",
        "          (\"Lasso\", Lasso()),\n",
        "          (\"ElasticNet\", ElasticNet()),\n",
        "          ('KNN', KNeighborsRegressor()),\n",
        "          ('CART', DecisionTreeRegressor()),\n",
        "          ('RF', RandomForestRegressor()),\n",
        "          ('GBM', GradientBoostingRegressor()),\n",
        "          (\"XGBoost\", XGBRegressor(objective='reg:squarederror')),\n",
        "          (\"LightGBM\", LGBMRegressor()),\n",
        "          (\"CatBoost\", CatBoostRegressor(verbose=False))]\n",
        "\n",
        "# Inisiasi target\n",
        "results = []"
      ],
      "metadata": {
        "id": "winbFzb8NL95"
      },
      "execution_count": 55,
      "outputs": []
    },
    {
      "cell_type": "code",
      "source": [
        "#penulisan pasca pemakaian Gridsearch\n",
        "param_grids = {\n",
        "    'LR': {},\n",
        "    'Ridge': {'alpha': [0.01, 0.1, 1.0]},\n",
        "    'Lasso': {'alpha': [0.01, 0.1, 1.0]},\n",
        "    'ElasticNet': {'alpha': [0.01, 0.1, 1.0], 'l1_ratio': [0.1, 0.5, 0.9]},\n",
        "    'KNN': {'n_neighbors': [1, 3, 5, 7]},\n",
        "    'CART': {'max_depth': [None, 5, 10], 'min_samples_leaf': [1, 2]},\n",
        "    'RF': {'n_estimators': [10, 50, 100], 'max_depth': [None, 10]},\n",
        "    'GBM': {'n_estimators': [10, 50], 'learning_rate': [0.001, 0.01]},\n",
        "    'XGBoost': {'n_estimators': [10, 50], 'learning_rate': [0.001, 0.01]},\n",
        "    'LightGBM': {'n_estimators': [10, 50], 'learning_rate': [0.001, 0.01]},\n",
        "    'CatBoost': {'iterations': [10, 50], 'learning_rate': [0.001, 0.01], 'depth': [4, 5, 6]}\n",
        "}"
      ],
      "metadata": {
        "id": "zBfYLAIrkBiM"
      },
      "execution_count": 54,
      "outputs": []
    },
    {
      "cell_type": "code",
      "source": [
        "#iterasi gridsearch\n",
        "for name, regressor in gridmod:\n",
        "    print(f\"Hyperparameter Tuning for {name}:\")\n",
        "    start_time = time.time()\n",
        "\n",
        "    # Perform grid search if parameter grid exists\n",
        "    if param_grids[name]:\n",
        "        grid_search = GridSearchCV(regressor, param_grid=param_grids[name], cv=5, n_jobs=-1)\n",
        "        grid_search.fit(X_train, y_train)\n",
        "        best_model = grid_search.best_estimator_\n",
        "\n",
        "        print(f\"Best parameters: {grid_search.best_params_}\")\n",
        "    else:\n",
        "        best_model = regressor.fit(X_train, y_train)\n",
        "\n",
        "    # Make predictions\n",
        "    y_pred = best_model.predict(X_test)\n",
        "\n",
        "    # Calculate performance metrics\n",
        "    rmse = np.sqrt(mean_squared_error(y_test, y_pred))\n",
        "    r2 = r2_score(y_test, y_pred)\n",
        "    mae = mean_absolute_error(y_test, y_pred)\n",
        "    mse = mean_squared_error(y_test, y_pred)\n",
        "\n",
        "    # If applicable (for classification tasks), calculate precision, recall, and F1 score\n",
        "    if hasattr(best_model, \"predict_proba\"):  # Check if model supports probability prediction\n",
        "        y_pred_class = (y_pred > 0.5).astype(int)  # Assuming binary classification with threshold at 0.5\n",
        "        precision = precision_score(y_test, y_pred_class)\n",
        "        recall = recall_score(y_test, y_pred_class)\n",
        "        f1 = f1_score(y_test, y_pred_class)\n",
        "    else:\n",
        "        precision = recall = f1 = None  # Not applicable for regression models\n",
        "\n",
        "    # Calculate the execution time of the model\n",
        "    execution_time = time.time() - start_time\n",
        "\n",
        "    # Check if metrics meet the target threshold of 87%\n",
        "    metrics_check = {\n",
        "        'R^2 Score': r2 >= 0.87,\n",
        "        'Precision': precision >= 0.87 if precision is not None else None,\n",
        "        'Recall': recall >= 0.87 if recall is not None else None,\n",
        "        'F1 Score': f1 >= 0.87 if f1 is not None else None,\n",
        "    }\n",
        "\n",
        "    # Store results in a dictionary\n",
        "    results.append({\n",
        "        'Model': name,\n",
        "        'RMSE': round(rmse, 4),\n",
        "        'R^2 Score': round(r2, 4),\n",
        "        'MAE': round(mae, 4),\n",
        "        'MSE': round(mse, 4),\n",
        "        'Execution Time (s)': round(execution_time, 2),\n",
        "        'Metrics Check': metrics_check,\n",
        "    })\n",
        "#ke pencetakan hasil"
      ],
      "metadata": {
        "colab": {
          "base_uri": "https://localhost:8080/"
        },
        "id": "J5dIppCuoByC",
        "outputId": "91b45178-8106-4384-c214-88dbec0ed6a9"
      },
      "execution_count": 58,
      "outputs": [
        {
          "output_type": "stream",
          "name": "stdout",
          "text": [
            "Hyperparameter Tuning for LR:\n",
            "Hyperparameter Tuning for Ridge:\n",
            "Best parameters: {'alpha': 0.01}\n",
            "Hyperparameter Tuning for Lasso:\n",
            "Best parameters: {'alpha': 0.01}\n",
            "Hyperparameter Tuning for ElasticNet:\n",
            "Best parameters: {'alpha': 0.01, 'l1_ratio': 0.1}\n",
            "Hyperparameter Tuning for KNN:\n",
            "Best parameters: {'n_neighbors': 7}\n",
            "Hyperparameter Tuning for CART:\n",
            "Best parameters: {'max_depth': 5, 'min_samples_leaf': 1}\n",
            "Hyperparameter Tuning for RF:\n",
            "Best parameters: {'max_depth': 10, 'n_estimators': 100}\n",
            "Hyperparameter Tuning for GBM:\n",
            "Best parameters: {'learning_rate': 0.01, 'n_estimators': 50}\n",
            "Hyperparameter Tuning for XGBoost:\n",
            "Best parameters: {'learning_rate': 0.01, 'n_estimators': 50}\n",
            "Hyperparameter Tuning for LightGBM:\n",
            "[LightGBM] [Info] Auto-choosing col-wise multi-threading, the overhead of testing was 0.001724 seconds.\n",
            "You can set `force_col_wise=true` to remove the overhead.\n",
            "[LightGBM] [Info] Total Bins 627\n",
            "[LightGBM] [Info] Number of data points in the train set: 36671, number of used features: 5\n",
            "[LightGBM] [Info] Start training from score 0.440142\n",
            "Best parameters: {'learning_rate': 0.01, 'n_estimators': 50}\n",
            "Hyperparameter Tuning for CatBoost:\n",
            "Best parameters: {'depth': 6, 'iterations': 50, 'learning_rate': 0.01}\n"
          ]
        }
      ]
    },
    {
      "cell_type": "code",
      "source": [
        "#Deklarasi hasil\n",
        "for result in results:\n",
        "    print(result)"
      ],
      "metadata": {
        "colab": {
          "base_uri": "https://localhost:8080/"
        },
        "id": "iw6d7Ez-oQcZ",
        "outputId": "6cefb64a-7aec-4dba-82cd-c6e6faf76270"
      },
      "execution_count": 59,
      "outputs": [
        {
          "output_type": "stream",
          "name": "stdout",
          "text": [
            "{'Model': 'LR', 'RMSE': 2.3808, 'R^2 Score': 0.0105, 'MAE': 0.8593, 'MSE': 5.6682, 'Execution Time (s)': 0.01}\n",
            "{'Model': 'Ridge', 'RMSE': 2.3808, 'R^2 Score': 0.0105, 'MAE': 0.8593, 'MSE': 5.6682, 'Execution Time (s)': 4.5}\n",
            "{'Model': 'Lasso', 'RMSE': 2.3807, 'R^2 Score': 0.0107, 'MAE': 0.858, 'MSE': 5.6676, 'Execution Time (s)': 1.02}\n",
            "{'Model': 'ElasticNet', 'RMSE': 2.3807, 'R^2 Score': 0.0106, 'MAE': 0.8588, 'MSE': 5.6677, 'Execution Time (s)': 1.77}\n",
            "{'Model': 'KNN', 'RMSE': 2.2964, 'R^2 Score': 0.0795, 'MAE': 0.8445, 'MSE': 5.2734, 'Execution Time (s)': 1.52}\n",
            "{'Model': 'CART', 'RMSE': 2.3431, 'R^2 Score': 0.0417, 'MAE': 0.8449, 'MSE': 5.49, 'Execution Time (s)': 0.99}\n",
            "{'Model': 'RF', 'RMSE': 2.2957, 'R^2 Score': 0.08, 'MAE': 0.8143, 'MSE': 5.2702, 'Execution Time (s)': 9.76}\n",
            "{'Model': 'GBM', 'RMSE': 2.3787, 'R^2 Score': 0.0123, 'MAE': 0.8562, 'MSE': 5.6584, 'Execution Time (s)': 1.86}\n",
            "{'Model': 'XGBoost', 'RMSE': 2.3525, 'R^2 Score': 0.0339, 'MAE': 0.8431, 'MSE': 5.5342, 'Execution Time (s)': 1.74}\n",
            "{'Model': 'LR', 'RMSE': 2.3808, 'R^2 Score': 0.0105, 'MAE': 0.8593, 'MSE': 5.6682, 'Execution Time (s)': 0.01, 'Metrics Check': {'R^2 Score': False, 'Precision': None, 'Recall': None, 'F1 Score': None}}\n",
            "{'Model': 'Ridge', 'RMSE': 2.3808, 'R^2 Score': 0.0105, 'MAE': 0.8593, 'MSE': 5.6682, 'Execution Time (s)': 4.55, 'Metrics Check': {'R^2 Score': False, 'Precision': None, 'Recall': None, 'F1 Score': None}}\n",
            "{'Model': 'Lasso', 'RMSE': 2.3807, 'R^2 Score': 0.0107, 'MAE': 0.858, 'MSE': 5.6676, 'Execution Time (s)': 1.03, 'Metrics Check': {'R^2 Score': False, 'Precision': None, 'Recall': None, 'F1 Score': None}}\n",
            "{'Model': 'ElasticNet', 'RMSE': 2.3807, 'R^2 Score': 0.0106, 'MAE': 0.8588, 'MSE': 5.6677, 'Execution Time (s)': 1.73, 'Metrics Check': {'R^2 Score': False, 'Precision': None, 'Recall': None, 'F1 Score': None}}\n",
            "{'Model': 'KNN', 'RMSE': 2.2964, 'R^2 Score': 0.0795, 'MAE': 0.8445, 'MSE': 5.2734, 'Execution Time (s)': 1.45, 'Metrics Check': {'R^2 Score': False, 'Precision': None, 'Recall': None, 'F1 Score': None}}\n",
            "{'Model': 'CART', 'RMSE': 2.3431, 'R^2 Score': 0.0417, 'MAE': 0.8449, 'MSE': 5.49, 'Execution Time (s)': 0.98, 'Metrics Check': {'R^2 Score': False, 'Precision': None, 'Recall': None, 'F1 Score': None}}\n",
            "{'Model': 'RF', 'RMSE': 2.3076, 'R^2 Score': 0.0704, 'MAE': 0.8158, 'MSE': 5.3252, 'Execution Time (s)': 10.03, 'Metrics Check': {'R^2 Score': False, 'Precision': None, 'Recall': None, 'F1 Score': None}}\n",
            "{'Model': 'GBM', 'RMSE': 2.3787, 'R^2 Score': 0.0123, 'MAE': 0.8562, 'MSE': 5.6584, 'Execution Time (s)': 1.82, 'Metrics Check': {'R^2 Score': False, 'Precision': None, 'Recall': None, 'F1 Score': None}}\n",
            "{'Model': 'XGBoost', 'RMSE': 2.3525, 'R^2 Score': 0.0339, 'MAE': 0.8431, 'MSE': 5.5342, 'Execution Time (s)': 8.08, 'Metrics Check': {'R^2 Score': False, 'Precision': None, 'Recall': None, 'F1 Score': None}}\n",
            "{'Model': 'LightGBM', 'RMSE': 2.3608, 'R^2 Score': 0.0271, 'MAE': 0.847, 'MSE': 5.5734, 'Execution Time (s)': 747.52, 'Metrics Check': {'R^2 Score': False, 'Precision': None, 'Recall': None, 'F1 Score': None}}\n",
            "{'Model': 'CatBoost', 'RMSE': 2.3703, 'R^2 Score': 0.0192, 'MAE': 0.8523, 'MSE': 5.6184, 'Execution Time (s)': 13.77, 'Metrics Check': {'R^2 Score': False, 'Precision': None, 'Recall': None, 'F1 Score': None}}\n"
          ]
        }
      ]
    },
    {
      "cell_type": "code",
      "source": [
        "#Konversi ke bentuk data\n",
        "results_df = pd.DataFrame(results)\n",
        "#ke grafik"
      ],
      "metadata": {
        "id": "nqtMZjtoo-dz"
      },
      "execution_count": 60,
      "outputs": []
    },
    {
      "cell_type": "markdown",
      "source": [
        "## **d. Evaluasi Model Klasifikasi setelah Tuning (Optional)**"
      ],
      "metadata": {
        "id": "hE7pqlEPEYzI"
      }
    },
    {
      "cell_type": "markdown",
      "source": [
        "Berikut adalah rekomendasi tahapannya.\n",
        "1. Gunakan model dengan hyperparameter terbaik.\n",
        "2. Hitung ulang metrik evaluasi untuk melihat apakah ada peningkatan performa."
      ],
      "metadata": {
        "id": "feaPESoeN0zz"
      }
    },
    {
      "cell_type": "code",
      "source": [
        "#Grafik hasil pasca grid\n",
        "# Bagian Nilai RMSE\n",
        "plt.figure(figsize=(10, 10))\n",
        "plt.bar(results_df['Model'], results_df['RMSE'], color='skyblue')\n",
        "plt.xlabel(\"Model\")\n",
        "plt.ylabel(\"RMSE\")\n",
        "plt.title(\"Model Performance (RMSE)\")\n",
        "plt.xticks(rotation=45)\n",
        "plt.tight_layout()\n",
        "plt.show()\n",
        "\n",
        "# Plot R^2 scores\n",
        "plt.figure(figsize=(10, 10))\n",
        "plt.bar(results_df['Model'], results_df['R^2 Score'], color='lightgreen')\n",
        "plt.xlabel(\"Model\")\n",
        "plt.ylabel(\"R^2 Score\")\n",
        "plt.title(\"Model Performance (R^2 Score)\")\n",
        "plt.xticks(rotation=45)\n",
        "plt.tight_layout()\n",
        "plt.show()\n",
        "\n",
        "# Plot MAE scores\n",
        "plt.figure(figsize=(10, 10))\n",
        "plt.bar(results_df['Model'], results_df['MAE'], color='salmon')\n",
        "plt.xlabel(\"Model\")\n",
        "plt.ylabel(\"MAE\")\n",
        "plt.title(\"Model Performance (MAE)\")\n",
        "plt.xticks(rotation=45)\n",
        "plt.tight_layout()\n",
        "plt.show()\n",
        "\n",
        "# Plot MSE scores\n",
        "plt.figure(figsize=(10, 10))\n",
        "plt.bar(results_df['Model'], results_df['MSE'], color='gold')\n",
        "plt.xlabel(\"Model\")\n",
        "plt.ylabel(\"MSE\")\n",
        "plt.title(\"Model Performance (MSE)\")\n",
        "plt.xticks(rotation=45)\n",
        "plt.tight_layout()\n",
        "plt.show()\n",
        "\n",
        "# Plot execution times\n",
        "plt.figure(figsize=(10, 10))\n",
        "plt.bar(results_df['Model'], results_df['Execution Time (s)'], color='purple')\n",
        "plt.xlabel(\"Model\")\n",
        "plt.ylabel(\"Execution Time (seconds)\")\n",
        "plt.title(\"Execution Times for Different Models\")\n",
        "plt.xticks(rotation=45)\n",
        "plt.tight_layout()\n",
        "plt.show()"
      ],
      "metadata": {
        "colab": {
          "base_uri": "https://localhost:8080/",
          "height": 1000
        },
        "id": "5oMmvJJmoTSA",
        "outputId": "b1594bab-3c21-420d-e57c-2303b16a1cb4"
      },
      "execution_count": 61,
      "outputs": [
        {
          "output_type": "display_data",
          "data": {
            "text/plain": [
              "<Figure size 1000x1000 with 1 Axes>"
            ],
            "image/png": "[encoded data removed]"
          },
          "metadata": {}
        },
        {
          "output_type": "display_data",
          "data": {
            "text/plain": [
              "<Figure size 1000x1000 with 1 Axes>"
            ],
            "image/png": "[encoded data removed]"
          },
          "metadata": {}
        },
        {
          "output_type": "display_data",
          "data": {
            "text/plain": [
              "<Figure size 1000x1000 with 1 Axes>"
            ],
            "image/png": "[encoded data removed]"
          },
          "metadata": {}
        },
        {
          "output_type": "display_data",
          "data": {
            "text/plain": [
              "<Figure size 1000x1000 with 1 Axes>"
            ],
            "image/png": "[encoded data removed]"
          },
          "metadata": {}
        },
        {
          "output_type": "display_data",
          "data": {
            "text/plain": [
              "<Figure size 1000x1000 with 1 Axes>"
            ],
            "image/png": "[encoded data removed]"
          },
          "metadata": {}
        }
      ]
    },
    {
      "cell_type": "code",
      "source": [
        "#Deklarasi model terbaik\n",
        "best_model = results_df.loc[results_df['R^2 Score'].idxmax(), 'Model']\n",
        "print(f\"Model terbaik adalah: {best_model}\")"
      ],
      "metadata": {
        "id": "HTXZRvEeNMb1",
        "colab": {
          "base_uri": "https://localhost:8080/"
        },
        "outputId": "c4b54591-b62b-4032-88d3-1982c84736e7"
      },
      "execution_count": 63,
      "outputs": [
        {
          "output_type": "stream",
          "name": "stdout",
          "text": [
            "Model terbaik adalah: RF\n"
          ]
        }
      ]
    },
    {
      "cell_type": "markdown",
      "source": [
        "## **e. Analisis Hasil Evaluasi Model Klasifikasi**"
      ],
      "metadata": {
        "id": "ZRsOdm4uEgAW"
      }
    },
    {
      "cell_type": "markdown",
      "source": [
        "Berikut adalah **rekomendasi** tahapannya.\n",
        "1. Bandingkan hasil evaluasi sebelum dan setelah tuning (jika dilakukan).\n",
        "2. Identifikasi kelemahan model, seperti:\n",
        "  - Precision atau Recall rendah untuk kelas tertentu.\n",
        "  - Apakah model mengalami overfitting atau underfitting?\n",
        "3. Berikan rekomendasi tindakan lanjutan, seperti mengumpulkan data tambahan atau mencoba algoritma lain jika hasil belum memuaskan."
      ],
      "metadata": {
        "id": "Hm3BhSi6N4_l"
      }
    }
  ]
}