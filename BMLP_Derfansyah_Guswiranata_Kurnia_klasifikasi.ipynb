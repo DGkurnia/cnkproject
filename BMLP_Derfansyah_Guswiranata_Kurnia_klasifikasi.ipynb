{
  "nbformat": 4,
  "nbformat_minor": 0,
  "metadata": {
    "colab": {
      "provenance": [],
      "include_colab_link": true
    },
    "kernelspec": {
      "name": "python3",
      "display_name": "Python 3"
    },
    "language_info": {
      "name": "python"
    }
  },
  "cells": [
    {
      "cell_type": "markdown",
      "metadata": {
        "id": "view-in-github",
        "colab_type": "text"
      },
      "source": [
        "<a href=\"https://colab.research.google.com/github/DGkurnia/cnkproject/blob/main/BMLP_Derfansyah_Guswiranata_Kurnia_klasifikasi.ipynb\" target=\"_parent\"><img src=\"https://colab.research.google.com/assets/colab-badge.svg\" alt=\"Open In Colab\"/></a>"
      ]
    },
    {
      "cell_type": "markdown",
      "source": [
        "# **1. Import Library**"
      ],
      "metadata": {
        "id": "fKADPWcFKlj3"
      }
    },
    {
      "cell_type": "markdown",
      "source": [
        "Pada tahap ini, Anda perlu mengimpor beberapa pustaka (library) Python yang dibutuhkan untuk analisis data dan pembangunan model machine learning."
      ],
      "metadata": {
        "id": "LgA3ERnVn84N"
      }
    },
    {
      "cell_type": "code",
      "source": [
        "#Perpustakaan untuk pengelolaan data\n",
        "import numpy as np\n",
        "import pandas as pd\n",
        "#Grafik\n",
        "import matplotlib.pyplot as plt #grafik dasar\n",
        "import seaborn as sns\n",
        "import datetime"
      ],
      "metadata": {
        "id": "BlmvjLY9M4Yj"
      },
      "execution_count": 1,
      "outputs": []
    },
    {
      "cell_type": "code",
      "source": [
        "#pelabelan untuk klasifikasi\n",
        "from sklearn.preprocessing import OneHotEncoder as ohen\n",
        "from sklearn.preprocessing import LabelBinarizer as labin\n",
        "from sklearn.preprocessing import LabelEncoder as lenco"
      ],
      "metadata": {
        "id": "trwImvqYHw5-"
      },
      "execution_count": 2,
      "outputs": []
    },
    {
      "cell_type": "code",
      "source": [
        "#Bagian knn(p1)\n",
        "from sklearn.model_selection import train_test_split, RandomizedSearchCV\n",
        "from sklearn.neighbors import KNeighborsClassifier\n",
        "from sklearn.model_selection import learning_curve as lencur #Kurva pemberlajaran\n",
        "from sklearn.metrics import accuracy_score, precision_score, recall_score, f1_score, confusion_matrix as cmatr, classification_report\n",
        "from sklearn.preprocessing import RobustScaler, MinMaxScaler, StandardScaler\n",
        "#jika pakai multilabel\n",
        "from sklearn.metrics import multilabel_confusion_matrix as mcmat"
      ],
      "metadata": {
        "id": "nJm5Mw1H3V6h"
      },
      "execution_count": 3,
      "outputs": []
    },
    {
      "cell_type": "code",
      "source": [
        "#Bagian klasifikasi 'randomforest'\n",
        "from sklearn.ensemble import RandomForestClassifier"
      ],
      "metadata": {
        "id": "syO5ZWQT00Op"
      },
      "execution_count": 4,
      "outputs": []
    },
    {
      "cell_type": "code",
      "source": [
        "#Pengunduhan dataset ke google colab\n",
        "from google.colab import files\n",
        "#ke proses 'upload'"
      ],
      "metadata": {
        "id": "c7FAzF641Y18"
      },
      "execution_count": 5,
      "outputs": []
    },
    {
      "cell_type": "code",
      "source": [
        "#proses 'upload'\n",
        "uploaded = files.upload()"
      ],
      "metadata": {
        "colab": {
          "base_uri": "https://localhost:8080/",
          "height": 73
        },
        "id": "F_1zCMBK1aBp",
        "outputId": "d2092a66-4592-4ae8-ebc7-c465ca0ba878"
      },
      "execution_count": 6,
      "outputs": [
        {
          "output_type": "display_data",
          "data": {
            "text/plain": [
              "<IPython.core.display.HTML object>"
            ],
            "text/html": [
              "\n",
              "     <input type=\"file\" id=\"files-e42f44dd-c650-4c8c-9845-1399d15f12ea\" name=\"files[]\" multiple disabled\n",
              "        style=\"border:none\" />\n",
              "     <output id=\"result-e42f44dd-c650-4c8c-9845-1399d15f12ea\">\n",
              "      Upload widget is only available when the cell has been executed in the\n",
              "      current browser session. Please rerun this cell to enable.\n",
              "      </output>\n",
              "      <script>// Copyright 2017 Google LLC\n",
              "//\n",
              "// Licensed under the Apache License, Version 2.0 (the \"License\");\n",
              "// you may not use this file except in compliance with the License.\n",
              "// You may obtain a copy of the License at\n",
              "//\n",
              "//      http://www.apache.org/licenses/LICENSE-2.0\n",
              "//\n",
              "// Unless required by applicable law or agreed to in writing, software\n",
              "// distributed under the License is distributed on an \"AS IS\" BASIS,\n",
              "// WITHOUT WARRANTIES OR CONDITIONS OF ANY KIND, either express or implied.\n",
              "// See the License for the specific language governing permissions and\n",
              "// limitations under the License.\n",
              "\n",
              "/**\n",
              " * @fileoverview Helpers for google.colab Python module.\n",
              " */\n",
              "(function(scope) {\n",
              "function span(text, styleAttributes = {}) {\n",
              "  const element = document.createElement('span');\n",
              "  element.textContent = text;\n",
              "  for (const key of Object.keys(styleAttributes)) {\n",
              "    element.style[key] = styleAttributes[key];\n",
              "  }\n",
              "  return element;\n",
              "}\n",
              "\n",
              "// Max number of bytes which will be uploaded at a time.\n",
              "const MAX_PAYLOAD_SIZE = 100 * 1024;\n",
              "\n",
              "function _uploadFiles(inputId, outputId) {\n",
              "  const steps = uploadFilesStep(inputId, outputId);\n",
              "  const outputElement = document.getElementById(outputId);\n",
              "  // Cache steps on the outputElement to make it available for the next call\n",
              "  // to uploadFilesContinue from Python.\n",
              "  outputElement.steps = steps;\n",
              "\n",
              "  return _uploadFilesContinue(outputId);\n",
              "}\n",
              "\n",
              "// This is roughly an async generator (not supported in the browser yet),\n",
              "// where there are multiple asynchronous steps and the Python side is going\n",
              "// to poll for completion of each step.\n",
              "// This uses a Promise to block the python side on completion of each step,\n",
              "// then passes the result of the previous step as the input to the next step.\n",
              "function _uploadFilesContinue(outputId) {\n",
              "  const outputElement = document.getElementById(outputId);\n",
              "  const steps = outputElement.steps;\n",
              "\n",
              "  const next = steps.next(outputElement.lastPromiseValue);\n",
              "  return Promise.resolve(next.value.promise).then((value) => {\n",
              "    // Cache the last promise value to make it available to the next\n",
              "    // step of the generator.\n",
              "    outputElement.lastPromiseValue = value;\n",
              "    return next.value.response;\n",
              "  });\n",
              "}\n",
              "\n",
              "/**\n",
              " * Generator function which is called between each async step of the upload\n",
              " * process.\n",
              " * @param {string} inputId Element ID of the input file picker element.\n",
              " * @param {string} outputId Element ID of the output display.\n",
              " * @return {!Iterable<!Object>} Iterable of next steps.\n",
              " */\n",
              "function* uploadFilesStep(inputId, outputId) {\n",
              "  const inputElement = document.getElementById(inputId);\n",
              "  inputElement.disabled = false;\n",
              "\n",
              "  const outputElement = document.getElementById(outputId);\n",
              "  outputElement.innerHTML = '';\n",
              "\n",
              "  const pickedPromise = new Promise((resolve) => {\n",
              "    inputElement.addEventListener('change', (e) => {\n",
              "      resolve(e.target.files);\n",
              "    });\n",
              "  });\n",
              "\n",
              "  const cancel = document.createElement('button');\n",
              "  inputElement.parentElement.appendChild(cancel);\n",
              "  cancel.textContent = 'Cancel upload';\n",
              "  const cancelPromise = new Promise((resolve) => {\n",
              "    cancel.onclick = () => {\n",
              "      resolve(null);\n",
              "    };\n",
              "  });\n",
              "\n",
              "  // Wait for the user to pick the files.\n",
              "  const files = yield {\n",
              "    promise: Promise.race([pickedPromise, cancelPromise]),\n",
              "    response: {\n",
              "      action: 'starting',\n",
              "    }\n",
              "  };\n",
              "\n",
              "  cancel.remove();\n",
              "\n",
              "  // Disable the input element since further picks are not allowed.\n",
              "  inputElement.disabled = true;\n",
              "\n",
              "  if (!files) {\n",
              "    return {\n",
              "      response: {\n",
              "        action: 'complete',\n",
              "      }\n",
              "    };\n",
              "  }\n",
              "\n",
              "  for (const file of files) {\n",
              "    const li = document.createElement('li');\n",
              "    li.append(span(file.name, {fontWeight: 'bold'}));\n",
              "    li.append(span(\n",
              "        `(${file.type || 'n/a'}) - ${file.size} bytes, ` +\n",
              "        `last modified: ${\n",
              "            file.lastModifiedDate ? file.lastModifiedDate.toLocaleDateString() :\n",
              "                                    'n/a'} - `));\n",
              "    const percent = span('0% done');\n",
              "    li.appendChild(percent);\n",
              "\n",
              "    outputElement.appendChild(li);\n",
              "\n",
              "    const fileDataPromise = new Promise((resolve) => {\n",
              "      const reader = new FileReader();\n",
              "      reader.onload = (e) => {\n",
              "        resolve(e.target.result);\n",
              "      };\n",
              "      reader.readAsArrayBuffer(file);\n",
              "    });\n",
              "    // Wait for the data to be ready.\n",
              "    let fileData = yield {\n",
              "      promise: fileDataPromise,\n",
              "      response: {\n",
              "        action: 'continue',\n",
              "      }\n",
              "    };\n",
              "\n",
              "    // Use a chunked sending to avoid message size limits. See b/62115660.\n",
              "    let position = 0;\n",
              "    do {\n",
              "      const length = Math.min(fileData.byteLength - position, MAX_PAYLOAD_SIZE);\n",
              "      const chunk = new Uint8Array(fileData, position, length);\n",
              "      position += length;\n",
              "\n",
              "      const base64 = btoa(String.fromCharCode.apply(null, chunk));\n",
              "      yield {\n",
              "        response: {\n",
              "          action: 'append',\n",
              "          file: file.name,\n",
              "          data: base64,\n",
              "        },\n",
              "      };\n",
              "\n",
              "      let percentDone = fileData.byteLength === 0 ?\n",
              "          100 :\n",
              "          Math.round((position / fileData.byteLength) * 100);\n",
              "      percent.textContent = `${percentDone}% done`;\n",
              "\n",
              "    } while (position < fileData.byteLength);\n",
              "  }\n",
              "\n",
              "  // All done.\n",
              "  yield {\n",
              "    response: {\n",
              "      action: 'complete',\n",
              "    }\n",
              "  };\n",
              "}\n",
              "\n",
              "scope.google = scope.google || {};\n",
              "scope.google.colab = scope.google.colab || {};\n",
              "scope.google.colab._files = {\n",
              "  _uploadFiles,\n",
              "  _uploadFilesContinue,\n",
              "};\n",
              "})(self);\n",
              "</script> "
            ]
          },
          "metadata": {}
        },
        {
          "output_type": "stream",
          "name": "stdout",
          "text": [
            "Saving hslclstr.csv to hslclstr.csv\n"
          ]
        }
      ]
    },
    {
      "cell_type": "code",
      "source": [
        "#pengelolaan file\n",
        "import os #untuk os\n",
        "import time #waktu\n",
        "import datetime #tanggal\n",
        "import gc #pengunduhan file per batch"
      ],
      "metadata": {
        "id": "ndXvjNhh3ZaY"
      },
      "execution_count": 7,
      "outputs": []
    },
    {
      "cell_type": "code",
      "source": [
        "#Penyimpanan hasil sementara di google drive\n",
        "from google.colab import drive\n",
        "drive.mount('/content/drive')"
      ],
      "metadata": {
        "colab": {
          "base_uri": "https://localhost:8080/"
        },
        "id": "c3iqu6N43l32",
        "outputId": "bd0c64a6-0d37-4ecc-fb7e-47df8f11722c"
      },
      "execution_count": 8,
      "outputs": [
        {
          "output_type": "stream",
          "name": "stdout",
          "text": [
            "Mounted at /content/drive\n"
          ]
        }
      ]
    },
    {
      "cell_type": "code",
      "source": [
        "#inisiasi berat sampel\n",
        "from sklearn.utils.class_weight import compute_sample_weight as csw #inspeksi berat dulu"
      ],
      "metadata": {
        "id": "3ePCGLMy0bhI"
      },
      "execution_count": 9,
      "outputs": []
    },
    {
      "cell_type": "code",
      "source": [
        "#Bagian multiprocessing melalui instalasi pool\n",
        "import warnings #peringatan\n",
        "import multiprocessing as mp #untuk multiprocessing\n",
        "from multiprocessing import Pool\n",
        "import joblib #Bagian Joblib"
      ],
      "metadata": {
        "id": "OxflnfjP3wry"
      },
      "execution_count": 10,
      "outputs": []
    },
    {
      "cell_type": "code",
      "source": [
        "#Deklarasi klasifikasi\n",
        "from sklearn.datasets import make_classification"
      ],
      "metadata": {
        "id": "wQIMpYxQsIFR"
      },
      "execution_count": 11,
      "outputs": []
    },
    {
      "cell_type": "code",
      "source": [
        "#penyimpanan hasil melalui dill\n",
        "! pip install dill\n",
        "import dill"
      ],
      "metadata": {
        "colab": {
          "base_uri": "https://localhost:8080/"
        },
        "id": "cIIj64Qs3fIF",
        "outputId": "ad31c4db-4aee-4d6c-dc97-ceccc7935c21"
      },
      "execution_count": 12,
      "outputs": [
        {
          "output_type": "stream",
          "name": "stdout",
          "text": [
            "Collecting dill\n",
            "  Downloading dill-0.3.9-py3-none-any.whl.metadata (10 kB)\n",
            "Downloading dill-0.3.9-py3-none-any.whl (119 kB)\n",
            "\u001b[?25l   \u001b[90m━━━━━━━━━━━━━━━━━━━━━━━━━━━━━━━━━━━━━━━━\u001b[0m \u001b[32m0.0/119.4 kB\u001b[0m \u001b[31m?\u001b[0m eta \u001b[36m-:--:--\u001b[0m\r\u001b[2K   \u001b[90m━━━━━━━━━━━━━━━━━━━━━━━━━━━━━━━━━━━━━━━━\u001b[0m \u001b[32m119.4/119.4 kB\u001b[0m \u001b[31m5.2 MB/s\u001b[0m eta \u001b[36m0:00:00\u001b[0m\n",
            "\u001b[?25hInstalling collected packages: dill\n",
            "Successfully installed dill-0.3.9\n"
          ]
        }
      ]
    },
    {
      "cell_type": "markdown",
      "source": [
        "# **2. Memuat Dataset dari Hasil Clustering**"
      ],
      "metadata": {
        "id": "f3YIEnAFKrKL"
      }
    },
    {
      "cell_type": "markdown",
      "source": [
        "Memuat dataset hasil clustering dari file CSV ke dalam variabel DataFrame."
      ],
      "metadata": {
        "id": "Ey3ItwTen_7E"
      }
    },
    {
      "cell_type": "code",
      "source": [
        "#Cek data hasil kluster\n",
        "df = pd.read_csv('/content/hslclstr.csv')\n",
        "dfc = df.copy() #jangan pakai data asli"
      ],
      "metadata": {
        "id": "GHCGNTyrM5fS"
      },
      "execution_count": 13,
      "outputs": []
    },
    {
      "cell_type": "code",
      "source": [
        "#cek hasil\n",
        "smpl = dfc.head(7)\n",
        "inf = dfc.info() #informasi"
      ],
      "metadata": {
        "colab": {
          "base_uri": "https://localhost:8080/"
        },
        "id": "h3iFgini4lOP",
        "outputId": "2f9c6088-8c58-4c83-d233-f3bb966730d0"
      },
      "execution_count": 14,
      "outputs": [
        {
          "output_type": "stream",
          "name": "stdout",
          "text": [
            "<class 'pandas.core.frame.DataFrame'>\n",
            "RangeIndex: 64016 entries, 0 to 64015\n",
            "Data columns (total 16 columns):\n",
            " #   Column                       Non-Null Count  Dtype  \n",
            "---  ------                       --------------  -----  \n",
            " 0   img                          64016 non-null  object \n",
            " 1   title                        64016 non-null  object \n",
            " 2   console                      64016 non-null  object \n",
            " 3   genre                        64016 non-null  object \n",
            " 4   publisher                    64016 non-null  object \n",
            " 5   total_sales                  64016 non-null  float64\n",
            " 6   na_sales                     64016 non-null  float64\n",
            " 7   jp_sales                     64016 non-null  float64\n",
            " 8   pal_sales                    64016 non-null  float64\n",
            " 9   other_sales                  64016 non-null  float64\n",
            " 10  critic_score                 64016 non-null  float64\n",
            " 11  release_date                 64016 non-null  object \n",
            " 12  last_update                  64016 non-null  object \n",
            " 13  kemungkinan generasi         64016 non-null  int64  \n",
            " 14  kemungkinan jenis permainan  64016 non-null  int64  \n",
            " 15  Label                        64016 non-null  object \n",
            "dtypes: float64(6), int64(2), object(8)\n",
            "memory usage: 7.8+ MB\n"
          ]
        }
      ]
    },
    {
      "cell_type": "code",
      "source": [
        "#inspeksi label untuk sampel\n",
        "lbl = dfc['Label'].copy()\n",
        "print(lbl.head(7))"
      ],
      "metadata": {
        "colab": {
          "base_uri": "https://localhost:8080/"
        },
        "id": "49_-B54J5LvE",
        "outputId": "e8d7edf6-e08d-4bab-bf12-b57668ae11aa"
      },
      "execution_count": 15,
      "outputs": [
        {
          "output_type": "stream",
          "name": "stdout",
          "text": [
            "0    game kurang berkenan dengan fokus pencarian ke...\n",
            "1    game kurang berkenan dengan fokus pencarian ke...\n",
            "2    game kurang berkenan dengan fokus pencarian ke...\n",
            "3                game dengan tujuan utama pencari duit\n",
            "4    game kurang berkenan dengan fokus pencarian ke...\n",
            "5                game dengan tujuan utama pencari duit\n",
            "6                game dengan tujuan utama pencari duit\n",
            "Name: Label, dtype: object\n"
          ]
        }
      ]
    },
    {
      "cell_type": "markdown",
      "source": [
        "Kolom ini menjadi basis sumbu y di klasifikasi"
      ],
      "metadata": {
        "id": "b-xqdRyES5iM"
      }
    },
    {
      "cell_type": "markdown",
      "source": [
        "# **3. Data Splitting**"
      ],
      "metadata": {
        "id": "KkPem5eWL2UP"
      }
    },
    {
      "cell_type": "markdown",
      "source": [
        "Tahap Data Splitting bertujuan untuk memisahkan dataset menjadi dua bagian: data latih (training set) dan data uji (test set)."
      ],
      "metadata": {
        "id": "YYj1rl_JNI9Y"
      }
    },
    {
      "cell_type": "code",
      "source": [
        "#Inisiasi pembagian data\n",
        "inspk = dfc.iloc[:,5:11].copy() #numerikal untuk klasifikasi kluster\n",
        "inspk.info()"
      ],
      "metadata": {
        "id": "vM4BLUu_40kl",
        "colab": {
          "base_uri": "https://localhost:8080/"
        },
        "outputId": "a2798b9e-0bc6-4efd-8d4e-ce1ace86c98b"
      },
      "execution_count": 16,
      "outputs": [
        {
          "output_type": "stream",
          "name": "stdout",
          "text": [
            "<class 'pandas.core.frame.DataFrame'>\n",
            "RangeIndex: 64016 entries, 0 to 64015\n",
            "Data columns (total 6 columns):\n",
            " #   Column        Non-Null Count  Dtype  \n",
            "---  ------        --------------  -----  \n",
            " 0   total_sales   64016 non-null  float64\n",
            " 1   na_sales      64016 non-null  float64\n",
            " 2   jp_sales      64016 non-null  float64\n",
            " 3   pal_sales     64016 non-null  float64\n",
            " 4   other_sales   64016 non-null  float64\n",
            " 5   critic_score  64016 non-null  float64\n",
            "dtypes: float64(6)\n",
            "memory usage: 2.9 MB\n"
          ]
        }
      ]
    },
    {
      "cell_type": "code",
      "source": [
        "#Sumbu x\n",
        "xcls = inspk.copy() #pakai numerik"
      ],
      "metadata": {
        "id": "hdUVAumDGa2c"
      },
      "execution_count": 17,
      "outputs": []
    },
    {
      "cell_type": "markdown",
      "source": [
        "Sumbu x  **(xcls)** adalah nilai numerikal dari tabel yang terdiri dari\n",
        "* Penjualan dari lima indikator (total, spesifik di amerika utara, jepang, PAL, lain-lain)\n",
        "* Nilai kritik dari permainan"
      ],
      "metadata": {
        "id": "lbtI-04vGloX"
      }
    },
    {
      "cell_type": "markdown",
      "source": [
        "##Persiapan sumbu y"
      ],
      "metadata": {
        "id": "RqyAniQo-mKa"
      }
    },
    {
      "cell_type": "code",
      "source": [
        "#numerisasi label (identifikasi jenis label)\n",
        "jnslbl = lbl.copy()\n",
        "jnslbl.info()"
      ],
      "metadata": {
        "colab": {
          "base_uri": "https://localhost:8080/"
        },
        "id": "L2klaS2KE7Ct",
        "outputId": "33e47880-b7ff-405a-9863-38c33b0e9f35"
      },
      "execution_count": 18,
      "outputs": [
        {
          "output_type": "stream",
          "name": "stdout",
          "text": [
            "<class 'pandas.core.series.Series'>\n",
            "RangeIndex: 64016 entries, 0 to 64015\n",
            "Series name: Label\n",
            "Non-Null Count  Dtype \n",
            "--------------  ----- \n",
            "64016 non-null  object\n",
            "dtypes: object(1)\n",
            "memory usage: 500.2+ KB\n"
          ]
        }
      ]
    },
    {
      "cell_type": "code",
      "source": [
        "#Persiapan pembagian data (untuk kluster)\n",
        "ycls = jnslbl #masih kata-kata\n",
        "#pelabelan untuk (pembentukan ulang)\n",
        "bntkbaru, label = pd.factorize(ycls, sort=True, use_na_sentinel=False)\n",
        "#inspeksi hasil\n",
        "print(bntkbaru)\n",
        "print(label)"
      ],
      "metadata": {
        "id": "OubAW-7ONKVj",
        "colab": {
          "base_uri": "https://localhost:8080/"
        },
        "outputId": "01da94c2-52d9-4c25-d7df-bbc1e7a30068"
      },
      "execution_count": 20,
      "outputs": [
        {
          "output_type": "stream",
          "name": "stdout",
          "text": [
            "[2 2 2 ... 1 1 1]\n",
            "Index(['game dengan tujuan utama pencari duit',\n",
            "       'game favortit dengan keuntungan rendah',\n",
            "       'game kurang berkenan dengan fokus pencarian keuntungan'],\n",
            "      dtype='object')\n"
          ]
        }
      ]
    },
    {
      "cell_type": "markdown",
      "source": [
        "sampel kolom pelabelan"
      ],
      "metadata": {
        "id": "x8dr89b17Ii4"
      }
    },
    {
      "cell_type": "code",
      "source": [
        "#pembentukan ulang\n",
        "enkoding = bntkbaru.reshape(-1,1).ravel()\n",
        "#inisiasi ohen\n",
        "encoder = lenco() #Untuk proses inti numerisasi\n",
        "#penyesuaian data\n",
        "lblohen = encoder.fit_transform(enkoding)"
      ],
      "metadata": {
        "id": "GGwhIGqbIbPC"
      },
      "execution_count": 22,
      "outputs": []
    },
    {
      "cell_type": "code",
      "source": [
        "#konversi ke df untuk kluster jadi\n",
        "dflbl = pd.DataFrame(lblohen, columns=['Biner1'], copy=True)\n",
        "#Konversi ke numerik\n",
        "lbl2 =  np.argmax(dflbl.values, axis=1) #demi jadi ke numerik\n",
        "#Ubah kembali ke df\n",
        "dflbl2 = pd.DataFrame(lbl2, columns=['Label'], copy=True)\n",
        "#cek hasil\n",
        "smpllbl = dflbl2.head(7)\n",
        "tiplbl = dflbl2.info()\n",
        "print(smpllbl) #inspeksi hasil"
      ],
      "metadata": {
        "colab": {
          "base_uri": "https://localhost:8080/"
        },
        "id": "0s3hHjFJhMHt",
        "outputId": "c069c141-e4d4-4ece-c7e2-7023f48d43b9"
      },
      "execution_count": 23,
      "outputs": [
        {
          "output_type": "stream",
          "name": "stdout",
          "text": [
            "<class 'pandas.core.frame.DataFrame'>\n",
            "RangeIndex: 64016 entries, 0 to 64015\n",
            "Data columns (total 1 columns):\n",
            " #   Column  Non-Null Count  Dtype\n",
            "---  ------  --------------  -----\n",
            " 0   Label   64016 non-null  int64\n",
            "dtypes: int64(1)\n",
            "memory usage: 500.2 KB\n",
            "   Label\n",
            "0      0\n",
            "1      0\n",
            "2      0\n",
            "3      0\n",
            "4      0\n",
            "5      0\n",
            "6      0\n"
          ]
        }
      ]
    },
    {
      "cell_type": "code",
      "source": [
        "#Persiapan ycl\n",
        "ycl = dflbl2.values.ravel() #nilai numerik"
      ],
      "metadata": {
        "id": "quq9y7Rmo2ck"
      },
      "execution_count": 24,
      "outputs": []
    },
    {
      "cell_type": "markdown",
      "source": [
        "Nilai ini menjadi komponen untuk penyatuan dengan variabel **(ycls)**"
      ],
      "metadata": {
        "id": "eVozCln-JVYn"
      }
    },
    {
      "cell_type": "markdown",
      "source": [
        "# **4. Membangun Model Klasifikasi**\n"
      ],
      "metadata": {
        "id": "IVPbB03CMhTT"
      }
    },
    {
      "cell_type": "markdown",
      "source": [
        "## **a. Membangun Model Klasifikasi**"
      ],
      "metadata": {
        "id": "Ned1pL9zMmBK"
      }
    },
    {
      "cell_type": "markdown",
      "source": [
        "Setelah memilih algoritma klasifikasi yang sesuai, langkah selanjutnya adalah melatih model menggunakan data latih.\n",
        "\n",
        "Berikut adalah rekomendasi tahapannya.\n",
        "1. Pilih algoritma klasifikasi yang sesuai, seperti Logistic Regression, Decision Tree, Random Forest, atau K-Nearest Neighbors (KNN).\n",
        "2. Latih model menggunakan data latih."
      ],
      "metadata": {
        "id": "WAWzPOE4Nkti"
      }
    },
    {
      "cell_type": "code",
      "source": [
        "#proses scaling untuk sumbu X (robust)\n",
        "rbsscal = RobustScaler(unit_variance=True) #untuk robust [tahap 1]\n",
        "stdscal = StandardScaler() #untuk standar [Tahap 2]\n",
        "mmscal = MinMaxScaler(clip=True) #untuk indikator 'minmax' [Tahap 3]\n",
        "xclscl = rbsscal.fit_transform(xcls) #untuk tahap 1\n",
        "xclstd = stdscal.fit_transform(xclscl) #untuk tahap 2\n",
        "xclmm = mmscal.fit_transform(xclstd) #untuk tahap 3\n",
        "#pengubahan ke data frame untuk evaluasi tahap akhir\n",
        "dfxclmm = pd.DataFrame(xclmm, columns=xcls.columns,copy=True)"
      ],
      "metadata": {
        "id": "hCT3Q_vtT01z"
      },
      "execution_count": 25,
      "outputs": []
    },
    {
      "cell_type": "code",
      "source": [
        "#inspeksi kolom\n",
        "print(dfxclmm.head(7))"
      ],
      "metadata": {
        "colab": {
          "base_uri": "https://localhost:8080/"
        },
        "id": "iRuxkA5lUAvu",
        "outputId": "1d7d15ef-2a8a-4e29-c949-54cf0e14f03c"
      },
      "execution_count": 26,
      "outputs": [
        {
          "output_type": "stream",
          "name": "stdout",
          "text": [
            "   total_sales  na_sales  jp_sales  pal_sales  other_sales  critic_score\n",
            "0     1.000000  0.652664  0.464789   1.000000     1.000000      0.933333\n",
            "1     0.954232  0.620902  0.281690   0.985787     0.967949      0.966667\n",
            "2     0.794783  0.861680  0.220657   0.557360     0.570513      0.955556\n",
            "3     0.780512  0.928279  0.028169   0.541117     0.455128      0.955556\n",
            "4     0.742618  0.633197  0.192488   0.614213     0.782051      0.788889\n",
            "5     0.729331  0.929303  0.061033   0.435533     0.426282      0.855556\n",
            "6     0.725394  1.000000  0.051643   0.378680     0.365385      0.866667\n"
          ]
        }
      ]
    },
    {
      "cell_type": "code",
      "source": [
        "#Deskripsi nilai\n",
        "desxcl = dfxclmm.describe()\n",
        "print(desxcl)"
      ],
      "metadata": {
        "colab": {
          "base_uri": "https://localhost:8080/"
        },
        "id": "-l9PMZKMfJax",
        "outputId": "4c7dabf3-788f-4390-94ee-2240c35c028c"
      },
      "execution_count": 27,
      "outputs": [
        {
          "output_type": "stream",
          "name": "stdout",
          "text": [
            "        total_sales      na_sales      jp_sales     pal_sales   other_sales  \\\n",
            "count  64016.000000  64016.000000  64016.000000  64016.000000  64016.000000   \n",
            "mean       0.005078      0.005876      0.014098      0.003358      0.003391   \n",
            "std        0.022982      0.025104      0.045567      0.018919      0.020624   \n",
            "min        0.000000      0.000000      0.000000      0.000000      0.000000   \n",
            "25%        0.000000      0.000000      0.000000      0.000000      0.000000   \n",
            "50%        0.000000      0.000000      0.000000      0.000000      0.000000   \n",
            "75%        0.000984      0.001025      0.004695      0.000000      0.000000   \n",
            "max        1.000000      1.000000      1.000000      1.000000      1.000000   \n",
            "\n",
            "       critic_score  \n",
            "count  64016.000000  \n",
            "mean       0.671845  \n",
            "std        0.172228  \n",
            "min        0.000000  \n",
            "25%        0.577778  \n",
            "50%        0.700000  \n",
            "75%        0.788889  \n",
            "max        1.000000  \n"
          ]
        }
      ]
    },
    {
      "cell_type": "markdown",
      "source": [
        "6 kolom di dataframe 'dfxclmm' menjadi aspek di sumbu **\"x\"**"
      ],
      "metadata": {
        "id": "OSTrNylU4b6b"
      }
    },
    {
      "cell_type": "markdown",
      "source": [
        "Nilai salinan dflbl menjadi basis variabel **'ycl'**"
      ],
      "metadata": {
        "id": "vucEDAEnA5VH"
      }
    },
    {
      "cell_type": "code",
      "source": [
        "#deklarasi nilai X dan y\n",
        "X_train, X_test, y_train, y_test = train_test_split(xclmm, ycl, test_size=0.25, random_state=35, stratify=ycl) #untuk cek kondisi 1\n",
        "X_train2, X_test2, y_train2, y_test2 = train_test_split(xclmm, ycl, test_size=0.225, random_state=35, stratify=ycl) #untuk KOndisi 2"
      ],
      "metadata": {
        "id": "vOTh55sKJSZW"
      },
      "execution_count": 28,
      "outputs": []
    },
    {
      "cell_type": "code",
      "source": [
        "#Berat sampel di latihan untuk penstabilan\n",
        "brtsmplth = csw(class_weight='balanced', y=y_train) #dipakai di kondisi 1\n",
        "brtsmplth2 = csw(class_weight='balanced', y=y_train2) #dipakai di kondisi 2"
      ],
      "metadata": {
        "id": "V85NAqdUKA_Z"
      },
      "execution_count": 31,
      "outputs": []
    },
    {
      "cell_type": "code",
      "source": [
        "#Inisiasi 'berat sampel' di data tes\n",
        "brtsampel = csw(class_weight='balanced', y=y_test) #dipakai di kondisi 1\n",
        "brtsampel2 = csw(class_weight='balanced', y=y_test2) #dipakai di kondisi 2"
      ],
      "metadata": {
        "id": "G4iGKOIz00Xg"
      },
      "execution_count": 32,
      "outputs": []
    },
    {
      "cell_type": "markdown",
      "source": [
        "- Tujuan pemasan berat di latihan adalah penstabilan data dengan indisitas\n",
        "- Indisitas dengan '1' dan '2' menyatakan kondisi rasio dalam analisis data"
      ],
      "metadata": {
        "id": "RYUgBI2SCcSo"
      }
    },
    {
      "cell_type": "code",
      "source": [
        "#Lihat bentuk berat (latihan)\n",
        "print(brtsmplth)\n",
        "print(brtsmplth2)"
      ],
      "metadata": {
        "colab": {
          "base_uri": "https://localhost:8080/"
        },
        "id": "Q2upKRpcfomM",
        "outputId": "ce3829f5-dfa8-4437-81b4-88f5d36a5d1f"
      },
      "execution_count": 33,
      "outputs": [
        {
          "output_type": "stream",
          "name": "stdout",
          "text": [
            "[1. 1. 1. ... 1. 1. 1.]\n",
            "[1. 1. 1. ... 1. 1. 1.]\n"
          ]
        }
      ]
    },
    {
      "cell_type": "code",
      "source": [
        "#Bentuk berat (tes)\n",
        "print(brtsampel)\n",
        "print(brtsampel2)"
      ],
      "metadata": {
        "colab": {
          "base_uri": "https://localhost:8080/"
        },
        "id": "ILoEKIlcioUi",
        "outputId": "a6a899cc-6bb5-4758-e7ac-88d953e3b032"
      },
      "execution_count": 34,
      "outputs": [
        {
          "output_type": "stream",
          "name": "stdout",
          "text": [
            "[1. 1. 1. ... 1. 1. 1.]\n",
            "[1. 1. 1. ... 1. 1. 1.]\n"
          ]
        }
      ]
    },
    {
      "cell_type": "markdown",
      "source": [
        "Rincian Percobaan\n",
        "* Percobaan pertama untuk kedua metode berlangsung dengan rasio (3/1) (1)\n",
        "* Percobaan kedua dengan rasio (31/9)"
      ],
      "metadata": {
        "id": "V3pdLLjkPFeX"
      }
    },
    {
      "cell_type": "code",
      "source": [
        "#Fungsi penentu akurasi melalui KNN\n",
        "def train_and_evaluate(k):\n",
        "    model = KNeighborsClassifier(n_neighbors=k, weights='distance', leaf_size=35,\n",
        "                                 metric='seuclidean',p=1,metric_params={'V': np.var(X_train, axis=0)})\n",
        "    #Tahap 'ravelisasi'\n",
        "    y_trainrav = y_train.ravel()\n",
        "    model.fit(X_train, y_trainrav) #Untuk ravelisasi (penekanan hasil ke model 1 dimensi)\n",
        "\n",
        "    #Prediksi\n",
        "    y_pred = model.predict(X_test)\n",
        "\n",
        "    # Pembulatan metrik\n",
        "    accuracy = accuracy_score(y_test, y_pred, sample_weight=brtsampel) # Akurasi yang dinormalkan\n",
        "    precision = precision_score(y_test, y_pred, average='weighted', sample_weight=brtsampel, zero_division=0) # Penyesuaian di presisi\n",
        "    recall = recall_score(y_test, y_pred, average='weighted',sample_weight=brtsampel, zero_division=0) #Penyesuaian di kondisi recall\n",
        "    f1 = f1_score(y_test, y_pred, average='weighted',sample_weight=brtsampel, zero_division=0) #Penyesuaian di skor F1\n",
        "\n",
        "    # Print metrics\n",
        "    print(f\"Total Tetangga k= {k}\")\n",
        "    print(f\"Nilai Akurasi: {accuracy:.4f}, Presisi: {precision:.4f}, Aspek Recall: {recall:.4f}, Skor F1: {f1:.4f}\")\n",
        "\n",
        "    # Classification report\n",
        "    report = classification_report(y_test, y_pred, sample_weight=brtsampel, zero_division=0)\n",
        "\n",
        "    if (accuracy >= 0.87 and precision >= 0.87 and recall >= 0.87 and f1 >= 0.87) or \\\n",
        "       (accuracy >= 0.92 and precision >= 0.92 and recall >= 0.92 and f1 >= 0.92):\n",
        "        print(\"Hasil sangat bagus untuk disimpan bisa disimpan.\")\n",
        "        return (k, accuracy, precision, recall, f1, y_pred, report)\n",
        "    elif (accuracy >= 0.87 and precision >= 0.87 and recall >= 0.87 and f1 >= 0.87) or \\\n",
        "         (accuracy < 0.92 and precision < 0.92 and recall < 0.92 and f1 < 0.92):\n",
        "        print(\"Hasil masih bisa disimpan.\")\n",
        "        return (k, accuracy, precision, recall, f1, y_pred, report)\n",
        "    elif (accuracy >= 0.87 and precision >= 0.87 and recall < 0.87 and f1 < 0.87) or \\\n",
        "         (accuracy > 0.92 and precision > 0.92 and recall < 0.92 and f1 < 0.92):\n",
        "         print(\"Ada masalah di recall dan nilai f1.\")\n",
        "         return None\n",
        "    else:\n",
        "        print(\"Hasil tidak pantas disimpan.\")\n",
        "        return None\n",
        "  #ke pembentukan matriks"
      ],
      "metadata": {
        "id": "4JYxBe87NLDk"
      },
      "execution_count": 35,
      "outputs": []
    },
    {
      "cell_type": "code",
      "source": [
        "#Fungsi evaluasi matriks\n",
        "def generate_confusion_matrix(y_true, y_pred, brtsampel):\n",
        "    cm = cmatr(y_true, y_pred, sample_weight=brtsampel, normalize='all') #Bisa matriks biasa atau multi matriks\n",
        "    print(\"Confusion Matrix:\")\n",
        "    cm_rounded = np.round(cm.astype(float), decimals=4)  # Pembulatan untuk kemudahan nilai\n",
        "    print(\"Hasil Confusion Matriks:\")\n",
        "    print(cm_rounded)\n",
        "    return cm_rounded #Hasil untuk pembulatan\n",
        "#ke eksekusi asli"
      ],
      "metadata": {
        "id": "tMq4QAssNLip"
      },
      "execution_count": 36,
      "outputs": []
    },
    {
      "cell_type": "code",
      "source": [
        "#Deklarasi parameter batas di KNN\n",
        "param_grid = range(3,13)\n",
        "#Paralelisasi melalui KNN\n",
        "if __name__ == '__main__':\n",
        "    with Pool() as pool:\n",
        "        results = pool.map(train_and_evaluate, param_grid)\n",
        "\n",
        "    # Filter out empty results\n",
        "    filtered_results = [result for result in results if result is not None]\n",
        "\n",
        "    # Get the best result\n",
        "    best_result = max(filtered_results, key=lambda x: x[1], default=None)\n",
        "\n",
        "    if best_result:\n",
        "        # Pembulatans\n",
        "        rounded_best_result = (\n",
        "            best_result[0],  # Nilai awal\n",
        "            round(best_result[1], 3),  # Pembulatan 1\n",
        "            round(best_result[2], 3),  # Pembulatan 2\n",
        "            round(best_result[3], 3),  # Pembulatan 3\n",
        "            round(best_result[4], 3),  # Pembulatan 4\n",
        "            best_result[5],  # Predictions (y_pred)\n",
        "            best_result[6]   # Informasi tambahan\n",
        "        )\n",
        "\n",
        "        # Simpan nilai terbaik dari dill\n",
        "        with open('best_knn_result.dill', 'wb') as f:\n",
        "            dill.dump(rounded_best_result, f)\n",
        "\n",
        "        #Implementasi hasil terbaik\n",
        "        _, _, _, _, _, y_pred, _ = rounded_best_result\n",
        "        cm = generate_confusion_matrix(y_test, y_pred, brtsampel)\n",
        "\n",
        "        # Simpan hasil matriks terbaik saja\n",
        "        with open('best_confusion_matrix.dill', 'wb') as cm_file:\n",
        "            dill.dump(cm, cm_file)\n",
        "\n",
        "        # Print the best rounded result\n",
        "        print(\"Hasil Terbaik :\", rounded_best_result)\n",
        "#eksekusi KNN"
      ],
      "metadata": {
        "id": "VOTaGStgLZd7",
        "colab": {
          "base_uri": "https://localhost:8080/"
        },
        "outputId": "ed963271-7fff-484c-c84c-d3f0d74897b3",
        "collapsed": true
      },
      "execution_count": 37,
      "outputs": [
        {
          "output_type": "stream",
          "name": "stdout",
          "text": [
            "Total Tetangga k= 3\n",
            "Nilai Akurasi: 1.0000, Presisi: 1.0000, Aspek Recall: 1.0000, Skor F1: 1.0000\n",
            "Hasil sangat bagus untuk disimpan bisa disimpan.\n",
            "Total Tetangga k= 5\n",
            "Nilai Akurasi: 1.0000, Presisi: 1.0000, Aspek Recall: 1.0000, Skor F1: 1.0000\n",
            "Hasil sangat bagus untuk disimpan bisa disimpan.\n",
            "Total Tetangga k= 4\n",
            "Nilai Akurasi: 1.0000, Presisi: 1.0000, Aspek Recall: 1.0000, Skor F1: 1.0000\n",
            "Hasil sangat bagus untuk disimpan bisa disimpan.\n",
            "Total Tetangga k= 6\n",
            "Nilai Akurasi: 1.0000, Presisi: 1.0000, Aspek Recall: 1.0000, Skor F1: 1.0000\n",
            "Hasil sangat bagus untuk disimpan bisa disimpan.\n",
            "Total Tetangga k= 7\n",
            "Nilai Akurasi: 1.0000, Presisi: 1.0000, Aspek Recall: 1.0000, Skor F1: 1.0000\n",
            "Hasil sangat bagus untuk disimpan bisa disimpan.\n",
            "Total Tetangga k= 9\n",
            "Nilai Akurasi: 1.0000, Presisi: 1.0000, Aspek Recall: 1.0000, Skor F1: 1.0000\n",
            "Hasil sangat bagus untuk disimpan bisa disimpan.\n",
            "Total Tetangga k= 8\n",
            "Nilai Akurasi: 1.0000, Presisi: 1.0000, Aspek Recall: 1.0000, Skor F1: 1.0000\n",
            "Hasil sangat bagus untuk disimpan bisa disimpan.\n",
            "Total Tetangga k= 10\n",
            "Nilai Akurasi: 1.0000, Presisi: 1.0000, Aspek Recall: 1.0000, Skor F1: 1.0000\n",
            "Hasil sangat bagus untuk disimpan bisa disimpan.\n",
            "Total Tetangga k= 11\n",
            "Nilai Akurasi: 1.0000, Presisi: 1.0000, Aspek Recall: 1.0000, Skor F1: 1.0000\n",
            "Hasil sangat bagus untuk disimpan bisa disimpan.\n",
            "Total Tetangga k= 12\n",
            "Nilai Akurasi: 1.0000, Presisi: 1.0000, Aspek Recall: 1.0000, Skor F1: 1.0000\n",
            "Hasil sangat bagus untuk disimpan bisa disimpan.\n",
            "Confusion Matrix:\n",
            "Hasil Confusion Matriks:\n",
            "[[1.]]\n",
            "Hasil Terbaik : (3, 1.0, 1.0, 1.0, 1.0, array([0, 0, 0, ..., 0, 0, 0]), '              precision    recall  f1-score   support\\n\\n           0       1.00      1.00      1.00   16004.0\\n\\n    accuracy                           1.00   16004.0\\n   macro avg       1.00      1.00      1.00   16004.0\\nweighted avg       1.00      1.00      1.00   16004.0\\n')\n"
          ]
        },
        {
          "output_type": "stream",
          "name": "stderr",
          "text": [
            "/usr/local/lib/python3.10/dist-packages/sklearn/metrics/_classification.py:409: UserWarning: A single label was found in 'y_true' and 'y_pred'. For the confusion matrix to have the correct shape, use the 'labels' parameter to pass all known labels.\n",
            "  warnings.warn(\n"
          ]
        }
      ]
    },
    {
      "cell_type": "code",
      "source": [
        "#Inisiasi joblib di RFC untuk mempercepat inspeksi\n",
        "filename = '/tmp/dataset.joblib'\n",
        "joblib.dump(np.asfortranarray(X_train), filename)\n",
        "X_train_mmap = joblib.load(filename, mmap_mode='r')"
      ],
      "metadata": {
        "id": "0K-RqmQu5mZk"
      },
      "execution_count": 38,
      "outputs": []
    },
    {
      "cell_type": "code",
      "source": [
        "#Tahap pertama RFC (pelacakan nilai ccp alpha)\n",
        "nialpf = np.arange(1e-3, 0.11, 1e-3) #Nilai alfa\n",
        "itmaks = 300\n",
        "tolerance = 4.8e-3\n",
        "best_alpha = None\n",
        "best_accuracy = -np.inf\n",
        "best_f1 = -np.inf\n",
        "previous_best_accuracy = None\n",
        "#ke deklarasi berat sampel"
      ],
      "metadata": {
        "id": "povKRBbsg_hI"
      },
      "execution_count": 40,
      "outputs": []
    },
    {
      "cell_type": "code",
      "source": [
        "#Persiapan kamus berat sampel untuk evaluasi ccp alfa\n",
        "klsbrt = np.unique(y_train) #kelas berat di RFC\n",
        "brtsmplth = csw(class_weight='balanced', y=y_train) #nilai deklarasi\n",
        "dictbrt = dict(zip(klsbrt, brtsmplth)) #dideklarasikan sebagai kampus"
      ],
      "metadata": {
        "id": "rvQMj-nQ5QB9"
      },
      "execution_count": 41,
      "outputs": []
    },
    {
      "cell_type": "code",
      "source": [
        "#Fungsi inspeksi nilai ccp alpha optimal\n",
        "def evaluasi_alfa(alpha):\n",
        "    rfc = RandomForestClassifier(n_estimators=105, max_depth=8, n_jobs=1 , random_state= 35, ccp_alpha=alpha, class_weight=dictbrt ,warm_start=True)\n",
        "    #Perataan menjadi satu dimensi\n",
        "    y_trainr = y_train.ravel() #Sudah dalam satu dimensi\n",
        "\n",
        "    rfc.fit(X_train_mmap, y_trainr, sample_weight=brtsmplth)\n",
        "\n",
        "    y_pred = rfc.predict(X_test)\n",
        "\n",
        "    accuracy = accuracy_score(y_test, y_pred, sample_weight=brtsampel)\n",
        "\n",
        "    # Pembulatan akurasi\n",
        "    accuracy_rounded = round(accuracy, 3)\n",
        "    # Penghindaran Peringatan di normalisasi\n",
        "    f1 = f1_score(y_test, y_pred, average='weighted', sample_weight=brtsampel, zero_division=0)  # Nilai f1\n",
        "    precision = precision_score(y_test, y_pred, average='weighted', sample_weight=brtsampel, zero_division=0)  # indikator presisi\n",
        "    recall = recall_score(y_test, y_pred, average='weighted', sample_weight=brtsampel, zero_division=0)  # Nilai Recall\n",
        "\n",
        "    return alpha, accuracy_rounded, f1, precision, recall  # Return values\n",
        "\n",
        "# Iterasi melalui jangkauan nilai alfa\n",
        "for iteration in range(itmaks):\n",
        "    with Pool() as pool:\n",
        "        results = pool.map(evaluasi_alfa, nialpf)\n",
        "\n",
        "    for alpha, accuracy, f1, precision, recall in results:\n",
        "        if accuracy > best_accuracy or (accuracy == best_accuracy and f1 > best_f1):\n",
        "            best_alpha = alpha\n",
        "            best_accuracy = accuracy\n",
        "            best_f1 = f1\n",
        "\n",
        "        # Pemeriksaan untuk nilai minimal (atau optimal)\n",
        "        if (accuracy >= 0.92 and precision >= 0.92 and\n",
        "            recall >= 0.92 and f1 >= 0.92) or \\\n",
        "           (accuracy >= 0.87 and precision >= 0.87 and\n",
        "            recall >= 0.87 and f1 >= 0.87):\n",
        "            print(f\"Saat NIlai ccp_alpha: {alpha}, Nilai sudah memenuhi syarat\"\n",
        "                  f\"Akurasi: {accuracy:.3f}, F1 Score: {f1:.2f}, \"\n",
        "                  f\"Precision: {precision:.2f}, Recall: {recall:.2f}. Stopping search.\")\n",
        "            break\n",
        "\n",
        "    # Pengaturan Nilai alfa\n",
        "    nialpf = np.linspace(max(0.001, best_alpha - 0.005), min(0.1, best_alpha + 0.005), num=10)\n",
        "\n",
        "    # Check for tolerance to stop early\n",
        "    if iteration > 0 and abs(best_accuracy - previous_best_accuracy) < tolerance:\n",
        "        print(\"Penghentian terjadi karena sudah melewati batas toleransi.\")\n",
        "        break\n",
        "\n",
        "    previous_best_accuracy = best_accuracy\n",
        "\n",
        "# Final results output\n",
        "print(f'Nilai ccp_alpha terbaik: {best_alpha}, Accuracy: {best_accuracy:.3f}, F1 Score: {best_f1:.2f}')\n",
        "#ke fungsi RFC"
      ],
      "metadata": {
        "colab": {
          "base_uri": "https://localhost:8080/"
        },
        "id": "Le6fLizfigZG",
        "outputId": "779449e5-d009-43fa-969c-fec71f567d05"
      },
      "execution_count": 42,
      "outputs": [
        {
          "output_type": "stream",
          "name": "stdout",
          "text": [
            "Saat NIlai ccp_alpha: 0.001, Nilai sudah memenuhi syaratAkurasi: 1.000, F1 Score: 1.00, Precision: 1.00, Recall: 1.00. Stopping search.\n",
            "Saat NIlai ccp_alpha: 0.001, Nilai sudah memenuhi syaratAkurasi: 1.000, F1 Score: 1.00, Precision: 1.00, Recall: 1.00. Stopping search.\n",
            "Penghentian terjadi karena sudah melewati batas toleransi.\n",
            "Nilai ccp_alpha terbaik: 0.001, Accuracy: 1.000, F1 Score: 1.00\n"
          ]
        }
      ]
    },
    {
      "cell_type": "code",
      "source": [
        "#Tahap Perhitungan melalui ravelisasi (penekanan)\n",
        "y_trainr = y_train.ravel()\n",
        "#eksekusi akhir\n",
        "final_model = RandomForestClassifier(random_state=38, ccp_alpha=best_alpha, class_weight=dictbrt ,warm_start=True)\n",
        "final_model.fit(X_train_mmap, y_trainr, sample_weight=brtsmplth) #harus kumpulan data\n",
        "y_pred_final = final_model.predict(X_test)\n",
        "#Ke evaluasi"
      ],
      "metadata": {
        "id": "PrItSs5glrvg"
      },
      "execution_count": 43,
      "outputs": []
    },
    {
      "cell_type": "code",
      "source": [
        "#Persiapan label\n",
        "rfcln = np.unique(y_trainr)"
      ],
      "metadata": {
        "id": "_jWaGJhhrq6f"
      },
      "execution_count": 44,
      "outputs": []
    },
    {
      "cell_type": "code",
      "source": [
        "#evaluasi melalui laporan dan 'confusion matrix'\n",
        "conf_matrix = np.round(cmatr(y_test, y_pred_final, labels=rfcln, sample_weight=brtsampel, normalize='all'), 4)\n",
        "class_report = classification_report(y_test, y_pred_final, labels=rfcln, sample_weight=brtsampel, zero_division=0)\n",
        "#pencetakan nilai matriks\n",
        "print(\"Confusion Matrix:\")\n",
        "print(conf_matrix)\n",
        "print(\"\\nLaporan Klasifikasi:\")\n",
        "print(class_report)"
      ],
      "metadata": {
        "colab": {
          "base_uri": "https://localhost:8080/"
        },
        "id": "yNvQCgi4l3Md",
        "outputId": "37c4e805-58c9-458f-cdcd-b1826015e191"
      },
      "execution_count": 45,
      "outputs": [
        {
          "output_type": "stream",
          "name": "stdout",
          "text": [
            "Confusion Matrix:\n",
            "[[1.]]\n",
            "\n",
            "Laporan Klasifikasi:\n",
            "              precision    recall  f1-score   support\n",
            "\n",
            "           0       1.00      1.00      1.00   16004.0\n",
            "\n",
            "    accuracy                           1.00   16004.0\n",
            "   macro avg       1.00      1.00      1.00   16004.0\n",
            "weighted avg       1.00      1.00      1.00   16004.0\n",
            "\n"
          ]
        },
        {
          "output_type": "stream",
          "name": "stderr",
          "text": [
            "/usr/local/lib/python3.10/dist-packages/sklearn/metrics/_classification.py:409: UserWarning: A single label was found in 'y_true' and 'y_pred'. For the confusion matrix to have the correct shape, use the 'labels' parameter to pass all known labels.\n",
            "  warnings.warn(\n"
          ]
        }
      ]
    },
    {
      "cell_type": "markdown",
      "source": [
        "Tulis narasi atau penjelasan algoritma yang Anda gunakan.\n",
        "### Rincian pemakaian algoritma KNN (K-nearest Neighboorhood)\n",
        "1. Persiapan numerisasi label **'labelencoder'**\n",
        "2. Proses standardisasi kolom numerik dengan **\"Robustscaler\",\"Standard Scaler\", dan \"Minmax Scaler\"** secara berurutan\n",
        "3. Persiapan berat di data untuk menghindari ketidak seimbangan\n",
        "4. Eksekusi dengan teknik KNN melalui beberapa tahap :\n",
        "#### 3.a. Proses Penentuan parameter di metode K-nearestNeighborhood dengan pemberat di data latihan\n",
        "#### 3.b. Proses Paralelisasi untuk eksekusi dan evaluasi\n",
        "#### 3.c. Tahap pencetakan Nilai akurasi, presisi, 'recall', dan skor f1\n",
        "### Rincian pemkaian algoritma RFC (Random Forest Classifier)\n",
        "* Persiapan numerisasi label dengan metode sama dengan KNN\n",
        "* proses standardisasi dengan metode sama (agar lebih adil)\n",
        "* Penerapan berat di data\n",
        "* Eksekusi fungsi yang terdiri dari :\n",
        "** a. Pelatihan RFC dengan RandomSearch CV untuk modifikasi nanti\n",
        "** b. Tahapan paralelisasi untuk RFC\n",
        "** c. Tahap pencetakan nilai RFC\n",
        "\n",
        "(Semua metode memakai pemberatan untuk menghindari kasus bias dari data)"
      ],
      "metadata": {
        "id": "seYoHNY3XU1y"
      }
    },
    {
      "cell_type": "markdown",
      "source": [
        "## **b. Evaluasi Model Klasifikasi**"
      ],
      "metadata": {
        "id": "ergzChZFEL-O"
      }
    },
    {
      "cell_type": "markdown",
      "source": [
        "Berikut adalah **rekomendasi** tahapannya.\n",
        "1. Lakukan prediksi menggunakan data uji.\n",
        "2. Hitung metrik evaluasi seperti Accuracy dan F1-Score (Opsional: Precision dan Recall).\n",
        "3. Buat confusion matrix untuk melihat detail prediksi benar dan salah."
      ],
      "metadata": {
        "id": "zOm68u-7NpLT"
      }
    },
    {
      "cell_type": "markdown",
      "source": [
        "Tulis hasil evaluasi algoritma yang digunakan, jika Anda menggunakan 2 algoritma, maka bandingkan hasilnya.\n",
        "\n",
        "## Evaluasi algoritma antara Hasil 'tetangga terdekat' dengan teknik 'randomforest'\n",
        "### Evaluasi dengan teknik KNN\n",
        "#### 1. Hasil mengalmi fluktuasi rendah nilai akurasi presisi indeks 'recall' dan skor f1\n",
        "#### 2. Nilai masih belum mencapai akurasi minimal walau nilai dipasang pemberat\n",
        "#### 3. Ada perkembangan pembentukan cluster setelah standardisasi 3 tahap\n",
        "### Evaluasi dnegan teknik RFC\n",
        "#### a. Nilai masih terlalu rendah baik tanpa pemberatan ataupun pemberatan\n",
        "#### b."
      ],
      "metadata": {
        "id": "H4_9OwrsXZlz"
      }
    },
    {
      "cell_type": "markdown",
      "source": [
        "## **c. Tuning Model Klasifikasi (Optional)**"
      ],
      "metadata": {
        "id": "ph9yIYDXEPuB"
      }
    },
    {
      "cell_type": "markdown",
      "source": [
        "Gunakan GridSearchCV, RandomizedSearchCV, atau metode lainnya untuk mencari kombinasi hyperparameter terbaik"
      ],
      "metadata": {
        "id": "-Bikx3LINv5e"
      }
    },
    {
      "cell_type": "markdown",
      "source": [
        "## Modifikasi di teknik KNN"
      ],
      "metadata": {
        "id": "26aTlch94foS"
      }
    },
    {
      "cell_type": "code",
      "source": [
        "#Persiapn untuk kamus berat\n",
        "klsbrt = np.unique(y_train) #kelas berat\n",
        "brtsmplth = csw(class_weight='balanced', y=y_train) #nilai deklarasi\n",
        "dictbrt = dict(zip(klsbrt, brtsmplth)) #dideklarasikan sebagai kampus\n",
        "#iterasi pelabelan\n",
        "kode = np.array([dictbrt.get(label, 1.0) for label in y_test]) #Kode untuk pemberat\n",
        "#Inisiasi grid search di KNN\n",
        "def tuned_train_and_evaluate(X_train, y_train, X_test, y_test, kode):\n",
        "    #Peringatan error\n",
        "    if np.any(np.isnan(X_train)) or np.any(np.isnan(y_train)):\n",
        "        raise ValueError(\"Training data contains NaN values.\")\n",
        "\n",
        "  # Definisikan nilai sampel\n",
        "    knn = KNeighborsClassifier(weights='distance', leaf_size=35,\n",
        "                               metric='euclidean', p=1,)\n",
        "\n",
        "    # Define parameter distribution for RandomizedSearchCV\n",
        "    param_dist = {\n",
        "        'n_neighbors': range(2, min(20, len(X_train))),  # kepastian jarak tetangga sesuai\n",
        "        'weights': ['uniform', 'distance'],\n",
        "        'metric': ['seuclidean', 'cosine']\n",
        "    }\n",
        "\n",
        "\n",
        "    # Initialize RandomizedSearchCV\n",
        "    random_search = RandomizedSearchCV(knn, param_distributions=param_dist,\n",
        "                                       verbose=1, n_iter=20, cv=5,\n",
        "                                       random_state=40, n_jobs=-1)\n",
        "\n",
        "    # Konversi hasil ke 1 dimensi\n",
        "    y_trainrav = y_train.ravel()\n",
        "\n",
        "    try:\n",
        "        # Pengurusan nilai eror\n",
        "        random_search.fit(X_train, y_trainrav)\n",
        "    except Exception as e:\n",
        "        print(f\"Error during fitting: {e}\")\n",
        "        return None\n",
        "\n",
        "    # Prediksi Nilai dengan Randomsearch\n",
        "    y_pred = random_search.predict(X_test)\n",
        "\n",
        "    # Perhitungan matrik\n",
        "    accuracy = accuracy_score(y_test, y_pred, sample_weight=kode)\n",
        "    precision = precision_score(y_test, y_pred, average='weighted', sample_weight=kode)\n",
        "    recall = recall_score(y_test, y_pred, average='weighted', sample_weight=kode)\n",
        "    f1 = f1_score(y_test, y_pred, average='weighted', sample_weight=kode)\n",
        "\n",
        "    # Print metrics and best parameters\n",
        "    print(f\"Best Parameters: {random_search.best_params_}\")\n",
        "    print(f\"Accuracy: {accuracy:.4f}, Precision: {precision:.4f}, Recall: {recall:.4f}, F1 Score: {f1:.4f}\")\n",
        "\n",
        "    report = classification_report(y_test, y_pred)\n",
        "\n",
        "    return (random_search.best_params_['n_neighbors'], accuracy, precision, recall, f1, y_pred, report)\n",
        "  #ke tuning lanjutan"
      ],
      "metadata": {
        "id": "OK0T2WS34lK9"
      },
      "execution_count": 46,
      "outputs": []
    },
    {
      "cell_type": "code",
      "source": [
        "#Lanjutan tuning di KNN (matriks)\n",
        "def tuned_confusion_matrix(y_true, y_pred):\n",
        "    cm = cmatr(y_true, y_pred,sample_weight=kode, normalize='all')\n",
        "    print(\"Confusion Matrix:\")\n",
        "    cm_rounded = np.round(cm.astype(float), decimals=4)  # Pembulatan untuk kemudahan nilai\n",
        "    print(\"Hasil Confusion Matriks:\")\n",
        "    print(cm_rounded)\n",
        "    return cm_rounded\n",
        "#ke eksekusi akhir"
      ],
      "metadata": {
        "id": "winbFzb8NL95"
      },
      "execution_count": 47,
      "outputs": []
    },
    {
      "cell_type": "code",
      "source": [
        "#Eksekusi dengan modifikasi 'Randomized search'\n",
        "if __name__ == '__main__':\n",
        "    # Definisi pemberatan\n",
        "    result = tuned_train_and_evaluate(X_train, y_trainr, X_test, y_test, kode)\n",
        "\n",
        "    if result:\n",
        "        k_value = result[0]\n",
        "        rounded_results = tuple(round(x, 3) if isinstance(x, float) else x for x in result)\n",
        "\n",
        "        # Simpan nilai terbaik dari dill\n",
        "        with open('tuned_knn_result.dill', 'wb') as f:\n",
        "            dill.dump(rounded_results, f)\n",
        "\n",
        "        _, _, _, _, _, y_pred, _ = rounded_results\n",
        "        cm2 = generate_confusion_matrix(y_test, y_pred,brtsampel)\n",
        "\n",
        "        # Simpan hasil matriks terbaik saja\n",
        "        with open('tuned_confusion_matrix.dill', 'wb') as cm_file:\n",
        "            dill.dump(cm2, cm_file)\n",
        "\n",
        "        # Print the best rounded result\n",
        "        print(\"Best Result:\", rounded_results)"
      ],
      "metadata": {
        "id": "PMyTCQctRbN-",
        "colab": {
          "base_uri": "https://localhost:8080/"
        },
        "collapsed": true,
        "outputId": "788aaa7c-bf60-4a15-a737-bbd975624e5f"
      },
      "execution_count": 48,
      "outputs": [
        {
          "output_type": "stream",
          "name": "stdout",
          "text": [
            "Fitting 5 folds for each of 20 candidates, totalling 100 fits\n"
          ]
        },
        {
          "output_type": "stream",
          "name": "stderr",
          "text": [
            "/usr/local/lib/python3.10/dist-packages/sklearn/model_selection/_validation.py:540: FitFailedWarning: \n",
            "50 fits failed out of a total of 100.\n",
            "The score on these train-test partitions for these parameters will be set to nan.\n",
            "If these failures are not expected, you can try to debug them by setting error_score='raise'.\n",
            "\n",
            "Below are more details about the failures:\n",
            "--------------------------------------------------------------------------------\n",
            "50 fits failed with the following error:\n",
            "Traceback (most recent call last):\n",
            "  File \"/usr/local/lib/python3.10/dist-packages/sklearn/model_selection/_validation.py\", line 888, in _fit_and_score\n",
            "    estimator.fit(X_train, y_train, **fit_params)\n",
            "  File \"/usr/local/lib/python3.10/dist-packages/sklearn/base.py\", line 1473, in wrapper\n",
            "    return fit_method(estimator, *args, **kwargs)\n",
            "  File \"/usr/local/lib/python3.10/dist-packages/sklearn/neighbors/_classification.py\", line 238, in fit\n",
            "    return self._fit(X, y)\n",
            "  File \"/usr/local/lib/python3.10/dist-packages/sklearn/neighbors/_base.py\", line 665, in _fit\n",
            "    self._tree = BallTree(\n",
            "  File \"sklearn/neighbors/_binary_tree.pxi\", line 904, in sklearn.neighbors._ball_tree.BinaryTree64.__init__\n",
            "  File \"sklearn/metrics/_dist_metrics.pyx\", line 207, in sklearn.metrics._dist_metrics.DistanceMetric.get_metric\n",
            "  File \"sklearn/metrics/_dist_metrics.pyx\", line 433, in sklearn.metrics._dist_metrics.DistanceMetric64.get_metric\n",
            "  File \"sklearn/metrics/_dist_metrics.pyx\", line 1094, in sklearn.metrics._dist_metrics.SEuclideanDistance64.__init__\n",
            "TypeError: __init__() takes exactly 1 positional argument (0 given)\n",
            "\n",
            "  warnings.warn(some_fits_failed_message, FitFailedWarning)\n",
            "/usr/local/lib/python3.10/dist-packages/numpy/ma/core.py:2820: RuntimeWarning: invalid value encountered in cast\n",
            "  _data = np.array(data, dtype=dtype, copy=copy,\n",
            "/usr/local/lib/python3.10/dist-packages/sklearn/model_selection/_search.py:1103: UserWarning: One or more of the test scores are non-finite: [ 1. nan  1.  1. nan nan nan nan  1.  1. nan nan  1.  1.  1. nan  1.  1.\n",
            " nan nan]\n",
            "  warnings.warn(\n"
          ]
        },
        {
          "output_type": "stream",
          "name": "stdout",
          "text": [
            "Best Parameters: {'weights': 'distance', 'n_neighbors': 6, 'metric': 'cosine'}\n",
            "Accuracy: 1.0000, Precision: 1.0000, Recall: 1.0000, F1 Score: 1.0000\n",
            "Confusion Matrix:\n",
            "Hasil Confusion Matriks:\n",
            "[[1.]]\n",
            "Best Result: (6, 1.0, 1.0, 1.0, 1.0, array([0, 0, 0, ..., 0, 0, 0]), '              precision    recall  f1-score   support\\n\\n           0       1.00      1.00      1.00     16004\\n\\n    accuracy                           1.00     16004\\n   macro avg       1.00      1.00      1.00     16004\\nweighted avg       1.00      1.00      1.00     16004\\n')\n"
          ]
        },
        {
          "output_type": "stream",
          "name": "stderr",
          "text": [
            "/usr/local/lib/python3.10/dist-packages/sklearn/metrics/_classification.py:409: UserWarning: A single label was found in 'y_true' and 'y_pred'. For the confusion matrix to have the correct shape, use the 'labels' parameter to pass all known labels.\n",
            "  warnings.warn(\n"
          ]
        }
      ]
    },
    {
      "cell_type": "markdown",
      "source": [
        "Aspek modifikasi:\n",
        "1. Implementasi dua metode pemberat (seuclidian dan nilai parameter 'brtsmplth')\n",
        "2. Nilai cosine bertujuan untuk inspeksi sudut pada akurasi"
      ],
      "metadata": {
        "id": "DH54qbjKsSrU"
      }
    },
    {
      "cell_type": "markdown",
      "source": [
        "## Modifikasi metode RFC"
      ],
      "metadata": {
        "id": "5QFhKKQp4nWO"
      }
    },
    {
      "cell_type": "code",
      "source": [
        "#Tahap awal di RCT (deklarasi parameter)\n",
        "rcfparam = {'ccp_alpha': np.arange(1.75e-4, 0.175, 1.75e-4),'n_estimators':[100, 150, 200],\n",
        "            'max_depth':[1,10,20,30],'min_samples_split': [2, 5, 10],'class_weight': ['balanced', 'distance']} #Parameter berat"
      ],
      "metadata": {
        "id": "Yr-zYpk156TH"
      },
      "execution_count": 49,
      "outputs": []
    },
    {
      "cell_type": "code",
      "source": [
        "#Lanjutan di RCT (Fungsi pengacakan)\n",
        "def rfc_randomized(X_train, y_train):\n",
        "#Persiapan berat sampel\n",
        "    klsbrt = np.unique(y_train) #kelas berat di RFC\n",
        "    brtsmplth = csw(class_weight='balanced', y=y_train) #nilai deklarasi\n",
        "    dictbrt = dict(zip(klsbrt, brtsmplth)) #dideklarasikan sebagai kampus\n",
        "    #Inisiasi rfc dalam randomized\n",
        "    rfc2 = RandomForestClassifier(random_state=50, class_weight=dictbrt ,warm_start=True, verbose=1)\n",
        "    #Penyetelan Randomsearch CV\n",
        "    random_search = RandomizedSearchCV(estimator=rfc2, param_distributions=rcfparam,\n",
        "                                       n_iter=100,scoring='f1_weighted',\n",
        "                                       cv=6, verbose=2,\n",
        "                                       random_state=42,\n",
        "                                       n_jobs=-1)\n",
        "    # Tahap Fitting\n",
        "    random_search.fit(X_train, y_train)\n",
        "    # Pengembalian Hasil\n",
        "    return random_search.best_estimator_, random_search.best_params_ #\n",
        "  #ke persiapan verbose"
      ],
      "metadata": {
        "id": "WQRB-bOs6Jsu"
      },
      "execution_count": 50,
      "outputs": []
    },
    {
      "cell_type": "code",
      "source": [
        "#Tahap 'ravel'isasi\n",
        "y_trainr = y_train.ravel()\n",
        "#Pemangilan hasil (Eksekusi)\n",
        "randmod , randparam = rfc_randomized(X_train_mmap, y_trainr)\n",
        "#Prediksi dengan randomized search\n",
        "ypred_rnd = randmod.predict(X_test)\n",
        "#Evaluasi hasil randomizedsearch melalui matriks dan laporan\n",
        "cmatrand = cmatr(y_test, y_pred_final, sample_weight=brtsampel, normalize='all') #pasca modifikasi\n",
        "laporan = classification_report(y_test, y_pred_final, sample_weight=brtsampel, zero_division=0)\n",
        "\n",
        "# Cetak Hasil parameter modifikasi\n",
        "print(f'Best Parameters: {randmod}')\n",
        "print(\"Inspeksi Matriks Kebingungan:\")\n",
        "print(cmatrand)\n",
        "print(\"\\nLaporan Klasifikasi:\")\n",
        "print(laporan)"
      ],
      "metadata": {
        "id": "z7IgV0hHpw1P",
        "colab": {
          "base_uri": "https://localhost:8080/"
        },
        "outputId": "345f5cac-8f4f-4d1f-c4e1-c6867bdecd24"
      },
      "execution_count": 52,
      "outputs": [
        {
          "output_type": "stream",
          "name": "stdout",
          "text": [
            "Fitting 6 folds for each of 100 candidates, totalling 600 fits\n"
          ]
        },
        {
          "output_type": "stream",
          "name": "stderr",
          "text": [
            "/usr/local/lib/python3.10/dist-packages/sklearn/model_selection/_validation.py:540: FitFailedWarning: \n",
            "306 fits failed out of a total of 600.\n",
            "The score on these train-test partitions for these parameters will be set to nan.\n",
            "If these failures are not expected, you can try to debug them by setting error_score='raise'.\n",
            "\n",
            "Below are more details about the failures:\n",
            "--------------------------------------------------------------------------------\n",
            "197 fits failed with the following error:\n",
            "Traceback (most recent call last):\n",
            "  File \"/usr/local/lib/python3.10/dist-packages/sklearn/model_selection/_validation.py\", line 888, in _fit_and_score\n",
            "    estimator.fit(X_train, y_train, **fit_params)\n",
            "  File \"/usr/local/lib/python3.10/dist-packages/sklearn/base.py\", line 1466, in wrapper\n",
            "    estimator._validate_params()\n",
            "  File \"/usr/local/lib/python3.10/dist-packages/sklearn/base.py\", line 666, in _validate_params\n",
            "    validate_parameter_constraints(\n",
            "  File \"/usr/local/lib/python3.10/dist-packages/sklearn/utils/_param_validation.py\", line 95, in validate_parameter_constraints\n",
            "    raise InvalidParameterError(\n",
            "sklearn.utils._param_validation.InvalidParameterError: The 'class_weight' parameter of RandomForestClassifier must be a str among {'balanced_subsample', 'balanced'}, an instance of 'dict', an instance of 'list' or None. Got 'distance' instead.\n",
            "\n",
            "--------------------------------------------------------------------------------\n",
            "109 fits failed with the following error:\n",
            "Traceback (most recent call last):\n",
            "  File \"/usr/local/lib/python3.10/dist-packages/sklearn/model_selection/_validation.py\", line 888, in _fit_and_score\n",
            "    estimator.fit(X_train, y_train, **fit_params)\n",
            "  File \"/usr/local/lib/python3.10/dist-packages/sklearn/base.py\", line 1466, in wrapper\n",
            "    estimator._validate_params()\n",
            "  File \"/usr/local/lib/python3.10/dist-packages/sklearn/base.py\", line 666, in _validate_params\n",
            "    validate_parameter_constraints(\n",
            "  File \"/usr/local/lib/python3.10/dist-packages/sklearn/utils/_param_validation.py\", line 95, in validate_parameter_constraints\n",
            "    raise InvalidParameterError(\n",
            "sklearn.utils._param_validation.InvalidParameterError: The 'class_weight' parameter of RandomForestClassifier must be a str among {'balanced', 'balanced_subsample'}, an instance of 'dict', an instance of 'list' or None. Got 'distance' instead.\n",
            "\n",
            "  warnings.warn(some_fits_failed_message, FitFailedWarning)\n",
            "/usr/local/lib/python3.10/dist-packages/sklearn/model_selection/_search.py:1103: UserWarning: One or more of the test scores are non-finite: [ 1. nan  1.  1. nan nan nan nan nan nan  1. nan nan  1. nan  1. nan nan\n",
            " nan  1. nan  1. nan nan nan nan  1. nan  1.  1. nan  1. nan nan  1.  1.\n",
            " nan nan  1.  1.  1. nan  1. nan  1.  1.  1.  1. nan nan  1.  1. nan nan\n",
            "  1.  1.  1.  1. nan nan nan  1. nan  1.  1.  1.  1.  1.  1.  1. nan  1.\n",
            "  1.  1.  1.  1. nan nan  1.  1. nan nan  1. nan nan nan nan nan  1. nan\n",
            "  1. nan  1. nan  1. nan nan  1. nan nan]\n",
            "  warnings.warn(\n",
            "/usr/local/lib/python3.10/dist-packages/sklearn/ensemble/_forest.py:861: UserWarning: class_weight presets \"balanced\" or \"balanced_subsample\" are not recommended for warm_start if the fitted data differs from the full dataset. In order to use \"balanced\" weights, use compute_class_weight (\"balanced\", classes, y). In place of y you can use a large enough sample of the full training set target to properly estimate the class frequency distributions. Pass the resulting weights as the class_weight parameter.\n",
            "  warn(\n",
            "[Parallel(n_jobs=1)]: Done  49 tasks      | elapsed:    0.3s\n"
          ]
        },
        {
          "output_type": "stream",
          "name": "stdout",
          "text": [
            "Best Parameters: RandomForestClassifier(ccp_alpha=0.0385, class_weight='balanced', max_depth=30,\n",
            "                       random_state=50, verbose=1, warm_start=True)\n",
            "Inspeksi Matriks Kebingungan:\n",
            "[[1.]]\n",
            "\n",
            "Laporan Klasifikasi:\n",
            "              precision    recall  f1-score   support\n",
            "\n",
            "           0       1.00      1.00      1.00   16004.0\n",
            "\n",
            "    accuracy                           1.00   16004.0\n",
            "   macro avg       1.00      1.00      1.00   16004.0\n",
            "weighted avg       1.00      1.00      1.00   16004.0\n",
            "\n"
          ]
        },
        {
          "output_type": "stream",
          "name": "stderr",
          "text": [
            "[Parallel(n_jobs=1)]: Done  49 tasks      | elapsed:    0.0s\n",
            "/usr/local/lib/python3.10/dist-packages/sklearn/metrics/_classification.py:409: UserWarning: A single label was found in 'y_true' and 'y_pred'. For the confusion matrix to have the correct shape, use the 'labels' parameter to pass all known labels.\n",
            "  warnings.warn(\n"
          ]
        }
      ]
    },
    {
      "cell_type": "markdown",
      "source": [
        "## **d. Evaluasi Model Klasifikasi setelah Tuning (Optional)**"
      ],
      "metadata": {
        "id": "hE7pqlEPEYzI"
      }
    },
    {
      "cell_type": "markdown",
      "source": [
        "Berikut adalah rekomendasi tahapannya.\n",
        "1. Gunakan model dengan hyperparameter terbaik.\n",
        "2. Hitung ulang metrik evaluasi untuk melihat apakah ada peningkatan performa."
      ],
      "metadata": {
        "id": "feaPESoeN0zz"
      }
    },
    {
      "cell_type": "code",
      "source": [
        "#Deklarasi Label\n",
        "label = ['game favortit dengan keuntungan rendah', 'game kurang berkenan dengan fokus pencarian keuntungan', 'game dengan tujuan utama pencari duit']"
      ],
      "metadata": {
        "id": "UUtcwVtheCBI"
      },
      "execution_count": 53,
      "outputs": []
    },
    {
      "cell_type": "markdown",
      "source": [
        "Basis untuk inspeksi analisis kluster"
      ],
      "metadata": {
        "id": "b5ImD4l10Sqx"
      }
    },
    {
      "cell_type": "code",
      "source": [
        "#Pengubahan nama untuk inspeksi di metode K-NearestNeighborhood (Normal)\n",
        "hslcmatk = cm #Hasil dari K-Nearest Neighborhood\n",
        "hslcmatr = conf_matrix #Hasil dari Randomforest classifier"
      ],
      "metadata": {
        "id": "ZApbldsp59T1"
      },
      "execution_count": 54,
      "outputs": []
    },
    {
      "cell_type": "code",
      "source": [
        "#Modifikasi Randomizedsearch CV\n",
        "hslmoda = cm2 #Hasil dari Randomizedsearch CV untuk K-nearest\n",
        "hslmodb = cmatrand #Hasil dari Randomizedsearch CV untuk RFC\n",
        "#ke ilustrasi matriks"
      ],
      "metadata": {
        "id": "rDwI7b1ryuwn"
      },
      "execution_count": 55,
      "outputs": []
    },
    {
      "cell_type": "code",
      "source": [
        "#Inspeksi metode 'KNN' melalui ilustrasi matriks (normal)\n",
        "plt.figure(figsize=(15, 10))\n",
        "sns.heatmap(hslcmatk, annot=True, fmt='.4f', cmap='Blues',\n",
        "            xticklabels= label,  # Setel sesuai kelas\n",
        "            yticklabels= label)  # Penyetaln kondisi\n",
        "plt.ylabel('Label sesungguhnya')\n",
        "plt.xlabel('Label terprediksi')\n",
        "plt.title('Inspeksi Matrik melalui metode KNN')\n",
        "plt.show()"
      ],
      "metadata": {
        "id": "wwjyxMHf1OJo",
        "colab": {
          "base_uri": "https://localhost:8080/",
          "height": 872
        },
        "outputId": "4f26f477-7ac3-43e3-8a22-39b5606c2a61"
      },
      "execution_count": 56,
      "outputs": [
        {
          "output_type": "display_data",
          "data": {
            "text/plain": [
              "<Figure size 1500x1000 with 2 Axes>"
            ],
            "image/png": "[encoded data removed]"
          },
          "metadata": {}
        }
      ]
    },
    {
      "cell_type": "code",
      "source": [
        "#Inspeksi di metode RandomForestClasifier [Normal]\n",
        "plt.figure(figsize=(15, 8))\n",
        "sns.heatmap(hslcmatr, annot=True, fmt='.4f', cmap='Blues',\n",
        "            xticklabels= label,  # Inspeksi Sesuai Kelas\n",
        "            yticklabels= label)  # Pengaturan sesuai kelas\n",
        "plt.ylabel('Label sesungguhnya')\n",
        "plt.xlabel('Label terprediksi')\n",
        "plt.title('Inspeksi Matrik melalui metode RCF')\n",
        "plt.show()"
      ],
      "metadata": {
        "id": "HTXZRvEeNMb1",
        "colab": {
          "base_uri": "https://localhost:8080/",
          "height": 718
        },
        "outputId": "91d14817-041e-4a15-fb24-bff4d86f99d2"
      },
      "execution_count": 57,
      "outputs": [
        {
          "output_type": "display_data",
          "data": {
            "text/plain": [
              "<Figure size 1500x800 with 2 Axes>"
            ],
            "image/png": "[encoded data removed]"
          },
          "metadata": {}
        }
      ]
    },
    {
      "cell_type": "code",
      "source": [
        "#Modifikasi melalui Randomized search [KNN]\n",
        "plt.figure(figsize=(15, 10))\n",
        "sns.heatmap(hslmoda, annot=True, fmt='.4f', cmap='Blues',\n",
        "            xticklabels= label,  # Setel sesuai kelas\n",
        "            yticklabels= label)  # Penyetaln kondisi\n",
        "plt.ylabel('Label sesungguhnya')\n",
        "plt.xlabel('Label terprediksi')\n",
        "plt.title('Modifikasi melalui Randomized search untuk KNN')\n",
        "plt.show()"
      ],
      "metadata": {
        "colab": {
          "base_uri": "https://localhost:8080/",
          "height": 872
        },
        "id": "avlLst9wepD4",
        "outputId": "84a79625-6be3-46f9-95a5-d253ed141070"
      },
      "execution_count": 58,
      "outputs": [
        {
          "output_type": "display_data",
          "data": {
            "text/plain": [
              "<Figure size 1500x1000 with 2 Axes>"
            ],
            "image/png": "[encoded data removed]"
          },
          "metadata": {}
        }
      ]
    },
    {
      "cell_type": "code",
      "source": [
        "#Inspeksi matriks modifikasi melalui pencarian acak\n",
        "plt.figure(figsize=(15, 10))\n",
        "sns.heatmap(hslmodb, annot=True, fmt='.4f', cmap='Blues',\n",
        "            xticklabels= label,  # Setel sesuai kelas\n",
        "            yticklabels= label)  # Penyetaln kondisi\n",
        "plt.ylabel('Label sesungguhnya')\n",
        "plt.xlabel('Label terprediksi')\n",
        "plt.title('Modifikasi melalui Randomized search untuk RFC')\n",
        "plt.show()"
      ],
      "metadata": {
        "colab": {
          "base_uri": "https://localhost:8080/",
          "height": 872
        },
        "id": "9gA2uLvYgwg8",
        "outputId": "2c7b10bd-0bf7-40e0-9a37-e6d18a4c854e"
      },
      "execution_count": 59,
      "outputs": [
        {
          "output_type": "display_data",
          "data": {
            "text/plain": [
              "<Figure size 1500x1000 with 2 Axes>"
            ],
            "image/png": "[encoded data removed]"
          },
          "metadata": {}
        }
      ]
    },
    {
      "cell_type": "code",
      "source": [
        "#Fungsi pembulatan untuk inspeksi kurva pembelajaran\n",
        "def round_scores(scores, decimals=3):\n",
        "    return np.round(scores, decimals)"
      ],
      "metadata": {
        "id": "8MmQKpflfsl6"
      },
      "execution_count": 61,
      "outputs": []
    },
    {
      "cell_type": "code",
      "source": [
        "#Kurva Pembelajaran melalui KNN\n",
        "train_sizes, train_scores, validation_scores = lencur(\n",
        "    estimator= KNeighborsClassifier(n_neighbors=1, weights='distance', leaf_size=35,\n",
        "                                 metric='seuclidean',p=1,metric_params={'V': np.var(X_train, axis=0)}), #Nilai terbaik\n",
        "    X=X_train,\n",
        "    y=y_train.ravel(),\n",
        "    train_sizes=np.linspace(0.1, 1.0, 20),  # Increased number of points for smoother curve\n",
        "    cv=5,\n",
        "    scoring='accuracy'  # Ubah di akurasi\n",
        ")\n",
        "#Penghitungan rata-rata dan deviasi standar\n",
        "train_scores_mean = np.mean(train_scores, axis=1)\n",
        "validation_scores_mean = np.mean(validation_scores, axis=1)\n",
        "\n",
        "train_scores_std = np.std(train_scores, axis=1)\n",
        "validation_scores_std = np.std(validation_scores, axis=1)\n",
        "\n",
        "# Pembulatan melalui fungsi\n",
        "train_scores_mean_rounded = round_scores(train_scores_mean, decimals=3)\n",
        "validation_scores_mean_rounded = round_scores(validation_scores_mean, decimals=3)\n",
        "\n",
        "#Ilustrasi (latihan)\n",
        "plt.plot(train_sizes, train_scores_mean_rounded, 'o-', color=\"r\", label=\"Nilai Pelatihan\")\n",
        "plt.fill_between(train_sizes,\n",
        "                 round_scores(train_scores_mean - train_scores_std, decimals=3),\n",
        "                 round_scores(train_scores_mean + train_scores_std, decimals=3),\n",
        "                 alpha=0.1, color=\"r\")\n",
        "\n",
        "# Validasi\n",
        "plt.plot(train_sizes, validation_scores_mean_rounded, 'o-', color=\"g\", label=\"Nilai validasi silang\")\n",
        "plt.fill_between(train_sizes,\n",
        "                 round_scores(validation_scores_mean - validation_scores_std, decimals=3),\n",
        "                 round_scores(validation_scores_mean + validation_scores_std, decimals=3),\n",
        "                 alpha=0.1, color=\"g\")\n",
        "\n",
        "plt.legend(loc=\"best\")\n",
        "plt.grid()\n",
        "plt.show()"
      ],
      "metadata": {
        "id": "dWjAbZHx1fs4",
        "colab": {
          "base_uri": "https://localhost:8080/",
          "height": 430
        },
        "outputId": "5e6dba1f-bc57-463d-cf5a-857200d5109c"
      },
      "execution_count": 63,
      "outputs": [
        {
          "output_type": "display_data",
          "data": {
            "text/plain": [
              "<Figure size 640x480 with 1 Axes>"
            ],
            "image/png": "[encoded data removed]"
          },
          "metadata": {}
        }
      ]
    },
    {
      "cell_type": "code",
      "source": [
        "#Kurva pemberlajaran melalui metode 'analisis hutan' [normal]\n",
        "final_model = RandomForestClassifier(random_state=50, ccp_alpha=best_alpha, class_weight=dictbrt ,warm_start=True)\n",
        "# Generate learning curve data\n",
        "train_sizes, train_scores, validation_scores = lencur(\n",
        "    estimator=final_model,\n",
        "    X=X_train_mmap,\n",
        "    y=y_train.ravel(),\n",
        "    train_sizes=np.linspace(0.1, 1.0, 10),  # Aspek yang akan dinilai\n",
        "    cv=5,\n",
        "    scoring='accuracy'  # You can change this to other metrics if needed\n",
        ")\n",
        "\n",
        "# Perhitungan nilai rata-rata dan\n",
        "train_scores_mean = np.mean(train_scores, axis=1)\n",
        "validation_scores_mean = np.mean(validation_scores, axis=1)\n",
        "\n",
        "train_scores_std = np.std(train_scores, axis=1)\n",
        "validation_scores_std = np.std(validation_scores, axis=1)\n",
        "\n",
        "# Round the mean scores for easier reading\n",
        "train_scores_mean_rounded = np.round(train_scores_mean, decimals=3)\n",
        "validation_scores_mean_rounded = np.round(validation_scores_mean, decimals=3)\n",
        "\n",
        "# Ilustrasi Hasil melalui RFC\n",
        "plt.figure()\n",
        "plt.title(\"Inspeksi kurva pembelajaran di teknik RFC\")\n",
        "plt.xlabel(\"Training examples\")\n",
        "plt.ylabel(\"Score\")\n",
        "plt.ylim(0, 1)  # Adjust based on your score range\n",
        "\n",
        "# Plot training scores\n",
        "plt.plot(train_sizes, train_scores_mean_rounded, 'o-', color=\"r\", label=\"Nilai Pelatihan\")\n",
        "plt.fill_between(train_sizes,\n",
        "                 np.round(train_scores_mean - train_scores_std, decimals=3),\n",
        "                 np.round(train_scores_mean + train_scores_std, decimals=3),\n",
        "                 alpha=0.1, color=\"r\")\n",
        "\n",
        "# Plot validation scores\n",
        "plt.plot(train_sizes, validation_scores_mean_rounded, 'o-', color=\"g\", label=\"Nilai validasi silang\")\n",
        "plt.fill_between(train_sizes,\n",
        "                 np.round(validation_scores_mean - validation_scores_std, decimals=3),\n",
        "                 np.round(validation_scores_mean + validation_scores_std, decimals=3),\n",
        "                 alpha=0.1, color=\"g\")\n",
        "\n",
        "plt.legend(loc=\"best\")\n",
        "plt.grid()\n",
        "plt.show()"
      ],
      "metadata": {
        "colab": {
          "base_uri": "https://localhost:8080/",
          "height": 472
        },
        "id": "GFznvxR4W320",
        "outputId": "47d1be42-5615-4b03-a4c4-e5035e6efc7a"
      },
      "execution_count": 64,
      "outputs": [
        {
          "output_type": "display_data",
          "data": {
            "text/plain": [
              "<Figure size 640x480 with 1 Axes>"
            ],
            "image/png": "[encoded data removed]"
          },
          "metadata": {}
        }
      ]
    },
    {
      "cell_type": "code",
      "source": [
        "#Bagian Fungsi\n",
        "def tuned_train_and_evaluate_with_learning_curve(X_train, y_train, X_test, y_test, brtsampel):\n",
        "    # Check for NaN values in input data\n",
        "    if np.any(np.isnan(X_train)) or np.any(np.isnan(y_train)):\n",
        "        raise ValueError(\"There are NaN values in X_train or y_train.\")\n",
        "    if np.any(np.isnan(X_test)) or np.any(np.isnan(y_test)):\n",
        "        raise ValueError(\"There are NaN values in X_test or y_test.\")\n",
        "\n",
        "    knn = KNeighborsClassifier(weights='distance', leaf_size=35, metric='euclidean', p=1, n_jobs=-1)\n",
        "\n",
        "    # Define parameters for RandomizedSearchCV\n",
        "    param_dist = {\n",
        "        'n_neighbors': range(2, min(20, len(X_train))),\n",
        "        'weights': ['uniform', 'distance'],\n",
        "        'metric': ['seuclidean', 'cosine']\n",
        "    }\n",
        "\n",
        "    random_search = RandomizedSearchCV(knn, param_distributions=param_dist,\n",
        "                                       verbose=1, n_iter=20, cv=5,\n",
        "                                       random_state=40, n_jobs=-1)\n",
        "\n",
        "    # Generate learning curve data\n",
        "    train_sizes, train_scores, test_scores = learning_curve(random_search, X_train, y_train,\n",
        "                                                            train_sizes=np.linspace(0.1, 1.0, 10),\n",
        "                                                            cv=5, shuffle=True)\n",
        "\n",
        "    # Calculate mean and standard deviation for training scores\n",
        "    train_scores_mean = np.nanmean(train_scores, axis=1)\n",
        "    test_scores_mean = np.nanmean(test_scores, axis=1)\n",
        "\n",
        "    # Handle potential NaN values in mean scores\n",
        "    train_scores_mean[np.isnan(train_scores_mean)] = 0\n",
        "    test_scores_mean[np.isnan(test_scores_mean)] = 0\n",
        "\n",
        "    # Plotting the learning curve\n",
        "    plt.figure()\n",
        "    plt.title(\"Learning Curve with KNN\")\n",
        "    plt.xlabel(\"Training Samples\")\n",
        "    plt.ylabel(\"Score\")\n",
        "\n",
        "    plt.plot(train_sizes, train_scores_mean, label=\"Training Score\", color=\"r\")\n",
        "    plt.plot(train_sizes, test_scores_mean, label=\"Cross-Validation Score\", color=\"g\")\n",
        "\n",
        "    plt.fill_between(train_sizes,\n",
        "                     np.nanmean(train_scores, axis=1) - np.nanstd(train_scores, axis=1),\n",
        "                     np.nanmean(train_scores, axis=1) + np.nanstd(train_scores, axis=1), color=\"r\", alpha=0.2)\n",
        "\n",
        "    plt.fill_between(train_sizes,\n",
        "                     np.nanmean(test_scores, axis=1) - np.nanstd(test_scores, axis=1),\n",
        "                     np.nanmean(test_scores, axis=1) + np.nanstd(test_scores, axis=1), color=\"g\", alpha=0.2)\n",
        "\n",
        "    plt.legend(loc=\"best\")\n",
        "    plt.grid()\n",
        "    plt.show()\n",
        "\n",
        "    # Fit the model on the full training set\n",
        "    random_search.fit(X_train, y_train)\n",
        "\n",
        "    # Predictions and metrics\n",
        "    y_pred = random_search.predict(X_test)\n",
        "\n",
        "    accuracy = accuracy_score(y_test, y_pred)\n",
        "\n",
        "    print(f\"Best Parameters: {random_search.best_params_}\")\n",
        "    print(f\"Accuracy: {accuracy:.4f}\")"
      ],
      "metadata": {
        "id": "iOLRlRiziSK8"
      },
      "execution_count": 66,
      "outputs": []
    },
    {
      "cell_type": "code",
      "source": [
        "#Pemanggilan fungsi\n",
        "if __name__ == '__main__':\n",
        "    result = tuned_train_and_evaluate_with_learning_curve(X_train_mmap, y_trainr, X_test_mmap, y_test_mmap, brtsampel)"
      ],
      "metadata": {
        "id": "CUVPBdfBlgeE"
      },
      "execution_count": null,
      "outputs": []
    },
    {
      "cell_type": "markdown",
      "source": [
        "## **e. Analisis Hasil Evaluasi Model Klasifikasi**"
      ],
      "metadata": {
        "id": "ZRsOdm4uEgAW"
      }
    },
    {
      "cell_type": "markdown",
      "source": [
        "Berikut adalah **rekomendasi** tahapannya.\n",
        "1. Bandingkan hasil evaluasi sebelum dan setelah tuning (jika dilakukan).\n",
        "2. Identifikasi kelemahan model, seperti:\n",
        "  - Precision atau Recall rendah untuk kelas tertentu.\n",
        "  - Apakah model mengalami overfitting atau underfitting?\n",
        "3. Berikan rekomendasi tindakan lanjutan, seperti mengumpulkan data tambahan atau mencoba algoritma lain jika hasil belum memuaskan."
      ],
      "metadata": {
        "id": "Hm3BhSi6N4_l"
      }
    },
    {
      "cell_type": "code",
      "source": [
        "#Pembuatan hasil K-nearest Neighborhood [Normal]\n",
        "nilaik = [1, 3, 5, 6,7,9, 10]\n",
        "#Ukuran Grafik\n",
        "plt.figure(figsize=(14, 12))\n",
        "# Iterasi nilai k\n",
        "for i, k in enumerate(nilaik):\n",
        "    model = KNeighborsClassifier(n_neighbors=k)\n",
        "    model.fit(X_train, y_trainr)\n",
        "\n",
        "    # Create a mesh grid for plotting decision boundaries\n",
        "    x_min, x_max = X_train[:, 0].min() - 1, X_train[:, 0].max() + 1\n",
        "    y_min, y_max = X_train[:, 1].min() - 1, X_train[:, 1].max() + 1\n",
        "    xx, yy = np.meshgrid(np.arange(x_min, x_max, 0.01),\n",
        "                         np.arange(y_min, y_max, 0.01))\n",
        "\n",
        "    # Predict on the mesh grid\n",
        "    Z = model.predict(np.c_[xx.ravel(), yy.ravel()])\n",
        "    Z = Z.reshape(xx.shape)\n",
        "\n",
        "    # Plotting decision boundary and training points\n",
        "    plt.subplot(2, 3, i + 1)\n",
        "    plt.contourf(xx, yy, Z, alpha=0.3)\n",
        "    plt.scatter(X_train[:, 0], X_train[:, 1], c=y_trainrav, edgecolors='k', marker='o')\n",
        "    plt.title(f'Nilai KNN dengan fitur={k}')\n",
        "    plt.xlabel('Bagian 1')\n",
        "    plt.ylabel('Bagian 2')\n",
        "\n",
        "plt.tight_layout()\n",
        "plt.show()"
      ],
      "metadata": {
        "id": "JFjsm3gJgqsm"
      },
      "execution_count": null,
      "outputs": []
    },
    {
      "cell_type": "markdown",
      "source": [
        "###Aspek yang bisa dikembangkan untuk analisis Lanjutan\n",
        "1. Hasil fitting untuk metode K-nearest Neighborhood (KNN) memiliki nilai akurasi yang sama untuk kondisi normal dengan kondisi dengan modifikasi Randomized seaech. Di sisi lain, kejadian hampir seupa juga muncul di analisis dengan metode Randomforestclassifier (RFC).\n",
        "2. Dua metode tersebut (metode RFC dan KNN) memiliki nilai akurasi, presisi, aspek recall, dan skor F1 sempurna untuk satu kluster saja\n",
        "  - Proses eksekusi menunjukan penandaan yang **'sangat tajam'** di satu kluster. Percobaan pertama menunjukan ketajaman di suatu kluster saja, sementara percobaan 2 menunju ke kluster lain.\n",
        "  - Modifikasi dengan **'Randomizedsearch '** untuk dua metode memiliki peringatan tentang nilai 'nan' di inspeksi kurva pembelajaran\n",
        "  - Semua model memliki kecendrungan untuk **'overfitting'** di kondisi normal maupun kondisi dengan 'Randomizedsearch'.\n",
        "  - Bentuk kurva pemberlajaran\n",
        "3. Saran untuk melakukan modifikasi :\n",
        "  - Implementasikan kluster dengan banyak label di bagian pembentukan kluster dan klasifikasi untuk menghindari kasus ini\n",
        "  - Terapkan berat sampel dalam nilai pasti untuk menghindari peringatan 'kluster'\n"
      ],
      "metadata": {
        "id": "hIkCpkqxnzmg"
      }
    }
  ]
}