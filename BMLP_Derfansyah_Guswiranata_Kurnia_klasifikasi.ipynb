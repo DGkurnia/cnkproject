{
  "nbformat": 4,
  "nbformat_minor": 0,
  "metadata": {
    "colab": {
      "provenance": [],
      "include_colab_link": true
    },
    "kernelspec": {
      "name": "python3",
      "display_name": "Python 3"
    },
    "language_info": {
      "name": "python"
    }
  },
  "cells": [
    {
      "cell_type": "markdown",
      "metadata": {
        "id": "view-in-github",
        "colab_type": "text"
      },
      "source": [
        "<a href=\"https://colab.research.google.com/github/DGkurnia/cnkproject/blob/main/BMLP_Derfansyah_Guswiranata_Kurnia_klasifikasi.ipynb\" target=\"_parent\"><img src=\"https://colab.research.google.com/assets/colab-badge.svg\" alt=\"Open In Colab\"/></a>"
      ]
    },
    {
      "cell_type": "markdown",
      "source": [
        "# Perkenalan diri\n",
        "## Nama : Derfansyah Guswiranata Kurnia (wira)\n",
        "## id dicoding: dgkurnia\n",
        "## email dicoding : weerakurnia@gmail.com"
      ],
      "metadata": {
        "id": "d-BaNFk3T--_"
      }
    },
    {
      "cell_type": "markdown",
      "source": [
        "# **1. Import Library**"
      ],
      "metadata": {
        "id": "fKADPWcFKlj3"
      }
    },
    {
      "cell_type": "markdown",
      "source": [
        "Pada tahap ini, Anda perlu mengimpor beberapa pustaka (library) Python yang dibutuhkan untuk analisis data dan pembangunan model machine learning."
      ],
      "metadata": {
        "id": "LgA3ERnVn84N"
      }
    },
    {
      "cell_type": "code",
      "source": [
        "#inisiasi perpustakaan awal\n",
        "import numpy as np\n",
        "import pandas as pd\n",
        "import matplotlib.pyplot as plt\n",
        "import seaborn as sns"
      ],
      "metadata": {
        "id": "xQBmFyDrT9Ol"
      },
      "execution_count": 1,
      "outputs": []
    },
    {
      "cell_type": "code",
      "source": [
        "#impor data dr google drive\n",
        "from google.colab import drive\n",
        "drive.mount('/content/drive')"
      ],
      "metadata": {
        "colab": {
          "base_uri": "https://localhost:8080/"
        },
        "id": "qFhp5u77URw1",
        "outputId": "23a6ac39-d093-48ec-ff66-04bd82b3a4c1"
      },
      "execution_count": 2,
      "outputs": [
        {
          "output_type": "stream",
          "name": "stdout",
          "text": [
            "Mounted at /content/drive\n"
          ]
        }
      ]
    },
    {
      "cell_type": "code",
      "source": [
        "#Perpustakaan untuk sklearn\n",
        "from sklearn import metrics\n",
        "from sklearn import preprocessing\n",
        "from sklearn import model_selection\n",
        "from sklearn.model_selection import train_test_split, GridSearchCV, RandomizedSearchCV\n",
        "from sklearn.metrics import precision_score, recall_score, f1_score, confusion_matrix, ConfusionMatrixDisplay, classification_report\n",
        "from sklearn.metrics import accuracy_score, roc_auc_score, roc_curve, auc, precision_recall_curve\n",
        "from sklearn.preprocessing import MinMaxScaler, LabelEncoder, StandardScaler, RobustScaler"
      ],
      "metadata": {
        "id": "BlmvjLY9M4Yj"
      },
      "execution_count": 25,
      "outputs": []
    },
    {
      "cell_type": "code",
      "source": [
        "#impor akurasi\n",
        "from sklearn.metrics import accuracy_score"
      ],
      "metadata": {
        "id": "8RS4FLQbiEAy"
      },
      "execution_count": 4,
      "outputs": []
    },
    {
      "cell_type": "code",
      "source": [
        "#impor model\n",
        "from sklearn.feature_selection import SelectFromModel"
      ],
      "metadata": {
        "id": "qX0ux5U0bueE"
      },
      "execution_count": 5,
      "outputs": []
    },
    {
      "cell_type": "code",
      "source": [
        "#klasifikais hutan\n",
        "from sklearn.ensemble import RandomForestClassifier"
      ],
      "metadata": {
        "id": "XzCltmLhVSim"
      },
      "execution_count": 6,
      "outputs": []
    },
    {
      "cell_type": "markdown",
      "source": [
        "# **2. Memuat Dataset dari Hasil Clustering**"
      ],
      "metadata": {
        "id": "f3YIEnAFKrKL"
      }
    },
    {
      "cell_type": "markdown",
      "source": [
        "Memuat dataset hasil clustering dari file CSV ke dalam variabel DataFrame."
      ],
      "metadata": {
        "id": "Ey3ItwTen_7E"
      }
    },
    {
      "cell_type": "code",
      "source": [
        "#Inisiasi pengunduhan dataset dr google\n",
        "clabnb = pd.read_csv('/content/drive/MyDrive/csv-files/clusairbnb.csv')\n",
        "#persiapan salinan\n",
        "clabnbii = clabnb.copy()\n",
        "clabnbii.info()"
      ],
      "metadata": {
        "colab": {
          "base_uri": "https://localhost:8080/"
        },
        "id": "aPep3nuAVV3T",
        "outputId": "1b351b72-4557-4686-c1da-1466f31774d9",
        "collapsed": true
      },
      "execution_count": 7,
      "outputs": [
        {
          "output_type": "stream",
          "name": "stdout",
          "text": [
            "<class 'pandas.core.frame.DataFrame'>\n",
            "RangeIndex: 48895 entries, 0 to 48894\n",
            "Data columns (total 17 columns):\n",
            " #   Column                          Non-Null Count  Dtype  \n",
            "---  ------                          --------------  -----  \n",
            " 0   id                              48895 non-null  int64  \n",
            " 1   name                            48879 non-null  object \n",
            " 2   host_id                         48895 non-null  int64  \n",
            " 3   host_name                       48874 non-null  object \n",
            " 4   neighbourhood_group             48895 non-null  object \n",
            " 5   neighbourhood                   48895 non-null  object \n",
            " 6   latitude                        48895 non-null  float64\n",
            " 7   longitude                       48895 non-null  float64\n",
            " 8   room_type                       48895 non-null  object \n",
            " 9   price                           48895 non-null  int64  \n",
            " 10  minimum_nights                  48895 non-null  int64  \n",
            " 11  number_of_reviews               48895 non-null  int64  \n",
            " 12  last_review                     48895 non-null  object \n",
            " 13  reviews_per_month               48895 non-null  int64  \n",
            " 14  calculated_host_listings_count  48895 non-null  int64  \n",
            " 15  availability_365                48895 non-null  int64  \n",
            " 16  Cluster                         48895 non-null  object \n",
            "dtypes: float64(2), int64(8), object(7)\n",
            "memory usage: 6.3+ MB\n"
          ]
        }
      ]
    },
    {
      "cell_type": "code",
      "source": [
        "#Persiapan segmentasi (pengabaian identitas untuk kemudahan)\n",
        "clabnbii[['id','host_id']] = clabnbii[['id','host_id']].astype(str).copy()\n",
        "clabnbii.info()"
      ],
      "metadata": {
        "colab": {
          "base_uri": "https://localhost:8080/"
        },
        "id": "5NKBJkmBVdXB",
        "outputId": "92b11581-69aa-4e9a-fc3b-e4be690e4288",
        "collapsed": true
      },
      "execution_count": 8,
      "outputs": [
        {
          "output_type": "stream",
          "name": "stdout",
          "text": [
            "<class 'pandas.core.frame.DataFrame'>\n",
            "RangeIndex: 48895 entries, 0 to 48894\n",
            "Data columns (total 17 columns):\n",
            " #   Column                          Non-Null Count  Dtype  \n",
            "---  ------                          --------------  -----  \n",
            " 0   id                              48895 non-null  object \n",
            " 1   name                            48879 non-null  object \n",
            " 2   host_id                         48895 non-null  object \n",
            " 3   host_name                       48874 non-null  object \n",
            " 4   neighbourhood_group             48895 non-null  object \n",
            " 5   neighbourhood                   48895 non-null  object \n",
            " 6   latitude                        48895 non-null  float64\n",
            " 7   longitude                       48895 non-null  float64\n",
            " 8   room_type                       48895 non-null  object \n",
            " 9   price                           48895 non-null  int64  \n",
            " 10  minimum_nights                  48895 non-null  int64  \n",
            " 11  number_of_reviews               48895 non-null  int64  \n",
            " 12  last_review                     48895 non-null  object \n",
            " 13  reviews_per_month               48895 non-null  int64  \n",
            " 14  calculated_host_listings_count  48895 non-null  int64  \n",
            " 15  availability_365                48895 non-null  int64  \n",
            " 16  Cluster                         48895 non-null  object \n",
            "dtypes: float64(2), int64(6), object(9)\n",
            "memory usage: 6.3+ MB\n"
          ]
        }
      ]
    },
    {
      "cell_type": "code",
      "source": [
        "#persiapan pengujian kluster\n",
        "clsinvst = clabnbii.iloc[:, 9:].copy() #cek dari harga\n",
        "clsinvst = clsinvst.drop('last_review', axis=1).copy() #kolom tanggal tak usah\n",
        "clsinvst.info()"
      ],
      "metadata": {
        "colab": {
          "base_uri": "https://localhost:8080/"
        },
        "id": "RJRQaG3wWFri",
        "outputId": "6aa3392c-13cd-4453-a553-1d9a52b2e38d"
      },
      "execution_count": 9,
      "outputs": [
        {
          "output_type": "stream",
          "name": "stdout",
          "text": [
            "<class 'pandas.core.frame.DataFrame'>\n",
            "RangeIndex: 48895 entries, 0 to 48894\n",
            "Data columns (total 7 columns):\n",
            " #   Column                          Non-Null Count  Dtype \n",
            "---  ------                          --------------  ----- \n",
            " 0   price                           48895 non-null  int64 \n",
            " 1   minimum_nights                  48895 non-null  int64 \n",
            " 2   number_of_reviews               48895 non-null  int64 \n",
            " 3   reviews_per_month               48895 non-null  int64 \n",
            " 4   calculated_host_listings_count  48895 non-null  int64 \n",
            " 5   availability_365                48895 non-null  int64 \n",
            " 6   Cluster                         48895 non-null  object\n",
            "dtypes: int64(6), object(1)\n",
            "memory usage: 2.6+ MB\n"
          ]
        }
      ]
    },
    {
      "cell_type": "code",
      "source": [
        "#Identifikasi kluster dahulu melalui deklarasi kluster\n",
        "kelcl = clsinvst['Cluster'].unique().copy()\n",
        "kelcl\n",
        "#ke pemecahan"
      ],
      "metadata": {
        "id": "GHCGNTyrM5fS",
        "colab": {
          "base_uri": "https://localhost:8080/"
        },
        "outputId": "a4799f28-200f-4e33-aeff-e39a553669b9"
      },
      "execution_count": 10,
      "outputs": [
        {
          "output_type": "execute_result",
          "data": {
            "text/plain": [
              "array(['unit asing', 'unit kurang populer', 'opsi pelancong irit',\n",
              "       'sesi unit favorit di musim tertentu',\n",
              "       'bisa untuk portofolio pemilik', 'unit sangat direkomendasikan',\n",
              "       'ada perencanaan dulu'], dtype=object)"
            ]
          },
          "metadata": {},
          "execution_count": 10
        }
      ]
    },
    {
      "cell_type": "code",
      "source": [
        "#pemecahan\n",
        "[kelcli, kelclii, kelcliii, kelcliv, kelclv, kelclvi, kelclvii] = kelcl #pemecahan menjadi satu komponen\n",
        "print(kelcli) #cek satu komponen"
      ],
      "metadata": {
        "colab": {
          "base_uri": "https://localhost:8080/"
        },
        "id": "m0r6ZMxNYhbY",
        "outputId": "38530328-15d3-4d40-dc4a-0d9617f0825e"
      },
      "execution_count": 11,
      "outputs": [
        {
          "output_type": "stream",
          "name": "stdout",
          "text": [
            "unit asing\n"
          ]
        }
      ]
    },
    {
      "cell_type": "markdown",
      "source": [
        "# **3. Data Splitting**"
      ],
      "metadata": {
        "id": "KkPem5eWL2UP"
      }
    },
    {
      "cell_type": "markdown",
      "source": [
        "Tahap Data Splitting bertujuan untuk memisahkan dataset menjadi dua bagian: data latih (training set) dan data uji (test set)."
      ],
      "metadata": {
        "id": "YYj1rl_JNI9Y"
      }
    },
    {
      "cell_type": "code",
      "source": [
        "#Inisiasi pemisahan\n",
        "ycl = clsinvst['Cluster'].copy()\n",
        "ycl.info()"
      ],
      "metadata": {
        "colab": {
          "base_uri": "https://localhost:8080/"
        },
        "id": "SSkRFXm0Yovo",
        "outputId": "592875cb-bfd1-4a7c-f97c-06f9871a5850"
      },
      "execution_count": 12,
      "outputs": [
        {
          "output_type": "stream",
          "name": "stdout",
          "text": [
            "<class 'pandas.core.series.Series'>\n",
            "RangeIndex: 48895 entries, 0 to 48894\n",
            "Series name: Cluster\n",
            "Non-Null Count  Dtype \n",
            "--------------  ----- \n",
            "48895 non-null  object\n",
            "dtypes: object(1)\n",
            "memory usage: 382.1+ KB\n"
          ]
        }
      ]
    },
    {
      "cell_type": "code",
      "source": [
        "#sumbu x (X)\n",
        "Xcl = Xcl = clsinvst.drop('Cluster', axis=1).copy() #di luar kluster\n",
        "Xcl.info()"
      ],
      "metadata": {
        "colab": {
          "base_uri": "https://localhost:8080/"
        },
        "id": "eb2MZOt4ZFpk",
        "outputId": "8735a1c1-cb34-44e3-a16e-2408a305fd07"
      },
      "execution_count": 14,
      "outputs": [
        {
          "output_type": "stream",
          "name": "stdout",
          "text": [
            "<class 'pandas.core.frame.DataFrame'>\n",
            "RangeIndex: 48895 entries, 0 to 48894\n",
            "Data columns (total 6 columns):\n",
            " #   Column                          Non-Null Count  Dtype\n",
            "---  ------                          --------------  -----\n",
            " 0   price                           48895 non-null  int64\n",
            " 1   minimum_nights                  48895 non-null  int64\n",
            " 2   number_of_reviews               48895 non-null  int64\n",
            " 3   reviews_per_month               48895 non-null  int64\n",
            " 4   calculated_host_listings_count  48895 non-null  int64\n",
            " 5   availability_365                48895 non-null  int64\n",
            "dtypes: int64(6)\n",
            "memory usage: 2.2 MB\n"
          ]
        }
      ]
    },
    {
      "cell_type": "markdown",
      "source": [
        "Nilai x (pembanding) adalah parameter lain"
      ],
      "metadata": {
        "id": "wKM3oLlVi-tO"
      }
    },
    {
      "cell_type": "code",
      "source": [
        "#Numerisasi kluster dengan 'tiruan'\n",
        "yclnum = pd.get_dummies(ycl).reset_index(drop=True).copy()\n",
        "yclnum.info()"
      ],
      "metadata": {
        "colab": {
          "base_uri": "https://localhost:8080/"
        },
        "id": "u6LmmecZZkBL",
        "outputId": "38e805a7-9705-4404-f92a-352dabc0672d"
      },
      "execution_count": 13,
      "outputs": [
        {
          "output_type": "stream",
          "name": "stdout",
          "text": [
            "<class 'pandas.core.frame.DataFrame'>\n",
            "RangeIndex: 48895 entries, 0 to 48894\n",
            "Data columns (total 7 columns):\n",
            " #   Column                               Non-Null Count  Dtype\n",
            "---  ------                               --------------  -----\n",
            " 0   ada perencanaan dulu                 48895 non-null  bool \n",
            " 1   bisa untuk portofolio pemilik        48895 non-null  bool \n",
            " 2   opsi pelancong irit                  48895 non-null  bool \n",
            " 3   sesi unit favorit di musim tertentu  48895 non-null  bool \n",
            " 4   unit asing                           48895 non-null  bool \n",
            " 5   unit kurang populer                  48895 non-null  bool \n",
            " 6   unit sangat direkomendasikan         48895 non-null  bool \n",
            "dtypes: bool(7)\n",
            "memory usage: 334.4 KB\n"
          ]
        }
      ]
    },
    {
      "cell_type": "markdown",
      "source": [
        "Nilai yang dibandingkan adalah numerisasi kluster"
      ],
      "metadata": {
        "id": "5G83oOEli6rw"
      }
    },
    {
      "cell_type": "markdown",
      "source": [
        "### Rincian unit yang diperiksa\n",
        "- Unit y adalah numerisasi kluster\n",
        "- Unit X adalah unit lain"
      ],
      "metadata": {
        "id": "R1WQ5WCdJX1B"
      }
    },
    {
      "cell_type": "code",
      "source": [
        "#Pemisahan pelatihan dan tes\n",
        "Xcltrain, Xcltest, ycltrain, ycltest = train_test_split(Xcl, yclnum, test_size=0.25, random_state=40)"
      ],
      "metadata": {
        "id": "X0GQDbfVZ-dS"
      },
      "execution_count": 15,
      "outputs": []
    },
    {
      "cell_type": "code",
      "source": [
        "#Cek komponen\n",
        "print(Xcltrain.shape)\n",
        "print(Xcltest.shape)\n",
        "print(ycltrain.shape)\n",
        "print(ycltest.shape)"
      ],
      "metadata": {
        "id": "OubAW-7ONKVj",
        "colab": {
          "base_uri": "https://localhost:8080/"
        },
        "outputId": "f21f5f16-82bf-4ae8-c28a-90170b6ef987"
      },
      "execution_count": 16,
      "outputs": [
        {
          "output_type": "stream",
          "name": "stdout",
          "text": [
            "(36671, 6)\n",
            "(12224, 6)\n",
            "(36671, 7)\n",
            "(12224, 7)\n"
          ]
        }
      ]
    },
    {
      "cell_type": "markdown",
      "source": [
        "Aspek yang diperiksa\n",
        "* i. Xcltrain = klasifikasi sumbu 'X' untuk latihan\n",
        "* ii. Xcltest = klasifikasi sumbu 'X' untuk pengujian   \n",
        "* iii. ycltrain = klasifikasi sumbu 'y' untuk latihan\n",
        "* iv. ycltest = klasifikasi sumbu 'y' untuk pengujian"
      ],
      "metadata": {
        "id": "ESr69xjFhOCo"
      }
    },
    {
      "cell_type": "markdown",
      "source": [
        "# **4. Membangun Model Klasifikasi**\n"
      ],
      "metadata": {
        "id": "IVPbB03CMhTT"
      }
    },
    {
      "cell_type": "markdown",
      "source": [
        "## **a. Membangun Model Klasifikasi**"
      ],
      "metadata": {
        "id": "Ned1pL9zMmBK"
      }
    },
    {
      "cell_type": "markdown",
      "source": [
        "Setelah memilih algoritma klasifikasi yang sesuai, langkah selanjutnya adalah melatih model menggunakan data latih.\n",
        "\n",
        "Berikut adalah rekomendasi tahapannya.\n",
        "1. Pilih algoritma klasifikasi yang sesuai, seperti Logistic Regression, Decision Tree, Random Forest, atau K-Nearest Neighbors (KNN).\n",
        "2. Latih model menggunakan data latih."
      ],
      "metadata": {
        "id": "WAWzPOE4Nkti"
      }
    },
    {
      "cell_type": "code",
      "source": [
        "#Inisiasi rcf (seleksi fitur demi efisiensi ram)\n",
        "pilihan = SelectFromModel(RandomForestClassifier(n_estimators=10, random_state=40))\n",
        "pilihan.fit(Xcltrain, ycltrain) #pelatihan untuk Xcl dan ycl (klasifikasi X dan y)\n",
        "#seleksi pelatihan\n",
        "Xtrpil = pilihan.transform(Xcltrain) #sumbu X latihan\n",
        "Xtspil = pilihan.transform(Xcltest) # Sumbu X bagian uji"
      ],
      "metadata": {
        "id": "JyphVUn7aW3r"
      },
      "execution_count": 17,
      "outputs": []
    },
    {
      "cell_type": "markdown",
      "source": [
        "Tahap pertama adalah penyetelan nilai RCF dengan pilihan model demi efisiensi RAM"
      ],
      "metadata": {
        "id": "7Q8Ks7DxmSkN"
      }
    },
    {
      "cell_type": "code",
      "source": [
        "#cek bentuk pilihan\n",
        "print(Xtrpil.shape)\n",
        "print(Xtspil.shape)"
      ],
      "metadata": {
        "colab": {
          "base_uri": "https://localhost:8080/"
        },
        "id": "cjijgn3jcg-V",
        "outputId": "b59ecb00-422a-400a-96e7-44f817fcdb36"
      },
      "execution_count": 18,
      "outputs": [
        {
          "output_type": "stream",
          "name": "stdout",
          "text": [
            "(36671, 3)\n",
            "(12224, 3)\n"
          ]
        }
      ]
    },
    {
      "cell_type": "code",
      "source": [
        "#Inspeksi nilai ccp alpa yang sesuai (inspeksi kisaran nilai)\n",
        "nialpf = np.arange(0.0015, 0.15, 7.5e-4) #pemeriksaan nilai\n",
        "habaik = [] #cek hasil\n",
        "itmaks = 150 #iterasi tertinggi\n",
        "tolerance = 0.0175 #toleransi\n",
        "#iterasi untuk pemeriksaan"
      ],
      "metadata": {
        "id": "xmFqyY4BfJMt"
      },
      "execution_count": 50,
      "outputs": []
    },
    {
      "cell_type": "code",
      "source": [
        "# Variables to track the best results\n",
        "best_alpha = None\n",
        "best_accuracy = -np.inf  # Awal rendah untuk akurasi\n",
        "best_f1 = -np.inf  # Awal rendah untuk nilai f1\n",
        "\n",
        "# Iteration for checking alpha values\n",
        "for iteration in range(itmaks):\n",
        "    for alpha in nialpf:\n",
        "        rclasf = RandomForestClassifier(ccp_alpha=alpha, random_state=40)\n",
        "        rclasf.fit(Xcltrain, ycltrain)\n",
        "\n",
        "        # Fasa prediksi\n",
        "        y_pred = rclasf.predict(Xcltest)\n",
        "\n",
        "        # Pengubahan nilai argumen\n",
        "        ycltest_single = np.argmax(ycltest.values, axis=1)\n",
        "        y_pred_single = np.argmax(y_pred, axis=1)\n",
        "\n",
        "        # NIlai kalkulasi\n",
        "        accuracy = accuracy_score(ycltest_single, y_pred_single)\n",
        "        f1 = f1_score(ycltest_single, y_pred_single, average='weighted')\n",
        "        precision = precision_score(ycltest_single, y_pred_single, average='weighted')\n",
        "        recall = recall_score(ycltest_single, y_pred_single, average='weighted')\n",
        "        conf_matrix = confusion_matrix(ycltest_single, y_pred_single)\n",
        "\n",
        "        print(f'skor ccp_alpha: {alpha:.3f}, Akurasi: {accuracy:.2f}, '\n",
        "              f'Nilai F1: {f1:.2f}, Precision: {precision:.2f}, Recall: {recall:.2f}')\n",
        "        print(f'Confusion Matrix:\\n{conf_matrix}\\n')\n",
        "\n",
        "        # Pembaruan\n",
        "        if accuracy > best_accuracy or (accuracy == best_accuracy and f1 > best_f1):\n",
        "            best_alpha = alpha\n",
        "            best_accuracy = accuracy\n",
        "            best_f1 = f1\n",
        "\n",
        "    print(f'Nilai ccp terbaik setelah iterasi {iteration + 1}: {best_alpha}, '\n",
        "          f'Akurasi: {best_accuracy:.2f}, Nilai F1: {best_f1:.2f}')\n",
        "\n",
        "    # Penyetelan dinamis\n",
        "    nialpf = np.linspace(max(0.001, best_alpha - 0.005), min(0.1, best_alpha + 0.005), num=10)\n",
        "\n",
        "    # Periksa toleransi\n",
        "    if iteration > 0 and abs(best_accuracy - previous_best_accuracy) < tolerance:\n",
        "        print(\"No significant improvement. Stopping the search.\")\n",
        "        break\n",
        "\n",
        "    previous_best_accuracy = best_accuracy\n",
        "\n",
        "# Deklarasi fasa akhir\n",
        "print(f'Nilai terbaik untuk ccp_alpha: {best_alpha}, '\n",
        "      f'Akurasi: {best_accuracy:.2f}, Nilai F1: {best_f1:.2f}')"
      ],
      "metadata": {
        "colab": {
          "base_uri": "https://localhost:8080/"
        },
        "id": "oJnE-jgLg9TW",
        "outputId": "78568785-e3fa-4c3c-c777-2118b836c900"
      },
      "execution_count": 51,
      "outputs": [
        {
          "output_type": "stream",
          "name": "stderr",
          "text": [
            "/usr/local/lib/python3.10/dist-packages/sklearn/metrics/_classification.py:1531: UndefinedMetricWarning: Precision is ill-defined and being set to 0.0 in labels with no predicted samples. Use `zero_division` parameter to control this behavior.\n",
            "  _warn_prf(average, modifier, f\"{metric.capitalize()} is\", len(result))\n"
          ]
        },
        {
          "output_type": "stream",
          "name": "stdout",
          "text": [
            "skor ccp_alpha: 0.002, Akurasi: 0.96, Nilai F1: 0.95, Precision: 0.94, Recall: 0.96\n",
            "Confusion Matrix:\n",
            "[[9677    0    0    0  122    0    0]\n",
            " [  62    0    0    0    0    0    0]\n",
            " [ 131    0   27    0    0    0    0]\n",
            " [   8    0    0  266    0    0    0]\n",
            " [ 108    0    0    0 1727    0    0]\n",
            " [  70    0    0    0    0    0    0]\n",
            " [  22    0    0    1    3    0    0]]\n",
            "\n"
          ]
        },
        {
          "output_type": "stream",
          "name": "stderr",
          "text": [
            "/usr/local/lib/python3.10/dist-packages/sklearn/metrics/_classification.py:1531: UndefinedMetricWarning: Precision is ill-defined and being set to 0.0 in labels with no predicted samples. Use `zero_division` parameter to control this behavior.\n",
            "  _warn_prf(average, modifier, f\"{metric.capitalize()} is\", len(result))\n"
          ]
        },
        {
          "output_type": "stream",
          "name": "stdout",
          "text": [
            "skor ccp_alpha: 0.002, Akurasi: 0.95, Nilai F1: 0.94, Precision: 0.93, Recall: 0.95\n",
            "Confusion Matrix:\n",
            "[[9676    0    0    0  123    0    0]\n",
            " [  62    0    0    0    0    0    0]\n",
            " [ 158    0    0    0    0    0    0]\n",
            " [  21    0    0  253    0    0    0]\n",
            " [ 132    0    0    0 1703    0    0]\n",
            " [  70    0    0    0    0    0    0]\n",
            " [  22    0    0    1    3    0    0]]\n",
            "\n"
          ]
        },
        {
          "output_type": "stream",
          "name": "stderr",
          "text": [
            "/usr/local/lib/python3.10/dist-packages/sklearn/metrics/_classification.py:1531: UndefinedMetricWarning: Precision is ill-defined and being set to 0.0 in labels with no predicted samples. Use `zero_division` parameter to control this behavior.\n",
            "  _warn_prf(average, modifier, f\"{metric.capitalize()} is\", len(result))\n"
          ]
        },
        {
          "output_type": "stream",
          "name": "stdout",
          "text": [
            "skor ccp_alpha: 0.003, Akurasi: 0.95, Nilai F1: 0.93, Precision: 0.92, Recall: 0.95\n",
            "Confusion Matrix:\n",
            "[[9676    0    0    0  123    0    0]\n",
            " [  62    0    0    0    0    0    0]\n",
            " [ 158    0    0    0    0    0    0]\n",
            " [  79    0    0  195    0    0    0]\n",
            " [ 140    0    0    0 1695    0    0]\n",
            " [  70    0    0    0    0    0    0]\n",
            " [  23    0    0    0    3    0    0]]\n",
            "\n"
          ]
        },
        {
          "output_type": "stream",
          "name": "stderr",
          "text": [
            "/usr/local/lib/python3.10/dist-packages/sklearn/metrics/_classification.py:1531: UndefinedMetricWarning: Precision is ill-defined and being set to 0.0 in labels with no predicted samples. Use `zero_division` parameter to control this behavior.\n",
            "  _warn_prf(average, modifier, f\"{metric.capitalize()} is\", len(result))\n"
          ]
        },
        {
          "output_type": "stream",
          "name": "stdout",
          "text": [
            "skor ccp_alpha: 0.004, Akurasi: 0.93, Nilai F1: 0.91, Precision: 0.88, Recall: 0.93\n",
            "Confusion Matrix:\n",
            "[[9670    0    0    0  129    0    0]\n",
            " [  62    0    0    0    0    0    0]\n",
            " [ 158    0    0    0    0    0    0]\n",
            " [ 274    0    0    0    0    0    0]\n",
            " [ 142    0    0    0 1693    0    0]\n",
            " [  70    0    0    0    0    0    0]\n",
            " [  23    0    0    0    3    0    0]]\n",
            "\n"
          ]
        },
        {
          "output_type": "stream",
          "name": "stderr",
          "text": [
            "/usr/local/lib/python3.10/dist-packages/sklearn/metrics/_classification.py:1531: UndefinedMetricWarning: Precision is ill-defined and being set to 0.0 in labels with no predicted samples. Use `zero_division` parameter to control this behavior.\n",
            "  _warn_prf(average, modifier, f\"{metric.capitalize()} is\", len(result))\n"
          ]
        },
        {
          "output_type": "stream",
          "name": "stdout",
          "text": [
            "skor ccp_alpha: 0.005, Akurasi: 0.93, Nilai F1: 0.91, Precision: 0.88, Recall: 0.93\n",
            "Confusion Matrix:\n",
            "[[9677    0    0    0  122    0    0]\n",
            " [  62    0    0    0    0    0    0]\n",
            " [ 158    0    0    0    0    0    0]\n",
            " [ 274    0    0    0    0    0    0]\n",
            " [ 162    0    0    0 1673    0    0]\n",
            " [  70    0    0    0    0    0    0]\n",
            " [  23    0    0    0    3    0    0]]\n",
            "\n"
          ]
        },
        {
          "output_type": "stream",
          "name": "stderr",
          "text": [
            "/usr/local/lib/python3.10/dist-packages/sklearn/metrics/_classification.py:1531: UndefinedMetricWarning: Precision is ill-defined and being set to 0.0 in labels with no predicted samples. Use `zero_division` parameter to control this behavior.\n",
            "  _warn_prf(average, modifier, f\"{metric.capitalize()} is\", len(result))\n"
          ]
        },
        {
          "output_type": "stream",
          "name": "stdout",
          "text": [
            "skor ccp_alpha: 0.005, Akurasi: 0.92, Nilai F1: 0.89, Precision: 0.87, Recall: 0.92\n",
            "Confusion Matrix:\n",
            "[[9742    0    0    0   57    0    0]\n",
            " [  62    0    0    0    0    0    0]\n",
            " [ 158    0    0    0    0    0    0]\n",
            " [ 274    0    0    0    0    0    0]\n",
            " [ 380    0    0    0 1455    0    0]\n",
            " [  70    0    0    0    0    0    0]\n",
            " [  23    0    0    0    3    0    0]]\n",
            "\n"
          ]
        },
        {
          "output_type": "stream",
          "name": "stderr",
          "text": [
            "/usr/local/lib/python3.10/dist-packages/sklearn/metrics/_classification.py:1531: UndefinedMetricWarning: Precision is ill-defined and being set to 0.0 in labels with no predicted samples. Use `zero_division` parameter to control this behavior.\n",
            "  _warn_prf(average, modifier, f\"{metric.capitalize()} is\", len(result))\n"
          ]
        },
        {
          "output_type": "stream",
          "name": "stdout",
          "text": [
            "skor ccp_alpha: 0.006, Akurasi: 0.92, Nilai F1: 0.89, Precision: 0.87, Recall: 0.92\n",
            "Confusion Matrix:\n",
            "[[9745    0    0    0   54    0    0]\n",
            " [  62    0    0    0    0    0    0]\n",
            " [ 158    0    0    0    0    0    0]\n",
            " [ 274    0    0    0    0    0    0]\n",
            " [ 394    0    0    0 1441    0    0]\n",
            " [  70    0    0    0    0    0    0]\n",
            " [  23    0    0    0    3    0    0]]\n",
            "\n"
          ]
        },
        {
          "output_type": "stream",
          "name": "stderr",
          "text": [
            "/usr/local/lib/python3.10/dist-packages/sklearn/metrics/_classification.py:1531: UndefinedMetricWarning: Precision is ill-defined and being set to 0.0 in labels with no predicted samples. Use `zero_division` parameter to control this behavior.\n",
            "  _warn_prf(average, modifier, f\"{metric.capitalize()} is\", len(result))\n"
          ]
        },
        {
          "output_type": "stream",
          "name": "stdout",
          "text": [
            "skor ccp_alpha: 0.007, Akurasi: 0.91, Nilai F1: 0.89, Precision: 0.87, Recall: 0.91\n",
            "Confusion Matrix:\n",
            "[[9749    0    0    0   50    0    0]\n",
            " [  62    0    0    0    0    0    0]\n",
            " [ 158    0    0    0    0    0    0]\n",
            " [ 274    0    0    0    0    0    0]\n",
            " [ 405    0    0    0 1430    0    0]\n",
            " [  70    0    0    0    0    0    0]\n",
            " [  23    0    0    0    3    0    0]]\n",
            "\n"
          ]
        },
        {
          "output_type": "stream",
          "name": "stderr",
          "text": [
            "/usr/local/lib/python3.10/dist-packages/sklearn/metrics/_classification.py:1531: UndefinedMetricWarning: Precision is ill-defined and being set to 0.0 in labels with no predicted samples. Use `zero_division` parameter to control this behavior.\n",
            "  _warn_prf(average, modifier, f\"{metric.capitalize()} is\", len(result))\n"
          ]
        },
        {
          "output_type": "stream",
          "name": "stdout",
          "text": [
            "skor ccp_alpha: 0.008, Akurasi: 0.91, Nilai F1: 0.89, Precision: 0.87, Recall: 0.91\n",
            "Confusion Matrix:\n",
            "[[9746    0    0    0   53    0    0]\n",
            " [  62    0    0    0    0    0    0]\n",
            " [ 158    0    0    0    0    0    0]\n",
            " [ 274    0    0    0    0    0    0]\n",
            " [ 426    0    0    0 1409    0    0]\n",
            " [  70    0    0    0    0    0    0]\n",
            " [  23    0    0    0    3    0    0]]\n",
            "\n"
          ]
        },
        {
          "output_type": "stream",
          "name": "stderr",
          "text": [
            "/usr/local/lib/python3.10/dist-packages/sklearn/metrics/_classification.py:1531: UndefinedMetricWarning: Precision is ill-defined and being set to 0.0 in labels with no predicted samples. Use `zero_division` parameter to control this behavior.\n",
            "  _warn_prf(average, modifier, f\"{metric.capitalize()} is\", len(result))\n"
          ]
        },
        {
          "output_type": "stream",
          "name": "stdout",
          "text": [
            "skor ccp_alpha: 0.008, Akurasi: 0.91, Nilai F1: 0.89, Precision: 0.87, Recall: 0.91\n",
            "Confusion Matrix:\n",
            "[[9747    0    0    0   52    0    0]\n",
            " [  62    0    0    0    0    0    0]\n",
            " [ 158    0    0    0    0    0    0]\n",
            " [ 274    0    0    0    0    0    0]\n",
            " [ 438    0    0    0 1397    0    0]\n",
            " [  70    0    0    0    0    0    0]\n",
            " [  23    0    0    0    3    0    0]]\n",
            "\n"
          ]
        },
        {
          "output_type": "stream",
          "name": "stderr",
          "text": [
            "/usr/local/lib/python3.10/dist-packages/sklearn/metrics/_classification.py:1531: UndefinedMetricWarning: Precision is ill-defined and being set to 0.0 in labels with no predicted samples. Use `zero_division` parameter to control this behavior.\n",
            "  _warn_prf(average, modifier, f\"{metric.capitalize()} is\", len(result))\n"
          ]
        },
        {
          "output_type": "stream",
          "name": "stdout",
          "text": [
            "skor ccp_alpha: 0.009, Akurasi: 0.91, Nilai F1: 0.89, Precision: 0.87, Recall: 0.91\n",
            "Confusion Matrix:\n",
            "[[9754    0    0    0   45    0    0]\n",
            " [  62    0    0    0    0    0    0]\n",
            " [ 158    0    0    0    0    0    0]\n",
            " [ 274    0    0    0    0    0    0]\n",
            " [ 449    0    0    0 1386    0    0]\n",
            " [  70    0    0    0    0    0    0]\n",
            " [  24    0    0    0    2    0    0]]\n",
            "\n"
          ]
        },
        {
          "output_type": "stream",
          "name": "stderr",
          "text": [
            "/usr/local/lib/python3.10/dist-packages/sklearn/metrics/_classification.py:1531: UndefinedMetricWarning: Precision is ill-defined and being set to 0.0 in labels with no predicted samples. Use `zero_division` parameter to control this behavior.\n",
            "  _warn_prf(average, modifier, f\"{metric.capitalize()} is\", len(result))\n"
          ]
        },
        {
          "output_type": "stream",
          "name": "stdout",
          "text": [
            "skor ccp_alpha: 0.010, Akurasi: 0.91, Nilai F1: 0.88, Precision: 0.87, Recall: 0.91\n",
            "Confusion Matrix:\n",
            "[[9766    0    0    0   33    0    0]\n",
            " [  62    0    0    0    0    0    0]\n",
            " [ 158    0    0    0    0    0    0]\n",
            " [ 274    0    0    0    0    0    0]\n",
            " [ 513    0    0    0 1322    0    0]\n",
            " [  70    0    0    0    0    0    0]\n",
            " [  24    0    0    0    2    0    0]]\n",
            "\n"
          ]
        },
        {
          "output_type": "stream",
          "name": "stderr",
          "text": [
            "/usr/local/lib/python3.10/dist-packages/sklearn/metrics/_classification.py:1531: UndefinedMetricWarning: Precision is ill-defined and being set to 0.0 in labels with no predicted samples. Use `zero_division` parameter to control this behavior.\n",
            "  _warn_prf(average, modifier, f\"{metric.capitalize()} is\", len(result))\n"
          ]
        },
        {
          "output_type": "stream",
          "name": "stdout",
          "text": [
            "skor ccp_alpha: 0.011, Akurasi: 0.91, Nilai F1: 0.88, Precision: 0.87, Recall: 0.91\n",
            "Confusion Matrix:\n",
            "[[9787    0    0    0   12    0    0]\n",
            " [  62    0    0    0    0    0    0]\n",
            " [ 158    0    0    0    0    0    0]\n",
            " [ 274    0    0    0    0    0    0]\n",
            " [ 554    0    0    0 1281    0    0]\n",
            " [  70    0    0    0    0    0    0]\n",
            " [  24    0    0    0    2    0    0]]\n",
            "\n"
          ]
        },
        {
          "output_type": "stream",
          "name": "stderr",
          "text": [
            "/usr/local/lib/python3.10/dist-packages/sklearn/metrics/_classification.py:1531: UndefinedMetricWarning: Precision is ill-defined and being set to 0.0 in labels with no predicted samples. Use `zero_division` parameter to control this behavior.\n",
            "  _warn_prf(average, modifier, f\"{metric.capitalize()} is\", len(result))\n"
          ]
        },
        {
          "output_type": "stream",
          "name": "stdout",
          "text": [
            "skor ccp_alpha: 0.011, Akurasi: 0.91, Nilai F1: 0.88, Precision: 0.87, Recall: 0.91\n",
            "Confusion Matrix:\n",
            "[[9787    0    0    0   12    0    0]\n",
            " [  62    0    0    0    0    0    0]\n",
            " [ 158    0    0    0    0    0    0]\n",
            " [ 274    0    0    0    0    0    0]\n",
            " [ 554    0    0    0 1281    0    0]\n",
            " [  70    0    0    0    0    0    0]\n",
            " [  24    0    0    0    2    0    0]]\n",
            "\n"
          ]
        },
        {
          "output_type": "stream",
          "name": "stderr",
          "text": [
            "/usr/local/lib/python3.10/dist-packages/sklearn/metrics/_classification.py:1531: UndefinedMetricWarning: Precision is ill-defined and being set to 0.0 in labels with no predicted samples. Use `zero_division` parameter to control this behavior.\n",
            "  _warn_prf(average, modifier, f\"{metric.capitalize()} is\", len(result))\n"
          ]
        },
        {
          "output_type": "stream",
          "name": "stdout",
          "text": [
            "skor ccp_alpha: 0.012, Akurasi: 0.91, Nilai F1: 0.88, Precision: 0.87, Recall: 0.91\n",
            "Confusion Matrix:\n",
            "[[9787    0    0    0   12    0    0]\n",
            " [  62    0    0    0    0    0    0]\n",
            " [ 158    0    0    0    0    0    0]\n",
            " [ 274    0    0    0    0    0    0]\n",
            " [ 555    0    0    0 1280    0    0]\n",
            " [  70    0    0    0    0    0    0]\n",
            " [  24    0    0    0    2    0    0]]\n",
            "\n"
          ]
        },
        {
          "output_type": "stream",
          "name": "stderr",
          "text": [
            "/usr/local/lib/python3.10/dist-packages/sklearn/metrics/_classification.py:1531: UndefinedMetricWarning: Precision is ill-defined and being set to 0.0 in labels with no predicted samples. Use `zero_division` parameter to control this behavior.\n",
            "  _warn_prf(average, modifier, f\"{metric.capitalize()} is\", len(result))\n"
          ]
        },
        {
          "output_type": "stream",
          "name": "stdout",
          "text": [
            "skor ccp_alpha: 0.013, Akurasi: 0.89, Nilai F1: 0.87, Precision: 0.86, Recall: 0.89\n",
            "Confusion Matrix:\n",
            "[[9795    0    0    0    4    0    0]\n",
            " [  62    0    0    0    0    0    0]\n",
            " [ 158    0    0    0    0    0    0]\n",
            " [ 274    0    0    0    0    0    0]\n",
            " [ 707    0    0    0 1128    0    0]\n",
            " [  70    0    0    0    0    0    0]\n",
            " [  24    0    0    0    2    0    0]]\n",
            "\n"
          ]
        },
        {
          "output_type": "stream",
          "name": "stderr",
          "text": [
            "/usr/local/lib/python3.10/dist-packages/sklearn/metrics/_classification.py:1531: UndefinedMetricWarning: Precision is ill-defined and being set to 0.0 in labels with no predicted samples. Use `zero_division` parameter to control this behavior.\n",
            "  _warn_prf(average, modifier, f\"{metric.capitalize()} is\", len(result))\n"
          ]
        },
        {
          "output_type": "stream",
          "name": "stdout",
          "text": [
            "skor ccp_alpha: 0.014, Akurasi: 0.89, Nilai F1: 0.87, Precision: 0.86, Recall: 0.89\n",
            "Confusion Matrix:\n",
            "[[9795    0    0    0    4    0    0]\n",
            " [  62    0    0    0    0    0    0]\n",
            " [ 158    0    0    0    0    0    0]\n",
            " [ 274    0    0    0    0    0    0]\n",
            " [ 707    0    0    0 1128    0    0]\n",
            " [  70    0    0    0    0    0    0]\n",
            " [  24    0    0    0    2    0    0]]\n",
            "\n"
          ]
        },
        {
          "output_type": "stream",
          "name": "stderr",
          "text": [
            "/usr/local/lib/python3.10/dist-packages/sklearn/metrics/_classification.py:1531: UndefinedMetricWarning: Precision is ill-defined and being set to 0.0 in labels with no predicted samples. Use `zero_division` parameter to control this behavior.\n",
            "  _warn_prf(average, modifier, f\"{metric.capitalize()} is\", len(result))\n"
          ]
        },
        {
          "output_type": "stream",
          "name": "stdout",
          "text": [
            "skor ccp_alpha: 0.014, Akurasi: 0.89, Nilai F1: 0.87, Precision: 0.86, Recall: 0.89\n",
            "Confusion Matrix:\n",
            "[[9795    0    0    0    4    0    0]\n",
            " [  62    0    0    0    0    0    0]\n",
            " [ 158    0    0    0    0    0    0]\n",
            " [ 274    0    0    0    0    0    0]\n",
            " [ 707    0    0    0 1128    0    0]\n",
            " [  70    0    0    0    0    0    0]\n",
            " [  24    0    0    0    2    0    0]]\n",
            "\n"
          ]
        },
        {
          "output_type": "stream",
          "name": "stderr",
          "text": [
            "/usr/local/lib/python3.10/dist-packages/sklearn/metrics/_classification.py:1531: UndefinedMetricWarning: Precision is ill-defined and being set to 0.0 in labels with no predicted samples. Use `zero_division` parameter to control this behavior.\n",
            "  _warn_prf(average, modifier, f\"{metric.capitalize()} is\", len(result))\n"
          ]
        },
        {
          "output_type": "stream",
          "name": "stdout",
          "text": [
            "skor ccp_alpha: 0.015, Akurasi: 0.89, Nilai F1: 0.87, Precision: 0.86, Recall: 0.89\n",
            "Confusion Matrix:\n",
            "[[9795    0    0    0    4    0    0]\n",
            " [  62    0    0    0    0    0    0]\n",
            " [ 158    0    0    0    0    0    0]\n",
            " [ 274    0    0    0    0    0    0]\n",
            " [ 712    0    0    0 1123    0    0]\n",
            " [  70    0    0    0    0    0    0]\n",
            " [  24    0    0    0    2    0    0]]\n",
            "\n"
          ]
        },
        {
          "output_type": "stream",
          "name": "stderr",
          "text": [
            "/usr/local/lib/python3.10/dist-packages/sklearn/metrics/_classification.py:1531: UndefinedMetricWarning: Precision is ill-defined and being set to 0.0 in labels with no predicted samples. Use `zero_division` parameter to control this behavior.\n",
            "  _warn_prf(average, modifier, f\"{metric.capitalize()} is\", len(result))\n"
          ]
        },
        {
          "output_type": "stream",
          "name": "stdout",
          "text": [
            "skor ccp_alpha: 0.016, Akurasi: 0.89, Nilai F1: 0.87, Precision: 0.86, Recall: 0.89\n",
            "Confusion Matrix:\n",
            "[[9795    0    0    0    4    0    0]\n",
            " [  62    0    0    0    0    0    0]\n",
            " [ 158    0    0    0    0    0    0]\n",
            " [ 274    0    0    0    0    0    0]\n",
            " [ 712    0    0    0 1123    0    0]\n",
            " [  70    0    0    0    0    0    0]\n",
            " [  24    0    0    0    2    0    0]]\n",
            "\n"
          ]
        },
        {
          "output_type": "stream",
          "name": "stderr",
          "text": [
            "/usr/local/lib/python3.10/dist-packages/sklearn/metrics/_classification.py:1531: UndefinedMetricWarning: Precision is ill-defined and being set to 0.0 in labels with no predicted samples. Use `zero_division` parameter to control this behavior.\n",
            "  _warn_prf(average, modifier, f\"{metric.capitalize()} is\", len(result))\n"
          ]
        },
        {
          "output_type": "stream",
          "name": "stdout",
          "text": [
            "skor ccp_alpha: 0.017, Akurasi: 0.89, Nilai F1: 0.87, Precision: 0.86, Recall: 0.89\n",
            "Confusion Matrix:\n",
            "[[9795    0    0    0    4    0    0]\n",
            " [  62    0    0    0    0    0    0]\n",
            " [ 158    0    0    0    0    0    0]\n",
            " [ 274    0    0    0    0    0    0]\n",
            " [ 712    0    0    0 1123    0    0]\n",
            " [  70    0    0    0    0    0    0]\n",
            " [  24    0    0    0    2    0    0]]\n",
            "\n"
          ]
        },
        {
          "output_type": "stream",
          "name": "stderr",
          "text": [
            "/usr/local/lib/python3.10/dist-packages/sklearn/metrics/_classification.py:1531: UndefinedMetricWarning: Precision is ill-defined and being set to 0.0 in labels with no predicted samples. Use `zero_division` parameter to control this behavior.\n",
            "  _warn_prf(average, modifier, f\"{metric.capitalize()} is\", len(result))\n"
          ]
        },
        {
          "output_type": "stream",
          "name": "stdout",
          "text": [
            "skor ccp_alpha: 0.017, Akurasi: 0.89, Nilai F1: 0.87, Precision: 0.86, Recall: 0.89\n",
            "Confusion Matrix:\n",
            "[[9795    0    0    0    4    0    0]\n",
            " [  62    0    0    0    0    0    0]\n",
            " [ 158    0    0    0    0    0    0]\n",
            " [ 274    0    0    0    0    0    0]\n",
            " [ 712    0    0    0 1123    0    0]\n",
            " [  70    0    0    0    0    0    0]\n",
            " [  24    0    0    0    2    0    0]]\n",
            "\n"
          ]
        },
        {
          "output_type": "stream",
          "name": "stderr",
          "text": [
            "/usr/local/lib/python3.10/dist-packages/sklearn/metrics/_classification.py:1531: UndefinedMetricWarning: Precision is ill-defined and being set to 0.0 in labels with no predicted samples. Use `zero_division` parameter to control this behavior.\n",
            "  _warn_prf(average, modifier, f\"{metric.capitalize()} is\", len(result))\n"
          ]
        },
        {
          "output_type": "stream",
          "name": "stdout",
          "text": [
            "skor ccp_alpha: 0.018, Akurasi: 0.89, Nilai F1: 0.86, Precision: 0.86, Recall: 0.89\n",
            "Confusion Matrix:\n",
            "[[9795    0    0    0    4    0    0]\n",
            " [  62    0    0    0    0    0    0]\n",
            " [ 158    0    0    0    0    0    0]\n",
            " [ 274    0    0    0    0    0    0]\n",
            " [ 723    0    0    0 1112    0    0]\n",
            " [  70    0    0    0    0    0    0]\n",
            " [  24    0    0    0    2    0    0]]\n",
            "\n"
          ]
        },
        {
          "output_type": "stream",
          "name": "stderr",
          "text": [
            "/usr/local/lib/python3.10/dist-packages/sklearn/metrics/_classification.py:1531: UndefinedMetricWarning: Precision is ill-defined and being set to 0.0 in labels with no predicted samples. Use `zero_division` parameter to control this behavior.\n",
            "  _warn_prf(average, modifier, f\"{metric.capitalize()} is\", len(result))\n"
          ]
        },
        {
          "output_type": "stream",
          "name": "stdout",
          "text": [
            "skor ccp_alpha: 0.019, Akurasi: 0.89, Nilai F1: 0.86, Precision: 0.86, Recall: 0.89\n",
            "Confusion Matrix:\n",
            "[[9795    0    0    0    4    0    0]\n",
            " [  62    0    0    0    0    0    0]\n",
            " [ 158    0    0    0    0    0    0]\n",
            " [ 274    0    0    0    0    0    0]\n",
            " [ 724    0    0    0 1111    0    0]\n",
            " [  70    0    0    0    0    0    0]\n",
            " [  24    0    0    0    2    0    0]]\n",
            "\n"
          ]
        },
        {
          "output_type": "stream",
          "name": "stderr",
          "text": [
            "/usr/local/lib/python3.10/dist-packages/sklearn/metrics/_classification.py:1531: UndefinedMetricWarning: Precision is ill-defined and being set to 0.0 in labels with no predicted samples. Use `zero_division` parameter to control this behavior.\n",
            "  _warn_prf(average, modifier, f\"{metric.capitalize()} is\", len(result))\n"
          ]
        },
        {
          "output_type": "stream",
          "name": "stdout",
          "text": [
            "skor ccp_alpha: 0.020, Akurasi: 0.89, Nilai F1: 0.86, Precision: 0.86, Recall: 0.89\n",
            "Confusion Matrix:\n",
            "[[9795    0    0    0    4    0    0]\n",
            " [  62    0    0    0    0    0    0]\n",
            " [ 158    0    0    0    0    0    0]\n",
            " [ 274    0    0    0    0    0    0]\n",
            " [ 724    0    0    0 1111    0    0]\n",
            " [  70    0    0    0    0    0    0]\n",
            " [  24    0    0    0    2    0    0]]\n",
            "\n"
          ]
        },
        {
          "output_type": "stream",
          "name": "stderr",
          "text": [
            "/usr/local/lib/python3.10/dist-packages/sklearn/metrics/_classification.py:1531: UndefinedMetricWarning: Precision is ill-defined and being set to 0.0 in labels with no predicted samples. Use `zero_division` parameter to control this behavior.\n",
            "  _warn_prf(average, modifier, f\"{metric.capitalize()} is\", len(result))\n"
          ]
        },
        {
          "output_type": "stream",
          "name": "stdout",
          "text": [
            "skor ccp_alpha: 0.020, Akurasi: 0.89, Nilai F1: 0.86, Precision: 0.85, Recall: 0.89\n",
            "Confusion Matrix:\n",
            "[[9796    0    0    0    3    0    0]\n",
            " [  62    0    0    0    0    0    0]\n",
            " [ 158    0    0    0    0    0    0]\n",
            " [ 274    0    0    0    0    0    0]\n",
            " [ 746    0    0    0 1089    0    0]\n",
            " [  70    0    0    0    0    0    0]\n",
            " [  24    0    0    0    2    0    0]]\n",
            "\n"
          ]
        },
        {
          "output_type": "stream",
          "name": "stderr",
          "text": [
            "/usr/local/lib/python3.10/dist-packages/sklearn/metrics/_classification.py:1531: UndefinedMetricWarning: Precision is ill-defined and being set to 0.0 in labels with no predicted samples. Use `zero_division` parameter to control this behavior.\n",
            "  _warn_prf(average, modifier, f\"{metric.capitalize()} is\", len(result))\n"
          ]
        },
        {
          "output_type": "stream",
          "name": "stdout",
          "text": [
            "skor ccp_alpha: 0.021, Akurasi: 0.89, Nilai F1: 0.86, Precision: 0.85, Recall: 0.89\n",
            "Confusion Matrix:\n",
            "[[9796    0    0    0    3    0    0]\n",
            " [  62    0    0    0    0    0    0]\n",
            " [ 158    0    0    0    0    0    0]\n",
            " [ 274    0    0    0    0    0    0]\n",
            " [ 756    0    0    0 1079    0    0]\n",
            " [  70    0    0    0    0    0    0]\n",
            " [  24    0    0    0    2    0    0]]\n",
            "\n"
          ]
        },
        {
          "output_type": "stream",
          "name": "stderr",
          "text": [
            "/usr/local/lib/python3.10/dist-packages/sklearn/metrics/_classification.py:1531: UndefinedMetricWarning: Precision is ill-defined and being set to 0.0 in labels with no predicted samples. Use `zero_division` parameter to control this behavior.\n",
            "  _warn_prf(average, modifier, f\"{metric.capitalize()} is\", len(result))\n"
          ]
        },
        {
          "output_type": "stream",
          "name": "stdout",
          "text": [
            "skor ccp_alpha: 0.022, Akurasi: 0.89, Nilai F1: 0.86, Precision: 0.85, Recall: 0.89\n",
            "Confusion Matrix:\n",
            "[[9796    0    0    0    3    0    0]\n",
            " [  62    0    0    0    0    0    0]\n",
            " [ 158    0    0    0    0    0    0]\n",
            " [ 274    0    0    0    0    0    0]\n",
            " [ 756    0    0    0 1079    0    0]\n",
            " [  70    0    0    0    0    0    0]\n",
            " [  24    0    0    0    2    0    0]]\n",
            "\n"
          ]
        },
        {
          "output_type": "stream",
          "name": "stderr",
          "text": [
            "/usr/local/lib/python3.10/dist-packages/sklearn/metrics/_classification.py:1531: UndefinedMetricWarning: Precision is ill-defined and being set to 0.0 in labels with no predicted samples. Use `zero_division` parameter to control this behavior.\n",
            "  _warn_prf(average, modifier, f\"{metric.capitalize()} is\", len(result))\n"
          ]
        },
        {
          "output_type": "stream",
          "name": "stdout",
          "text": [
            "skor ccp_alpha: 0.023, Akurasi: 0.89, Nilai F1: 0.86, Precision: 0.85, Recall: 0.89\n",
            "Confusion Matrix:\n",
            "[[9796    0    0    0    3    0    0]\n",
            " [  62    0    0    0    0    0    0]\n",
            " [ 158    0    0    0    0    0    0]\n",
            " [ 274    0    0    0    0    0    0]\n",
            " [ 756    0    0    0 1079    0    0]\n",
            " [  70    0    0    0    0    0    0]\n",
            " [  24    0    0    0    2    0    0]]\n",
            "\n"
          ]
        },
        {
          "output_type": "stream",
          "name": "stderr",
          "text": [
            "/usr/local/lib/python3.10/dist-packages/sklearn/metrics/_classification.py:1531: UndefinedMetricWarning: Precision is ill-defined and being set to 0.0 in labels with no predicted samples. Use `zero_division` parameter to control this behavior.\n",
            "  _warn_prf(average, modifier, f\"{metric.capitalize()} is\", len(result))\n"
          ]
        },
        {
          "output_type": "stream",
          "name": "stdout",
          "text": [
            "skor ccp_alpha: 0.023, Akurasi: 0.89, Nilai F1: 0.86, Precision: 0.85, Recall: 0.89\n",
            "Confusion Matrix:\n",
            "[[9796    0    0    0    3    0    0]\n",
            " [  62    0    0    0    0    0    0]\n",
            " [ 158    0    0    0    0    0    0]\n",
            " [ 274    0    0    0    0    0    0]\n",
            " [ 756    0    0    0 1079    0    0]\n",
            " [  70    0    0    0    0    0    0]\n",
            " [  24    0    0    0    2    0    0]]\n",
            "\n"
          ]
        },
        {
          "output_type": "stream",
          "name": "stderr",
          "text": [
            "/usr/local/lib/python3.10/dist-packages/sklearn/metrics/_classification.py:1531: UndefinedMetricWarning: Precision is ill-defined and being set to 0.0 in labels with no predicted samples. Use `zero_division` parameter to control this behavior.\n",
            "  _warn_prf(average, modifier, f\"{metric.capitalize()} is\", len(result))\n"
          ]
        },
        {
          "output_type": "stream",
          "name": "stdout",
          "text": [
            "skor ccp_alpha: 0.024, Akurasi: 0.89, Nilai F1: 0.86, Precision: 0.85, Recall: 0.89\n",
            "Confusion Matrix:\n",
            "[[9796    0    0    0    3    0    0]\n",
            " [  62    0    0    0    0    0    0]\n",
            " [ 158    0    0    0    0    0    0]\n",
            " [ 274    0    0    0    0    0    0]\n",
            " [ 783    0    0    0 1052    0    0]\n",
            " [  70    0    0    0    0    0    0]\n",
            " [  24    0    0    0    2    0    0]]\n",
            "\n"
          ]
        },
        {
          "output_type": "stream",
          "name": "stderr",
          "text": [
            "/usr/local/lib/python3.10/dist-packages/sklearn/metrics/_classification.py:1531: UndefinedMetricWarning: Precision is ill-defined and being set to 0.0 in labels with no predicted samples. Use `zero_division` parameter to control this behavior.\n",
            "  _warn_prf(average, modifier, f\"{metric.capitalize()} is\", len(result))\n"
          ]
        },
        {
          "output_type": "stream",
          "name": "stdout",
          "text": [
            "skor ccp_alpha: 0.025, Akurasi: 0.89, Nilai F1: 0.86, Precision: 0.85, Recall: 0.89\n",
            "Confusion Matrix:\n",
            "[[9796    0    0    0    3    0    0]\n",
            " [  62    0    0    0    0    0    0]\n",
            " [ 158    0    0    0    0    0    0]\n",
            " [ 274    0    0    0    0    0    0]\n",
            " [ 783    0    0    0 1052    0    0]\n",
            " [  70    0    0    0    0    0    0]\n",
            " [  24    0    0    0    2    0    0]]\n",
            "\n"
          ]
        },
        {
          "output_type": "stream",
          "name": "stderr",
          "text": [
            "/usr/local/lib/python3.10/dist-packages/sklearn/metrics/_classification.py:1531: UndefinedMetricWarning: Precision is ill-defined and being set to 0.0 in labels with no predicted samples. Use `zero_division` parameter to control this behavior.\n",
            "  _warn_prf(average, modifier, f\"{metric.capitalize()} is\", len(result))\n"
          ]
        },
        {
          "output_type": "stream",
          "name": "stdout",
          "text": [
            "skor ccp_alpha: 0.026, Akurasi: 0.89, Nilai F1: 0.86, Precision: 0.85, Recall: 0.89\n",
            "Confusion Matrix:\n",
            "[[9796    0    0    0    3    0    0]\n",
            " [  62    0    0    0    0    0    0]\n",
            " [ 158    0    0    0    0    0    0]\n",
            " [ 274    0    0    0    0    0    0]\n",
            " [ 783    0    0    0 1052    0    0]\n",
            " [  70    0    0    0    0    0    0]\n",
            " [  24    0    0    0    2    0    0]]\n",
            "\n"
          ]
        },
        {
          "output_type": "stream",
          "name": "stderr",
          "text": [
            "/usr/local/lib/python3.10/dist-packages/sklearn/metrics/_classification.py:1531: UndefinedMetricWarning: Precision is ill-defined and being set to 0.0 in labels with no predicted samples. Use `zero_division` parameter to control this behavior.\n",
            "  _warn_prf(average, modifier, f\"{metric.capitalize()} is\", len(result))\n"
          ]
        },
        {
          "output_type": "stream",
          "name": "stdout",
          "text": [
            "skor ccp_alpha: 0.026, Akurasi: 0.89, Nilai F1: 0.86, Precision: 0.85, Recall: 0.89\n",
            "Confusion Matrix:\n",
            "[[9796    0    0    0    3    0    0]\n",
            " [  62    0    0    0    0    0    0]\n",
            " [ 158    0    0    0    0    0    0]\n",
            " [ 274    0    0    0    0    0    0]\n",
            " [ 783    0    0    0 1052    0    0]\n",
            " [  70    0    0    0    0    0    0]\n",
            " [  24    0    0    0    2    0    0]]\n",
            "\n"
          ]
        },
        {
          "output_type": "stream",
          "name": "stderr",
          "text": [
            "/usr/local/lib/python3.10/dist-packages/sklearn/metrics/_classification.py:1531: UndefinedMetricWarning: Precision is ill-defined and being set to 0.0 in labels with no predicted samples. Use `zero_division` parameter to control this behavior.\n",
            "  _warn_prf(average, modifier, f\"{metric.capitalize()} is\", len(result))\n"
          ]
        },
        {
          "output_type": "stream",
          "name": "stdout",
          "text": [
            "skor ccp_alpha: 0.027, Akurasi: 0.89, Nilai F1: 0.86, Precision: 0.85, Recall: 0.89\n",
            "Confusion Matrix:\n",
            "[[9796    0    0    0    3    0    0]\n",
            " [  62    0    0    0    0    0    0]\n",
            " [ 158    0    0    0    0    0    0]\n",
            " [ 274    0    0    0    0    0    0]\n",
            " [ 783    0    0    0 1052    0    0]\n",
            " [  70    0    0    0    0    0    0]\n",
            " [  24    0    0    0    2    0    0]]\n",
            "\n"
          ]
        },
        {
          "output_type": "stream",
          "name": "stderr",
          "text": [
            "/usr/local/lib/python3.10/dist-packages/sklearn/metrics/_classification.py:1531: UndefinedMetricWarning: Precision is ill-defined and being set to 0.0 in labels with no predicted samples. Use `zero_division` parameter to control this behavior.\n",
            "  _warn_prf(average, modifier, f\"{metric.capitalize()} is\", len(result))\n"
          ]
        },
        {
          "output_type": "stream",
          "name": "stdout",
          "text": [
            "skor ccp_alpha: 0.028, Akurasi: 0.89, Nilai F1: 0.86, Precision: 0.85, Recall: 0.89\n",
            "Confusion Matrix:\n",
            "[[9796    0    0    0    3    0    0]\n",
            " [  62    0    0    0    0    0    0]\n",
            " [ 158    0    0    0    0    0    0]\n",
            " [ 274    0    0    0    0    0    0]\n",
            " [ 783    0    0    0 1052    0    0]\n",
            " [  70    0    0    0    0    0    0]\n",
            " [  24    0    0    0    2    0    0]]\n",
            "\n"
          ]
        },
        {
          "output_type": "stream",
          "name": "stderr",
          "text": [
            "/usr/local/lib/python3.10/dist-packages/sklearn/metrics/_classification.py:1531: UndefinedMetricWarning: Precision is ill-defined and being set to 0.0 in labels with no predicted samples. Use `zero_division` parameter to control this behavior.\n",
            "  _warn_prf(average, modifier, f\"{metric.capitalize()} is\", len(result))\n"
          ]
        },
        {
          "output_type": "stream",
          "name": "stdout",
          "text": [
            "skor ccp_alpha: 0.029, Akurasi: 0.89, Nilai F1: 0.86, Precision: 0.85, Recall: 0.89\n",
            "Confusion Matrix:\n",
            "[[9796    0    0    0    3    0    0]\n",
            " [  62    0    0    0    0    0    0]\n",
            " [ 158    0    0    0    0    0    0]\n",
            " [ 274    0    0    0    0    0    0]\n",
            " [ 783    0    0    0 1052    0    0]\n",
            " [  70    0    0    0    0    0    0]\n",
            " [  24    0    0    0    2    0    0]]\n",
            "\n"
          ]
        },
        {
          "output_type": "stream",
          "name": "stderr",
          "text": [
            "/usr/local/lib/python3.10/dist-packages/sklearn/metrics/_classification.py:1531: UndefinedMetricWarning: Precision is ill-defined and being set to 0.0 in labels with no predicted samples. Use `zero_division` parameter to control this behavior.\n",
            "  _warn_prf(average, modifier, f\"{metric.capitalize()} is\", len(result))\n"
          ]
        },
        {
          "output_type": "stream",
          "name": "stdout",
          "text": [
            "skor ccp_alpha: 0.029, Akurasi: 0.89, Nilai F1: 0.86, Precision: 0.85, Recall: 0.89\n",
            "Confusion Matrix:\n",
            "[[9796    0    0    0    3    0    0]\n",
            " [  62    0    0    0    0    0    0]\n",
            " [ 158    0    0    0    0    0    0]\n",
            " [ 274    0    0    0    0    0    0]\n",
            " [ 794    0    0    0 1041    0    0]\n",
            " [  70    0    0    0    0    0    0]\n",
            " [  24    0    0    0    2    0    0]]\n",
            "\n"
          ]
        },
        {
          "output_type": "stream",
          "name": "stderr",
          "text": [
            "/usr/local/lib/python3.10/dist-packages/sklearn/metrics/_classification.py:1531: UndefinedMetricWarning: Precision is ill-defined and being set to 0.0 in labels with no predicted samples. Use `zero_division` parameter to control this behavior.\n",
            "  _warn_prf(average, modifier, f\"{metric.capitalize()} is\", len(result))\n"
          ]
        },
        {
          "output_type": "stream",
          "name": "stdout",
          "text": [
            "skor ccp_alpha: 0.030, Akurasi: 0.88, Nilai F1: 0.85, Precision: 0.85, Recall: 0.88\n",
            "Confusion Matrix:\n",
            "[[9796    0    0    0    3    0    0]\n",
            " [  62    0    0    0    0    0    0]\n",
            " [ 158    0    0    0    0    0    0]\n",
            " [ 274    0    0    0    0    0    0]\n",
            " [ 845    0    0    0  990    0    0]\n",
            " [  70    0    0    0    0    0    0]\n",
            " [  24    0    0    0    2    0    0]]\n",
            "\n"
          ]
        },
        {
          "output_type": "stream",
          "name": "stderr",
          "text": [
            "/usr/local/lib/python3.10/dist-packages/sklearn/metrics/_classification.py:1531: UndefinedMetricWarning: Precision is ill-defined and being set to 0.0 in labels with no predicted samples. Use `zero_division` parameter to control this behavior.\n",
            "  _warn_prf(average, modifier, f\"{metric.capitalize()} is\", len(result))\n"
          ]
        },
        {
          "output_type": "stream",
          "name": "stdout",
          "text": [
            "skor ccp_alpha: 0.031, Akurasi: 0.80, Nilai F1: 0.71, Precision: 0.64, Recall: 0.80\n",
            "Confusion Matrix:\n",
            "[[9799    0    0    0    0    0    0]\n",
            " [  62    0    0    0    0    0    0]\n",
            " [ 158    0    0    0    0    0    0]\n",
            " [ 274    0    0    0    0    0    0]\n",
            " [1835    0    0    0    0    0    0]\n",
            " [  70    0    0    0    0    0    0]\n",
            " [  26    0    0    0    0    0    0]]\n",
            "\n"
          ]
        },
        {
          "output_type": "stream",
          "name": "stderr",
          "text": [
            "/usr/local/lib/python3.10/dist-packages/sklearn/metrics/_classification.py:1531: UndefinedMetricWarning: Precision is ill-defined and being set to 0.0 in labels with no predicted samples. Use `zero_division` parameter to control this behavior.\n",
            "  _warn_prf(average, modifier, f\"{metric.capitalize()} is\", len(result))\n"
          ]
        },
        {
          "output_type": "stream",
          "name": "stdout",
          "text": [
            "skor ccp_alpha: 0.032, Akurasi: 0.80, Nilai F1: 0.71, Precision: 0.64, Recall: 0.80\n",
            "Confusion Matrix:\n",
            "[[9799    0    0    0    0    0    0]\n",
            " [  62    0    0    0    0    0    0]\n",
            " [ 158    0    0    0    0    0    0]\n",
            " [ 274    0    0    0    0    0    0]\n",
            " [1835    0    0    0    0    0    0]\n",
            " [  70    0    0    0    0    0    0]\n",
            " [  26    0    0    0    0    0    0]]\n",
            "\n"
          ]
        },
        {
          "output_type": "stream",
          "name": "stderr",
          "text": [
            "/usr/local/lib/python3.10/dist-packages/sklearn/metrics/_classification.py:1531: UndefinedMetricWarning: Precision is ill-defined and being set to 0.0 in labels with no predicted samples. Use `zero_division` parameter to control this behavior.\n",
            "  _warn_prf(average, modifier, f\"{metric.capitalize()} is\", len(result))\n"
          ]
        },
        {
          "output_type": "stream",
          "name": "stdout",
          "text": [
            "skor ccp_alpha: 0.032, Akurasi: 0.80, Nilai F1: 0.71, Precision: 0.64, Recall: 0.80\n",
            "Confusion Matrix:\n",
            "[[9799    0    0    0    0    0    0]\n",
            " [  62    0    0    0    0    0    0]\n",
            " [ 158    0    0    0    0    0    0]\n",
            " [ 274    0    0    0    0    0    0]\n",
            " [1835    0    0    0    0    0    0]\n",
            " [  70    0    0    0    0    0    0]\n",
            " [  26    0    0    0    0    0    0]]\n",
            "\n"
          ]
        },
        {
          "output_type": "stream",
          "name": "stderr",
          "text": [
            "/usr/local/lib/python3.10/dist-packages/sklearn/metrics/_classification.py:1531: UndefinedMetricWarning: Precision is ill-defined and being set to 0.0 in labels with no predicted samples. Use `zero_division` parameter to control this behavior.\n",
            "  _warn_prf(average, modifier, f\"{metric.capitalize()} is\", len(result))\n"
          ]
        },
        {
          "output_type": "stream",
          "name": "stdout",
          "text": [
            "skor ccp_alpha: 0.033, Akurasi: 0.80, Nilai F1: 0.71, Precision: 0.64, Recall: 0.80\n",
            "Confusion Matrix:\n",
            "[[9799    0    0    0    0    0    0]\n",
            " [  62    0    0    0    0    0    0]\n",
            " [ 158    0    0    0    0    0    0]\n",
            " [ 274    0    0    0    0    0    0]\n",
            " [1835    0    0    0    0    0    0]\n",
            " [  70    0    0    0    0    0    0]\n",
            " [  26    0    0    0    0    0    0]]\n",
            "\n"
          ]
        },
        {
          "output_type": "stream",
          "name": "stderr",
          "text": [
            "/usr/local/lib/python3.10/dist-packages/sklearn/metrics/_classification.py:1531: UndefinedMetricWarning: Precision is ill-defined and being set to 0.0 in labels with no predicted samples. Use `zero_division` parameter to control this behavior.\n",
            "  _warn_prf(average, modifier, f\"{metric.capitalize()} is\", len(result))\n"
          ]
        },
        {
          "output_type": "stream",
          "name": "stdout",
          "text": [
            "skor ccp_alpha: 0.034, Akurasi: 0.80, Nilai F1: 0.71, Precision: 0.64, Recall: 0.80\n",
            "Confusion Matrix:\n",
            "[[9799    0    0    0    0    0    0]\n",
            " [  62    0    0    0    0    0    0]\n",
            " [ 158    0    0    0    0    0    0]\n",
            " [ 274    0    0    0    0    0    0]\n",
            " [1835    0    0    0    0    0    0]\n",
            " [  70    0    0    0    0    0    0]\n",
            " [  26    0    0    0    0    0    0]]\n",
            "\n"
          ]
        },
        {
          "output_type": "stream",
          "name": "stderr",
          "text": [
            "/usr/local/lib/python3.10/dist-packages/sklearn/metrics/_classification.py:1531: UndefinedMetricWarning: Precision is ill-defined and being set to 0.0 in labels with no predicted samples. Use `zero_division` parameter to control this behavior.\n",
            "  _warn_prf(average, modifier, f\"{metric.capitalize()} is\", len(result))\n"
          ]
        },
        {
          "output_type": "stream",
          "name": "stdout",
          "text": [
            "skor ccp_alpha: 0.035, Akurasi: 0.80, Nilai F1: 0.71, Precision: 0.64, Recall: 0.80\n",
            "Confusion Matrix:\n",
            "[[9799    0    0    0    0    0    0]\n",
            " [  62    0    0    0    0    0    0]\n",
            " [ 158    0    0    0    0    0    0]\n",
            " [ 274    0    0    0    0    0    0]\n",
            " [1835    0    0    0    0    0    0]\n",
            " [  70    0    0    0    0    0    0]\n",
            " [  26    0    0    0    0    0    0]]\n",
            "\n"
          ]
        },
        {
          "output_type": "stream",
          "name": "stderr",
          "text": [
            "/usr/local/lib/python3.10/dist-packages/sklearn/metrics/_classification.py:1531: UndefinedMetricWarning: Precision is ill-defined and being set to 0.0 in labels with no predicted samples. Use `zero_division` parameter to control this behavior.\n",
            "  _warn_prf(average, modifier, f\"{metric.capitalize()} is\", len(result))\n"
          ]
        },
        {
          "output_type": "stream",
          "name": "stdout",
          "text": [
            "skor ccp_alpha: 0.035, Akurasi: 0.80, Nilai F1: 0.71, Precision: 0.64, Recall: 0.80\n",
            "Confusion Matrix:\n",
            "[[9799    0    0    0    0    0    0]\n",
            " [  62    0    0    0    0    0    0]\n",
            " [ 158    0    0    0    0    0    0]\n",
            " [ 274    0    0    0    0    0    0]\n",
            " [1835    0    0    0    0    0    0]\n",
            " [  70    0    0    0    0    0    0]\n",
            " [  26    0    0    0    0    0    0]]\n",
            "\n"
          ]
        },
        {
          "output_type": "stream",
          "name": "stderr",
          "text": [
            "/usr/local/lib/python3.10/dist-packages/sklearn/metrics/_classification.py:1531: UndefinedMetricWarning: Precision is ill-defined and being set to 0.0 in labels with no predicted samples. Use `zero_division` parameter to control this behavior.\n",
            "  _warn_prf(average, modifier, f\"{metric.capitalize()} is\", len(result))\n"
          ]
        },
        {
          "output_type": "stream",
          "name": "stdout",
          "text": [
            "skor ccp_alpha: 0.036, Akurasi: 0.80, Nilai F1: 0.71, Precision: 0.64, Recall: 0.80\n",
            "Confusion Matrix:\n",
            "[[9799    0    0    0    0    0    0]\n",
            " [  62    0    0    0    0    0    0]\n",
            " [ 158    0    0    0    0    0    0]\n",
            " [ 274    0    0    0    0    0    0]\n",
            " [1835    0    0    0    0    0    0]\n",
            " [  70    0    0    0    0    0    0]\n",
            " [  26    0    0    0    0    0    0]]\n",
            "\n"
          ]
        },
        {
          "output_type": "stream",
          "name": "stderr",
          "text": [
            "/usr/local/lib/python3.10/dist-packages/sklearn/metrics/_classification.py:1531: UndefinedMetricWarning: Precision is ill-defined and being set to 0.0 in labels with no predicted samples. Use `zero_division` parameter to control this behavior.\n",
            "  _warn_prf(average, modifier, f\"{metric.capitalize()} is\", len(result))\n"
          ]
        },
        {
          "output_type": "stream",
          "name": "stdout",
          "text": [
            "skor ccp_alpha: 0.037, Akurasi: 0.80, Nilai F1: 0.71, Precision: 0.64, Recall: 0.80\n",
            "Confusion Matrix:\n",
            "[[9799    0    0    0    0    0    0]\n",
            " [  62    0    0    0    0    0    0]\n",
            " [ 158    0    0    0    0    0    0]\n",
            " [ 274    0    0    0    0    0    0]\n",
            " [1835    0    0    0    0    0    0]\n",
            " [  70    0    0    0    0    0    0]\n",
            " [  26    0    0    0    0    0    0]]\n",
            "\n"
          ]
        },
        {
          "output_type": "stream",
          "name": "stderr",
          "text": [
            "/usr/local/lib/python3.10/dist-packages/sklearn/metrics/_classification.py:1531: UndefinedMetricWarning: Precision is ill-defined and being set to 0.0 in labels with no predicted samples. Use `zero_division` parameter to control this behavior.\n",
            "  _warn_prf(average, modifier, f\"{metric.capitalize()} is\", len(result))\n"
          ]
        },
        {
          "output_type": "stream",
          "name": "stdout",
          "text": [
            "skor ccp_alpha: 0.038, Akurasi: 0.80, Nilai F1: 0.71, Precision: 0.64, Recall: 0.80\n",
            "Confusion Matrix:\n",
            "[[9799    0    0    0    0    0    0]\n",
            " [  62    0    0    0    0    0    0]\n",
            " [ 158    0    0    0    0    0    0]\n",
            " [ 274    0    0    0    0    0    0]\n",
            " [1835    0    0    0    0    0    0]\n",
            " [  70    0    0    0    0    0    0]\n",
            " [  26    0    0    0    0    0    0]]\n",
            "\n"
          ]
        },
        {
          "output_type": "stream",
          "name": "stderr",
          "text": [
            "/usr/local/lib/python3.10/dist-packages/sklearn/metrics/_classification.py:1531: UndefinedMetricWarning: Precision is ill-defined and being set to 0.0 in labels with no predicted samples. Use `zero_division` parameter to control this behavior.\n",
            "  _warn_prf(average, modifier, f\"{metric.capitalize()} is\", len(result))\n"
          ]
        },
        {
          "output_type": "stream",
          "name": "stdout",
          "text": [
            "skor ccp_alpha: 0.038, Akurasi: 0.80, Nilai F1: 0.71, Precision: 0.64, Recall: 0.80\n",
            "Confusion Matrix:\n",
            "[[9799    0    0    0    0    0    0]\n",
            " [  62    0    0    0    0    0    0]\n",
            " [ 158    0    0    0    0    0    0]\n",
            " [ 274    0    0    0    0    0    0]\n",
            " [1835    0    0    0    0    0    0]\n",
            " [  70    0    0    0    0    0    0]\n",
            " [  26    0    0    0    0    0    0]]\n",
            "\n"
          ]
        },
        {
          "output_type": "stream",
          "name": "stderr",
          "text": [
            "/usr/local/lib/python3.10/dist-packages/sklearn/metrics/_classification.py:1531: UndefinedMetricWarning: Precision is ill-defined and being set to 0.0 in labels with no predicted samples. Use `zero_division` parameter to control this behavior.\n",
            "  _warn_prf(average, modifier, f\"{metric.capitalize()} is\", len(result))\n"
          ]
        },
        {
          "output_type": "stream",
          "name": "stdout",
          "text": [
            "skor ccp_alpha: 0.039, Akurasi: 0.80, Nilai F1: 0.71, Precision: 0.64, Recall: 0.80\n",
            "Confusion Matrix:\n",
            "[[9799    0    0    0    0    0    0]\n",
            " [  62    0    0    0    0    0    0]\n",
            " [ 158    0    0    0    0    0    0]\n",
            " [ 274    0    0    0    0    0    0]\n",
            " [1835    0    0    0    0    0    0]\n",
            " [  70    0    0    0    0    0    0]\n",
            " [  26    0    0    0    0    0    0]]\n",
            "\n"
          ]
        },
        {
          "output_type": "stream",
          "name": "stderr",
          "text": [
            "/usr/local/lib/python3.10/dist-packages/sklearn/metrics/_classification.py:1531: UndefinedMetricWarning: Precision is ill-defined and being set to 0.0 in labels with no predicted samples. Use `zero_division` parameter to control this behavior.\n",
            "  _warn_prf(average, modifier, f\"{metric.capitalize()} is\", len(result))\n"
          ]
        },
        {
          "output_type": "stream",
          "name": "stdout",
          "text": [
            "skor ccp_alpha: 0.040, Akurasi: 0.80, Nilai F1: 0.71, Precision: 0.64, Recall: 0.80\n",
            "Confusion Matrix:\n",
            "[[9799    0    0    0    0    0    0]\n",
            " [  62    0    0    0    0    0    0]\n",
            " [ 158    0    0    0    0    0    0]\n",
            " [ 274    0    0    0    0    0    0]\n",
            " [1835    0    0    0    0    0    0]\n",
            " [  70    0    0    0    0    0    0]\n",
            " [  26    0    0    0    0    0    0]]\n",
            "\n"
          ]
        },
        {
          "output_type": "stream",
          "name": "stderr",
          "text": [
            "/usr/local/lib/python3.10/dist-packages/sklearn/metrics/_classification.py:1531: UndefinedMetricWarning: Precision is ill-defined and being set to 0.0 in labels with no predicted samples. Use `zero_division` parameter to control this behavior.\n",
            "  _warn_prf(average, modifier, f\"{metric.capitalize()} is\", len(result))\n"
          ]
        },
        {
          "output_type": "stream",
          "name": "stdout",
          "text": [
            "skor ccp_alpha: 0.041, Akurasi: 0.80, Nilai F1: 0.71, Precision: 0.64, Recall: 0.80\n",
            "Confusion Matrix:\n",
            "[[9799    0    0    0    0    0    0]\n",
            " [  62    0    0    0    0    0    0]\n",
            " [ 158    0    0    0    0    0    0]\n",
            " [ 274    0    0    0    0    0    0]\n",
            " [1835    0    0    0    0    0    0]\n",
            " [  70    0    0    0    0    0    0]\n",
            " [  26    0    0    0    0    0    0]]\n",
            "\n"
          ]
        },
        {
          "output_type": "stream",
          "name": "stderr",
          "text": [
            "/usr/local/lib/python3.10/dist-packages/sklearn/metrics/_classification.py:1531: UndefinedMetricWarning: Precision is ill-defined and being set to 0.0 in labels with no predicted samples. Use `zero_division` parameter to control this behavior.\n",
            "  _warn_prf(average, modifier, f\"{metric.capitalize()} is\", len(result))\n"
          ]
        },
        {
          "output_type": "stream",
          "name": "stdout",
          "text": [
            "skor ccp_alpha: 0.041, Akurasi: 0.80, Nilai F1: 0.71, Precision: 0.64, Recall: 0.80\n",
            "Confusion Matrix:\n",
            "[[9799    0    0    0    0    0    0]\n",
            " [  62    0    0    0    0    0    0]\n",
            " [ 158    0    0    0    0    0    0]\n",
            " [ 274    0    0    0    0    0    0]\n",
            " [1835    0    0    0    0    0    0]\n",
            " [  70    0    0    0    0    0    0]\n",
            " [  26    0    0    0    0    0    0]]\n",
            "\n"
          ]
        },
        {
          "output_type": "stream",
          "name": "stderr",
          "text": [
            "/usr/local/lib/python3.10/dist-packages/sklearn/metrics/_classification.py:1531: UndefinedMetricWarning: Precision is ill-defined and being set to 0.0 in labels with no predicted samples. Use `zero_division` parameter to control this behavior.\n",
            "  _warn_prf(average, modifier, f\"{metric.capitalize()} is\", len(result))\n"
          ]
        },
        {
          "output_type": "stream",
          "name": "stdout",
          "text": [
            "skor ccp_alpha: 0.042, Akurasi: 0.80, Nilai F1: 0.71, Precision: 0.64, Recall: 0.80\n",
            "Confusion Matrix:\n",
            "[[9799    0    0    0    0    0    0]\n",
            " [  62    0    0    0    0    0    0]\n",
            " [ 158    0    0    0    0    0    0]\n",
            " [ 274    0    0    0    0    0    0]\n",
            " [1835    0    0    0    0    0    0]\n",
            " [  70    0    0    0    0    0    0]\n",
            " [  26    0    0    0    0    0    0]]\n",
            "\n"
          ]
        },
        {
          "output_type": "stream",
          "name": "stderr",
          "text": [
            "/usr/local/lib/python3.10/dist-packages/sklearn/metrics/_classification.py:1531: UndefinedMetricWarning: Precision is ill-defined and being set to 0.0 in labels with no predicted samples. Use `zero_division` parameter to control this behavior.\n",
            "  _warn_prf(average, modifier, f\"{metric.capitalize()} is\", len(result))\n"
          ]
        },
        {
          "output_type": "stream",
          "name": "stdout",
          "text": [
            "skor ccp_alpha: 0.043, Akurasi: 0.80, Nilai F1: 0.71, Precision: 0.64, Recall: 0.80\n",
            "Confusion Matrix:\n",
            "[[9799    0    0    0    0    0    0]\n",
            " [  62    0    0    0    0    0    0]\n",
            " [ 158    0    0    0    0    0    0]\n",
            " [ 274    0    0    0    0    0    0]\n",
            " [1835    0    0    0    0    0    0]\n",
            " [  70    0    0    0    0    0    0]\n",
            " [  26    0    0    0    0    0    0]]\n",
            "\n"
          ]
        },
        {
          "output_type": "stream",
          "name": "stderr",
          "text": [
            "/usr/local/lib/python3.10/dist-packages/sklearn/metrics/_classification.py:1531: UndefinedMetricWarning: Precision is ill-defined and being set to 0.0 in labels with no predicted samples. Use `zero_division` parameter to control this behavior.\n",
            "  _warn_prf(average, modifier, f\"{metric.capitalize()} is\", len(result))\n"
          ]
        },
        {
          "output_type": "stream",
          "name": "stdout",
          "text": [
            "skor ccp_alpha: 0.044, Akurasi: 0.80, Nilai F1: 0.71, Precision: 0.64, Recall: 0.80\n",
            "Confusion Matrix:\n",
            "[[9799    0    0    0    0    0    0]\n",
            " [  62    0    0    0    0    0    0]\n",
            " [ 158    0    0    0    0    0    0]\n",
            " [ 274    0    0    0    0    0    0]\n",
            " [1835    0    0    0    0    0    0]\n",
            " [  70    0    0    0    0    0    0]\n",
            " [  26    0    0    0    0    0    0]]\n",
            "\n"
          ]
        },
        {
          "output_type": "stream",
          "name": "stderr",
          "text": [
            "/usr/local/lib/python3.10/dist-packages/sklearn/metrics/_classification.py:1531: UndefinedMetricWarning: Precision is ill-defined and being set to 0.0 in labels with no predicted samples. Use `zero_division` parameter to control this behavior.\n",
            "  _warn_prf(average, modifier, f\"{metric.capitalize()} is\", len(result))\n"
          ]
        },
        {
          "output_type": "stream",
          "name": "stdout",
          "text": [
            "skor ccp_alpha: 0.044, Akurasi: 0.80, Nilai F1: 0.71, Precision: 0.64, Recall: 0.80\n",
            "Confusion Matrix:\n",
            "[[9799    0    0    0    0    0    0]\n",
            " [  62    0    0    0    0    0    0]\n",
            " [ 158    0    0    0    0    0    0]\n",
            " [ 274    0    0    0    0    0    0]\n",
            " [1835    0    0    0    0    0    0]\n",
            " [  70    0    0    0    0    0    0]\n",
            " [  26    0    0    0    0    0    0]]\n",
            "\n"
          ]
        },
        {
          "output_type": "stream",
          "name": "stderr",
          "text": [
            "/usr/local/lib/python3.10/dist-packages/sklearn/metrics/_classification.py:1531: UndefinedMetricWarning: Precision is ill-defined and being set to 0.0 in labels with no predicted samples. Use `zero_division` parameter to control this behavior.\n",
            "  _warn_prf(average, modifier, f\"{metric.capitalize()} is\", len(result))\n"
          ]
        },
        {
          "output_type": "stream",
          "name": "stdout",
          "text": [
            "skor ccp_alpha: 0.045, Akurasi: 0.80, Nilai F1: 0.71, Precision: 0.64, Recall: 0.80\n",
            "Confusion Matrix:\n",
            "[[9799    0    0    0    0    0    0]\n",
            " [  62    0    0    0    0    0    0]\n",
            " [ 158    0    0    0    0    0    0]\n",
            " [ 274    0    0    0    0    0    0]\n",
            " [1835    0    0    0    0    0    0]\n",
            " [  70    0    0    0    0    0    0]\n",
            " [  26    0    0    0    0    0    0]]\n",
            "\n"
          ]
        },
        {
          "output_type": "stream",
          "name": "stderr",
          "text": [
            "/usr/local/lib/python3.10/dist-packages/sklearn/metrics/_classification.py:1531: UndefinedMetricWarning: Precision is ill-defined and being set to 0.0 in labels with no predicted samples. Use `zero_division` parameter to control this behavior.\n",
            "  _warn_prf(average, modifier, f\"{metric.capitalize()} is\", len(result))\n"
          ]
        },
        {
          "output_type": "stream",
          "name": "stdout",
          "text": [
            "skor ccp_alpha: 0.046, Akurasi: 0.80, Nilai F1: 0.71, Precision: 0.64, Recall: 0.80\n",
            "Confusion Matrix:\n",
            "[[9799    0    0    0    0    0    0]\n",
            " [  62    0    0    0    0    0    0]\n",
            " [ 158    0    0    0    0    0    0]\n",
            " [ 274    0    0    0    0    0    0]\n",
            " [1835    0    0    0    0    0    0]\n",
            " [  70    0    0    0    0    0    0]\n",
            " [  26    0    0    0    0    0    0]]\n",
            "\n"
          ]
        },
        {
          "output_type": "stream",
          "name": "stderr",
          "text": [
            "/usr/local/lib/python3.10/dist-packages/sklearn/metrics/_classification.py:1531: UndefinedMetricWarning: Precision is ill-defined and being set to 0.0 in labels with no predicted samples. Use `zero_division` parameter to control this behavior.\n",
            "  _warn_prf(average, modifier, f\"{metric.capitalize()} is\", len(result))\n"
          ]
        },
        {
          "output_type": "stream",
          "name": "stdout",
          "text": [
            "skor ccp_alpha: 0.047, Akurasi: 0.80, Nilai F1: 0.71, Precision: 0.64, Recall: 0.80\n",
            "Confusion Matrix:\n",
            "[[9799    0    0    0    0    0    0]\n",
            " [  62    0    0    0    0    0    0]\n",
            " [ 158    0    0    0    0    0    0]\n",
            " [ 274    0    0    0    0    0    0]\n",
            " [1835    0    0    0    0    0    0]\n",
            " [  70    0    0    0    0    0    0]\n",
            " [  26    0    0    0    0    0    0]]\n",
            "\n"
          ]
        },
        {
          "output_type": "stream",
          "name": "stderr",
          "text": [
            "/usr/local/lib/python3.10/dist-packages/sklearn/metrics/_classification.py:1531: UndefinedMetricWarning: Precision is ill-defined and being set to 0.0 in labels with no predicted samples. Use `zero_division` parameter to control this behavior.\n",
            "  _warn_prf(average, modifier, f\"{metric.capitalize()} is\", len(result))\n"
          ]
        },
        {
          "output_type": "stream",
          "name": "stdout",
          "text": [
            "skor ccp_alpha: 0.047, Akurasi: 0.80, Nilai F1: 0.71, Precision: 0.64, Recall: 0.80\n",
            "Confusion Matrix:\n",
            "[[9799    0    0    0    0    0    0]\n",
            " [  62    0    0    0    0    0    0]\n",
            " [ 158    0    0    0    0    0    0]\n",
            " [ 274    0    0    0    0    0    0]\n",
            " [1835    0    0    0    0    0    0]\n",
            " [  70    0    0    0    0    0    0]\n",
            " [  26    0    0    0    0    0    0]]\n",
            "\n"
          ]
        },
        {
          "output_type": "stream",
          "name": "stderr",
          "text": [
            "/usr/local/lib/python3.10/dist-packages/sklearn/metrics/_classification.py:1531: UndefinedMetricWarning: Precision is ill-defined and being set to 0.0 in labels with no predicted samples. Use `zero_division` parameter to control this behavior.\n",
            "  _warn_prf(average, modifier, f\"{metric.capitalize()} is\", len(result))\n"
          ]
        },
        {
          "output_type": "stream",
          "name": "stdout",
          "text": [
            "skor ccp_alpha: 0.048, Akurasi: 0.80, Nilai F1: 0.71, Precision: 0.64, Recall: 0.80\n",
            "Confusion Matrix:\n",
            "[[9799    0    0    0    0    0    0]\n",
            " [  62    0    0    0    0    0    0]\n",
            " [ 158    0    0    0    0    0    0]\n",
            " [ 274    0    0    0    0    0    0]\n",
            " [1835    0    0    0    0    0    0]\n",
            " [  70    0    0    0    0    0    0]\n",
            " [  26    0    0    0    0    0    0]]\n",
            "\n"
          ]
        },
        {
          "output_type": "stream",
          "name": "stderr",
          "text": [
            "/usr/local/lib/python3.10/dist-packages/sklearn/metrics/_classification.py:1531: UndefinedMetricWarning: Precision is ill-defined and being set to 0.0 in labels with no predicted samples. Use `zero_division` parameter to control this behavior.\n",
            "  _warn_prf(average, modifier, f\"{metric.capitalize()} is\", len(result))\n"
          ]
        },
        {
          "output_type": "stream",
          "name": "stdout",
          "text": [
            "skor ccp_alpha: 0.049, Akurasi: 0.80, Nilai F1: 0.71, Precision: 0.64, Recall: 0.80\n",
            "Confusion Matrix:\n",
            "[[9799    0    0    0    0    0    0]\n",
            " [  62    0    0    0    0    0    0]\n",
            " [ 158    0    0    0    0    0    0]\n",
            " [ 274    0    0    0    0    0    0]\n",
            " [1835    0    0    0    0    0    0]\n",
            " [  70    0    0    0    0    0    0]\n",
            " [  26    0    0    0    0    0    0]]\n",
            "\n"
          ]
        },
        {
          "output_type": "stream",
          "name": "stderr",
          "text": [
            "/usr/local/lib/python3.10/dist-packages/sklearn/metrics/_classification.py:1531: UndefinedMetricWarning: Precision is ill-defined and being set to 0.0 in labels with no predicted samples. Use `zero_division` parameter to control this behavior.\n",
            "  _warn_prf(average, modifier, f\"{metric.capitalize()} is\", len(result))\n"
          ]
        },
        {
          "output_type": "stream",
          "name": "stdout",
          "text": [
            "skor ccp_alpha: 0.050, Akurasi: 0.80, Nilai F1: 0.71, Precision: 0.64, Recall: 0.80\n",
            "Confusion Matrix:\n",
            "[[9799    0    0    0    0    0    0]\n",
            " [  62    0    0    0    0    0    0]\n",
            " [ 158    0    0    0    0    0    0]\n",
            " [ 274    0    0    0    0    0    0]\n",
            " [1835    0    0    0    0    0    0]\n",
            " [  70    0    0    0    0    0    0]\n",
            " [  26    0    0    0    0    0    0]]\n",
            "\n"
          ]
        },
        {
          "output_type": "stream",
          "name": "stderr",
          "text": [
            "/usr/local/lib/python3.10/dist-packages/sklearn/metrics/_classification.py:1531: UndefinedMetricWarning: Precision is ill-defined and being set to 0.0 in labels with no predicted samples. Use `zero_division` parameter to control this behavior.\n",
            "  _warn_prf(average, modifier, f\"{metric.capitalize()} is\", len(result))\n"
          ]
        },
        {
          "output_type": "stream",
          "name": "stdout",
          "text": [
            "skor ccp_alpha: 0.050, Akurasi: 0.80, Nilai F1: 0.71, Precision: 0.64, Recall: 0.80\n",
            "Confusion Matrix:\n",
            "[[9799    0    0    0    0    0    0]\n",
            " [  62    0    0    0    0    0    0]\n",
            " [ 158    0    0    0    0    0    0]\n",
            " [ 274    0    0    0    0    0    0]\n",
            " [1835    0    0    0    0    0    0]\n",
            " [  70    0    0    0    0    0    0]\n",
            " [  26    0    0    0    0    0    0]]\n",
            "\n"
          ]
        },
        {
          "output_type": "stream",
          "name": "stderr",
          "text": [
            "/usr/local/lib/python3.10/dist-packages/sklearn/metrics/_classification.py:1531: UndefinedMetricWarning: Precision is ill-defined and being set to 0.0 in labels with no predicted samples. Use `zero_division` parameter to control this behavior.\n",
            "  _warn_prf(average, modifier, f\"{metric.capitalize()} is\", len(result))\n"
          ]
        },
        {
          "output_type": "stream",
          "name": "stdout",
          "text": [
            "skor ccp_alpha: 0.051, Akurasi: 0.80, Nilai F1: 0.71, Precision: 0.64, Recall: 0.80\n",
            "Confusion Matrix:\n",
            "[[9799    0    0    0    0    0    0]\n",
            " [  62    0    0    0    0    0    0]\n",
            " [ 158    0    0    0    0    0    0]\n",
            " [ 274    0    0    0    0    0    0]\n",
            " [1835    0    0    0    0    0    0]\n",
            " [  70    0    0    0    0    0    0]\n",
            " [  26    0    0    0    0    0    0]]\n",
            "\n"
          ]
        },
        {
          "output_type": "stream",
          "name": "stderr",
          "text": [
            "/usr/local/lib/python3.10/dist-packages/sklearn/metrics/_classification.py:1531: UndefinedMetricWarning: Precision is ill-defined and being set to 0.0 in labels with no predicted samples. Use `zero_division` parameter to control this behavior.\n",
            "  _warn_prf(average, modifier, f\"{metric.capitalize()} is\", len(result))\n"
          ]
        },
        {
          "output_type": "stream",
          "name": "stdout",
          "text": [
            "skor ccp_alpha: 0.052, Akurasi: 0.80, Nilai F1: 0.71, Precision: 0.64, Recall: 0.80\n",
            "Confusion Matrix:\n",
            "[[9799    0    0    0    0    0    0]\n",
            " [  62    0    0    0    0    0    0]\n",
            " [ 158    0    0    0    0    0    0]\n",
            " [ 274    0    0    0    0    0    0]\n",
            " [1835    0    0    0    0    0    0]\n",
            " [  70    0    0    0    0    0    0]\n",
            " [  26    0    0    0    0    0    0]]\n",
            "\n"
          ]
        },
        {
          "output_type": "stream",
          "name": "stderr",
          "text": [
            "/usr/local/lib/python3.10/dist-packages/sklearn/metrics/_classification.py:1531: UndefinedMetricWarning: Precision is ill-defined and being set to 0.0 in labels with no predicted samples. Use `zero_division` parameter to control this behavior.\n",
            "  _warn_prf(average, modifier, f\"{metric.capitalize()} is\", len(result))\n"
          ]
        },
        {
          "output_type": "stream",
          "name": "stdout",
          "text": [
            "skor ccp_alpha: 0.053, Akurasi: 0.80, Nilai F1: 0.71, Precision: 0.64, Recall: 0.80\n",
            "Confusion Matrix:\n",
            "[[9799    0    0    0    0    0    0]\n",
            " [  62    0    0    0    0    0    0]\n",
            " [ 158    0    0    0    0    0    0]\n",
            " [ 274    0    0    0    0    0    0]\n",
            " [1835    0    0    0    0    0    0]\n",
            " [  70    0    0    0    0    0    0]\n",
            " [  26    0    0    0    0    0    0]]\n",
            "\n"
          ]
        },
        {
          "output_type": "stream",
          "name": "stderr",
          "text": [
            "/usr/local/lib/python3.10/dist-packages/sklearn/metrics/_classification.py:1531: UndefinedMetricWarning: Precision is ill-defined and being set to 0.0 in labels with no predicted samples. Use `zero_division` parameter to control this behavior.\n",
            "  _warn_prf(average, modifier, f\"{metric.capitalize()} is\", len(result))\n"
          ]
        },
        {
          "output_type": "stream",
          "name": "stdout",
          "text": [
            "skor ccp_alpha: 0.053, Akurasi: 0.80, Nilai F1: 0.71, Precision: 0.64, Recall: 0.80\n",
            "Confusion Matrix:\n",
            "[[9799    0    0    0    0    0    0]\n",
            " [  62    0    0    0    0    0    0]\n",
            " [ 158    0    0    0    0    0    0]\n",
            " [ 274    0    0    0    0    0    0]\n",
            " [1835    0    0    0    0    0    0]\n",
            " [  70    0    0    0    0    0    0]\n",
            " [  26    0    0    0    0    0    0]]\n",
            "\n"
          ]
        },
        {
          "output_type": "stream",
          "name": "stderr",
          "text": [
            "/usr/local/lib/python3.10/dist-packages/sklearn/metrics/_classification.py:1531: UndefinedMetricWarning: Precision is ill-defined and being set to 0.0 in labels with no predicted samples. Use `zero_division` parameter to control this behavior.\n",
            "  _warn_prf(average, modifier, f\"{metric.capitalize()} is\", len(result))\n"
          ]
        },
        {
          "output_type": "stream",
          "name": "stdout",
          "text": [
            "skor ccp_alpha: 0.054, Akurasi: 0.80, Nilai F1: 0.71, Precision: 0.64, Recall: 0.80\n",
            "Confusion Matrix:\n",
            "[[9799    0    0    0    0    0    0]\n",
            " [  62    0    0    0    0    0    0]\n",
            " [ 158    0    0    0    0    0    0]\n",
            " [ 274    0    0    0    0    0    0]\n",
            " [1835    0    0    0    0    0    0]\n",
            " [  70    0    0    0    0    0    0]\n",
            " [  26    0    0    0    0    0    0]]\n",
            "\n"
          ]
        },
        {
          "output_type": "stream",
          "name": "stderr",
          "text": [
            "/usr/local/lib/python3.10/dist-packages/sklearn/metrics/_classification.py:1531: UndefinedMetricWarning: Precision is ill-defined and being set to 0.0 in labels with no predicted samples. Use `zero_division` parameter to control this behavior.\n",
            "  _warn_prf(average, modifier, f\"{metric.capitalize()} is\", len(result))\n"
          ]
        },
        {
          "output_type": "stream",
          "name": "stdout",
          "text": [
            "skor ccp_alpha: 0.055, Akurasi: 0.80, Nilai F1: 0.71, Precision: 0.64, Recall: 0.80\n",
            "Confusion Matrix:\n",
            "[[9799    0    0    0    0    0    0]\n",
            " [  62    0    0    0    0    0    0]\n",
            " [ 158    0    0    0    0    0    0]\n",
            " [ 274    0    0    0    0    0    0]\n",
            " [1835    0    0    0    0    0    0]\n",
            " [  70    0    0    0    0    0    0]\n",
            " [  26    0    0    0    0    0    0]]\n",
            "\n"
          ]
        },
        {
          "output_type": "stream",
          "name": "stderr",
          "text": [
            "/usr/local/lib/python3.10/dist-packages/sklearn/metrics/_classification.py:1531: UndefinedMetricWarning: Precision is ill-defined and being set to 0.0 in labels with no predicted samples. Use `zero_division` parameter to control this behavior.\n",
            "  _warn_prf(average, modifier, f\"{metric.capitalize()} is\", len(result))\n"
          ]
        },
        {
          "output_type": "stream",
          "name": "stdout",
          "text": [
            "skor ccp_alpha: 0.056, Akurasi: 0.80, Nilai F1: 0.71, Precision: 0.64, Recall: 0.80\n",
            "Confusion Matrix:\n",
            "[[9799    0    0    0    0    0    0]\n",
            " [  62    0    0    0    0    0    0]\n",
            " [ 158    0    0    0    0    0    0]\n",
            " [ 274    0    0    0    0    0    0]\n",
            " [1835    0    0    0    0    0    0]\n",
            " [  70    0    0    0    0    0    0]\n",
            " [  26    0    0    0    0    0    0]]\n",
            "\n"
          ]
        },
        {
          "output_type": "stream",
          "name": "stderr",
          "text": [
            "/usr/local/lib/python3.10/dist-packages/sklearn/metrics/_classification.py:1531: UndefinedMetricWarning: Precision is ill-defined and being set to 0.0 in labels with no predicted samples. Use `zero_division` parameter to control this behavior.\n",
            "  _warn_prf(average, modifier, f\"{metric.capitalize()} is\", len(result))\n"
          ]
        },
        {
          "output_type": "stream",
          "name": "stdout",
          "text": [
            "skor ccp_alpha: 0.056, Akurasi: 0.80, Nilai F1: 0.71, Precision: 0.64, Recall: 0.80\n",
            "Confusion Matrix:\n",
            "[[9799    0    0    0    0    0    0]\n",
            " [  62    0    0    0    0    0    0]\n",
            " [ 158    0    0    0    0    0    0]\n",
            " [ 274    0    0    0    0    0    0]\n",
            " [1835    0    0    0    0    0    0]\n",
            " [  70    0    0    0    0    0    0]\n",
            " [  26    0    0    0    0    0    0]]\n",
            "\n"
          ]
        },
        {
          "output_type": "stream",
          "name": "stderr",
          "text": [
            "/usr/local/lib/python3.10/dist-packages/sklearn/metrics/_classification.py:1531: UndefinedMetricWarning: Precision is ill-defined and being set to 0.0 in labels with no predicted samples. Use `zero_division` parameter to control this behavior.\n",
            "  _warn_prf(average, modifier, f\"{metric.capitalize()} is\", len(result))\n"
          ]
        },
        {
          "output_type": "stream",
          "name": "stdout",
          "text": [
            "skor ccp_alpha: 0.057, Akurasi: 0.80, Nilai F1: 0.71, Precision: 0.64, Recall: 0.80\n",
            "Confusion Matrix:\n",
            "[[9799    0    0    0    0    0    0]\n",
            " [  62    0    0    0    0    0    0]\n",
            " [ 158    0    0    0    0    0    0]\n",
            " [ 274    0    0    0    0    0    0]\n",
            " [1835    0    0    0    0    0    0]\n",
            " [  70    0    0    0    0    0    0]\n",
            " [  26    0    0    0    0    0    0]]\n",
            "\n"
          ]
        },
        {
          "output_type": "stream",
          "name": "stderr",
          "text": [
            "/usr/local/lib/python3.10/dist-packages/sklearn/metrics/_classification.py:1531: UndefinedMetricWarning: Precision is ill-defined and being set to 0.0 in labels with no predicted samples. Use `zero_division` parameter to control this behavior.\n",
            "  _warn_prf(average, modifier, f\"{metric.capitalize()} is\", len(result))\n"
          ]
        },
        {
          "output_type": "stream",
          "name": "stdout",
          "text": [
            "skor ccp_alpha: 0.058, Akurasi: 0.80, Nilai F1: 0.71, Precision: 0.64, Recall: 0.80\n",
            "Confusion Matrix:\n",
            "[[9799    0    0    0    0    0    0]\n",
            " [  62    0    0    0    0    0    0]\n",
            " [ 158    0    0    0    0    0    0]\n",
            " [ 274    0    0    0    0    0    0]\n",
            " [1835    0    0    0    0    0    0]\n",
            " [  70    0    0    0    0    0    0]\n",
            " [  26    0    0    0    0    0    0]]\n",
            "\n"
          ]
        },
        {
          "output_type": "stream",
          "name": "stderr",
          "text": [
            "/usr/local/lib/python3.10/dist-packages/sklearn/metrics/_classification.py:1531: UndefinedMetricWarning: Precision is ill-defined and being set to 0.0 in labels with no predicted samples. Use `zero_division` parameter to control this behavior.\n",
            "  _warn_prf(average, modifier, f\"{metric.capitalize()} is\", len(result))\n"
          ]
        },
        {
          "output_type": "stream",
          "name": "stdout",
          "text": [
            "skor ccp_alpha: 0.059, Akurasi: 0.80, Nilai F1: 0.71, Precision: 0.64, Recall: 0.80\n",
            "Confusion Matrix:\n",
            "[[9799    0    0    0    0    0    0]\n",
            " [  62    0    0    0    0    0    0]\n",
            " [ 158    0    0    0    0    0    0]\n",
            " [ 274    0    0    0    0    0    0]\n",
            " [1835    0    0    0    0    0    0]\n",
            " [  70    0    0    0    0    0    0]\n",
            " [  26    0    0    0    0    0    0]]\n",
            "\n"
          ]
        },
        {
          "output_type": "stream",
          "name": "stderr",
          "text": [
            "/usr/local/lib/python3.10/dist-packages/sklearn/metrics/_classification.py:1531: UndefinedMetricWarning: Precision is ill-defined and being set to 0.0 in labels with no predicted samples. Use `zero_division` parameter to control this behavior.\n",
            "  _warn_prf(average, modifier, f\"{metric.capitalize()} is\", len(result))\n"
          ]
        },
        {
          "output_type": "stream",
          "name": "stdout",
          "text": [
            "skor ccp_alpha: 0.059, Akurasi: 0.80, Nilai F1: 0.71, Precision: 0.64, Recall: 0.80\n",
            "Confusion Matrix:\n",
            "[[9799    0    0    0    0    0    0]\n",
            " [  62    0    0    0    0    0    0]\n",
            " [ 158    0    0    0    0    0    0]\n",
            " [ 274    0    0    0    0    0    0]\n",
            " [1835    0    0    0    0    0    0]\n",
            " [  70    0    0    0    0    0    0]\n",
            " [  26    0    0    0    0    0    0]]\n",
            "\n"
          ]
        },
        {
          "output_type": "stream",
          "name": "stderr",
          "text": [
            "/usr/local/lib/python3.10/dist-packages/sklearn/metrics/_classification.py:1531: UndefinedMetricWarning: Precision is ill-defined and being set to 0.0 in labels with no predicted samples. Use `zero_division` parameter to control this behavior.\n",
            "  _warn_prf(average, modifier, f\"{metric.capitalize()} is\", len(result))\n"
          ]
        },
        {
          "output_type": "stream",
          "name": "stdout",
          "text": [
            "skor ccp_alpha: 0.060, Akurasi: 0.80, Nilai F1: 0.71, Precision: 0.64, Recall: 0.80\n",
            "Confusion Matrix:\n",
            "[[9799    0    0    0    0    0    0]\n",
            " [  62    0    0    0    0    0    0]\n",
            " [ 158    0    0    0    0    0    0]\n",
            " [ 274    0    0    0    0    0    0]\n",
            " [1835    0    0    0    0    0    0]\n",
            " [  70    0    0    0    0    0    0]\n",
            " [  26    0    0    0    0    0    0]]\n",
            "\n"
          ]
        },
        {
          "output_type": "stream",
          "name": "stderr",
          "text": [
            "/usr/local/lib/python3.10/dist-packages/sklearn/metrics/_classification.py:1531: UndefinedMetricWarning: Precision is ill-defined and being set to 0.0 in labels with no predicted samples. Use `zero_division` parameter to control this behavior.\n",
            "  _warn_prf(average, modifier, f\"{metric.capitalize()} is\", len(result))\n"
          ]
        },
        {
          "output_type": "stream",
          "name": "stdout",
          "text": [
            "skor ccp_alpha: 0.061, Akurasi: 0.80, Nilai F1: 0.71, Precision: 0.64, Recall: 0.80\n",
            "Confusion Matrix:\n",
            "[[9799    0    0    0    0    0    0]\n",
            " [  62    0    0    0    0    0    0]\n",
            " [ 158    0    0    0    0    0    0]\n",
            " [ 274    0    0    0    0    0    0]\n",
            " [1835    0    0    0    0    0    0]\n",
            " [  70    0    0    0    0    0    0]\n",
            " [  26    0    0    0    0    0    0]]\n",
            "\n"
          ]
        },
        {
          "output_type": "stream",
          "name": "stderr",
          "text": [
            "/usr/local/lib/python3.10/dist-packages/sklearn/metrics/_classification.py:1531: UndefinedMetricWarning: Precision is ill-defined and being set to 0.0 in labels with no predicted samples. Use `zero_division` parameter to control this behavior.\n",
            "  _warn_prf(average, modifier, f\"{metric.capitalize()} is\", len(result))\n"
          ]
        },
        {
          "output_type": "stream",
          "name": "stdout",
          "text": [
            "skor ccp_alpha: 0.062, Akurasi: 0.80, Nilai F1: 0.71, Precision: 0.64, Recall: 0.80\n",
            "Confusion Matrix:\n",
            "[[9799    0    0    0    0    0    0]\n",
            " [  62    0    0    0    0    0    0]\n",
            " [ 158    0    0    0    0    0    0]\n",
            " [ 274    0    0    0    0    0    0]\n",
            " [1835    0    0    0    0    0    0]\n",
            " [  70    0    0    0    0    0    0]\n",
            " [  26    0    0    0    0    0    0]]\n",
            "\n"
          ]
        },
        {
          "output_type": "stream",
          "name": "stderr",
          "text": [
            "/usr/local/lib/python3.10/dist-packages/sklearn/metrics/_classification.py:1531: UndefinedMetricWarning: Precision is ill-defined and being set to 0.0 in labels with no predicted samples. Use `zero_division` parameter to control this behavior.\n",
            "  _warn_prf(average, modifier, f\"{metric.capitalize()} is\", len(result))\n"
          ]
        },
        {
          "output_type": "stream",
          "name": "stdout",
          "text": [
            "skor ccp_alpha: 0.062, Akurasi: 0.80, Nilai F1: 0.71, Precision: 0.64, Recall: 0.80\n",
            "Confusion Matrix:\n",
            "[[9799    0    0    0    0    0    0]\n",
            " [  62    0    0    0    0    0    0]\n",
            " [ 158    0    0    0    0    0    0]\n",
            " [ 274    0    0    0    0    0    0]\n",
            " [1835    0    0    0    0    0    0]\n",
            " [  70    0    0    0    0    0    0]\n",
            " [  26    0    0    0    0    0    0]]\n",
            "\n"
          ]
        },
        {
          "output_type": "stream",
          "name": "stderr",
          "text": [
            "/usr/local/lib/python3.10/dist-packages/sklearn/metrics/_classification.py:1531: UndefinedMetricWarning: Precision is ill-defined and being set to 0.0 in labels with no predicted samples. Use `zero_division` parameter to control this behavior.\n",
            "  _warn_prf(average, modifier, f\"{metric.capitalize()} is\", len(result))\n"
          ]
        },
        {
          "output_type": "stream",
          "name": "stdout",
          "text": [
            "skor ccp_alpha: 0.063, Akurasi: 0.80, Nilai F1: 0.71, Precision: 0.64, Recall: 0.80\n",
            "Confusion Matrix:\n",
            "[[9799    0    0    0    0    0    0]\n",
            " [  62    0    0    0    0    0    0]\n",
            " [ 158    0    0    0    0    0    0]\n",
            " [ 274    0    0    0    0    0    0]\n",
            " [1835    0    0    0    0    0    0]\n",
            " [  70    0    0    0    0    0    0]\n",
            " [  26    0    0    0    0    0    0]]\n",
            "\n"
          ]
        },
        {
          "output_type": "stream",
          "name": "stderr",
          "text": [
            "/usr/local/lib/python3.10/dist-packages/sklearn/metrics/_classification.py:1531: UndefinedMetricWarning: Precision is ill-defined and being set to 0.0 in labels with no predicted samples. Use `zero_division` parameter to control this behavior.\n",
            "  _warn_prf(average, modifier, f\"{metric.capitalize()} is\", len(result))\n"
          ]
        },
        {
          "output_type": "stream",
          "name": "stdout",
          "text": [
            "skor ccp_alpha: 0.064, Akurasi: 0.80, Nilai F1: 0.71, Precision: 0.64, Recall: 0.80\n",
            "Confusion Matrix:\n",
            "[[9799    0    0    0    0    0    0]\n",
            " [  62    0    0    0    0    0    0]\n",
            " [ 158    0    0    0    0    0    0]\n",
            " [ 274    0    0    0    0    0    0]\n",
            " [1835    0    0    0    0    0    0]\n",
            " [  70    0    0    0    0    0    0]\n",
            " [  26    0    0    0    0    0    0]]\n",
            "\n"
          ]
        },
        {
          "output_type": "stream",
          "name": "stderr",
          "text": [
            "/usr/local/lib/python3.10/dist-packages/sklearn/metrics/_classification.py:1531: UndefinedMetricWarning: Precision is ill-defined and being set to 0.0 in labels with no predicted samples. Use `zero_division` parameter to control this behavior.\n",
            "  _warn_prf(average, modifier, f\"{metric.capitalize()} is\", len(result))\n"
          ]
        },
        {
          "output_type": "stream",
          "name": "stdout",
          "text": [
            "skor ccp_alpha: 0.065, Akurasi: 0.80, Nilai F1: 0.71, Precision: 0.64, Recall: 0.80\n",
            "Confusion Matrix:\n",
            "[[9799    0    0    0    0    0    0]\n",
            " [  62    0    0    0    0    0    0]\n",
            " [ 158    0    0    0    0    0    0]\n",
            " [ 274    0    0    0    0    0    0]\n",
            " [1835    0    0    0    0    0    0]\n",
            " [  70    0    0    0    0    0    0]\n",
            " [  26    0    0    0    0    0    0]]\n",
            "\n"
          ]
        },
        {
          "output_type": "stream",
          "name": "stderr",
          "text": [
            "/usr/local/lib/python3.10/dist-packages/sklearn/metrics/_classification.py:1531: UndefinedMetricWarning: Precision is ill-defined and being set to 0.0 in labels with no predicted samples. Use `zero_division` parameter to control this behavior.\n",
            "  _warn_prf(average, modifier, f\"{metric.capitalize()} is\", len(result))\n"
          ]
        },
        {
          "output_type": "stream",
          "name": "stdout",
          "text": [
            "skor ccp_alpha: 0.065, Akurasi: 0.80, Nilai F1: 0.71, Precision: 0.64, Recall: 0.80\n",
            "Confusion Matrix:\n",
            "[[9799    0    0    0    0    0    0]\n",
            " [  62    0    0    0    0    0    0]\n",
            " [ 158    0    0    0    0    0    0]\n",
            " [ 274    0    0    0    0    0    0]\n",
            " [1835    0    0    0    0    0    0]\n",
            " [  70    0    0    0    0    0    0]\n",
            " [  26    0    0    0    0    0    0]]\n",
            "\n"
          ]
        },
        {
          "output_type": "stream",
          "name": "stderr",
          "text": [
            "/usr/local/lib/python3.10/dist-packages/sklearn/metrics/_classification.py:1531: UndefinedMetricWarning: Precision is ill-defined and being set to 0.0 in labels with no predicted samples. Use `zero_division` parameter to control this behavior.\n",
            "  _warn_prf(average, modifier, f\"{metric.capitalize()} is\", len(result))\n"
          ]
        },
        {
          "output_type": "stream",
          "name": "stdout",
          "text": [
            "skor ccp_alpha: 0.066, Akurasi: 0.80, Nilai F1: 0.71, Precision: 0.64, Recall: 0.80\n",
            "Confusion Matrix:\n",
            "[[9799    0    0    0    0    0    0]\n",
            " [  62    0    0    0    0    0    0]\n",
            " [ 158    0    0    0    0    0    0]\n",
            " [ 274    0    0    0    0    0    0]\n",
            " [1835    0    0    0    0    0    0]\n",
            " [  70    0    0    0    0    0    0]\n",
            " [  26    0    0    0    0    0    0]]\n",
            "\n"
          ]
        },
        {
          "output_type": "stream",
          "name": "stderr",
          "text": [
            "/usr/local/lib/python3.10/dist-packages/sklearn/metrics/_classification.py:1531: UndefinedMetricWarning: Precision is ill-defined and being set to 0.0 in labels with no predicted samples. Use `zero_division` parameter to control this behavior.\n",
            "  _warn_prf(average, modifier, f\"{metric.capitalize()} is\", len(result))\n"
          ]
        },
        {
          "output_type": "stream",
          "name": "stdout",
          "text": [
            "skor ccp_alpha: 0.067, Akurasi: 0.80, Nilai F1: 0.71, Precision: 0.64, Recall: 0.80\n",
            "Confusion Matrix:\n",
            "[[9799    0    0    0    0    0    0]\n",
            " [  62    0    0    0    0    0    0]\n",
            " [ 158    0    0    0    0    0    0]\n",
            " [ 274    0    0    0    0    0    0]\n",
            " [1835    0    0    0    0    0    0]\n",
            " [  70    0    0    0    0    0    0]\n",
            " [  26    0    0    0    0    0    0]]\n",
            "\n"
          ]
        },
        {
          "output_type": "stream",
          "name": "stderr",
          "text": [
            "/usr/local/lib/python3.10/dist-packages/sklearn/metrics/_classification.py:1531: UndefinedMetricWarning: Precision is ill-defined and being set to 0.0 in labels with no predicted samples. Use `zero_division` parameter to control this behavior.\n",
            "  _warn_prf(average, modifier, f\"{metric.capitalize()} is\", len(result))\n"
          ]
        },
        {
          "output_type": "stream",
          "name": "stdout",
          "text": [
            "skor ccp_alpha: 0.068, Akurasi: 0.80, Nilai F1: 0.71, Precision: 0.64, Recall: 0.80\n",
            "Confusion Matrix:\n",
            "[[9799    0    0    0    0    0    0]\n",
            " [  62    0    0    0    0    0    0]\n",
            " [ 158    0    0    0    0    0    0]\n",
            " [ 274    0    0    0    0    0    0]\n",
            " [1835    0    0    0    0    0    0]\n",
            " [  70    0    0    0    0    0    0]\n",
            " [  26    0    0    0    0    0    0]]\n",
            "\n"
          ]
        },
        {
          "output_type": "stream",
          "name": "stderr",
          "text": [
            "/usr/local/lib/python3.10/dist-packages/sklearn/metrics/_classification.py:1531: UndefinedMetricWarning: Precision is ill-defined and being set to 0.0 in labels with no predicted samples. Use `zero_division` parameter to control this behavior.\n",
            "  _warn_prf(average, modifier, f\"{metric.capitalize()} is\", len(result))\n"
          ]
        },
        {
          "output_type": "stream",
          "name": "stdout",
          "text": [
            "skor ccp_alpha: 0.068, Akurasi: 0.80, Nilai F1: 0.71, Precision: 0.64, Recall: 0.80\n",
            "Confusion Matrix:\n",
            "[[9799    0    0    0    0    0    0]\n",
            " [  62    0    0    0    0    0    0]\n",
            " [ 158    0    0    0    0    0    0]\n",
            " [ 274    0    0    0    0    0    0]\n",
            " [1835    0    0    0    0    0    0]\n",
            " [  70    0    0    0    0    0    0]\n",
            " [  26    0    0    0    0    0    0]]\n",
            "\n"
          ]
        },
        {
          "output_type": "stream",
          "name": "stderr",
          "text": [
            "/usr/local/lib/python3.10/dist-packages/sklearn/metrics/_classification.py:1531: UndefinedMetricWarning: Precision is ill-defined and being set to 0.0 in labels with no predicted samples. Use `zero_division` parameter to control this behavior.\n",
            "  _warn_prf(average, modifier, f\"{metric.capitalize()} is\", len(result))\n"
          ]
        },
        {
          "output_type": "stream",
          "name": "stdout",
          "text": [
            "skor ccp_alpha: 0.069, Akurasi: 0.80, Nilai F1: 0.71, Precision: 0.64, Recall: 0.80\n",
            "Confusion Matrix:\n",
            "[[9799    0    0    0    0    0    0]\n",
            " [  62    0    0    0    0    0    0]\n",
            " [ 158    0    0    0    0    0    0]\n",
            " [ 274    0    0    0    0    0    0]\n",
            " [1835    0    0    0    0    0    0]\n",
            " [  70    0    0    0    0    0    0]\n",
            " [  26    0    0    0    0    0    0]]\n",
            "\n"
          ]
        },
        {
          "output_type": "stream",
          "name": "stderr",
          "text": [
            "/usr/local/lib/python3.10/dist-packages/sklearn/metrics/_classification.py:1531: UndefinedMetricWarning: Precision is ill-defined and being set to 0.0 in labels with no predicted samples. Use `zero_division` parameter to control this behavior.\n",
            "  _warn_prf(average, modifier, f\"{metric.capitalize()} is\", len(result))\n"
          ]
        },
        {
          "output_type": "stream",
          "name": "stdout",
          "text": [
            "skor ccp_alpha: 0.070, Akurasi: 0.80, Nilai F1: 0.71, Precision: 0.64, Recall: 0.80\n",
            "Confusion Matrix:\n",
            "[[9799    0    0    0    0    0    0]\n",
            " [  62    0    0    0    0    0    0]\n",
            " [ 158    0    0    0    0    0    0]\n",
            " [ 274    0    0    0    0    0    0]\n",
            " [1835    0    0    0    0    0    0]\n",
            " [  70    0    0    0    0    0    0]\n",
            " [  26    0    0    0    0    0    0]]\n",
            "\n"
          ]
        },
        {
          "output_type": "stream",
          "name": "stderr",
          "text": [
            "/usr/local/lib/python3.10/dist-packages/sklearn/metrics/_classification.py:1531: UndefinedMetricWarning: Precision is ill-defined and being set to 0.0 in labels with no predicted samples. Use `zero_division` parameter to control this behavior.\n",
            "  _warn_prf(average, modifier, f\"{metric.capitalize()} is\", len(result))\n"
          ]
        },
        {
          "output_type": "stream",
          "name": "stdout",
          "text": [
            "skor ccp_alpha: 0.071, Akurasi: 0.80, Nilai F1: 0.71, Precision: 0.64, Recall: 0.80\n",
            "Confusion Matrix:\n",
            "[[9799    0    0    0    0    0    0]\n",
            " [  62    0    0    0    0    0    0]\n",
            " [ 158    0    0    0    0    0    0]\n",
            " [ 274    0    0    0    0    0    0]\n",
            " [1835    0    0    0    0    0    0]\n",
            " [  70    0    0    0    0    0    0]\n",
            " [  26    0    0    0    0    0    0]]\n",
            "\n"
          ]
        },
        {
          "output_type": "stream",
          "name": "stderr",
          "text": [
            "/usr/local/lib/python3.10/dist-packages/sklearn/metrics/_classification.py:1531: UndefinedMetricWarning: Precision is ill-defined and being set to 0.0 in labels with no predicted samples. Use `zero_division` parameter to control this behavior.\n",
            "  _warn_prf(average, modifier, f\"{metric.capitalize()} is\", len(result))\n"
          ]
        },
        {
          "output_type": "stream",
          "name": "stdout",
          "text": [
            "skor ccp_alpha: 0.071, Akurasi: 0.80, Nilai F1: 0.71, Precision: 0.64, Recall: 0.80\n",
            "Confusion Matrix:\n",
            "[[9799    0    0    0    0    0    0]\n",
            " [  62    0    0    0    0    0    0]\n",
            " [ 158    0    0    0    0    0    0]\n",
            " [ 274    0    0    0    0    0    0]\n",
            " [1835    0    0    0    0    0    0]\n",
            " [  70    0    0    0    0    0    0]\n",
            " [  26    0    0    0    0    0    0]]\n",
            "\n"
          ]
        },
        {
          "output_type": "stream",
          "name": "stderr",
          "text": [
            "/usr/local/lib/python3.10/dist-packages/sklearn/metrics/_classification.py:1531: UndefinedMetricWarning: Precision is ill-defined and being set to 0.0 in labels with no predicted samples. Use `zero_division` parameter to control this behavior.\n",
            "  _warn_prf(average, modifier, f\"{metric.capitalize()} is\", len(result))\n"
          ]
        },
        {
          "output_type": "stream",
          "name": "stdout",
          "text": [
            "skor ccp_alpha: 0.072, Akurasi: 0.80, Nilai F1: 0.71, Precision: 0.64, Recall: 0.80\n",
            "Confusion Matrix:\n",
            "[[9799    0    0    0    0    0    0]\n",
            " [  62    0    0    0    0    0    0]\n",
            " [ 158    0    0    0    0    0    0]\n",
            " [ 274    0    0    0    0    0    0]\n",
            " [1835    0    0    0    0    0    0]\n",
            " [  70    0    0    0    0    0    0]\n",
            " [  26    0    0    0    0    0    0]]\n",
            "\n"
          ]
        },
        {
          "output_type": "stream",
          "name": "stderr",
          "text": [
            "/usr/local/lib/python3.10/dist-packages/sklearn/metrics/_classification.py:1531: UndefinedMetricWarning: Precision is ill-defined and being set to 0.0 in labels with no predicted samples. Use `zero_division` parameter to control this behavior.\n",
            "  _warn_prf(average, modifier, f\"{metric.capitalize()} is\", len(result))\n"
          ]
        },
        {
          "output_type": "stream",
          "name": "stdout",
          "text": [
            "skor ccp_alpha: 0.073, Akurasi: 0.80, Nilai F1: 0.71, Precision: 0.64, Recall: 0.80\n",
            "Confusion Matrix:\n",
            "[[9799    0    0    0    0    0    0]\n",
            " [  62    0    0    0    0    0    0]\n",
            " [ 158    0    0    0    0    0    0]\n",
            " [ 274    0    0    0    0    0    0]\n",
            " [1835    0    0    0    0    0    0]\n",
            " [  70    0    0    0    0    0    0]\n",
            " [  26    0    0    0    0    0    0]]\n",
            "\n"
          ]
        },
        {
          "output_type": "stream",
          "name": "stderr",
          "text": [
            "/usr/local/lib/python3.10/dist-packages/sklearn/metrics/_classification.py:1531: UndefinedMetricWarning: Precision is ill-defined and being set to 0.0 in labels with no predicted samples. Use `zero_division` parameter to control this behavior.\n",
            "  _warn_prf(average, modifier, f\"{metric.capitalize()} is\", len(result))\n"
          ]
        },
        {
          "output_type": "stream",
          "name": "stdout",
          "text": [
            "skor ccp_alpha: 0.074, Akurasi: 0.80, Nilai F1: 0.71, Precision: 0.64, Recall: 0.80\n",
            "Confusion Matrix:\n",
            "[[9799    0    0    0    0    0    0]\n",
            " [  62    0    0    0    0    0    0]\n",
            " [ 158    0    0    0    0    0    0]\n",
            " [ 274    0    0    0    0    0    0]\n",
            " [1835    0    0    0    0    0    0]\n",
            " [  70    0    0    0    0    0    0]\n",
            " [  26    0    0    0    0    0    0]]\n",
            "\n"
          ]
        },
        {
          "output_type": "stream",
          "name": "stderr",
          "text": [
            "/usr/local/lib/python3.10/dist-packages/sklearn/metrics/_classification.py:1531: UndefinedMetricWarning: Precision is ill-defined and being set to 0.0 in labels with no predicted samples. Use `zero_division` parameter to control this behavior.\n",
            "  _warn_prf(average, modifier, f\"{metric.capitalize()} is\", len(result))\n"
          ]
        },
        {
          "output_type": "stream",
          "name": "stdout",
          "text": [
            "skor ccp_alpha: 0.074, Akurasi: 0.80, Nilai F1: 0.71, Precision: 0.64, Recall: 0.80\n",
            "Confusion Matrix:\n",
            "[[9799    0    0    0    0    0    0]\n",
            " [  62    0    0    0    0    0    0]\n",
            " [ 158    0    0    0    0    0    0]\n",
            " [ 274    0    0    0    0    0    0]\n",
            " [1835    0    0    0    0    0    0]\n",
            " [  70    0    0    0    0    0    0]\n",
            " [  26    0    0    0    0    0    0]]\n",
            "\n"
          ]
        },
        {
          "output_type": "stream",
          "name": "stderr",
          "text": [
            "/usr/local/lib/python3.10/dist-packages/sklearn/metrics/_classification.py:1531: UndefinedMetricWarning: Precision is ill-defined and being set to 0.0 in labels with no predicted samples. Use `zero_division` parameter to control this behavior.\n",
            "  _warn_prf(average, modifier, f\"{metric.capitalize()} is\", len(result))\n"
          ]
        },
        {
          "output_type": "stream",
          "name": "stdout",
          "text": [
            "skor ccp_alpha: 0.075, Akurasi: 0.80, Nilai F1: 0.71, Precision: 0.64, Recall: 0.80\n",
            "Confusion Matrix:\n",
            "[[9799    0    0    0    0    0    0]\n",
            " [  62    0    0    0    0    0    0]\n",
            " [ 158    0    0    0    0    0    0]\n",
            " [ 274    0    0    0    0    0    0]\n",
            " [1835    0    0    0    0    0    0]\n",
            " [  70    0    0    0    0    0    0]\n",
            " [  26    0    0    0    0    0    0]]\n",
            "\n"
          ]
        },
        {
          "output_type": "stream",
          "name": "stderr",
          "text": [
            "/usr/local/lib/python3.10/dist-packages/sklearn/metrics/_classification.py:1531: UndefinedMetricWarning: Precision is ill-defined and being set to 0.0 in labels with no predicted samples. Use `zero_division` parameter to control this behavior.\n",
            "  _warn_prf(average, modifier, f\"{metric.capitalize()} is\", len(result))\n"
          ]
        },
        {
          "output_type": "stream",
          "name": "stdout",
          "text": [
            "skor ccp_alpha: 0.076, Akurasi: 0.80, Nilai F1: 0.71, Precision: 0.64, Recall: 0.80\n",
            "Confusion Matrix:\n",
            "[[9799    0    0    0    0    0    0]\n",
            " [  62    0    0    0    0    0    0]\n",
            " [ 158    0    0    0    0    0    0]\n",
            " [ 274    0    0    0    0    0    0]\n",
            " [1835    0    0    0    0    0    0]\n",
            " [  70    0    0    0    0    0    0]\n",
            " [  26    0    0    0    0    0    0]]\n",
            "\n"
          ]
        },
        {
          "output_type": "stream",
          "name": "stderr",
          "text": [
            "/usr/local/lib/python3.10/dist-packages/sklearn/metrics/_classification.py:1531: UndefinedMetricWarning: Precision is ill-defined and being set to 0.0 in labels with no predicted samples. Use `zero_division` parameter to control this behavior.\n",
            "  _warn_prf(average, modifier, f\"{metric.capitalize()} is\", len(result))\n"
          ]
        },
        {
          "output_type": "stream",
          "name": "stdout",
          "text": [
            "skor ccp_alpha: 0.077, Akurasi: 0.80, Nilai F1: 0.71, Precision: 0.64, Recall: 0.80\n",
            "Confusion Matrix:\n",
            "[[9799    0    0    0    0    0    0]\n",
            " [  62    0    0    0    0    0    0]\n",
            " [ 158    0    0    0    0    0    0]\n",
            " [ 274    0    0    0    0    0    0]\n",
            " [1835    0    0    0    0    0    0]\n",
            " [  70    0    0    0    0    0    0]\n",
            " [  26    0    0    0    0    0    0]]\n",
            "\n"
          ]
        },
        {
          "output_type": "stream",
          "name": "stderr",
          "text": [
            "/usr/local/lib/python3.10/dist-packages/sklearn/metrics/_classification.py:1531: UndefinedMetricWarning: Precision is ill-defined and being set to 0.0 in labels with no predicted samples. Use `zero_division` parameter to control this behavior.\n",
            "  _warn_prf(average, modifier, f\"{metric.capitalize()} is\", len(result))\n"
          ]
        },
        {
          "output_type": "stream",
          "name": "stdout",
          "text": [
            "skor ccp_alpha: 0.077, Akurasi: 0.80, Nilai F1: 0.71, Precision: 0.64, Recall: 0.80\n",
            "Confusion Matrix:\n",
            "[[9799    0    0    0    0    0    0]\n",
            " [  62    0    0    0    0    0    0]\n",
            " [ 158    0    0    0    0    0    0]\n",
            " [ 274    0    0    0    0    0    0]\n",
            " [1835    0    0    0    0    0    0]\n",
            " [  70    0    0    0    0    0    0]\n",
            " [  26    0    0    0    0    0    0]]\n",
            "\n"
          ]
        },
        {
          "output_type": "stream",
          "name": "stderr",
          "text": [
            "/usr/local/lib/python3.10/dist-packages/sklearn/metrics/_classification.py:1531: UndefinedMetricWarning: Precision is ill-defined and being set to 0.0 in labels with no predicted samples. Use `zero_division` parameter to control this behavior.\n",
            "  _warn_prf(average, modifier, f\"{metric.capitalize()} is\", len(result))\n"
          ]
        },
        {
          "output_type": "stream",
          "name": "stdout",
          "text": [
            "skor ccp_alpha: 0.078, Akurasi: 0.80, Nilai F1: 0.71, Precision: 0.64, Recall: 0.80\n",
            "Confusion Matrix:\n",
            "[[9799    0    0    0    0    0    0]\n",
            " [  62    0    0    0    0    0    0]\n",
            " [ 158    0    0    0    0    0    0]\n",
            " [ 274    0    0    0    0    0    0]\n",
            " [1835    0    0    0    0    0    0]\n",
            " [  70    0    0    0    0    0    0]\n",
            " [  26    0    0    0    0    0    0]]\n",
            "\n"
          ]
        },
        {
          "output_type": "stream",
          "name": "stderr",
          "text": [
            "/usr/local/lib/python3.10/dist-packages/sklearn/metrics/_classification.py:1531: UndefinedMetricWarning: Precision is ill-defined and being set to 0.0 in labels with no predicted samples. Use `zero_division` parameter to control this behavior.\n",
            "  _warn_prf(average, modifier, f\"{metric.capitalize()} is\", len(result))\n"
          ]
        },
        {
          "output_type": "stream",
          "name": "stdout",
          "text": [
            "skor ccp_alpha: 0.079, Akurasi: 0.80, Nilai F1: 0.71, Precision: 0.64, Recall: 0.80\n",
            "Confusion Matrix:\n",
            "[[9799    0    0    0    0    0    0]\n",
            " [  62    0    0    0    0    0    0]\n",
            " [ 158    0    0    0    0    0    0]\n",
            " [ 274    0    0    0    0    0    0]\n",
            " [1835    0    0    0    0    0    0]\n",
            " [  70    0    0    0    0    0    0]\n",
            " [  26    0    0    0    0    0    0]]\n",
            "\n"
          ]
        },
        {
          "output_type": "stream",
          "name": "stderr",
          "text": [
            "/usr/local/lib/python3.10/dist-packages/sklearn/metrics/_classification.py:1531: UndefinedMetricWarning: Precision is ill-defined and being set to 0.0 in labels with no predicted samples. Use `zero_division` parameter to control this behavior.\n",
            "  _warn_prf(average, modifier, f\"{metric.capitalize()} is\", len(result))\n"
          ]
        },
        {
          "output_type": "stream",
          "name": "stdout",
          "text": [
            "skor ccp_alpha: 0.080, Akurasi: 0.80, Nilai F1: 0.71, Precision: 0.64, Recall: 0.80\n",
            "Confusion Matrix:\n",
            "[[9799    0    0    0    0    0    0]\n",
            " [  62    0    0    0    0    0    0]\n",
            " [ 158    0    0    0    0    0    0]\n",
            " [ 274    0    0    0    0    0    0]\n",
            " [1835    0    0    0    0    0    0]\n",
            " [  70    0    0    0    0    0    0]\n",
            " [  26    0    0    0    0    0    0]]\n",
            "\n"
          ]
        },
        {
          "output_type": "stream",
          "name": "stderr",
          "text": [
            "/usr/local/lib/python3.10/dist-packages/sklearn/metrics/_classification.py:1531: UndefinedMetricWarning: Precision is ill-defined and being set to 0.0 in labels with no predicted samples. Use `zero_division` parameter to control this behavior.\n",
            "  _warn_prf(average, modifier, f\"{metric.capitalize()} is\", len(result))\n"
          ]
        },
        {
          "output_type": "stream",
          "name": "stdout",
          "text": [
            "skor ccp_alpha: 0.080, Akurasi: 0.80, Nilai F1: 0.71, Precision: 0.64, Recall: 0.80\n",
            "Confusion Matrix:\n",
            "[[9799    0    0    0    0    0    0]\n",
            " [  62    0    0    0    0    0    0]\n",
            " [ 158    0    0    0    0    0    0]\n",
            " [ 274    0    0    0    0    0    0]\n",
            " [1835    0    0    0    0    0    0]\n",
            " [  70    0    0    0    0    0    0]\n",
            " [  26    0    0    0    0    0    0]]\n",
            "\n"
          ]
        },
        {
          "output_type": "stream",
          "name": "stderr",
          "text": [
            "/usr/local/lib/python3.10/dist-packages/sklearn/metrics/_classification.py:1531: UndefinedMetricWarning: Precision is ill-defined and being set to 0.0 in labels with no predicted samples. Use `zero_division` parameter to control this behavior.\n",
            "  _warn_prf(average, modifier, f\"{metric.capitalize()} is\", len(result))\n"
          ]
        },
        {
          "output_type": "stream",
          "name": "stdout",
          "text": [
            "skor ccp_alpha: 0.081, Akurasi: 0.80, Nilai F1: 0.71, Precision: 0.64, Recall: 0.80\n",
            "Confusion Matrix:\n",
            "[[9799    0    0    0    0    0    0]\n",
            " [  62    0    0    0    0    0    0]\n",
            " [ 158    0    0    0    0    0    0]\n",
            " [ 274    0    0    0    0    0    0]\n",
            " [1835    0    0    0    0    0    0]\n",
            " [  70    0    0    0    0    0    0]\n",
            " [  26    0    0    0    0    0    0]]\n",
            "\n"
          ]
        },
        {
          "output_type": "stream",
          "name": "stderr",
          "text": [
            "/usr/local/lib/python3.10/dist-packages/sklearn/metrics/_classification.py:1531: UndefinedMetricWarning: Precision is ill-defined and being set to 0.0 in labels with no predicted samples. Use `zero_division` parameter to control this behavior.\n",
            "  _warn_prf(average, modifier, f\"{metric.capitalize()} is\", len(result))\n"
          ]
        },
        {
          "output_type": "stream",
          "name": "stdout",
          "text": [
            "skor ccp_alpha: 0.082, Akurasi: 0.80, Nilai F1: 0.71, Precision: 0.64, Recall: 0.80\n",
            "Confusion Matrix:\n",
            "[[9799    0    0    0    0    0    0]\n",
            " [  62    0    0    0    0    0    0]\n",
            " [ 158    0    0    0    0    0    0]\n",
            " [ 274    0    0    0    0    0    0]\n",
            " [1835    0    0    0    0    0    0]\n",
            " [  70    0    0    0    0    0    0]\n",
            " [  26    0    0    0    0    0    0]]\n",
            "\n"
          ]
        },
        {
          "output_type": "stream",
          "name": "stderr",
          "text": [
            "/usr/local/lib/python3.10/dist-packages/sklearn/metrics/_classification.py:1531: UndefinedMetricWarning: Precision is ill-defined and being set to 0.0 in labels with no predicted samples. Use `zero_division` parameter to control this behavior.\n",
            "  _warn_prf(average, modifier, f\"{metric.capitalize()} is\", len(result))\n"
          ]
        },
        {
          "output_type": "stream",
          "name": "stdout",
          "text": [
            "skor ccp_alpha: 0.083, Akurasi: 0.80, Nilai F1: 0.71, Precision: 0.64, Recall: 0.80\n",
            "Confusion Matrix:\n",
            "[[9799    0    0    0    0    0    0]\n",
            " [  62    0    0    0    0    0    0]\n",
            " [ 158    0    0    0    0    0    0]\n",
            " [ 274    0    0    0    0    0    0]\n",
            " [1835    0    0    0    0    0    0]\n",
            " [  70    0    0    0    0    0    0]\n",
            " [  26    0    0    0    0    0    0]]\n",
            "\n"
          ]
        },
        {
          "output_type": "stream",
          "name": "stderr",
          "text": [
            "/usr/local/lib/python3.10/dist-packages/sklearn/metrics/_classification.py:1531: UndefinedMetricWarning: Precision is ill-defined and being set to 0.0 in labels with no predicted samples. Use `zero_division` parameter to control this behavior.\n",
            "  _warn_prf(average, modifier, f\"{metric.capitalize()} is\", len(result))\n"
          ]
        },
        {
          "output_type": "stream",
          "name": "stdout",
          "text": [
            "skor ccp_alpha: 0.083, Akurasi: 0.80, Nilai F1: 0.71, Precision: 0.64, Recall: 0.80\n",
            "Confusion Matrix:\n",
            "[[9799    0    0    0    0    0    0]\n",
            " [  62    0    0    0    0    0    0]\n",
            " [ 158    0    0    0    0    0    0]\n",
            " [ 274    0    0    0    0    0    0]\n",
            " [1835    0    0    0    0    0    0]\n",
            " [  70    0    0    0    0    0    0]\n",
            " [  26    0    0    0    0    0    0]]\n",
            "\n"
          ]
        },
        {
          "output_type": "stream",
          "name": "stderr",
          "text": [
            "/usr/local/lib/python3.10/dist-packages/sklearn/metrics/_classification.py:1531: UndefinedMetricWarning: Precision is ill-defined and being set to 0.0 in labels with no predicted samples. Use `zero_division` parameter to control this behavior.\n",
            "  _warn_prf(average, modifier, f\"{metric.capitalize()} is\", len(result))\n"
          ]
        },
        {
          "output_type": "stream",
          "name": "stdout",
          "text": [
            "skor ccp_alpha: 0.084, Akurasi: 0.80, Nilai F1: 0.71, Precision: 0.64, Recall: 0.80\n",
            "Confusion Matrix:\n",
            "[[9799    0    0    0    0    0    0]\n",
            " [  62    0    0    0    0    0    0]\n",
            " [ 158    0    0    0    0    0    0]\n",
            " [ 274    0    0    0    0    0    0]\n",
            " [1835    0    0    0    0    0    0]\n",
            " [  70    0    0    0    0    0    0]\n",
            " [  26    0    0    0    0    0    0]]\n",
            "\n"
          ]
        },
        {
          "output_type": "stream",
          "name": "stderr",
          "text": [
            "/usr/local/lib/python3.10/dist-packages/sklearn/metrics/_classification.py:1531: UndefinedMetricWarning: Precision is ill-defined and being set to 0.0 in labels with no predicted samples. Use `zero_division` parameter to control this behavior.\n",
            "  _warn_prf(average, modifier, f\"{metric.capitalize()} is\", len(result))\n"
          ]
        },
        {
          "output_type": "stream",
          "name": "stdout",
          "text": [
            "skor ccp_alpha: 0.085, Akurasi: 0.80, Nilai F1: 0.71, Precision: 0.64, Recall: 0.80\n",
            "Confusion Matrix:\n",
            "[[9799    0    0    0    0    0    0]\n",
            " [  62    0    0    0    0    0    0]\n",
            " [ 158    0    0    0    0    0    0]\n",
            " [ 274    0    0    0    0    0    0]\n",
            " [1835    0    0    0    0    0    0]\n",
            " [  70    0    0    0    0    0    0]\n",
            " [  26    0    0    0    0    0    0]]\n",
            "\n"
          ]
        },
        {
          "output_type": "stream",
          "name": "stderr",
          "text": [
            "/usr/local/lib/python3.10/dist-packages/sklearn/metrics/_classification.py:1531: UndefinedMetricWarning: Precision is ill-defined and being set to 0.0 in labels with no predicted samples. Use `zero_division` parameter to control this behavior.\n",
            "  _warn_prf(average, modifier, f\"{metric.capitalize()} is\", len(result))\n"
          ]
        },
        {
          "output_type": "stream",
          "name": "stdout",
          "text": [
            "skor ccp_alpha: 0.086, Akurasi: 0.80, Nilai F1: 0.71, Precision: 0.64, Recall: 0.80\n",
            "Confusion Matrix:\n",
            "[[9799    0    0    0    0    0    0]\n",
            " [  62    0    0    0    0    0    0]\n",
            " [ 158    0    0    0    0    0    0]\n",
            " [ 274    0    0    0    0    0    0]\n",
            " [1835    0    0    0    0    0    0]\n",
            " [  70    0    0    0    0    0    0]\n",
            " [  26    0    0    0    0    0    0]]\n",
            "\n"
          ]
        },
        {
          "output_type": "stream",
          "name": "stderr",
          "text": [
            "/usr/local/lib/python3.10/dist-packages/sklearn/metrics/_classification.py:1531: UndefinedMetricWarning: Precision is ill-defined and being set to 0.0 in labels with no predicted samples. Use `zero_division` parameter to control this behavior.\n",
            "  _warn_prf(average, modifier, f\"{metric.capitalize()} is\", len(result))\n"
          ]
        },
        {
          "output_type": "stream",
          "name": "stdout",
          "text": [
            "skor ccp_alpha: 0.086, Akurasi: 0.80, Nilai F1: 0.71, Precision: 0.64, Recall: 0.80\n",
            "Confusion Matrix:\n",
            "[[9799    0    0    0    0    0    0]\n",
            " [  62    0    0    0    0    0    0]\n",
            " [ 158    0    0    0    0    0    0]\n",
            " [ 274    0    0    0    0    0    0]\n",
            " [1835    0    0    0    0    0    0]\n",
            " [  70    0    0    0    0    0    0]\n",
            " [  26    0    0    0    0    0    0]]\n",
            "\n"
          ]
        },
        {
          "output_type": "stream",
          "name": "stderr",
          "text": [
            "/usr/local/lib/python3.10/dist-packages/sklearn/metrics/_classification.py:1531: UndefinedMetricWarning: Precision is ill-defined and being set to 0.0 in labels with no predicted samples. Use `zero_division` parameter to control this behavior.\n",
            "  _warn_prf(average, modifier, f\"{metric.capitalize()} is\", len(result))\n"
          ]
        },
        {
          "output_type": "stream",
          "name": "stdout",
          "text": [
            "skor ccp_alpha: 0.087, Akurasi: 0.80, Nilai F1: 0.71, Precision: 0.64, Recall: 0.80\n",
            "Confusion Matrix:\n",
            "[[9799    0    0    0    0    0    0]\n",
            " [  62    0    0    0    0    0    0]\n",
            " [ 158    0    0    0    0    0    0]\n",
            " [ 274    0    0    0    0    0    0]\n",
            " [1835    0    0    0    0    0    0]\n",
            " [  70    0    0    0    0    0    0]\n",
            " [  26    0    0    0    0    0    0]]\n",
            "\n"
          ]
        },
        {
          "output_type": "stream",
          "name": "stderr",
          "text": [
            "/usr/local/lib/python3.10/dist-packages/sklearn/metrics/_classification.py:1531: UndefinedMetricWarning: Precision is ill-defined and being set to 0.0 in labels with no predicted samples. Use `zero_division` parameter to control this behavior.\n",
            "  _warn_prf(average, modifier, f\"{metric.capitalize()} is\", len(result))\n"
          ]
        },
        {
          "output_type": "stream",
          "name": "stdout",
          "text": [
            "skor ccp_alpha: 0.088, Akurasi: 0.80, Nilai F1: 0.71, Precision: 0.64, Recall: 0.80\n",
            "Confusion Matrix:\n",
            "[[9799    0    0    0    0    0    0]\n",
            " [  62    0    0    0    0    0    0]\n",
            " [ 158    0    0    0    0    0    0]\n",
            " [ 274    0    0    0    0    0    0]\n",
            " [1835    0    0    0    0    0    0]\n",
            " [  70    0    0    0    0    0    0]\n",
            " [  26    0    0    0    0    0    0]]\n",
            "\n"
          ]
        },
        {
          "output_type": "stream",
          "name": "stderr",
          "text": [
            "/usr/local/lib/python3.10/dist-packages/sklearn/metrics/_classification.py:1531: UndefinedMetricWarning: Precision is ill-defined and being set to 0.0 in labels with no predicted samples. Use `zero_division` parameter to control this behavior.\n",
            "  _warn_prf(average, modifier, f\"{metric.capitalize()} is\", len(result))\n"
          ]
        },
        {
          "output_type": "stream",
          "name": "stdout",
          "text": [
            "skor ccp_alpha: 0.089, Akurasi: 0.80, Nilai F1: 0.71, Precision: 0.64, Recall: 0.80\n",
            "Confusion Matrix:\n",
            "[[9799    0    0    0    0    0    0]\n",
            " [  62    0    0    0    0    0    0]\n",
            " [ 158    0    0    0    0    0    0]\n",
            " [ 274    0    0    0    0    0    0]\n",
            " [1835    0    0    0    0    0    0]\n",
            " [  70    0    0    0    0    0    0]\n",
            " [  26    0    0    0    0    0    0]]\n",
            "\n"
          ]
        },
        {
          "output_type": "stream",
          "name": "stderr",
          "text": [
            "/usr/local/lib/python3.10/dist-packages/sklearn/metrics/_classification.py:1531: UndefinedMetricWarning: Precision is ill-defined and being set to 0.0 in labels with no predicted samples. Use `zero_division` parameter to control this behavior.\n",
            "  _warn_prf(average, modifier, f\"{metric.capitalize()} is\", len(result))\n"
          ]
        },
        {
          "output_type": "stream",
          "name": "stdout",
          "text": [
            "skor ccp_alpha: 0.089, Akurasi: 0.80, Nilai F1: 0.71, Precision: 0.64, Recall: 0.80\n",
            "Confusion Matrix:\n",
            "[[9799    0    0    0    0    0    0]\n",
            " [  62    0    0    0    0    0    0]\n",
            " [ 158    0    0    0    0    0    0]\n",
            " [ 274    0    0    0    0    0    0]\n",
            " [1835    0    0    0    0    0    0]\n",
            " [  70    0    0    0    0    0    0]\n",
            " [  26    0    0    0    0    0    0]]\n",
            "\n"
          ]
        },
        {
          "output_type": "stream",
          "name": "stderr",
          "text": [
            "/usr/local/lib/python3.10/dist-packages/sklearn/metrics/_classification.py:1531: UndefinedMetricWarning: Precision is ill-defined and being set to 0.0 in labels with no predicted samples. Use `zero_division` parameter to control this behavior.\n",
            "  _warn_prf(average, modifier, f\"{metric.capitalize()} is\", len(result))\n"
          ]
        },
        {
          "output_type": "stream",
          "name": "stdout",
          "text": [
            "skor ccp_alpha: 0.090, Akurasi: 0.80, Nilai F1: 0.71, Precision: 0.64, Recall: 0.80\n",
            "Confusion Matrix:\n",
            "[[9799    0    0    0    0    0    0]\n",
            " [  62    0    0    0    0    0    0]\n",
            " [ 158    0    0    0    0    0    0]\n",
            " [ 274    0    0    0    0    0    0]\n",
            " [1835    0    0    0    0    0    0]\n",
            " [  70    0    0    0    0    0    0]\n",
            " [  26    0    0    0    0    0    0]]\n",
            "\n"
          ]
        },
        {
          "output_type": "stream",
          "name": "stderr",
          "text": [
            "/usr/local/lib/python3.10/dist-packages/sklearn/metrics/_classification.py:1531: UndefinedMetricWarning: Precision is ill-defined and being set to 0.0 in labels with no predicted samples. Use `zero_division` parameter to control this behavior.\n",
            "  _warn_prf(average, modifier, f\"{metric.capitalize()} is\", len(result))\n"
          ]
        },
        {
          "output_type": "stream",
          "name": "stdout",
          "text": [
            "skor ccp_alpha: 0.091, Akurasi: 0.80, Nilai F1: 0.71, Precision: 0.64, Recall: 0.80\n",
            "Confusion Matrix:\n",
            "[[9799    0    0    0    0    0    0]\n",
            " [  62    0    0    0    0    0    0]\n",
            " [ 158    0    0    0    0    0    0]\n",
            " [ 274    0    0    0    0    0    0]\n",
            " [1835    0    0    0    0    0    0]\n",
            " [  70    0    0    0    0    0    0]\n",
            " [  26    0    0    0    0    0    0]]\n",
            "\n"
          ]
        },
        {
          "output_type": "stream",
          "name": "stderr",
          "text": [
            "/usr/local/lib/python3.10/dist-packages/sklearn/metrics/_classification.py:1531: UndefinedMetricWarning: Precision is ill-defined and being set to 0.0 in labels with no predicted samples. Use `zero_division` parameter to control this behavior.\n",
            "  _warn_prf(average, modifier, f\"{metric.capitalize()} is\", len(result))\n"
          ]
        },
        {
          "output_type": "stream",
          "name": "stdout",
          "text": [
            "skor ccp_alpha: 0.092, Akurasi: 0.80, Nilai F1: 0.71, Precision: 0.64, Recall: 0.80\n",
            "Confusion Matrix:\n",
            "[[9799    0    0    0    0    0    0]\n",
            " [  62    0    0    0    0    0    0]\n",
            " [ 158    0    0    0    0    0    0]\n",
            " [ 274    0    0    0    0    0    0]\n",
            " [1835    0    0    0    0    0    0]\n",
            " [  70    0    0    0    0    0    0]\n",
            " [  26    0    0    0    0    0    0]]\n",
            "\n"
          ]
        },
        {
          "output_type": "stream",
          "name": "stderr",
          "text": [
            "/usr/local/lib/python3.10/dist-packages/sklearn/metrics/_classification.py:1531: UndefinedMetricWarning: Precision is ill-defined and being set to 0.0 in labels with no predicted samples. Use `zero_division` parameter to control this behavior.\n",
            "  _warn_prf(average, modifier, f\"{metric.capitalize()} is\", len(result))\n"
          ]
        },
        {
          "output_type": "stream",
          "name": "stdout",
          "text": [
            "skor ccp_alpha: 0.092, Akurasi: 0.80, Nilai F1: 0.71, Precision: 0.64, Recall: 0.80\n",
            "Confusion Matrix:\n",
            "[[9799    0    0    0    0    0    0]\n",
            " [  62    0    0    0    0    0    0]\n",
            " [ 158    0    0    0    0    0    0]\n",
            " [ 274    0    0    0    0    0    0]\n",
            " [1835    0    0    0    0    0    0]\n",
            " [  70    0    0    0    0    0    0]\n",
            " [  26    0    0    0    0    0    0]]\n",
            "\n"
          ]
        },
        {
          "output_type": "stream",
          "name": "stderr",
          "text": [
            "/usr/local/lib/python3.10/dist-packages/sklearn/metrics/_classification.py:1531: UndefinedMetricWarning: Precision is ill-defined and being set to 0.0 in labels with no predicted samples. Use `zero_division` parameter to control this behavior.\n",
            "  _warn_prf(average, modifier, f\"{metric.capitalize()} is\", len(result))\n"
          ]
        },
        {
          "output_type": "stream",
          "name": "stdout",
          "text": [
            "skor ccp_alpha: 0.093, Akurasi: 0.80, Nilai F1: 0.71, Precision: 0.64, Recall: 0.80\n",
            "Confusion Matrix:\n",
            "[[9799    0    0    0    0    0    0]\n",
            " [  62    0    0    0    0    0    0]\n",
            " [ 158    0    0    0    0    0    0]\n",
            " [ 274    0    0    0    0    0    0]\n",
            " [1835    0    0    0    0    0    0]\n",
            " [  70    0    0    0    0    0    0]\n",
            " [  26    0    0    0    0    0    0]]\n",
            "\n"
          ]
        },
        {
          "output_type": "stream",
          "name": "stderr",
          "text": [
            "/usr/local/lib/python3.10/dist-packages/sklearn/metrics/_classification.py:1531: UndefinedMetricWarning: Precision is ill-defined and being set to 0.0 in labels with no predicted samples. Use `zero_division` parameter to control this behavior.\n",
            "  _warn_prf(average, modifier, f\"{metric.capitalize()} is\", len(result))\n"
          ]
        },
        {
          "output_type": "stream",
          "name": "stdout",
          "text": [
            "skor ccp_alpha: 0.094, Akurasi: 0.80, Nilai F1: 0.71, Precision: 0.64, Recall: 0.80\n",
            "Confusion Matrix:\n",
            "[[9799    0    0    0    0    0    0]\n",
            " [  62    0    0    0    0    0    0]\n",
            " [ 158    0    0    0    0    0    0]\n",
            " [ 274    0    0    0    0    0    0]\n",
            " [1835    0    0    0    0    0    0]\n",
            " [  70    0    0    0    0    0    0]\n",
            " [  26    0    0    0    0    0    0]]\n",
            "\n"
          ]
        },
        {
          "output_type": "stream",
          "name": "stderr",
          "text": [
            "/usr/local/lib/python3.10/dist-packages/sklearn/metrics/_classification.py:1531: UndefinedMetricWarning: Precision is ill-defined and being set to 0.0 in labels with no predicted samples. Use `zero_division` parameter to control this behavior.\n",
            "  _warn_prf(average, modifier, f\"{metric.capitalize()} is\", len(result))\n"
          ]
        },
        {
          "output_type": "stream",
          "name": "stdout",
          "text": [
            "skor ccp_alpha: 0.095, Akurasi: 0.80, Nilai F1: 0.71, Precision: 0.64, Recall: 0.80\n",
            "Confusion Matrix:\n",
            "[[9799    0    0    0    0    0    0]\n",
            " [  62    0    0    0    0    0    0]\n",
            " [ 158    0    0    0    0    0    0]\n",
            " [ 274    0    0    0    0    0    0]\n",
            " [1835    0    0    0    0    0    0]\n",
            " [  70    0    0    0    0    0    0]\n",
            " [  26    0    0    0    0    0    0]]\n",
            "\n"
          ]
        },
        {
          "output_type": "stream",
          "name": "stderr",
          "text": [
            "/usr/local/lib/python3.10/dist-packages/sklearn/metrics/_classification.py:1531: UndefinedMetricWarning: Precision is ill-defined and being set to 0.0 in labels with no predicted samples. Use `zero_division` parameter to control this behavior.\n",
            "  _warn_prf(average, modifier, f\"{metric.capitalize()} is\", len(result))\n"
          ]
        },
        {
          "output_type": "stream",
          "name": "stdout",
          "text": [
            "skor ccp_alpha: 0.095, Akurasi: 0.80, Nilai F1: 0.71, Precision: 0.64, Recall: 0.80\n",
            "Confusion Matrix:\n",
            "[[9799    0    0    0    0    0    0]\n",
            " [  62    0    0    0    0    0    0]\n",
            " [ 158    0    0    0    0    0    0]\n",
            " [ 274    0    0    0    0    0    0]\n",
            " [1835    0    0    0    0    0    0]\n",
            " [  70    0    0    0    0    0    0]\n",
            " [  26    0    0    0    0    0    0]]\n",
            "\n"
          ]
        },
        {
          "output_type": "stream",
          "name": "stderr",
          "text": [
            "/usr/local/lib/python3.10/dist-packages/sklearn/metrics/_classification.py:1531: UndefinedMetricWarning: Precision is ill-defined and being set to 0.0 in labels with no predicted samples. Use `zero_division` parameter to control this behavior.\n",
            "  _warn_prf(average, modifier, f\"{metric.capitalize()} is\", len(result))\n"
          ]
        },
        {
          "output_type": "stream",
          "name": "stdout",
          "text": [
            "skor ccp_alpha: 0.096, Akurasi: 0.80, Nilai F1: 0.71, Precision: 0.64, Recall: 0.80\n",
            "Confusion Matrix:\n",
            "[[9799    0    0    0    0    0    0]\n",
            " [  62    0    0    0    0    0    0]\n",
            " [ 158    0    0    0    0    0    0]\n",
            " [ 274    0    0    0    0    0    0]\n",
            " [1835    0    0    0    0    0    0]\n",
            " [  70    0    0    0    0    0    0]\n",
            " [  26    0    0    0    0    0    0]]\n",
            "\n"
          ]
        },
        {
          "output_type": "stream",
          "name": "stderr",
          "text": [
            "/usr/local/lib/python3.10/dist-packages/sklearn/metrics/_classification.py:1531: UndefinedMetricWarning: Precision is ill-defined and being set to 0.0 in labels with no predicted samples. Use `zero_division` parameter to control this behavior.\n",
            "  _warn_prf(average, modifier, f\"{metric.capitalize()} is\", len(result))\n"
          ]
        },
        {
          "output_type": "stream",
          "name": "stdout",
          "text": [
            "skor ccp_alpha: 0.097, Akurasi: 0.80, Nilai F1: 0.71, Precision: 0.64, Recall: 0.80\n",
            "Confusion Matrix:\n",
            "[[9799    0    0    0    0    0    0]\n",
            " [  62    0    0    0    0    0    0]\n",
            " [ 158    0    0    0    0    0    0]\n",
            " [ 274    0    0    0    0    0    0]\n",
            " [1835    0    0    0    0    0    0]\n",
            " [  70    0    0    0    0    0    0]\n",
            " [  26    0    0    0    0    0    0]]\n",
            "\n"
          ]
        },
        {
          "output_type": "stream",
          "name": "stderr",
          "text": [
            "/usr/local/lib/python3.10/dist-packages/sklearn/metrics/_classification.py:1531: UndefinedMetricWarning: Precision is ill-defined and being set to 0.0 in labels with no predicted samples. Use `zero_division` parameter to control this behavior.\n",
            "  _warn_prf(average, modifier, f\"{metric.capitalize()} is\", len(result))\n"
          ]
        },
        {
          "output_type": "stream",
          "name": "stdout",
          "text": [
            "skor ccp_alpha: 0.098, Akurasi: 0.80, Nilai F1: 0.71, Precision: 0.64, Recall: 0.80\n",
            "Confusion Matrix:\n",
            "[[9799    0    0    0    0    0    0]\n",
            " [  62    0    0    0    0    0    0]\n",
            " [ 158    0    0    0    0    0    0]\n",
            " [ 274    0    0    0    0    0    0]\n",
            " [1835    0    0    0    0    0    0]\n",
            " [  70    0    0    0    0    0    0]\n",
            " [  26    0    0    0    0    0    0]]\n",
            "\n"
          ]
        },
        {
          "output_type": "stream",
          "name": "stderr",
          "text": [
            "/usr/local/lib/python3.10/dist-packages/sklearn/metrics/_classification.py:1531: UndefinedMetricWarning: Precision is ill-defined and being set to 0.0 in labels with no predicted samples. Use `zero_division` parameter to control this behavior.\n",
            "  _warn_prf(average, modifier, f\"{metric.capitalize()} is\", len(result))\n"
          ]
        },
        {
          "output_type": "stream",
          "name": "stdout",
          "text": [
            "skor ccp_alpha: 0.098, Akurasi: 0.80, Nilai F1: 0.71, Precision: 0.64, Recall: 0.80\n",
            "Confusion Matrix:\n",
            "[[9799    0    0    0    0    0    0]\n",
            " [  62    0    0    0    0    0    0]\n",
            " [ 158    0    0    0    0    0    0]\n",
            " [ 274    0    0    0    0    0    0]\n",
            " [1835    0    0    0    0    0    0]\n",
            " [  70    0    0    0    0    0    0]\n",
            " [  26    0    0    0    0    0    0]]\n",
            "\n"
          ]
        },
        {
          "output_type": "stream",
          "name": "stderr",
          "text": [
            "/usr/local/lib/python3.10/dist-packages/sklearn/metrics/_classification.py:1531: UndefinedMetricWarning: Precision is ill-defined and being set to 0.0 in labels with no predicted samples. Use `zero_division` parameter to control this behavior.\n",
            "  _warn_prf(average, modifier, f\"{metric.capitalize()} is\", len(result))\n"
          ]
        },
        {
          "output_type": "stream",
          "name": "stdout",
          "text": [
            "skor ccp_alpha: 0.099, Akurasi: 0.80, Nilai F1: 0.71, Precision: 0.64, Recall: 0.80\n",
            "Confusion Matrix:\n",
            "[[9799    0    0    0    0    0    0]\n",
            " [  62    0    0    0    0    0    0]\n",
            " [ 158    0    0    0    0    0    0]\n",
            " [ 274    0    0    0    0    0    0]\n",
            " [1835    0    0    0    0    0    0]\n",
            " [  70    0    0    0    0    0    0]\n",
            " [  26    0    0    0    0    0    0]]\n",
            "\n"
          ]
        },
        {
          "output_type": "stream",
          "name": "stderr",
          "text": [
            "/usr/local/lib/python3.10/dist-packages/sklearn/metrics/_classification.py:1531: UndefinedMetricWarning: Precision is ill-defined and being set to 0.0 in labels with no predicted samples. Use `zero_division` parameter to control this behavior.\n",
            "  _warn_prf(average, modifier, f\"{metric.capitalize()} is\", len(result))\n"
          ]
        },
        {
          "output_type": "stream",
          "name": "stdout",
          "text": [
            "skor ccp_alpha: 0.100, Akurasi: 0.80, Nilai F1: 0.71, Precision: 0.64, Recall: 0.80\n",
            "Confusion Matrix:\n",
            "[[9799    0    0    0    0    0    0]\n",
            " [  62    0    0    0    0    0    0]\n",
            " [ 158    0    0    0    0    0    0]\n",
            " [ 274    0    0    0    0    0    0]\n",
            " [1835    0    0    0    0    0    0]\n",
            " [  70    0    0    0    0    0    0]\n",
            " [  26    0    0    0    0    0    0]]\n",
            "\n"
          ]
        },
        {
          "output_type": "stream",
          "name": "stderr",
          "text": [
            "/usr/local/lib/python3.10/dist-packages/sklearn/metrics/_classification.py:1531: UndefinedMetricWarning: Precision is ill-defined and being set to 0.0 in labels with no predicted samples. Use `zero_division` parameter to control this behavior.\n",
            "  _warn_prf(average, modifier, f\"{metric.capitalize()} is\", len(result))\n"
          ]
        },
        {
          "output_type": "stream",
          "name": "stdout",
          "text": [
            "skor ccp_alpha: 0.101, Akurasi: 0.80, Nilai F1: 0.71, Precision: 0.64, Recall: 0.80\n",
            "Confusion Matrix:\n",
            "[[9799    0    0    0    0    0    0]\n",
            " [  62    0    0    0    0    0    0]\n",
            " [ 158    0    0    0    0    0    0]\n",
            " [ 274    0    0    0    0    0    0]\n",
            " [1835    0    0    0    0    0    0]\n",
            " [  70    0    0    0    0    0    0]\n",
            " [  26    0    0    0    0    0    0]]\n",
            "\n"
          ]
        },
        {
          "output_type": "stream",
          "name": "stderr",
          "text": [
            "/usr/local/lib/python3.10/dist-packages/sklearn/metrics/_classification.py:1531: UndefinedMetricWarning: Precision is ill-defined and being set to 0.0 in labels with no predicted samples. Use `zero_division` parameter to control this behavior.\n",
            "  _warn_prf(average, modifier, f\"{metric.capitalize()} is\", len(result))\n"
          ]
        },
        {
          "output_type": "stream",
          "name": "stdout",
          "text": [
            "skor ccp_alpha: 0.101, Akurasi: 0.80, Nilai F1: 0.71, Precision: 0.64, Recall: 0.80\n",
            "Confusion Matrix:\n",
            "[[9799    0    0    0    0    0    0]\n",
            " [  62    0    0    0    0    0    0]\n",
            " [ 158    0    0    0    0    0    0]\n",
            " [ 274    0    0    0    0    0    0]\n",
            " [1835    0    0    0    0    0    0]\n",
            " [  70    0    0    0    0    0    0]\n",
            " [  26    0    0    0    0    0    0]]\n",
            "\n"
          ]
        },
        {
          "output_type": "stream",
          "name": "stderr",
          "text": [
            "/usr/local/lib/python3.10/dist-packages/sklearn/metrics/_classification.py:1531: UndefinedMetricWarning: Precision is ill-defined and being set to 0.0 in labels with no predicted samples. Use `zero_division` parameter to control this behavior.\n",
            "  _warn_prf(average, modifier, f\"{metric.capitalize()} is\", len(result))\n"
          ]
        },
        {
          "output_type": "stream",
          "name": "stdout",
          "text": [
            "skor ccp_alpha: 0.102, Akurasi: 0.80, Nilai F1: 0.71, Precision: 0.64, Recall: 0.80\n",
            "Confusion Matrix:\n",
            "[[9799    0    0    0    0    0    0]\n",
            " [  62    0    0    0    0    0    0]\n",
            " [ 158    0    0    0    0    0    0]\n",
            " [ 274    0    0    0    0    0    0]\n",
            " [1835    0    0    0    0    0    0]\n",
            " [  70    0    0    0    0    0    0]\n",
            " [  26    0    0    0    0    0    0]]\n",
            "\n"
          ]
        },
        {
          "output_type": "stream",
          "name": "stderr",
          "text": [
            "/usr/local/lib/python3.10/dist-packages/sklearn/metrics/_classification.py:1531: UndefinedMetricWarning: Precision is ill-defined and being set to 0.0 in labels with no predicted samples. Use `zero_division` parameter to control this behavior.\n",
            "  _warn_prf(average, modifier, f\"{metric.capitalize()} is\", len(result))\n"
          ]
        },
        {
          "output_type": "stream",
          "name": "stdout",
          "text": [
            "skor ccp_alpha: 0.103, Akurasi: 0.80, Nilai F1: 0.71, Precision: 0.64, Recall: 0.80\n",
            "Confusion Matrix:\n",
            "[[9799    0    0    0    0    0    0]\n",
            " [  62    0    0    0    0    0    0]\n",
            " [ 158    0    0    0    0    0    0]\n",
            " [ 274    0    0    0    0    0    0]\n",
            " [1835    0    0    0    0    0    0]\n",
            " [  70    0    0    0    0    0    0]\n",
            " [  26    0    0    0    0    0    0]]\n",
            "\n"
          ]
        },
        {
          "output_type": "stream",
          "name": "stderr",
          "text": [
            "/usr/local/lib/python3.10/dist-packages/sklearn/metrics/_classification.py:1531: UndefinedMetricWarning: Precision is ill-defined and being set to 0.0 in labels with no predicted samples. Use `zero_division` parameter to control this behavior.\n",
            "  _warn_prf(average, modifier, f\"{metric.capitalize()} is\", len(result))\n"
          ]
        },
        {
          "output_type": "stream",
          "name": "stdout",
          "text": [
            "skor ccp_alpha: 0.104, Akurasi: 0.80, Nilai F1: 0.71, Precision: 0.64, Recall: 0.80\n",
            "Confusion Matrix:\n",
            "[[9799    0    0    0    0    0    0]\n",
            " [  62    0    0    0    0    0    0]\n",
            " [ 158    0    0    0    0    0    0]\n",
            " [ 274    0    0    0    0    0    0]\n",
            " [1835    0    0    0    0    0    0]\n",
            " [  70    0    0    0    0    0    0]\n",
            " [  26    0    0    0    0    0    0]]\n",
            "\n"
          ]
        },
        {
          "output_type": "stream",
          "name": "stderr",
          "text": [
            "/usr/local/lib/python3.10/dist-packages/sklearn/metrics/_classification.py:1531: UndefinedMetricWarning: Precision is ill-defined and being set to 0.0 in labels with no predicted samples. Use `zero_division` parameter to control this behavior.\n",
            "  _warn_prf(average, modifier, f\"{metric.capitalize()} is\", len(result))\n"
          ]
        },
        {
          "output_type": "stream",
          "name": "stdout",
          "text": [
            "skor ccp_alpha: 0.104, Akurasi: 0.80, Nilai F1: 0.71, Precision: 0.64, Recall: 0.80\n",
            "Confusion Matrix:\n",
            "[[9799    0    0    0    0    0    0]\n",
            " [  62    0    0    0    0    0    0]\n",
            " [ 158    0    0    0    0    0    0]\n",
            " [ 274    0    0    0    0    0    0]\n",
            " [1835    0    0    0    0    0    0]\n",
            " [  70    0    0    0    0    0    0]\n",
            " [  26    0    0    0    0    0    0]]\n",
            "\n"
          ]
        },
        {
          "output_type": "stream",
          "name": "stderr",
          "text": [
            "/usr/local/lib/python3.10/dist-packages/sklearn/metrics/_classification.py:1531: UndefinedMetricWarning: Precision is ill-defined and being set to 0.0 in labels with no predicted samples. Use `zero_division` parameter to control this behavior.\n",
            "  _warn_prf(average, modifier, f\"{metric.capitalize()} is\", len(result))\n"
          ]
        },
        {
          "output_type": "stream",
          "name": "stdout",
          "text": [
            "skor ccp_alpha: 0.105, Akurasi: 0.80, Nilai F1: 0.71, Precision: 0.64, Recall: 0.80\n",
            "Confusion Matrix:\n",
            "[[9799    0    0    0    0    0    0]\n",
            " [  62    0    0    0    0    0    0]\n",
            " [ 158    0    0    0    0    0    0]\n",
            " [ 274    0    0    0    0    0    0]\n",
            " [1835    0    0    0    0    0    0]\n",
            " [  70    0    0    0    0    0    0]\n",
            " [  26    0    0    0    0    0    0]]\n",
            "\n"
          ]
        },
        {
          "output_type": "stream",
          "name": "stderr",
          "text": [
            "/usr/local/lib/python3.10/dist-packages/sklearn/metrics/_classification.py:1531: UndefinedMetricWarning: Precision is ill-defined and being set to 0.0 in labels with no predicted samples. Use `zero_division` parameter to control this behavior.\n",
            "  _warn_prf(average, modifier, f\"{metric.capitalize()} is\", len(result))\n"
          ]
        },
        {
          "output_type": "stream",
          "name": "stdout",
          "text": [
            "skor ccp_alpha: 0.106, Akurasi: 0.80, Nilai F1: 0.71, Precision: 0.64, Recall: 0.80\n",
            "Confusion Matrix:\n",
            "[[9799    0    0    0    0    0    0]\n",
            " [  62    0    0    0    0    0    0]\n",
            " [ 158    0    0    0    0    0    0]\n",
            " [ 274    0    0    0    0    0    0]\n",
            " [1835    0    0    0    0    0    0]\n",
            " [  70    0    0    0    0    0    0]\n",
            " [  26    0    0    0    0    0    0]]\n",
            "\n"
          ]
        },
        {
          "output_type": "stream",
          "name": "stderr",
          "text": [
            "/usr/local/lib/python3.10/dist-packages/sklearn/metrics/_classification.py:1531: UndefinedMetricWarning: Precision is ill-defined and being set to 0.0 in labels with no predicted samples. Use `zero_division` parameter to control this behavior.\n",
            "  _warn_prf(average, modifier, f\"{metric.capitalize()} is\", len(result))\n"
          ]
        },
        {
          "output_type": "stream",
          "name": "stdout",
          "text": [
            "skor ccp_alpha: 0.107, Akurasi: 0.80, Nilai F1: 0.71, Precision: 0.64, Recall: 0.80\n",
            "Confusion Matrix:\n",
            "[[9799    0    0    0    0    0    0]\n",
            " [  62    0    0    0    0    0    0]\n",
            " [ 158    0    0    0    0    0    0]\n",
            " [ 274    0    0    0    0    0    0]\n",
            " [1835    0    0    0    0    0    0]\n",
            " [  70    0    0    0    0    0    0]\n",
            " [  26    0    0    0    0    0    0]]\n",
            "\n"
          ]
        },
        {
          "output_type": "stream",
          "name": "stderr",
          "text": [
            "/usr/local/lib/python3.10/dist-packages/sklearn/metrics/_classification.py:1531: UndefinedMetricWarning: Precision is ill-defined and being set to 0.0 in labels with no predicted samples. Use `zero_division` parameter to control this behavior.\n",
            "  _warn_prf(average, modifier, f\"{metric.capitalize()} is\", len(result))\n"
          ]
        },
        {
          "output_type": "stream",
          "name": "stdout",
          "text": [
            "skor ccp_alpha: 0.107, Akurasi: 0.80, Nilai F1: 0.71, Precision: 0.64, Recall: 0.80\n",
            "Confusion Matrix:\n",
            "[[9799    0    0    0    0    0    0]\n",
            " [  62    0    0    0    0    0    0]\n",
            " [ 158    0    0    0    0    0    0]\n",
            " [ 274    0    0    0    0    0    0]\n",
            " [1835    0    0    0    0    0    0]\n",
            " [  70    0    0    0    0    0    0]\n",
            " [  26    0    0    0    0    0    0]]\n",
            "\n"
          ]
        },
        {
          "output_type": "stream",
          "name": "stderr",
          "text": [
            "/usr/local/lib/python3.10/dist-packages/sklearn/metrics/_classification.py:1531: UndefinedMetricWarning: Precision is ill-defined and being set to 0.0 in labels with no predicted samples. Use `zero_division` parameter to control this behavior.\n",
            "  _warn_prf(average, modifier, f\"{metric.capitalize()} is\", len(result))\n"
          ]
        },
        {
          "output_type": "stream",
          "name": "stdout",
          "text": [
            "skor ccp_alpha: 0.108, Akurasi: 0.80, Nilai F1: 0.71, Precision: 0.64, Recall: 0.80\n",
            "Confusion Matrix:\n",
            "[[9799    0    0    0    0    0    0]\n",
            " [  62    0    0    0    0    0    0]\n",
            " [ 158    0    0    0    0    0    0]\n",
            " [ 274    0    0    0    0    0    0]\n",
            " [1835    0    0    0    0    0    0]\n",
            " [  70    0    0    0    0    0    0]\n",
            " [  26    0    0    0    0    0    0]]\n",
            "\n"
          ]
        },
        {
          "output_type": "stream",
          "name": "stderr",
          "text": [
            "/usr/local/lib/python3.10/dist-packages/sklearn/metrics/_classification.py:1531: UndefinedMetricWarning: Precision is ill-defined and being set to 0.0 in labels with no predicted samples. Use `zero_division` parameter to control this behavior.\n",
            "  _warn_prf(average, modifier, f\"{metric.capitalize()} is\", len(result))\n"
          ]
        },
        {
          "output_type": "stream",
          "name": "stdout",
          "text": [
            "skor ccp_alpha: 0.109, Akurasi: 0.80, Nilai F1: 0.71, Precision: 0.64, Recall: 0.80\n",
            "Confusion Matrix:\n",
            "[[9799    0    0    0    0    0    0]\n",
            " [  62    0    0    0    0    0    0]\n",
            " [ 158    0    0    0    0    0    0]\n",
            " [ 274    0    0    0    0    0    0]\n",
            " [1835    0    0    0    0    0    0]\n",
            " [  70    0    0    0    0    0    0]\n",
            " [  26    0    0    0    0    0    0]]\n",
            "\n"
          ]
        },
        {
          "output_type": "stream",
          "name": "stderr",
          "text": [
            "/usr/local/lib/python3.10/dist-packages/sklearn/metrics/_classification.py:1531: UndefinedMetricWarning: Precision is ill-defined and being set to 0.0 in labels with no predicted samples. Use `zero_division` parameter to control this behavior.\n",
            "  _warn_prf(average, modifier, f\"{metric.capitalize()} is\", len(result))\n"
          ]
        },
        {
          "output_type": "stream",
          "name": "stdout",
          "text": [
            "skor ccp_alpha: 0.110, Akurasi: 0.80, Nilai F1: 0.71, Precision: 0.64, Recall: 0.80\n",
            "Confusion Matrix:\n",
            "[[9799    0    0    0    0    0    0]\n",
            " [  62    0    0    0    0    0    0]\n",
            " [ 158    0    0    0    0    0    0]\n",
            " [ 274    0    0    0    0    0    0]\n",
            " [1835    0    0    0    0    0    0]\n",
            " [  70    0    0    0    0    0    0]\n",
            " [  26    0    0    0    0    0    0]]\n",
            "\n"
          ]
        },
        {
          "output_type": "stream",
          "name": "stderr",
          "text": [
            "/usr/local/lib/python3.10/dist-packages/sklearn/metrics/_classification.py:1531: UndefinedMetricWarning: Precision is ill-defined and being set to 0.0 in labels with no predicted samples. Use `zero_division` parameter to control this behavior.\n",
            "  _warn_prf(average, modifier, f\"{metric.capitalize()} is\", len(result))\n"
          ]
        },
        {
          "output_type": "stream",
          "name": "stdout",
          "text": [
            "skor ccp_alpha: 0.110, Akurasi: 0.80, Nilai F1: 0.71, Precision: 0.64, Recall: 0.80\n",
            "Confusion Matrix:\n",
            "[[9799    0    0    0    0    0    0]\n",
            " [  62    0    0    0    0    0    0]\n",
            " [ 158    0    0    0    0    0    0]\n",
            " [ 274    0    0    0    0    0    0]\n",
            " [1835    0    0    0    0    0    0]\n",
            " [  70    0    0    0    0    0    0]\n",
            " [  26    0    0    0    0    0    0]]\n",
            "\n"
          ]
        },
        {
          "output_type": "stream",
          "name": "stderr",
          "text": [
            "/usr/local/lib/python3.10/dist-packages/sklearn/metrics/_classification.py:1531: UndefinedMetricWarning: Precision is ill-defined and being set to 0.0 in labels with no predicted samples. Use `zero_division` parameter to control this behavior.\n",
            "  _warn_prf(average, modifier, f\"{metric.capitalize()} is\", len(result))\n"
          ]
        },
        {
          "output_type": "stream",
          "name": "stdout",
          "text": [
            "skor ccp_alpha: 0.111, Akurasi: 0.80, Nilai F1: 0.71, Precision: 0.64, Recall: 0.80\n",
            "Confusion Matrix:\n",
            "[[9799    0    0    0    0    0    0]\n",
            " [  62    0    0    0    0    0    0]\n",
            " [ 158    0    0    0    0    0    0]\n",
            " [ 274    0    0    0    0    0    0]\n",
            " [1835    0    0    0    0    0    0]\n",
            " [  70    0    0    0    0    0    0]\n",
            " [  26    0    0    0    0    0    0]]\n",
            "\n"
          ]
        },
        {
          "output_type": "stream",
          "name": "stderr",
          "text": [
            "/usr/local/lib/python3.10/dist-packages/sklearn/metrics/_classification.py:1531: UndefinedMetricWarning: Precision is ill-defined and being set to 0.0 in labels with no predicted samples. Use `zero_division` parameter to control this behavior.\n",
            "  _warn_prf(average, modifier, f\"{metric.capitalize()} is\", len(result))\n"
          ]
        },
        {
          "output_type": "stream",
          "name": "stdout",
          "text": [
            "skor ccp_alpha: 0.112, Akurasi: 0.80, Nilai F1: 0.71, Precision: 0.64, Recall: 0.80\n",
            "Confusion Matrix:\n",
            "[[9799    0    0    0    0    0    0]\n",
            " [  62    0    0    0    0    0    0]\n",
            " [ 158    0    0    0    0    0    0]\n",
            " [ 274    0    0    0    0    0    0]\n",
            " [1835    0    0    0    0    0    0]\n",
            " [  70    0    0    0    0    0    0]\n",
            " [  26    0    0    0    0    0    0]]\n",
            "\n"
          ]
        },
        {
          "output_type": "stream",
          "name": "stderr",
          "text": [
            "/usr/local/lib/python3.10/dist-packages/sklearn/metrics/_classification.py:1531: UndefinedMetricWarning: Precision is ill-defined and being set to 0.0 in labels with no predicted samples. Use `zero_division` parameter to control this behavior.\n",
            "  _warn_prf(average, modifier, f\"{metric.capitalize()} is\", len(result))\n"
          ]
        },
        {
          "output_type": "stream",
          "name": "stdout",
          "text": [
            "skor ccp_alpha: 0.113, Akurasi: 0.80, Nilai F1: 0.71, Precision: 0.64, Recall: 0.80\n",
            "Confusion Matrix:\n",
            "[[9799    0    0    0    0    0    0]\n",
            " [  62    0    0    0    0    0    0]\n",
            " [ 158    0    0    0    0    0    0]\n",
            " [ 274    0    0    0    0    0    0]\n",
            " [1835    0    0    0    0    0    0]\n",
            " [  70    0    0    0    0    0    0]\n",
            " [  26    0    0    0    0    0    0]]\n",
            "\n"
          ]
        },
        {
          "output_type": "stream",
          "name": "stderr",
          "text": [
            "/usr/local/lib/python3.10/dist-packages/sklearn/metrics/_classification.py:1531: UndefinedMetricWarning: Precision is ill-defined and being set to 0.0 in labels with no predicted samples. Use `zero_division` parameter to control this behavior.\n",
            "  _warn_prf(average, modifier, f\"{metric.capitalize()} is\", len(result))\n"
          ]
        },
        {
          "output_type": "stream",
          "name": "stdout",
          "text": [
            "skor ccp_alpha: 0.113, Akurasi: 0.80, Nilai F1: 0.71, Precision: 0.64, Recall: 0.80\n",
            "Confusion Matrix:\n",
            "[[9799    0    0    0    0    0    0]\n",
            " [  62    0    0    0    0    0    0]\n",
            " [ 158    0    0    0    0    0    0]\n",
            " [ 274    0    0    0    0    0    0]\n",
            " [1835    0    0    0    0    0    0]\n",
            " [  70    0    0    0    0    0    0]\n",
            " [  26    0    0    0    0    0    0]]\n",
            "\n"
          ]
        },
        {
          "output_type": "stream",
          "name": "stderr",
          "text": [
            "/usr/local/lib/python3.10/dist-packages/sklearn/metrics/_classification.py:1531: UndefinedMetricWarning: Precision is ill-defined and being set to 0.0 in labels with no predicted samples. Use `zero_division` parameter to control this behavior.\n",
            "  _warn_prf(average, modifier, f\"{metric.capitalize()} is\", len(result))\n"
          ]
        },
        {
          "output_type": "stream",
          "name": "stdout",
          "text": [
            "skor ccp_alpha: 0.114, Akurasi: 0.80, Nilai F1: 0.71, Precision: 0.64, Recall: 0.80\n",
            "Confusion Matrix:\n",
            "[[9799    0    0    0    0    0    0]\n",
            " [  62    0    0    0    0    0    0]\n",
            " [ 158    0    0    0    0    0    0]\n",
            " [ 274    0    0    0    0    0    0]\n",
            " [1835    0    0    0    0    0    0]\n",
            " [  70    0    0    0    0    0    0]\n",
            " [  26    0    0    0    0    0    0]]\n",
            "\n"
          ]
        },
        {
          "output_type": "stream",
          "name": "stderr",
          "text": [
            "/usr/local/lib/python3.10/dist-packages/sklearn/metrics/_classification.py:1531: UndefinedMetricWarning: Precision is ill-defined and being set to 0.0 in labels with no predicted samples. Use `zero_division` parameter to control this behavior.\n",
            "  _warn_prf(average, modifier, f\"{metric.capitalize()} is\", len(result))\n"
          ]
        },
        {
          "output_type": "stream",
          "name": "stdout",
          "text": [
            "skor ccp_alpha: 0.115, Akurasi: 0.80, Nilai F1: 0.71, Precision: 0.64, Recall: 0.80\n",
            "Confusion Matrix:\n",
            "[[9799    0    0    0    0    0    0]\n",
            " [  62    0    0    0    0    0    0]\n",
            " [ 158    0    0    0    0    0    0]\n",
            " [ 274    0    0    0    0    0    0]\n",
            " [1835    0    0    0    0    0    0]\n",
            " [  70    0    0    0    0    0    0]\n",
            " [  26    0    0    0    0    0    0]]\n",
            "\n"
          ]
        },
        {
          "output_type": "stream",
          "name": "stderr",
          "text": [
            "/usr/local/lib/python3.10/dist-packages/sklearn/metrics/_classification.py:1531: UndefinedMetricWarning: Precision is ill-defined and being set to 0.0 in labels with no predicted samples. Use `zero_division` parameter to control this behavior.\n",
            "  _warn_prf(average, modifier, f\"{metric.capitalize()} is\", len(result))\n"
          ]
        },
        {
          "output_type": "stream",
          "name": "stdout",
          "text": [
            "skor ccp_alpha: 0.116, Akurasi: 0.80, Nilai F1: 0.71, Precision: 0.64, Recall: 0.80\n",
            "Confusion Matrix:\n",
            "[[9799    0    0    0    0    0    0]\n",
            " [  62    0    0    0    0    0    0]\n",
            " [ 158    0    0    0    0    0    0]\n",
            " [ 274    0    0    0    0    0    0]\n",
            " [1835    0    0    0    0    0    0]\n",
            " [  70    0    0    0    0    0    0]\n",
            " [  26    0    0    0    0    0    0]]\n",
            "\n"
          ]
        },
        {
          "output_type": "stream",
          "name": "stderr",
          "text": [
            "/usr/local/lib/python3.10/dist-packages/sklearn/metrics/_classification.py:1531: UndefinedMetricWarning: Precision is ill-defined and being set to 0.0 in labels with no predicted samples. Use `zero_division` parameter to control this behavior.\n",
            "  _warn_prf(average, modifier, f\"{metric.capitalize()} is\", len(result))\n"
          ]
        },
        {
          "output_type": "stream",
          "name": "stdout",
          "text": [
            "skor ccp_alpha: 0.116, Akurasi: 0.80, Nilai F1: 0.71, Precision: 0.64, Recall: 0.80\n",
            "Confusion Matrix:\n",
            "[[9799    0    0    0    0    0    0]\n",
            " [  62    0    0    0    0    0    0]\n",
            " [ 158    0    0    0    0    0    0]\n",
            " [ 274    0    0    0    0    0    0]\n",
            " [1835    0    0    0    0    0    0]\n",
            " [  70    0    0    0    0    0    0]\n",
            " [  26    0    0    0    0    0    0]]\n",
            "\n"
          ]
        },
        {
          "output_type": "stream",
          "name": "stderr",
          "text": [
            "/usr/local/lib/python3.10/dist-packages/sklearn/metrics/_classification.py:1531: UndefinedMetricWarning: Precision is ill-defined and being set to 0.0 in labels with no predicted samples. Use `zero_division` parameter to control this behavior.\n",
            "  _warn_prf(average, modifier, f\"{metric.capitalize()} is\", len(result))\n"
          ]
        },
        {
          "output_type": "stream",
          "name": "stdout",
          "text": [
            "skor ccp_alpha: 0.117, Akurasi: 0.80, Nilai F1: 0.71, Precision: 0.64, Recall: 0.80\n",
            "Confusion Matrix:\n",
            "[[9799    0    0    0    0    0    0]\n",
            " [  62    0    0    0    0    0    0]\n",
            " [ 158    0    0    0    0    0    0]\n",
            " [ 274    0    0    0    0    0    0]\n",
            " [1835    0    0    0    0    0    0]\n",
            " [  70    0    0    0    0    0    0]\n",
            " [  26    0    0    0    0    0    0]]\n",
            "\n"
          ]
        },
        {
          "output_type": "stream",
          "name": "stderr",
          "text": [
            "/usr/local/lib/python3.10/dist-packages/sklearn/metrics/_classification.py:1531: UndefinedMetricWarning: Precision is ill-defined and being set to 0.0 in labels with no predicted samples. Use `zero_division` parameter to control this behavior.\n",
            "  _warn_prf(average, modifier, f\"{metric.capitalize()} is\", len(result))\n"
          ]
        },
        {
          "output_type": "stream",
          "name": "stdout",
          "text": [
            "skor ccp_alpha: 0.118, Akurasi: 0.80, Nilai F1: 0.71, Precision: 0.64, Recall: 0.80\n",
            "Confusion Matrix:\n",
            "[[9799    0    0    0    0    0    0]\n",
            " [  62    0    0    0    0    0    0]\n",
            " [ 158    0    0    0    0    0    0]\n",
            " [ 274    0    0    0    0    0    0]\n",
            " [1835    0    0    0    0    0    0]\n",
            " [  70    0    0    0    0    0    0]\n",
            " [  26    0    0    0    0    0    0]]\n",
            "\n"
          ]
        },
        {
          "output_type": "stream",
          "name": "stderr",
          "text": [
            "/usr/local/lib/python3.10/dist-packages/sklearn/metrics/_classification.py:1531: UndefinedMetricWarning: Precision is ill-defined and being set to 0.0 in labels with no predicted samples. Use `zero_division` parameter to control this behavior.\n",
            "  _warn_prf(average, modifier, f\"{metric.capitalize()} is\", len(result))\n"
          ]
        },
        {
          "output_type": "stream",
          "name": "stdout",
          "text": [
            "skor ccp_alpha: 0.119, Akurasi: 0.80, Nilai F1: 0.71, Precision: 0.64, Recall: 0.80\n",
            "Confusion Matrix:\n",
            "[[9799    0    0    0    0    0    0]\n",
            " [  62    0    0    0    0    0    0]\n",
            " [ 158    0    0    0    0    0    0]\n",
            " [ 274    0    0    0    0    0    0]\n",
            " [1835    0    0    0    0    0    0]\n",
            " [  70    0    0    0    0    0    0]\n",
            " [  26    0    0    0    0    0    0]]\n",
            "\n"
          ]
        },
        {
          "output_type": "stream",
          "name": "stderr",
          "text": [
            "/usr/local/lib/python3.10/dist-packages/sklearn/metrics/_classification.py:1531: UndefinedMetricWarning: Precision is ill-defined and being set to 0.0 in labels with no predicted samples. Use `zero_division` parameter to control this behavior.\n",
            "  _warn_prf(average, modifier, f\"{metric.capitalize()} is\", len(result))\n"
          ]
        },
        {
          "output_type": "stream",
          "name": "stdout",
          "text": [
            "skor ccp_alpha: 0.119, Akurasi: 0.80, Nilai F1: 0.71, Precision: 0.64, Recall: 0.80\n",
            "Confusion Matrix:\n",
            "[[9799    0    0    0    0    0    0]\n",
            " [  62    0    0    0    0    0    0]\n",
            " [ 158    0    0    0    0    0    0]\n",
            " [ 274    0    0    0    0    0    0]\n",
            " [1835    0    0    0    0    0    0]\n",
            " [  70    0    0    0    0    0    0]\n",
            " [  26    0    0    0    0    0    0]]\n",
            "\n"
          ]
        },
        {
          "output_type": "stream",
          "name": "stderr",
          "text": [
            "/usr/local/lib/python3.10/dist-packages/sklearn/metrics/_classification.py:1531: UndefinedMetricWarning: Precision is ill-defined and being set to 0.0 in labels with no predicted samples. Use `zero_division` parameter to control this behavior.\n",
            "  _warn_prf(average, modifier, f\"{metric.capitalize()} is\", len(result))\n"
          ]
        },
        {
          "output_type": "stream",
          "name": "stdout",
          "text": [
            "skor ccp_alpha: 0.120, Akurasi: 0.80, Nilai F1: 0.71, Precision: 0.64, Recall: 0.80\n",
            "Confusion Matrix:\n",
            "[[9799    0    0    0    0    0    0]\n",
            " [  62    0    0    0    0    0    0]\n",
            " [ 158    0    0    0    0    0    0]\n",
            " [ 274    0    0    0    0    0    0]\n",
            " [1835    0    0    0    0    0    0]\n",
            " [  70    0    0    0    0    0    0]\n",
            " [  26    0    0    0    0    0    0]]\n",
            "\n"
          ]
        },
        {
          "output_type": "stream",
          "name": "stderr",
          "text": [
            "/usr/local/lib/python3.10/dist-packages/sklearn/metrics/_classification.py:1531: UndefinedMetricWarning: Precision is ill-defined and being set to 0.0 in labels with no predicted samples. Use `zero_division` parameter to control this behavior.\n",
            "  _warn_prf(average, modifier, f\"{metric.capitalize()} is\", len(result))\n"
          ]
        },
        {
          "output_type": "stream",
          "name": "stdout",
          "text": [
            "skor ccp_alpha: 0.121, Akurasi: 0.80, Nilai F1: 0.71, Precision: 0.64, Recall: 0.80\n",
            "Confusion Matrix:\n",
            "[[9799    0    0    0    0    0    0]\n",
            " [  62    0    0    0    0    0    0]\n",
            " [ 158    0    0    0    0    0    0]\n",
            " [ 274    0    0    0    0    0    0]\n",
            " [1835    0    0    0    0    0    0]\n",
            " [  70    0    0    0    0    0    0]\n",
            " [  26    0    0    0    0    0    0]]\n",
            "\n"
          ]
        },
        {
          "output_type": "stream",
          "name": "stderr",
          "text": [
            "/usr/local/lib/python3.10/dist-packages/sklearn/metrics/_classification.py:1531: UndefinedMetricWarning: Precision is ill-defined and being set to 0.0 in labels with no predicted samples. Use `zero_division` parameter to control this behavior.\n",
            "  _warn_prf(average, modifier, f\"{metric.capitalize()} is\", len(result))\n"
          ]
        },
        {
          "output_type": "stream",
          "name": "stdout",
          "text": [
            "skor ccp_alpha: 0.122, Akurasi: 0.80, Nilai F1: 0.71, Precision: 0.64, Recall: 0.80\n",
            "Confusion Matrix:\n",
            "[[9799    0    0    0    0    0    0]\n",
            " [  62    0    0    0    0    0    0]\n",
            " [ 158    0    0    0    0    0    0]\n",
            " [ 274    0    0    0    0    0    0]\n",
            " [1835    0    0    0    0    0    0]\n",
            " [  70    0    0    0    0    0    0]\n",
            " [  26    0    0    0    0    0    0]]\n",
            "\n"
          ]
        },
        {
          "output_type": "stream",
          "name": "stderr",
          "text": [
            "/usr/local/lib/python3.10/dist-packages/sklearn/metrics/_classification.py:1531: UndefinedMetricWarning: Precision is ill-defined and being set to 0.0 in labels with no predicted samples. Use `zero_division` parameter to control this behavior.\n",
            "  _warn_prf(average, modifier, f\"{metric.capitalize()} is\", len(result))\n"
          ]
        },
        {
          "output_type": "stream",
          "name": "stdout",
          "text": [
            "skor ccp_alpha: 0.122, Akurasi: 0.80, Nilai F1: 0.71, Precision: 0.64, Recall: 0.80\n",
            "Confusion Matrix:\n",
            "[[9799    0    0    0    0    0    0]\n",
            " [  62    0    0    0    0    0    0]\n",
            " [ 158    0    0    0    0    0    0]\n",
            " [ 274    0    0    0    0    0    0]\n",
            " [1835    0    0    0    0    0    0]\n",
            " [  70    0    0    0    0    0    0]\n",
            " [  26    0    0    0    0    0    0]]\n",
            "\n"
          ]
        },
        {
          "output_type": "stream",
          "name": "stderr",
          "text": [
            "/usr/local/lib/python3.10/dist-packages/sklearn/metrics/_classification.py:1531: UndefinedMetricWarning: Precision is ill-defined and being set to 0.0 in labels with no predicted samples. Use `zero_division` parameter to control this behavior.\n",
            "  _warn_prf(average, modifier, f\"{metric.capitalize()} is\", len(result))\n"
          ]
        },
        {
          "output_type": "stream",
          "name": "stdout",
          "text": [
            "skor ccp_alpha: 0.123, Akurasi: 0.80, Nilai F1: 0.71, Precision: 0.64, Recall: 0.80\n",
            "Confusion Matrix:\n",
            "[[9799    0    0    0    0    0    0]\n",
            " [  62    0    0    0    0    0    0]\n",
            " [ 158    0    0    0    0    0    0]\n",
            " [ 274    0    0    0    0    0    0]\n",
            " [1835    0    0    0    0    0    0]\n",
            " [  70    0    0    0    0    0    0]\n",
            " [  26    0    0    0    0    0    0]]\n",
            "\n"
          ]
        },
        {
          "output_type": "stream",
          "name": "stderr",
          "text": [
            "/usr/local/lib/python3.10/dist-packages/sklearn/metrics/_classification.py:1531: UndefinedMetricWarning: Precision is ill-defined and being set to 0.0 in labels with no predicted samples. Use `zero_division` parameter to control this behavior.\n",
            "  _warn_prf(average, modifier, f\"{metric.capitalize()} is\", len(result))\n"
          ]
        },
        {
          "output_type": "stream",
          "name": "stdout",
          "text": [
            "skor ccp_alpha: 0.124, Akurasi: 0.80, Nilai F1: 0.71, Precision: 0.64, Recall: 0.80\n",
            "Confusion Matrix:\n",
            "[[9799    0    0    0    0    0    0]\n",
            " [  62    0    0    0    0    0    0]\n",
            " [ 158    0    0    0    0    0    0]\n",
            " [ 274    0    0    0    0    0    0]\n",
            " [1835    0    0    0    0    0    0]\n",
            " [  70    0    0    0    0    0    0]\n",
            " [  26    0    0    0    0    0    0]]\n",
            "\n"
          ]
        },
        {
          "output_type": "stream",
          "name": "stderr",
          "text": [
            "/usr/local/lib/python3.10/dist-packages/sklearn/metrics/_classification.py:1531: UndefinedMetricWarning: Precision is ill-defined and being set to 0.0 in labels with no predicted samples. Use `zero_division` parameter to control this behavior.\n",
            "  _warn_prf(average, modifier, f\"{metric.capitalize()} is\", len(result))\n"
          ]
        },
        {
          "output_type": "stream",
          "name": "stdout",
          "text": [
            "skor ccp_alpha: 0.125, Akurasi: 0.80, Nilai F1: 0.71, Precision: 0.64, Recall: 0.80\n",
            "Confusion Matrix:\n",
            "[[9799    0    0    0    0    0    0]\n",
            " [  62    0    0    0    0    0    0]\n",
            " [ 158    0    0    0    0    0    0]\n",
            " [ 274    0    0    0    0    0    0]\n",
            " [1835    0    0    0    0    0    0]\n",
            " [  70    0    0    0    0    0    0]\n",
            " [  26    0    0    0    0    0    0]]\n",
            "\n"
          ]
        },
        {
          "output_type": "stream",
          "name": "stderr",
          "text": [
            "/usr/local/lib/python3.10/dist-packages/sklearn/metrics/_classification.py:1531: UndefinedMetricWarning: Precision is ill-defined and being set to 0.0 in labels with no predicted samples. Use `zero_division` parameter to control this behavior.\n",
            "  _warn_prf(average, modifier, f\"{metric.capitalize()} is\", len(result))\n"
          ]
        },
        {
          "output_type": "stream",
          "name": "stdout",
          "text": [
            "skor ccp_alpha: 0.125, Akurasi: 0.80, Nilai F1: 0.71, Precision: 0.64, Recall: 0.80\n",
            "Confusion Matrix:\n",
            "[[9799    0    0    0    0    0    0]\n",
            " [  62    0    0    0    0    0    0]\n",
            " [ 158    0    0    0    0    0    0]\n",
            " [ 274    0    0    0    0    0    0]\n",
            " [1835    0    0    0    0    0    0]\n",
            " [  70    0    0    0    0    0    0]\n",
            " [  26    0    0    0    0    0    0]]\n",
            "\n"
          ]
        },
        {
          "output_type": "stream",
          "name": "stderr",
          "text": [
            "/usr/local/lib/python3.10/dist-packages/sklearn/metrics/_classification.py:1531: UndefinedMetricWarning: Precision is ill-defined and being set to 0.0 in labels with no predicted samples. Use `zero_division` parameter to control this behavior.\n",
            "  _warn_prf(average, modifier, f\"{metric.capitalize()} is\", len(result))\n"
          ]
        },
        {
          "output_type": "stream",
          "name": "stdout",
          "text": [
            "skor ccp_alpha: 0.126, Akurasi: 0.80, Nilai F1: 0.71, Precision: 0.64, Recall: 0.80\n",
            "Confusion Matrix:\n",
            "[[9799    0    0    0    0    0    0]\n",
            " [  62    0    0    0    0    0    0]\n",
            " [ 158    0    0    0    0    0    0]\n",
            " [ 274    0    0    0    0    0    0]\n",
            " [1835    0    0    0    0    0    0]\n",
            " [  70    0    0    0    0    0    0]\n",
            " [  26    0    0    0    0    0    0]]\n",
            "\n"
          ]
        },
        {
          "output_type": "stream",
          "name": "stderr",
          "text": [
            "/usr/local/lib/python3.10/dist-packages/sklearn/metrics/_classification.py:1531: UndefinedMetricWarning: Precision is ill-defined and being set to 0.0 in labels with no predicted samples. Use `zero_division` parameter to control this behavior.\n",
            "  _warn_prf(average, modifier, f\"{metric.capitalize()} is\", len(result))\n"
          ]
        },
        {
          "output_type": "stream",
          "name": "stdout",
          "text": [
            "skor ccp_alpha: 0.127, Akurasi: 0.80, Nilai F1: 0.71, Precision: 0.64, Recall: 0.80\n",
            "Confusion Matrix:\n",
            "[[9799    0    0    0    0    0    0]\n",
            " [  62    0    0    0    0    0    0]\n",
            " [ 158    0    0    0    0    0    0]\n",
            " [ 274    0    0    0    0    0    0]\n",
            " [1835    0    0    0    0    0    0]\n",
            " [  70    0    0    0    0    0    0]\n",
            " [  26    0    0    0    0    0    0]]\n",
            "\n"
          ]
        },
        {
          "output_type": "stream",
          "name": "stderr",
          "text": [
            "/usr/local/lib/python3.10/dist-packages/sklearn/metrics/_classification.py:1531: UndefinedMetricWarning: Precision is ill-defined and being set to 0.0 in labels with no predicted samples. Use `zero_division` parameter to control this behavior.\n",
            "  _warn_prf(average, modifier, f\"{metric.capitalize()} is\", len(result))\n"
          ]
        },
        {
          "output_type": "stream",
          "name": "stdout",
          "text": [
            "skor ccp_alpha: 0.128, Akurasi: 0.80, Nilai F1: 0.71, Precision: 0.64, Recall: 0.80\n",
            "Confusion Matrix:\n",
            "[[9799    0    0    0    0    0    0]\n",
            " [  62    0    0    0    0    0    0]\n",
            " [ 158    0    0    0    0    0    0]\n",
            " [ 274    0    0    0    0    0    0]\n",
            " [1835    0    0    0    0    0    0]\n",
            " [  70    0    0    0    0    0    0]\n",
            " [  26    0    0    0    0    0    0]]\n",
            "\n"
          ]
        },
        {
          "output_type": "stream",
          "name": "stderr",
          "text": [
            "/usr/local/lib/python3.10/dist-packages/sklearn/metrics/_classification.py:1531: UndefinedMetricWarning: Precision is ill-defined and being set to 0.0 in labels with no predicted samples. Use `zero_division` parameter to control this behavior.\n",
            "  _warn_prf(average, modifier, f\"{metric.capitalize()} is\", len(result))\n"
          ]
        },
        {
          "output_type": "stream",
          "name": "stdout",
          "text": [
            "skor ccp_alpha: 0.128, Akurasi: 0.80, Nilai F1: 0.71, Precision: 0.64, Recall: 0.80\n",
            "Confusion Matrix:\n",
            "[[9799    0    0    0    0    0    0]\n",
            " [  62    0    0    0    0    0    0]\n",
            " [ 158    0    0    0    0    0    0]\n",
            " [ 274    0    0    0    0    0    0]\n",
            " [1835    0    0    0    0    0    0]\n",
            " [  70    0    0    0    0    0    0]\n",
            " [  26    0    0    0    0    0    0]]\n",
            "\n"
          ]
        },
        {
          "output_type": "stream",
          "name": "stderr",
          "text": [
            "/usr/local/lib/python3.10/dist-packages/sklearn/metrics/_classification.py:1531: UndefinedMetricWarning: Precision is ill-defined and being set to 0.0 in labels with no predicted samples. Use `zero_division` parameter to control this behavior.\n",
            "  _warn_prf(average, modifier, f\"{metric.capitalize()} is\", len(result))\n"
          ]
        },
        {
          "output_type": "stream",
          "name": "stdout",
          "text": [
            "skor ccp_alpha: 0.129, Akurasi: 0.80, Nilai F1: 0.71, Precision: 0.64, Recall: 0.80\n",
            "Confusion Matrix:\n",
            "[[9799    0    0    0    0    0    0]\n",
            " [  62    0    0    0    0    0    0]\n",
            " [ 158    0    0    0    0    0    0]\n",
            " [ 274    0    0    0    0    0    0]\n",
            " [1835    0    0    0    0    0    0]\n",
            " [  70    0    0    0    0    0    0]\n",
            " [  26    0    0    0    0    0    0]]\n",
            "\n"
          ]
        },
        {
          "output_type": "stream",
          "name": "stderr",
          "text": [
            "/usr/local/lib/python3.10/dist-packages/sklearn/metrics/_classification.py:1531: UndefinedMetricWarning: Precision is ill-defined and being set to 0.0 in labels with no predicted samples. Use `zero_division` parameter to control this behavior.\n",
            "  _warn_prf(average, modifier, f\"{metric.capitalize()} is\", len(result))\n"
          ]
        },
        {
          "output_type": "stream",
          "name": "stdout",
          "text": [
            "skor ccp_alpha: 0.130, Akurasi: 0.80, Nilai F1: 0.71, Precision: 0.64, Recall: 0.80\n",
            "Confusion Matrix:\n",
            "[[9799    0    0    0    0    0    0]\n",
            " [  62    0    0    0    0    0    0]\n",
            " [ 158    0    0    0    0    0    0]\n",
            " [ 274    0    0    0    0    0    0]\n",
            " [1835    0    0    0    0    0    0]\n",
            " [  70    0    0    0    0    0    0]\n",
            " [  26    0    0    0    0    0    0]]\n",
            "\n"
          ]
        },
        {
          "output_type": "stream",
          "name": "stderr",
          "text": [
            "/usr/local/lib/python3.10/dist-packages/sklearn/metrics/_classification.py:1531: UndefinedMetricWarning: Precision is ill-defined and being set to 0.0 in labels with no predicted samples. Use `zero_division` parameter to control this behavior.\n",
            "  _warn_prf(average, modifier, f\"{metric.capitalize()} is\", len(result))\n"
          ]
        },
        {
          "output_type": "stream",
          "name": "stdout",
          "text": [
            "skor ccp_alpha: 0.131, Akurasi: 0.80, Nilai F1: 0.71, Precision: 0.64, Recall: 0.80\n",
            "Confusion Matrix:\n",
            "[[9799    0    0    0    0    0    0]\n",
            " [  62    0    0    0    0    0    0]\n",
            " [ 158    0    0    0    0    0    0]\n",
            " [ 274    0    0    0    0    0    0]\n",
            " [1835    0    0    0    0    0    0]\n",
            " [  70    0    0    0    0    0    0]\n",
            " [  26    0    0    0    0    0    0]]\n",
            "\n"
          ]
        },
        {
          "output_type": "stream",
          "name": "stderr",
          "text": [
            "/usr/local/lib/python3.10/dist-packages/sklearn/metrics/_classification.py:1531: UndefinedMetricWarning: Precision is ill-defined and being set to 0.0 in labels with no predicted samples. Use `zero_division` parameter to control this behavior.\n",
            "  _warn_prf(average, modifier, f\"{metric.capitalize()} is\", len(result))\n"
          ]
        },
        {
          "output_type": "stream",
          "name": "stdout",
          "text": [
            "skor ccp_alpha: 0.131, Akurasi: 0.80, Nilai F1: 0.71, Precision: 0.64, Recall: 0.80\n",
            "Confusion Matrix:\n",
            "[[9799    0    0    0    0    0    0]\n",
            " [  62    0    0    0    0    0    0]\n",
            " [ 158    0    0    0    0    0    0]\n",
            " [ 274    0    0    0    0    0    0]\n",
            " [1835    0    0    0    0    0    0]\n",
            " [  70    0    0    0    0    0    0]\n",
            " [  26    0    0    0    0    0    0]]\n",
            "\n"
          ]
        },
        {
          "output_type": "stream",
          "name": "stderr",
          "text": [
            "/usr/local/lib/python3.10/dist-packages/sklearn/metrics/_classification.py:1531: UndefinedMetricWarning: Precision is ill-defined and being set to 0.0 in labels with no predicted samples. Use `zero_division` parameter to control this behavior.\n",
            "  _warn_prf(average, modifier, f\"{metric.capitalize()} is\", len(result))\n"
          ]
        },
        {
          "output_type": "stream",
          "name": "stdout",
          "text": [
            "skor ccp_alpha: 0.132, Akurasi: 0.80, Nilai F1: 0.71, Precision: 0.64, Recall: 0.80\n",
            "Confusion Matrix:\n",
            "[[9799    0    0    0    0    0    0]\n",
            " [  62    0    0    0    0    0    0]\n",
            " [ 158    0    0    0    0    0    0]\n",
            " [ 274    0    0    0    0    0    0]\n",
            " [1835    0    0    0    0    0    0]\n",
            " [  70    0    0    0    0    0    0]\n",
            " [  26    0    0    0    0    0    0]]\n",
            "\n"
          ]
        },
        {
          "output_type": "stream",
          "name": "stderr",
          "text": [
            "/usr/local/lib/python3.10/dist-packages/sklearn/metrics/_classification.py:1531: UndefinedMetricWarning: Precision is ill-defined and being set to 0.0 in labels with no predicted samples. Use `zero_division` parameter to control this behavior.\n",
            "  _warn_prf(average, modifier, f\"{metric.capitalize()} is\", len(result))\n"
          ]
        },
        {
          "output_type": "stream",
          "name": "stdout",
          "text": [
            "skor ccp_alpha: 0.133, Akurasi: 0.80, Nilai F1: 0.71, Precision: 0.64, Recall: 0.80\n",
            "Confusion Matrix:\n",
            "[[9799    0    0    0    0    0    0]\n",
            " [  62    0    0    0    0    0    0]\n",
            " [ 158    0    0    0    0    0    0]\n",
            " [ 274    0    0    0    0    0    0]\n",
            " [1835    0    0    0    0    0    0]\n",
            " [  70    0    0    0    0    0    0]\n",
            " [  26    0    0    0    0    0    0]]\n",
            "\n"
          ]
        },
        {
          "output_type": "stream",
          "name": "stderr",
          "text": [
            "/usr/local/lib/python3.10/dist-packages/sklearn/metrics/_classification.py:1531: UndefinedMetricWarning: Precision is ill-defined and being set to 0.0 in labels with no predicted samples. Use `zero_division` parameter to control this behavior.\n",
            "  _warn_prf(average, modifier, f\"{metric.capitalize()} is\", len(result))\n"
          ]
        },
        {
          "output_type": "stream",
          "name": "stdout",
          "text": [
            "skor ccp_alpha: 0.134, Akurasi: 0.80, Nilai F1: 0.71, Precision: 0.64, Recall: 0.80\n",
            "Confusion Matrix:\n",
            "[[9799    0    0    0    0    0    0]\n",
            " [  62    0    0    0    0    0    0]\n",
            " [ 158    0    0    0    0    0    0]\n",
            " [ 274    0    0    0    0    0    0]\n",
            " [1835    0    0    0    0    0    0]\n",
            " [  70    0    0    0    0    0    0]\n",
            " [  26    0    0    0    0    0    0]]\n",
            "\n"
          ]
        },
        {
          "output_type": "stream",
          "name": "stderr",
          "text": [
            "/usr/local/lib/python3.10/dist-packages/sklearn/metrics/_classification.py:1531: UndefinedMetricWarning: Precision is ill-defined and being set to 0.0 in labels with no predicted samples. Use `zero_division` parameter to control this behavior.\n",
            "  _warn_prf(average, modifier, f\"{metric.capitalize()} is\", len(result))\n"
          ]
        },
        {
          "output_type": "stream",
          "name": "stdout",
          "text": [
            "skor ccp_alpha: 0.134, Akurasi: 0.80, Nilai F1: 0.71, Precision: 0.64, Recall: 0.80\n",
            "Confusion Matrix:\n",
            "[[9799    0    0    0    0    0    0]\n",
            " [  62    0    0    0    0    0    0]\n",
            " [ 158    0    0    0    0    0    0]\n",
            " [ 274    0    0    0    0    0    0]\n",
            " [1835    0    0    0    0    0    0]\n",
            " [  70    0    0    0    0    0    0]\n",
            " [  26    0    0    0    0    0    0]]\n",
            "\n"
          ]
        },
        {
          "output_type": "stream",
          "name": "stderr",
          "text": [
            "/usr/local/lib/python3.10/dist-packages/sklearn/metrics/_classification.py:1531: UndefinedMetricWarning: Precision is ill-defined and being set to 0.0 in labels with no predicted samples. Use `zero_division` parameter to control this behavior.\n",
            "  _warn_prf(average, modifier, f\"{metric.capitalize()} is\", len(result))\n"
          ]
        },
        {
          "output_type": "stream",
          "name": "stdout",
          "text": [
            "skor ccp_alpha: 0.135, Akurasi: 0.80, Nilai F1: 0.71, Precision: 0.64, Recall: 0.80\n",
            "Confusion Matrix:\n",
            "[[9799    0    0    0    0    0    0]\n",
            " [  62    0    0    0    0    0    0]\n",
            " [ 158    0    0    0    0    0    0]\n",
            " [ 274    0    0    0    0    0    0]\n",
            " [1835    0    0    0    0    0    0]\n",
            " [  70    0    0    0    0    0    0]\n",
            " [  26    0    0    0    0    0    0]]\n",
            "\n"
          ]
        },
        {
          "output_type": "stream",
          "name": "stderr",
          "text": [
            "/usr/local/lib/python3.10/dist-packages/sklearn/metrics/_classification.py:1531: UndefinedMetricWarning: Precision is ill-defined and being set to 0.0 in labels with no predicted samples. Use `zero_division` parameter to control this behavior.\n",
            "  _warn_prf(average, modifier, f\"{metric.capitalize()} is\", len(result))\n"
          ]
        },
        {
          "output_type": "stream",
          "name": "stdout",
          "text": [
            "skor ccp_alpha: 0.136, Akurasi: 0.80, Nilai F1: 0.71, Precision: 0.64, Recall: 0.80\n",
            "Confusion Matrix:\n",
            "[[9799    0    0    0    0    0    0]\n",
            " [  62    0    0    0    0    0    0]\n",
            " [ 158    0    0    0    0    0    0]\n",
            " [ 274    0    0    0    0    0    0]\n",
            " [1835    0    0    0    0    0    0]\n",
            " [  70    0    0    0    0    0    0]\n",
            " [  26    0    0    0    0    0    0]]\n",
            "\n"
          ]
        },
        {
          "output_type": "stream",
          "name": "stderr",
          "text": [
            "/usr/local/lib/python3.10/dist-packages/sklearn/metrics/_classification.py:1531: UndefinedMetricWarning: Precision is ill-defined and being set to 0.0 in labels with no predicted samples. Use `zero_division` parameter to control this behavior.\n",
            "  _warn_prf(average, modifier, f\"{metric.capitalize()} is\", len(result))\n"
          ]
        },
        {
          "output_type": "stream",
          "name": "stdout",
          "text": [
            "skor ccp_alpha: 0.137, Akurasi: 0.80, Nilai F1: 0.71, Precision: 0.64, Recall: 0.80\n",
            "Confusion Matrix:\n",
            "[[9799    0    0    0    0    0    0]\n",
            " [  62    0    0    0    0    0    0]\n",
            " [ 158    0    0    0    0    0    0]\n",
            " [ 274    0    0    0    0    0    0]\n",
            " [1835    0    0    0    0    0    0]\n",
            " [  70    0    0    0    0    0    0]\n",
            " [  26    0    0    0    0    0    0]]\n",
            "\n"
          ]
        },
        {
          "output_type": "stream",
          "name": "stderr",
          "text": [
            "/usr/local/lib/python3.10/dist-packages/sklearn/metrics/_classification.py:1531: UndefinedMetricWarning: Precision is ill-defined and being set to 0.0 in labels with no predicted samples. Use `zero_division` parameter to control this behavior.\n",
            "  _warn_prf(average, modifier, f\"{metric.capitalize()} is\", len(result))\n"
          ]
        },
        {
          "output_type": "stream",
          "name": "stdout",
          "text": [
            "skor ccp_alpha: 0.137, Akurasi: 0.80, Nilai F1: 0.71, Precision: 0.64, Recall: 0.80\n",
            "Confusion Matrix:\n",
            "[[9799    0    0    0    0    0    0]\n",
            " [  62    0    0    0    0    0    0]\n",
            " [ 158    0    0    0    0    0    0]\n",
            " [ 274    0    0    0    0    0    0]\n",
            " [1835    0    0    0    0    0    0]\n",
            " [  70    0    0    0    0    0    0]\n",
            " [  26    0    0    0    0    0    0]]\n",
            "\n"
          ]
        },
        {
          "output_type": "stream",
          "name": "stderr",
          "text": [
            "/usr/local/lib/python3.10/dist-packages/sklearn/metrics/_classification.py:1531: UndefinedMetricWarning: Precision is ill-defined and being set to 0.0 in labels with no predicted samples. Use `zero_division` parameter to control this behavior.\n",
            "  _warn_prf(average, modifier, f\"{metric.capitalize()} is\", len(result))\n"
          ]
        },
        {
          "output_type": "stream",
          "name": "stdout",
          "text": [
            "skor ccp_alpha: 0.138, Akurasi: 0.80, Nilai F1: 0.71, Precision: 0.64, Recall: 0.80\n",
            "Confusion Matrix:\n",
            "[[9799    0    0    0    0    0    0]\n",
            " [  62    0    0    0    0    0    0]\n",
            " [ 158    0    0    0    0    0    0]\n",
            " [ 274    0    0    0    0    0    0]\n",
            " [1835    0    0    0    0    0    0]\n",
            " [  70    0    0    0    0    0    0]\n",
            " [  26    0    0    0    0    0    0]]\n",
            "\n"
          ]
        },
        {
          "output_type": "stream",
          "name": "stderr",
          "text": [
            "/usr/local/lib/python3.10/dist-packages/sklearn/metrics/_classification.py:1531: UndefinedMetricWarning: Precision is ill-defined and being set to 0.0 in labels with no predicted samples. Use `zero_division` parameter to control this behavior.\n",
            "  _warn_prf(average, modifier, f\"{metric.capitalize()} is\", len(result))\n"
          ]
        },
        {
          "output_type": "stream",
          "name": "stdout",
          "text": [
            "skor ccp_alpha: 0.139, Akurasi: 0.80, Nilai F1: 0.71, Precision: 0.64, Recall: 0.80\n",
            "Confusion Matrix:\n",
            "[[9799    0    0    0    0    0    0]\n",
            " [  62    0    0    0    0    0    0]\n",
            " [ 158    0    0    0    0    0    0]\n",
            " [ 274    0    0    0    0    0    0]\n",
            " [1835    0    0    0    0    0    0]\n",
            " [  70    0    0    0    0    0    0]\n",
            " [  26    0    0    0    0    0    0]]\n",
            "\n"
          ]
        },
        {
          "output_type": "stream",
          "name": "stderr",
          "text": [
            "/usr/local/lib/python3.10/dist-packages/sklearn/metrics/_classification.py:1531: UndefinedMetricWarning: Precision is ill-defined and being set to 0.0 in labels with no predicted samples. Use `zero_division` parameter to control this behavior.\n",
            "  _warn_prf(average, modifier, f\"{metric.capitalize()} is\", len(result))\n"
          ]
        },
        {
          "output_type": "stream",
          "name": "stdout",
          "text": [
            "skor ccp_alpha: 0.140, Akurasi: 0.80, Nilai F1: 0.71, Precision: 0.64, Recall: 0.80\n",
            "Confusion Matrix:\n",
            "[[9799    0    0    0    0    0    0]\n",
            " [  62    0    0    0    0    0    0]\n",
            " [ 158    0    0    0    0    0    0]\n",
            " [ 274    0    0    0    0    0    0]\n",
            " [1835    0    0    0    0    0    0]\n",
            " [  70    0    0    0    0    0    0]\n",
            " [  26    0    0    0    0    0    0]]\n",
            "\n"
          ]
        },
        {
          "output_type": "stream",
          "name": "stderr",
          "text": [
            "/usr/local/lib/python3.10/dist-packages/sklearn/metrics/_classification.py:1531: UndefinedMetricWarning: Precision is ill-defined and being set to 0.0 in labels with no predicted samples. Use `zero_division` parameter to control this behavior.\n",
            "  _warn_prf(average, modifier, f\"{metric.capitalize()} is\", len(result))\n"
          ]
        },
        {
          "output_type": "stream",
          "name": "stdout",
          "text": [
            "skor ccp_alpha: 0.140, Akurasi: 0.80, Nilai F1: 0.71, Precision: 0.64, Recall: 0.80\n",
            "Confusion Matrix:\n",
            "[[9799    0    0    0    0    0    0]\n",
            " [  62    0    0    0    0    0    0]\n",
            " [ 158    0    0    0    0    0    0]\n",
            " [ 274    0    0    0    0    0    0]\n",
            " [1835    0    0    0    0    0    0]\n",
            " [  70    0    0    0    0    0    0]\n",
            " [  26    0    0    0    0    0    0]]\n",
            "\n"
          ]
        },
        {
          "output_type": "stream",
          "name": "stderr",
          "text": [
            "/usr/local/lib/python3.10/dist-packages/sklearn/metrics/_classification.py:1531: UndefinedMetricWarning: Precision is ill-defined and being set to 0.0 in labels with no predicted samples. Use `zero_division` parameter to control this behavior.\n",
            "  _warn_prf(average, modifier, f\"{metric.capitalize()} is\", len(result))\n"
          ]
        },
        {
          "output_type": "stream",
          "name": "stdout",
          "text": [
            "skor ccp_alpha: 0.141, Akurasi: 0.80, Nilai F1: 0.71, Precision: 0.64, Recall: 0.80\n",
            "Confusion Matrix:\n",
            "[[9799    0    0    0    0    0    0]\n",
            " [  62    0    0    0    0    0    0]\n",
            " [ 158    0    0    0    0    0    0]\n",
            " [ 274    0    0    0    0    0    0]\n",
            " [1835    0    0    0    0    0    0]\n",
            " [  70    0    0    0    0    0    0]\n",
            " [  26    0    0    0    0    0    0]]\n",
            "\n"
          ]
        },
        {
          "output_type": "stream",
          "name": "stderr",
          "text": [
            "/usr/local/lib/python3.10/dist-packages/sklearn/metrics/_classification.py:1531: UndefinedMetricWarning: Precision is ill-defined and being set to 0.0 in labels with no predicted samples. Use `zero_division` parameter to control this behavior.\n",
            "  _warn_prf(average, modifier, f\"{metric.capitalize()} is\", len(result))\n"
          ]
        },
        {
          "output_type": "stream",
          "name": "stdout",
          "text": [
            "skor ccp_alpha: 0.142, Akurasi: 0.80, Nilai F1: 0.71, Precision: 0.64, Recall: 0.80\n",
            "Confusion Matrix:\n",
            "[[9799    0    0    0    0    0    0]\n",
            " [  62    0    0    0    0    0    0]\n",
            " [ 158    0    0    0    0    0    0]\n",
            " [ 274    0    0    0    0    0    0]\n",
            " [1835    0    0    0    0    0    0]\n",
            " [  70    0    0    0    0    0    0]\n",
            " [  26    0    0    0    0    0    0]]\n",
            "\n"
          ]
        },
        {
          "output_type": "stream",
          "name": "stderr",
          "text": [
            "/usr/local/lib/python3.10/dist-packages/sklearn/metrics/_classification.py:1531: UndefinedMetricWarning: Precision is ill-defined and being set to 0.0 in labels with no predicted samples. Use `zero_division` parameter to control this behavior.\n",
            "  _warn_prf(average, modifier, f\"{metric.capitalize()} is\", len(result))\n"
          ]
        },
        {
          "output_type": "stream",
          "name": "stdout",
          "text": [
            "skor ccp_alpha: 0.143, Akurasi: 0.80, Nilai F1: 0.71, Precision: 0.64, Recall: 0.80\n",
            "Confusion Matrix:\n",
            "[[9799    0    0    0    0    0    0]\n",
            " [  62    0    0    0    0    0    0]\n",
            " [ 158    0    0    0    0    0    0]\n",
            " [ 274    0    0    0    0    0    0]\n",
            " [1835    0    0    0    0    0    0]\n",
            " [  70    0    0    0    0    0    0]\n",
            " [  26    0    0    0    0    0    0]]\n",
            "\n"
          ]
        },
        {
          "output_type": "stream",
          "name": "stderr",
          "text": [
            "/usr/local/lib/python3.10/dist-packages/sklearn/metrics/_classification.py:1531: UndefinedMetricWarning: Precision is ill-defined and being set to 0.0 in labels with no predicted samples. Use `zero_division` parameter to control this behavior.\n",
            "  _warn_prf(average, modifier, f\"{metric.capitalize()} is\", len(result))\n"
          ]
        },
        {
          "output_type": "stream",
          "name": "stdout",
          "text": [
            "skor ccp_alpha: 0.143, Akurasi: 0.80, Nilai F1: 0.71, Precision: 0.64, Recall: 0.80\n",
            "Confusion Matrix:\n",
            "[[9799    0    0    0    0    0    0]\n",
            " [  62    0    0    0    0    0    0]\n",
            " [ 158    0    0    0    0    0    0]\n",
            " [ 274    0    0    0    0    0    0]\n",
            " [1835    0    0    0    0    0    0]\n",
            " [  70    0    0    0    0    0    0]\n",
            " [  26    0    0    0    0    0    0]]\n",
            "\n"
          ]
        },
        {
          "output_type": "stream",
          "name": "stderr",
          "text": [
            "/usr/local/lib/python3.10/dist-packages/sklearn/metrics/_classification.py:1531: UndefinedMetricWarning: Precision is ill-defined and being set to 0.0 in labels with no predicted samples. Use `zero_division` parameter to control this behavior.\n",
            "  _warn_prf(average, modifier, f\"{metric.capitalize()} is\", len(result))\n"
          ]
        },
        {
          "output_type": "stream",
          "name": "stdout",
          "text": [
            "skor ccp_alpha: 0.144, Akurasi: 0.80, Nilai F1: 0.71, Precision: 0.64, Recall: 0.80\n",
            "Confusion Matrix:\n",
            "[[9799    0    0    0    0    0    0]\n",
            " [  62    0    0    0    0    0    0]\n",
            " [ 158    0    0    0    0    0    0]\n",
            " [ 274    0    0    0    0    0    0]\n",
            " [1835    0    0    0    0    0    0]\n",
            " [  70    0    0    0    0    0    0]\n",
            " [  26    0    0    0    0    0    0]]\n",
            "\n"
          ]
        },
        {
          "output_type": "stream",
          "name": "stderr",
          "text": [
            "/usr/local/lib/python3.10/dist-packages/sklearn/metrics/_classification.py:1531: UndefinedMetricWarning: Precision is ill-defined and being set to 0.0 in labels with no predicted samples. Use `zero_division` parameter to control this behavior.\n",
            "  _warn_prf(average, modifier, f\"{metric.capitalize()} is\", len(result))\n"
          ]
        },
        {
          "output_type": "stream",
          "name": "stdout",
          "text": [
            "skor ccp_alpha: 0.145, Akurasi: 0.80, Nilai F1: 0.71, Precision: 0.64, Recall: 0.80\n",
            "Confusion Matrix:\n",
            "[[9799    0    0    0    0    0    0]\n",
            " [  62    0    0    0    0    0    0]\n",
            " [ 158    0    0    0    0    0    0]\n",
            " [ 274    0    0    0    0    0    0]\n",
            " [1835    0    0    0    0    0    0]\n",
            " [  70    0    0    0    0    0    0]\n",
            " [  26    0    0    0    0    0    0]]\n",
            "\n"
          ]
        },
        {
          "output_type": "stream",
          "name": "stderr",
          "text": [
            "/usr/local/lib/python3.10/dist-packages/sklearn/metrics/_classification.py:1531: UndefinedMetricWarning: Precision is ill-defined and being set to 0.0 in labels with no predicted samples. Use `zero_division` parameter to control this behavior.\n",
            "  _warn_prf(average, modifier, f\"{metric.capitalize()} is\", len(result))\n"
          ]
        },
        {
          "output_type": "stream",
          "name": "stdout",
          "text": [
            "skor ccp_alpha: 0.146, Akurasi: 0.80, Nilai F1: 0.71, Precision: 0.64, Recall: 0.80\n",
            "Confusion Matrix:\n",
            "[[9799    0    0    0    0    0    0]\n",
            " [  62    0    0    0    0    0    0]\n",
            " [ 158    0    0    0    0    0    0]\n",
            " [ 274    0    0    0    0    0    0]\n",
            " [1835    0    0    0    0    0    0]\n",
            " [  70    0    0    0    0    0    0]\n",
            " [  26    0    0    0    0    0    0]]\n",
            "\n"
          ]
        },
        {
          "output_type": "stream",
          "name": "stderr",
          "text": [
            "/usr/local/lib/python3.10/dist-packages/sklearn/metrics/_classification.py:1531: UndefinedMetricWarning: Precision is ill-defined and being set to 0.0 in labels with no predicted samples. Use `zero_division` parameter to control this behavior.\n",
            "  _warn_prf(average, modifier, f\"{metric.capitalize()} is\", len(result))\n"
          ]
        },
        {
          "output_type": "stream",
          "name": "stdout",
          "text": [
            "skor ccp_alpha: 0.146, Akurasi: 0.80, Nilai F1: 0.71, Precision: 0.64, Recall: 0.80\n",
            "Confusion Matrix:\n",
            "[[9799    0    0    0    0    0    0]\n",
            " [  62    0    0    0    0    0    0]\n",
            " [ 158    0    0    0    0    0    0]\n",
            " [ 274    0    0    0    0    0    0]\n",
            " [1835    0    0    0    0    0    0]\n",
            " [  70    0    0    0    0    0    0]\n",
            " [  26    0    0    0    0    0    0]]\n",
            "\n"
          ]
        },
        {
          "output_type": "stream",
          "name": "stderr",
          "text": [
            "/usr/local/lib/python3.10/dist-packages/sklearn/metrics/_classification.py:1531: UndefinedMetricWarning: Precision is ill-defined and being set to 0.0 in labels with no predicted samples. Use `zero_division` parameter to control this behavior.\n",
            "  _warn_prf(average, modifier, f\"{metric.capitalize()} is\", len(result))\n"
          ]
        },
        {
          "output_type": "stream",
          "name": "stdout",
          "text": [
            "skor ccp_alpha: 0.147, Akurasi: 0.80, Nilai F1: 0.71, Precision: 0.64, Recall: 0.80\n",
            "Confusion Matrix:\n",
            "[[9799    0    0    0    0    0    0]\n",
            " [  62    0    0    0    0    0    0]\n",
            " [ 158    0    0    0    0    0    0]\n",
            " [ 274    0    0    0    0    0    0]\n",
            " [1835    0    0    0    0    0    0]\n",
            " [  70    0    0    0    0    0    0]\n",
            " [  26    0    0    0    0    0    0]]\n",
            "\n"
          ]
        },
        {
          "output_type": "stream",
          "name": "stderr",
          "text": [
            "/usr/local/lib/python3.10/dist-packages/sklearn/metrics/_classification.py:1531: UndefinedMetricWarning: Precision is ill-defined and being set to 0.0 in labels with no predicted samples. Use `zero_division` parameter to control this behavior.\n",
            "  _warn_prf(average, modifier, f\"{metric.capitalize()} is\", len(result))\n"
          ]
        },
        {
          "output_type": "stream",
          "name": "stdout",
          "text": [
            "skor ccp_alpha: 0.148, Akurasi: 0.80, Nilai F1: 0.71, Precision: 0.64, Recall: 0.80\n",
            "Confusion Matrix:\n",
            "[[9799    0    0    0    0    0    0]\n",
            " [  62    0    0    0    0    0    0]\n",
            " [ 158    0    0    0    0    0    0]\n",
            " [ 274    0    0    0    0    0    0]\n",
            " [1835    0    0    0    0    0    0]\n",
            " [  70    0    0    0    0    0    0]\n",
            " [  26    0    0    0    0    0    0]]\n",
            "\n"
          ]
        },
        {
          "output_type": "stream",
          "name": "stderr",
          "text": [
            "/usr/local/lib/python3.10/dist-packages/sklearn/metrics/_classification.py:1531: UndefinedMetricWarning: Precision is ill-defined and being set to 0.0 in labels with no predicted samples. Use `zero_division` parameter to control this behavior.\n",
            "  _warn_prf(average, modifier, f\"{metric.capitalize()} is\", len(result))\n"
          ]
        },
        {
          "output_type": "stream",
          "name": "stdout",
          "text": [
            "skor ccp_alpha: 0.149, Akurasi: 0.80, Nilai F1: 0.71, Precision: 0.64, Recall: 0.80\n",
            "Confusion Matrix:\n",
            "[[9799    0    0    0    0    0    0]\n",
            " [  62    0    0    0    0    0    0]\n",
            " [ 158    0    0    0    0    0    0]\n",
            " [ 274    0    0    0    0    0    0]\n",
            " [1835    0    0    0    0    0    0]\n",
            " [  70    0    0    0    0    0    0]\n",
            " [  26    0    0    0    0    0    0]]\n",
            "\n"
          ]
        },
        {
          "output_type": "stream",
          "name": "stderr",
          "text": [
            "/usr/local/lib/python3.10/dist-packages/sklearn/metrics/_classification.py:1531: UndefinedMetricWarning: Precision is ill-defined and being set to 0.0 in labels with no predicted samples. Use `zero_division` parameter to control this behavior.\n",
            "  _warn_prf(average, modifier, f\"{metric.capitalize()} is\", len(result))\n"
          ]
        },
        {
          "output_type": "stream",
          "name": "stdout",
          "text": [
            "skor ccp_alpha: 0.149, Akurasi: 0.80, Nilai F1: 0.71, Precision: 0.64, Recall: 0.80\n",
            "Confusion Matrix:\n",
            "[[9799    0    0    0    0    0    0]\n",
            " [  62    0    0    0    0    0    0]\n",
            " [ 158    0    0    0    0    0    0]\n",
            " [ 274    0    0    0    0    0    0]\n",
            " [1835    0    0    0    0    0    0]\n",
            " [  70    0    0    0    0    0    0]\n",
            " [  26    0    0    0    0    0    0]]\n",
            "\n",
            "Nilai ccp terbaik setelah iterasi 1: 0.0015, Akurasi: 0.96, Nilai F1: 0.95\n"
          ]
        },
        {
          "output_type": "stream",
          "name": "stderr",
          "text": [
            "/usr/local/lib/python3.10/dist-packages/sklearn/metrics/_classification.py:1531: UndefinedMetricWarning: Precision is ill-defined and being set to 0.0 in labels with no predicted samples. Use `zero_division` parameter to control this behavior.\n",
            "  _warn_prf(average, modifier, f\"{metric.capitalize()} is\", len(result))\n"
          ]
        },
        {
          "output_type": "stream",
          "name": "stdout",
          "text": [
            "skor ccp_alpha: 0.001, Akurasi: 0.97, Nilai F1: 0.96, Precision: 0.96, Recall: 0.97\n",
            "Confusion Matrix:\n",
            "[[9678    0    0    0  121    0    0]\n",
            " [  62    0    0    0    0    0    0]\n",
            " [  46    0  112    0    0    0    0]\n",
            " [   7    0    0  267    0    0    0]\n",
            " [  91    0    0    0 1744    0    0]\n",
            " [  50    0    0    0    0   20    0]\n",
            " [  23    0    0    1    2    0    0]]\n",
            "\n"
          ]
        },
        {
          "output_type": "stream",
          "name": "stderr",
          "text": [
            "/usr/local/lib/python3.10/dist-packages/sklearn/metrics/_classification.py:1531: UndefinedMetricWarning: Precision is ill-defined and being set to 0.0 in labels with no predicted samples. Use `zero_division` parameter to control this behavior.\n",
            "  _warn_prf(average, modifier, f\"{metric.capitalize()} is\", len(result))\n"
          ]
        },
        {
          "output_type": "stream",
          "name": "stdout",
          "text": [
            "skor ccp_alpha: 0.002, Akurasi: 0.95, Nilai F1: 0.94, Precision: 0.93, Recall: 0.95\n",
            "Confusion Matrix:\n",
            "[[9677    0    0    0  122    0    0]\n",
            " [  62    0    0    0    0    0    0]\n",
            " [ 158    0    0    0    0    0    0]\n",
            " [   9    0    0  265    0    0    0]\n",
            " [ 112    0    0    0 1723    0    0]\n",
            " [  70    0    0    0    0    0    0]\n",
            " [  22    0    0    1    3    0    0]]\n",
            "\n"
          ]
        },
        {
          "output_type": "stream",
          "name": "stderr",
          "text": [
            "/usr/local/lib/python3.10/dist-packages/sklearn/metrics/_classification.py:1531: UndefinedMetricWarning: Precision is ill-defined and being set to 0.0 in labels with no predicted samples. Use `zero_division` parameter to control this behavior.\n",
            "  _warn_prf(average, modifier, f\"{metric.capitalize()} is\", len(result))\n"
          ]
        },
        {
          "output_type": "stream",
          "name": "stdout",
          "text": [
            "skor ccp_alpha: 0.002, Akurasi: 0.95, Nilai F1: 0.94, Precision: 0.93, Recall: 0.95\n",
            "Confusion Matrix:\n",
            "[[9678    0    0    0  121    0    0]\n",
            " [  62    0    0    0    0    0    0]\n",
            " [ 158    0    0    0    0    0    0]\n",
            " [  21    0    0  253    0    0    0]\n",
            " [ 132    0    0    0 1703    0    0]\n",
            " [  70    0    0    0    0    0    0]\n",
            " [  22    0    0    1    3    0    0]]\n",
            "\n"
          ]
        },
        {
          "output_type": "stream",
          "name": "stderr",
          "text": [
            "/usr/local/lib/python3.10/dist-packages/sklearn/metrics/_classification.py:1531: UndefinedMetricWarning: Precision is ill-defined and being set to 0.0 in labels with no predicted samples. Use `zero_division` parameter to control this behavior.\n",
            "  _warn_prf(average, modifier, f\"{metric.capitalize()} is\", len(result))\n"
          ]
        },
        {
          "output_type": "stream",
          "name": "stdout",
          "text": [
            "skor ccp_alpha: 0.003, Akurasi: 0.95, Nilai F1: 0.93, Precision: 0.92, Recall: 0.95\n",
            "Confusion Matrix:\n",
            "[[9675    0    0    0  124    0    0]\n",
            " [  62    0    0    0    0    0    0]\n",
            " [ 158    0    0    0    0    0    0]\n",
            " [  77    0    0  197    0    0    0]\n",
            " [ 138    0    0    0 1697    0    0]\n",
            " [  70    0    0    0    0    0    0]\n",
            " [  22    0    0    1    3    0    0]]\n",
            "\n"
          ]
        },
        {
          "output_type": "stream",
          "name": "stderr",
          "text": [
            "/usr/local/lib/python3.10/dist-packages/sklearn/metrics/_classification.py:1531: UndefinedMetricWarning: Precision is ill-defined and being set to 0.0 in labels with no predicted samples. Use `zero_division` parameter to control this behavior.\n",
            "  _warn_prf(average, modifier, f\"{metric.capitalize()} is\", len(result))\n"
          ]
        },
        {
          "output_type": "stream",
          "name": "stdout",
          "text": [
            "skor ccp_alpha: 0.003, Akurasi: 0.94, Nilai F1: 0.93, Precision: 0.92, Recall: 0.94\n",
            "Confusion Matrix:\n",
            "[[9672    0    0    0  127    0    0]\n",
            " [  62    0    0    0    0    0    0]\n",
            " [ 158    0    0    0    0    0    0]\n",
            " [  97    0    0  177    0    0    0]\n",
            " [ 139    0    0    0 1696    0    0]\n",
            " [  70    0    0    0    0    0    0]\n",
            " [  23    0    0    0    3    0    0]]\n",
            "\n"
          ]
        },
        {
          "output_type": "stream",
          "name": "stderr",
          "text": [
            "/usr/local/lib/python3.10/dist-packages/sklearn/metrics/_classification.py:1531: UndefinedMetricWarning: Precision is ill-defined and being set to 0.0 in labels with no predicted samples. Use `zero_division` parameter to control this behavior.\n",
            "  _warn_prf(average, modifier, f\"{metric.capitalize()} is\", len(result))\n"
          ]
        },
        {
          "output_type": "stream",
          "name": "stdout",
          "text": [
            "skor ccp_alpha: 0.004, Akurasi: 0.93, Nilai F1: 0.91, Precision: 0.88, Recall: 0.93\n",
            "Confusion Matrix:\n",
            "[[9674    0    0    0  125    0    0]\n",
            " [  62    0    0    0    0    0    0]\n",
            " [ 158    0    0    0    0    0    0]\n",
            " [ 274    0    0    0    0    0    0]\n",
            " [ 146    0    0    0 1689    0    0]\n",
            " [  70    0    0    0    0    0    0]\n",
            " [  23    0    0    0    3    0    0]]\n",
            "\n"
          ]
        },
        {
          "output_type": "stream",
          "name": "stderr",
          "text": [
            "/usr/local/lib/python3.10/dist-packages/sklearn/metrics/_classification.py:1531: UndefinedMetricWarning: Precision is ill-defined and being set to 0.0 in labels with no predicted samples. Use `zero_division` parameter to control this behavior.\n",
            "  _warn_prf(average, modifier, f\"{metric.capitalize()} is\", len(result))\n"
          ]
        },
        {
          "output_type": "stream",
          "name": "stdout",
          "text": [
            "skor ccp_alpha: 0.005, Akurasi: 0.93, Nilai F1: 0.91, Precision: 0.88, Recall: 0.93\n",
            "Confusion Matrix:\n",
            "[[9677    0    0    0  122    0    0]\n",
            " [  62    0    0    0    0    0    0]\n",
            " [ 158    0    0    0    0    0    0]\n",
            " [ 274    0    0    0    0    0    0]\n",
            " [ 162    0    0    0 1673    0    0]\n",
            " [  70    0    0    0    0    0    0]\n",
            " [  23    0    0    0    3    0    0]]\n",
            "\n"
          ]
        },
        {
          "output_type": "stream",
          "name": "stderr",
          "text": [
            "/usr/local/lib/python3.10/dist-packages/sklearn/metrics/_classification.py:1531: UndefinedMetricWarning: Precision is ill-defined and being set to 0.0 in labels with no predicted samples. Use `zero_division` parameter to control this behavior.\n",
            "  _warn_prf(average, modifier, f\"{metric.capitalize()} is\", len(result))\n"
          ]
        },
        {
          "output_type": "stream",
          "name": "stdout",
          "text": [
            "skor ccp_alpha: 0.005, Akurasi: 0.92, Nilai F1: 0.89, Precision: 0.87, Recall: 0.92\n",
            "Confusion Matrix:\n",
            "[[9742    0    0    0   57    0    0]\n",
            " [  62    0    0    0    0    0    0]\n",
            " [ 158    0    0    0    0    0    0]\n",
            " [ 274    0    0    0    0    0    0]\n",
            " [ 386    0    0    0 1449    0    0]\n",
            " [  70    0    0    0    0    0    0]\n",
            " [  23    0    0    0    3    0    0]]\n",
            "\n"
          ]
        },
        {
          "output_type": "stream",
          "name": "stderr",
          "text": [
            "/usr/local/lib/python3.10/dist-packages/sklearn/metrics/_classification.py:1531: UndefinedMetricWarning: Precision is ill-defined and being set to 0.0 in labels with no predicted samples. Use `zero_division` parameter to control this behavior.\n",
            "  _warn_prf(average, modifier, f\"{metric.capitalize()} is\", len(result))\n"
          ]
        },
        {
          "output_type": "stream",
          "name": "stdout",
          "text": [
            "skor ccp_alpha: 0.006, Akurasi: 0.92, Nilai F1: 0.89, Precision: 0.87, Recall: 0.92\n",
            "Confusion Matrix:\n",
            "[[9744    0    0    0   55    0    0]\n",
            " [  62    0    0    0    0    0    0]\n",
            " [ 158    0    0    0    0    0    0]\n",
            " [ 274    0    0    0    0    0    0]\n",
            " [ 394    0    0    0 1441    0    0]\n",
            " [  70    0    0    0    0    0    0]\n",
            " [  23    0    0    0    3    0    0]]\n",
            "\n",
            "skor ccp_alpha: 0.007, Akurasi: 0.92, Nilai F1: 0.89, Precision: 0.87, Recall: 0.92\n",
            "Confusion Matrix:\n",
            "[[9749    0    0    0   50    0    0]\n",
            " [  62    0    0    0    0    0    0]\n",
            " [ 158    0    0    0    0    0    0]\n",
            " [ 274    0    0    0    0    0    0]\n",
            " [ 394    0    0    0 1441    0    0]\n",
            " [  70    0    0    0    0    0    0]\n",
            " [  23    0    0    0    3    0    0]]\n",
            "\n",
            "Nilai ccp terbaik setelah iterasi 2: 0.001, Akurasi: 0.97, Nilai F1: 0.96\n",
            "No significant improvement. Stopping the search.\n",
            "Nilai terbaik untuk ccp_alpha: 0.001, Akurasi: 0.97, Nilai F1: 0.96\n"
          ]
        },
        {
          "output_type": "stream",
          "name": "stderr",
          "text": [
            "/usr/local/lib/python3.10/dist-packages/sklearn/metrics/_classification.py:1531: UndefinedMetricWarning: Precision is ill-defined and being set to 0.0 in labels with no predicted samples. Use `zero_division` parameter to control this behavior.\n",
            "  _warn_prf(average, modifier, f\"{metric.capitalize()} is\", len(result))\n"
          ]
        }
      ]
    },
    {
      "cell_type": "code",
      "source": [
        "#Dinamisasi variabel 'Rclasifier'\n",
        "rclasf = RandomForestClassifier(\n",
        "    random_state=40,\n",
        "    n_estimators=50,\n",
        "    max_depth=8,\n",
        "    min_samples_split=5,\n",
        "    min_samples_leaf=3,\n",
        "    warm_start=True,\n",
        "    ccp_alpha=best_alpha  # Deklarasi nilai alfa terbaik\n",
        ")"
      ],
      "metadata": {
        "id": "zM0ZW6NfclMq"
      },
      "execution_count": 54,
      "outputs": []
    },
    {
      "cell_type": "markdown",
      "source": [
        "## Tulis narasi atau penjelasan algoritma yang Anda gunakan.\n",
        "### Urutan penyelesaian tugas\n",
        "### a. Persiapan nilai RCF **('Randomforestclassifier')** sebelum mengecek hasil\n",
        "### b. Penyetelan nilai ccp alpha demi"
      ],
      "metadata": {
        "id": "seYoHNY3XU1y"
      }
    },
    {
      "cell_type": "markdown",
      "source": [
        "## **b. Evaluasi Model Klasifikasi**"
      ],
      "metadata": {
        "id": "ergzChZFEL-O"
      }
    },
    {
      "cell_type": "markdown",
      "source": [
        "Berikut adalah **rekomendasi** tahapannya.\n",
        "1. Lakukan prediksi menggunakan data uji.\n",
        "2. Hitung metrik evaluasi seperti Accuracy dan F1-Score (Opsional: Precision dan Recall).\n",
        "3. Buat confusion matrix untuk melihat detail prediksi benar dan salah."
      ],
      "metadata": {
        "id": "zOm68u-7NpLT"
      }
    },
    {
      "cell_type": "code",
      "source": [
        "# Initialize lists to store metrics\n",
        "n_estimators_list = []\n",
        "accuracy_list = []\n",
        "f1_list = []\n",
        "precision_list = []\n",
        "recall_list = []\n",
        "\n",
        "# OIterasi untuk nilai matriks\n",
        "for n_estimators in range(10, 101, 10):\n",
        "    rclasf.n_estimators = n_estimators\n",
        "    rclasf.fit(Xcltrain, ycltrain)\n",
        "\n",
        "    # Prediksi\n",
        "    y_pred = rclasf.predict(Xcltest)\n",
        "\n",
        "    # Evaluasi performa\n",
        "    accuracy = accuracy_score(ycltest, y_pred)\n",
        "    f1 = f1_score(ycltest, y_pred, average='samples')\n",
        "    precision = precision_score(ycltest, y_pred, average='samples')\n",
        "    recall = recall_score(ycltest, y_pred, average='samples')\n",
        "\n",
        "    # Penyimpanan metrik\n",
        "    n_estimators_list.append(n_estimators)\n",
        "    accuracy_list.append(accuracy)\n",
        "    f1_list.append(f1)\n",
        "    precision_list.append(precision)\n",
        "    recall_list.append(recall)\n",
        "\n",
        "    print(f'Total Pohon: {n_estimators}, Akurasi: {accuracy:.2f}, Nilai F1: {f1:.2f}, Presisi: {precision:.2f}, Recall: {recall:.2f}')\n",
        "\n",
        "    if accuracy >= 0.87 and f1 >= 0.87:\n",
        "        print(\"Model sudah memenuhi nilai metrik.\")\n",
        "        break\n",
        "    elif accuracy >= 0.87 and f1 < 0.87:\n",
        "        print(\"Akurasi sudah memenuhi, tetapi Nilai F1 belum memenuhi.\")\n",
        "    elif accuracy < 0.87 and f1 >= 0.87:\n",
        "        print(\"Nilai F1 sudah memenuhi, tetapi akurasi belum memenuhi.\")\n",
        "else:\n",
        "    print(\"Model tidak memenuhi metrik yang diperlukan dengan pengaturan yang diberikan.\")"
      ],
      "metadata": {
        "id": "umw0nOj7ck3p",
        "colab": {
          "base_uri": "https://localhost:8080/"
        },
        "outputId": "72fc121c-cb62-4cd5-885b-5e45b7144cc9"
      },
      "execution_count": 55,
      "outputs": [
        {
          "output_type": "stream",
          "name": "stdout",
          "text": [
            "Total Pohon: 10, Akurasi: 0.98, Nilai F1: 0.98, Presisi: 0.98, Recall: 0.98\n",
            "Model sudah memenuhi nilai metrik.\n"
          ]
        },
        {
          "output_type": "stream",
          "name": "stderr",
          "text": [
            "/usr/local/lib/python3.10/dist-packages/sklearn/metrics/_classification.py:1531: UndefinedMetricWarning: Precision is ill-defined and being set to 0.0 in samples with no predicted labels. Use `zero_division` parameter to control this behavior.\n",
            "  _warn_prf(average, modifier, f\"{metric.capitalize()} is\", len(result))\n"
          ]
        }
      ]
    },
    {
      "cell_type": "markdown",
      "source": [
        "Tulis hasil evaluasi algoritma yang digunakan, jika Anda menggunakan 2 algoritma, maka bandingkan hasilnya."
      ],
      "metadata": {
        "id": "H4_9OwrsXZlz"
      }
    },
    {
      "cell_type": "code",
      "source": [
        "#inspeksi visualisasi normal\n",
        "threshold = 0.87  # Nilai minimal threshold normal\n",
        "\n",
        "plt.figure(figsize=(12, 6))\n",
        "\n",
        "# Plot Accuracy\n",
        "plt.subplot(3, 1, 1)\n",
        "plt.plot(accuracy_list, label='Accuracy', color='blue')\n",
        "plt.axhline(y=threshold, color='red', linestyle='--', label='Threshold (87%)')\n",
        "plt.title('Model Accuracy Over Iterations')\n",
        "plt.xlabel('Iteration')\n",
        "plt.ylabel('Accuracy')\n",
        "plt.legend()\n",
        "plt.grid()\n",
        "\n",
        "# Plot F1 Score\n",
        "plt.subplot(3, 1, 2)\n",
        "plt.plot(f1_list, label='F1 Score', color='green')\n",
        "plt.axhline(y=threshold, color='red', linestyle='--', label='Threshold (87%)')\n",
        "plt.title('Model F1 Score Over Iterations')\n",
        "plt.xlabel('Iteration')\n",
        "plt.ylabel('F1 Score')\n",
        "plt.legend()\n",
        "plt.grid()\n",
        "\n",
        "# Plot Precision\n",
        "plt.subplot(3, 1, 3)\n",
        "plt.plot(precision_list, label='Precision', color='orange')\n",
        "plt.axhline(y=threshold, color='red', linestyle='--', label='Threshold (87%)')\n",
        "plt.title('Model Precision Over Iterations')\n",
        "plt.xlabel('Iteration')\n",
        "plt.ylabel('Precision')\n",
        "plt.legend()\n",
        "plt.grid()\n",
        "\n",
        "# Show plots\n",
        "plt.tight_layout()\n",
        "plt.show()"
      ],
      "metadata": {
        "colab": {
          "base_uri": "https://localhost:8080/",
          "height": 607
        },
        "id": "7qOZjAQLL5gY",
        "outputId": "8a98e75f-6bdc-4f6c-81cb-27f799a9b4b7"
      },
      "execution_count": 56,
      "outputs": [
        {
          "output_type": "display_data",
          "data": {
            "text/plain": [
              "<Figure size 1200x600 with 3 Axes>"
            ],
            "image/png": "[encoded data removed]"
          },
          "metadata": {}
        }
      ]
    },
    {
      "cell_type": "markdown",
      "source": [
        "## **c. Tuning Model Klasifikasi (Optional)**"
      ],
      "metadata": {
        "id": "ph9yIYDXEPuB"
      }
    },
    {
      "cell_type": "markdown",
      "source": [
        "Gunakan GridSearchCV, RandomizedSearchCV, atau metode lainnya untuk mencari kombinasi hyperparameter terbaik"
      ],
      "metadata": {
        "id": "-Bikx3LINv5e"
      }
    },
    {
      "cell_type": "code",
      "source": [
        "#Inisiasi gridsearch\n",
        "param_grid = {'ccp_alpha': np.arange(1.75e-5, 0.175, 1.75e-4)}"
      ],
      "metadata": {
        "id": "hTkJ_FcQlrlo"
      },
      "execution_count": 57,
      "outputs": []
    },
    {
      "cell_type": "code",
      "source": [
        "# deklarasi rclasifier (pasca grid)\n",
        "rclfpgd = RandomForestClassifier(random_state=40,\n",
        "    n_estimators=50,max_depth=8,\n",
        "    min_samples_split=5,min_samples_leaf=3,\n",
        "    warm_start=True  # Penerapan 'warm start'\n",
        ")"
      ],
      "metadata": {
        "id": "NwI-7qanI-nX"
      },
      "execution_count": 58,
      "outputs": []
    },
    {
      "cell_type": "code",
      "source": [
        "#deklarasi pencarian grid\n",
        "grid_search = GridSearchCV(estimator=rclasf, param_grid=param_grid,\n",
        "                           scoring='f1_samples', cv=5, verbose=1)"
      ],
      "metadata": {
        "id": "4qfS5AeNLQ_J"
      },
      "execution_count": 59,
      "outputs": []
    },
    {
      "cell_type": "code",
      "source": [
        "#Eksekusi pasca penyetelan untuk nilai ccp alpha\n",
        "grid_search.fit(Xcltrain, ycltrain)"
      ],
      "metadata": {
        "id": "winbFzb8NL95"
      },
      "execution_count": null,
      "outputs": []
    },
    {
      "cell_type": "code",
      "source": [
        "#penyetelan ccp alpha\n",
        "best_alpha = grid_search.best_params_['ccp_alpha']\n",
        "best_f1 = grid_search.best_score_\n",
        "best_accuracy = accuracy_score(ycltest, grid_search.predict(Xcltest))\n",
        "\n",
        "print(f'Nilai ccp_alpha terbaik adalah : {best_alpha}, Nilai F1: {best_f1:.2f}, Akurasi: {best_accuracy:.2f}')\n",
        "\n",
        "# Deklarasi nilai alpha\n",
        "rclasf.ccp_alpha = best_alpha\n",
        "#ke eksekusi"
      ],
      "metadata": {
        "colab": {
          "base_uri": "https://localhost:8080/"
        },
        "id": "tPiQiv89MoKL",
        "outputId": "b7977aee-d4b8-4e9c-ac3a-722364204c5c"
      },
      "execution_count": 42,
      "outputs": [
        {
          "output_type": "stream",
          "name": "stdout",
          "text": [
            "Nilai ccp_alpha terbaik adalah : 1.5e-05, Nilai F1: 0.99, Akurasi: 0.99\n"
          ]
        }
      ]
    },
    {
      "cell_type": "code",
      "source": [
        "# Eksekusi Bagian deklarasi daftar\n",
        "accuracies = []\n",
        "f1_scores = []\n",
        "precisions = []\n",
        "recalls = []\n",
        "n_estimators_list = []\n",
        "\n",
        "# Eksekusi dengan visualisasi\n",
        "for n_estimators in range(10, 101, 10):  # From 10 to 100 trees\n",
        "    rclasf.n_estimators = n_estimators\n",
        "    rclasf.fit(Xcltrain, ycltrain)\n",
        "\n",
        "    # Prediksi\n",
        "    y_pred = rclasf.predict(Xcltest)\n",
        "\n",
        "    # Evaluate model performance\n",
        "    accuracy = accuracy_score(ycltest, y_pred)\n",
        "    f1 = f1_score(ycltest, y_pred, average='samples')\n",
        "    precision = precision_score(ycltest, y_pred, average='samples')\n",
        "    recall = recall_score(ycltest, y_pred, average='samples')\n",
        "\n",
        "    accuracies.append(accuracy)\n",
        "    f1_scores.append(f1)\n",
        "    precisions.append(precision)\n",
        "    recalls.append(recall)\n",
        "    n_estimators_list.append(n_estimators)\n",
        "\n",
        "    print(f'Total Trees: {n_estimators}, Accuracy: {accuracy:.2f}, F1 Score: {f1:.2f}, Precision: {precision:.2f}, Recall: {recall:.2f}')\n",
        "\n",
        "    # Replace this with your actual logic to convert to single label if needed\n",
        "    ycltest_single_label = ycltest.idxmax(axis=1) # Get the label with the highest probability for ycltest\n",
        "    y_pred_single_label = pd.DataFrame(y_pred, columns=ycltest.columns).idxmax(axis=1)  # Assuming y_pred has same structure as ycltest and get highest probability label for y_pred\n",
        "\n",
        "    # Deklarasi 'confusion matrik' dalam bentuk singuler\n",
        "    cm = confusion_matrix(ycltest_single_label, y_pred_single_label)\n",
        "\n",
        "    # Display confusion matrix\n",
        "    plt.figure(figsize=(25, 22))\n",
        "    disp = ConfusionMatrixDisplay(confusion_matrix=cm, display_labels=ycltest.columns) # pelabelan untuk penjelasan\n",
        "    disp.plot(cmap=plt.cm.Blues)\n",
        "    plt.title(f'Confusion Matrix for {n_estimators} Trees')\n",
        "    plt.show()\n",
        "\n",
        "    # Check if performance meets requirements\n",
        "    if accuracy >= 0.87 and f1 >= 0.87:\n",
        "        print(\"Model memnuhi akurasi metrik.\")\n",
        "        break\n",
        "    elif accuracy >= 0.87 and f1 < 0.87:\n",
        "        print(\"Nilai F1 tidak sesuai, tapi nilai akurasi sesuai.\")\n",
        "    elif accuracy < 0.87 and f1 >= 0.87:\n",
        "        print(\"Nilai akurasi tidak sesuai, tapi nilai F1 sesuai.\")\n",
        "else:\n",
        "    print(\"Model tidak sesuai.\")\n",
        "\n",
        "# Visualization of metrics across different numbers of estimators\n",
        "plt.figure(figsize=(15, 10))\n",
        "plt.plot(n_estimators_list, accuracies, label='Accuracy', marker='o')\n",
        "plt.plot(n_estimators_list, f1_scores, label='F1 Score', marker='o')\n",
        "plt.plot(n_estimators_list, precisions, label='Precision', marker='o')\n",
        "plt.plot(n_estimators_list, recalls, label='Recall', marker='o')\n",
        "\n",
        "plt.axhline(y=0.87, color='r', linestyle='--', label='Threshold (0.87)')\n",
        "plt.title('Perban')\n",
        "plt.xlabel('Number of Estimators')\n",
        "plt.ylabel('Score')\n",
        "plt.legend()\n",
        "plt.grid()\n",
        "plt.show()"
      ],
      "metadata": {
        "colab": {
          "base_uri": "https://localhost:8080/",
          "height": 1000
        },
        "id": "OGsPi-TlMvl6",
        "outputId": "8ddd9cb2-8bb8-4294-8a7a-f7a6723a31dc"
      },
      "execution_count": 49,
      "outputs": [
        {
          "output_type": "stream",
          "name": "stderr",
          "text": [
            "/usr/local/lib/python3.10/dist-packages/sklearn/ensemble/_forest.py:468: UserWarning: Warm-start fitting without increasing n_estimators does not fit new trees.\n",
            "  warn(\n",
            "/usr/local/lib/python3.10/dist-packages/sklearn/metrics/_classification.py:1531: UndefinedMetricWarning: Precision is ill-defined and being set to 0.0 in samples with no predicted labels. Use `zero_division` parameter to control this behavior.\n",
            "  _warn_prf(average, modifier, f\"{metric.capitalize()} is\", len(result))\n"
          ]
        },
        {
          "output_type": "stream",
          "name": "stdout",
          "text": [
            "Total Trees: 10, Accuracy: 0.98, F1 Score: 0.98, Precision: 0.98, Recall: 0.98\n"
          ]
        },
        {
          "output_type": "display_data",
          "data": {
            "text/plain": [
              "<Figure size 2500x2200 with 0 Axes>"
            ]
          },
          "metadata": {}
        },
        {
          "output_type": "display_data",
          "data": {
            "text/plain": [
              "<Figure size 640x480 with 2 Axes>"
            ],
            "image/png": "[encoded data removed]"
          },
          "metadata": {}
        },
        {
          "output_type": "stream",
          "name": "stdout",
          "text": [
            "Model memnuhi akurasi metrik.\n"
          ]
        },
        {
          "output_type": "display_data",
          "data": {
            "text/plain": [
              "<Figure size 1500x1000 with 1 Axes>"
            ],
            "image/png": "[encoded data removed]"
          },
          "metadata": {}
        }
      ]
    },
    {
      "cell_type": "markdown",
      "source": [
        "## **d. Evaluasi Model Klasifikasi setelah Tuning (Optional)**"
      ],
      "metadata": {
        "id": "hE7pqlEPEYzI"
      }
    },
    {
      "cell_type": "markdown",
      "source": [
        "Berikut adalah rekomendasi tahapannya.\n",
        "1. Gunakan model dengan hyperparameter terbaik.\n",
        "2. Hitung ulang metrik evaluasi untuk melihat apakah ada peningkatan performa."
      ],
      "metadata": {
        "id": "feaPESoeN0zz"
      }
    },
    {
      "cell_type": "code",
      "source": [
        "#Perbandingan hasil konvesional dengan hasil 'tuning' melalui cvgrid\n"
      ],
      "metadata": {
        "id": "TktLPnw1ghM4"
      },
      "execution_count": null,
      "outputs": []
    },
    {
      "cell_type": "code",
      "source": [
        "#Type your code here"
      ],
      "metadata": {
        "id": "HTXZRvEeNMb1"
      },
      "execution_count": null,
      "outputs": []
    },
    {
      "cell_type": "markdown",
      "source": [
        "## **e. Analisis Hasil Evaluasi Model Klasifikasi**"
      ],
      "metadata": {
        "id": "ZRsOdm4uEgAW"
      }
    },
    {
      "cell_type": "markdown",
      "source": [
        "Berikut adalah **rekomendasi** tahapannya.\n",
        "1. Bandingkan hasil evaluasi sebelum dan setelah tuning (jika dilakukan).\n",
        "2. Identifikasi kelemahan model, seperti:\n",
        "  - Precision atau Recall rendah untuk kelas tertentu.\n",
        "  - Apakah model mengalami overfitting atau underfitting?\n",
        "3. Berikan rekomendasi tindakan lanjutan, seperti mengumpulkan data tambahan atau mencoba algoritma lain jika hasil belum memuaskan."
      ],
      "metadata": {
        "id": "Hm3BhSi6N4_l"
      }
    }
  ]
}