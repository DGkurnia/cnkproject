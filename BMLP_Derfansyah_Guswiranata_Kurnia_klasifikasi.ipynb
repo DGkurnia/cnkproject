{
  "nbformat": 4,
  "nbformat_minor": 0,
  "metadata": {
    "colab": {
      "provenance": [],
      "include_colab_link": true
    },
    "kernelspec": {
      "name": "python3",
      "display_name": "Python 3"
    },
    "language_info": {
      "name": "python"
    }
  },
  "cells": [
    {
      "cell_type": "markdown",
      "metadata": {
        "id": "view-in-github",
        "colab_type": "text"
      },
      "source": [
        "<a href=\"https://colab.research.google.com/github/DGkurnia/cnkproject/blob/main/BMLP_Derfansyah_Guswiranata_Kurnia_klasifikasi.ipynb\" target=\"_parent\"><img src=\"https://colab.research.google.com/assets/colab-badge.svg\" alt=\"Open In Colab\"/></a>"
      ]
    },
    {
      "cell_type": "markdown",
      "source": [
        "# **1. Import Library**"
      ],
      "metadata": {
        "id": "fKADPWcFKlj3"
      }
    },
    {
      "cell_type": "markdown",
      "source": [
        "Pada tahap ini, Anda perlu mengimpor beberapa pustaka (library) Python yang dibutuhkan untuk analisis data dan pembangunan model machine learning."
      ],
      "metadata": {
        "id": "LgA3ERnVn84N"
      }
    },
    {
      "cell_type": "code",
      "source": [
        "#Perpustakaan untuk pengelolaan data\n",
        "import numpy as np\n",
        "import pandas as pd\n",
        "#Grafik\n",
        "import matplotlib.pyplot as plt #grafik dasar\n",
        "import seaborn as sns\n",
        "import datetime"
      ],
      "metadata": {
        "id": "BlmvjLY9M4Yj"
      },
      "execution_count": 148,
      "outputs": []
    },
    {
      "cell_type": "code",
      "source": [
        "#pelabelan untuk klasifikasi\n",
        "from sklearn.preprocessing import LabelBinarizer as lbina\n",
        "from sklearn.preprocessing import LabelEncoder as lenco"
      ],
      "metadata": {
        "id": "trwImvqYHw5-"
      },
      "execution_count": 149,
      "outputs": []
    },
    {
      "cell_type": "code",
      "source": [
        "#Bagian knn(p1)\n",
        "from sklearn.model_selection import train_test_split, RandomizedSearchCV\n",
        "from sklearn.neighbors import KNeighborsClassifier\n",
        "from sklearn.metrics import accuracy_score, precision_score, recall_score, f1_score, confusion_matrix as cmatr, classification_report\n",
        "from sklearn.preprocessing import RobustScaler, MinMaxScaler, StandardScaler\n",
        "#jika pakai multilabel\n",
        "from sklearn.metrics import multilabel_confusion_matrix as mcmat"
      ],
      "metadata": {
        "id": "nJm5Mw1H3V6h"
      },
      "execution_count": 150,
      "outputs": []
    },
    {
      "cell_type": "code",
      "source": [
        "#Bagian klasifikasi 'randomforest'\n",
        "from sklearn.ensemble import RandomForestClassifier"
      ],
      "metadata": {
        "id": "syO5ZWQT00Op"
      },
      "execution_count": 151,
      "outputs": []
    },
    {
      "cell_type": "code",
      "source": [
        "#Pengunduhan dataset ke google colab\n",
        "from google.colab import files\n",
        "#ke proses 'upload'"
      ],
      "metadata": {
        "id": "c7FAzF641Y18"
      },
      "execution_count": 152,
      "outputs": []
    },
    {
      "cell_type": "code",
      "source": [
        "#proses 'upload'\n",
        "uploaded = files.upload()"
      ],
      "metadata": {
        "colab": {
          "base_uri": "https://localhost:8080/",
          "height": 73
        },
        "id": "F_1zCMBK1aBp",
        "outputId": "ea1122d5-f537-41ed-98d1-b0b375d6bf32"
      },
      "execution_count": 153,
      "outputs": [
        {
          "output_type": "display_data",
          "data": {
            "text/plain": [
              "<IPython.core.display.HTML object>"
            ],
            "text/html": [
              "\n",
              "     <input type=\"file\" id=\"files-3ddbc595-5052-4075-9902-510c8e112ab6\" name=\"files[]\" multiple disabled\n",
              "        style=\"border:none\" />\n",
              "     <output id=\"result-3ddbc595-5052-4075-9902-510c8e112ab6\">\n",
              "      Upload widget is only available when the cell has been executed in the\n",
              "      current browser session. Please rerun this cell to enable.\n",
              "      </output>\n",
              "      <script>// Copyright 2017 Google LLC\n",
              "//\n",
              "// Licensed under the Apache License, Version 2.0 (the \"License\");\n",
              "// you may not use this file except in compliance with the License.\n",
              "// You may obtain a copy of the License at\n",
              "//\n",
              "//      http://www.apache.org/licenses/LICENSE-2.0\n",
              "//\n",
              "// Unless required by applicable law or agreed to in writing, software\n",
              "// distributed under the License is distributed on an \"AS IS\" BASIS,\n",
              "// WITHOUT WARRANTIES OR CONDITIONS OF ANY KIND, either express or implied.\n",
              "// See the License for the specific language governing permissions and\n",
              "// limitations under the License.\n",
              "\n",
              "/**\n",
              " * @fileoverview Helpers for google.colab Python module.\n",
              " */\n",
              "(function(scope) {\n",
              "function span(text, styleAttributes = {}) {\n",
              "  const element = document.createElement('span');\n",
              "  element.textContent = text;\n",
              "  for (const key of Object.keys(styleAttributes)) {\n",
              "    element.style[key] = styleAttributes[key];\n",
              "  }\n",
              "  return element;\n",
              "}\n",
              "\n",
              "// Max number of bytes which will be uploaded at a time.\n",
              "const MAX_PAYLOAD_SIZE = 100 * 1024;\n",
              "\n",
              "function _uploadFiles(inputId, outputId) {\n",
              "  const steps = uploadFilesStep(inputId, outputId);\n",
              "  const outputElement = document.getElementById(outputId);\n",
              "  // Cache steps on the outputElement to make it available for the next call\n",
              "  // to uploadFilesContinue from Python.\n",
              "  outputElement.steps = steps;\n",
              "\n",
              "  return _uploadFilesContinue(outputId);\n",
              "}\n",
              "\n",
              "// This is roughly an async generator (not supported in the browser yet),\n",
              "// where there are multiple asynchronous steps and the Python side is going\n",
              "// to poll for completion of each step.\n",
              "// This uses a Promise to block the python side on completion of each step,\n",
              "// then passes the result of the previous step as the input to the next step.\n",
              "function _uploadFilesContinue(outputId) {\n",
              "  const outputElement = document.getElementById(outputId);\n",
              "  const steps = outputElement.steps;\n",
              "\n",
              "  const next = steps.next(outputElement.lastPromiseValue);\n",
              "  return Promise.resolve(next.value.promise).then((value) => {\n",
              "    // Cache the last promise value to make it available to the next\n",
              "    // step of the generator.\n",
              "    outputElement.lastPromiseValue = value;\n",
              "    return next.value.response;\n",
              "  });\n",
              "}\n",
              "\n",
              "/**\n",
              " * Generator function which is called between each async step of the upload\n",
              " * process.\n",
              " * @param {string} inputId Element ID of the input file picker element.\n",
              " * @param {string} outputId Element ID of the output display.\n",
              " * @return {!Iterable<!Object>} Iterable of next steps.\n",
              " */\n",
              "function* uploadFilesStep(inputId, outputId) {\n",
              "  const inputElement = document.getElementById(inputId);\n",
              "  inputElement.disabled = false;\n",
              "\n",
              "  const outputElement = document.getElementById(outputId);\n",
              "  outputElement.innerHTML = '';\n",
              "\n",
              "  const pickedPromise = new Promise((resolve) => {\n",
              "    inputElement.addEventListener('change', (e) => {\n",
              "      resolve(e.target.files);\n",
              "    });\n",
              "  });\n",
              "\n",
              "  const cancel = document.createElement('button');\n",
              "  inputElement.parentElement.appendChild(cancel);\n",
              "  cancel.textContent = 'Cancel upload';\n",
              "  const cancelPromise = new Promise((resolve) => {\n",
              "    cancel.onclick = () => {\n",
              "      resolve(null);\n",
              "    };\n",
              "  });\n",
              "\n",
              "  // Wait for the user to pick the files.\n",
              "  const files = yield {\n",
              "    promise: Promise.race([pickedPromise, cancelPromise]),\n",
              "    response: {\n",
              "      action: 'starting',\n",
              "    }\n",
              "  };\n",
              "\n",
              "  cancel.remove();\n",
              "\n",
              "  // Disable the input element since further picks are not allowed.\n",
              "  inputElement.disabled = true;\n",
              "\n",
              "  if (!files) {\n",
              "    return {\n",
              "      response: {\n",
              "        action: 'complete',\n",
              "      }\n",
              "    };\n",
              "  }\n",
              "\n",
              "  for (const file of files) {\n",
              "    const li = document.createElement('li');\n",
              "    li.append(span(file.name, {fontWeight: 'bold'}));\n",
              "    li.append(span(\n",
              "        `(${file.type || 'n/a'}) - ${file.size} bytes, ` +\n",
              "        `last modified: ${\n",
              "            file.lastModifiedDate ? file.lastModifiedDate.toLocaleDateString() :\n",
              "                                    'n/a'} - `));\n",
              "    const percent = span('0% done');\n",
              "    li.appendChild(percent);\n",
              "\n",
              "    outputElement.appendChild(li);\n",
              "\n",
              "    const fileDataPromise = new Promise((resolve) => {\n",
              "      const reader = new FileReader();\n",
              "      reader.onload = (e) => {\n",
              "        resolve(e.target.result);\n",
              "      };\n",
              "      reader.readAsArrayBuffer(file);\n",
              "    });\n",
              "    // Wait for the data to be ready.\n",
              "    let fileData = yield {\n",
              "      promise: fileDataPromise,\n",
              "      response: {\n",
              "        action: 'continue',\n",
              "      }\n",
              "    };\n",
              "\n",
              "    // Use a chunked sending to avoid message size limits. See b/62115660.\n",
              "    let position = 0;\n",
              "    do {\n",
              "      const length = Math.min(fileData.byteLength - position, MAX_PAYLOAD_SIZE);\n",
              "      const chunk = new Uint8Array(fileData, position, length);\n",
              "      position += length;\n",
              "\n",
              "      const base64 = btoa(String.fromCharCode.apply(null, chunk));\n",
              "      yield {\n",
              "        response: {\n",
              "          action: 'append',\n",
              "          file: file.name,\n",
              "          data: base64,\n",
              "        },\n",
              "      };\n",
              "\n",
              "      let percentDone = fileData.byteLength === 0 ?\n",
              "          100 :\n",
              "          Math.round((position / fileData.byteLength) * 100);\n",
              "      percent.textContent = `${percentDone}% done`;\n",
              "\n",
              "    } while (position < fileData.byteLength);\n",
              "  }\n",
              "\n",
              "  // All done.\n",
              "  yield {\n",
              "    response: {\n",
              "      action: 'complete',\n",
              "    }\n",
              "  };\n",
              "}\n",
              "\n",
              "scope.google = scope.google || {};\n",
              "scope.google.colab = scope.google.colab || {};\n",
              "scope.google.colab._files = {\n",
              "  _uploadFiles,\n",
              "  _uploadFilesContinue,\n",
              "};\n",
              "})(self);\n",
              "</script> "
            ]
          },
          "metadata": {}
        },
        {
          "output_type": "stream",
          "name": "stdout",
          "text": [
            "Saving hslclstr.csv to hslclstr.csv\n"
          ]
        }
      ]
    },
    {
      "cell_type": "code",
      "source": [
        "#pengelolaan file\n",
        "import os #untuk os\n",
        "import time #waktu\n",
        "import datetime #tanggal\n",
        "import gc #pengunduhan file per batch"
      ],
      "metadata": {
        "id": "ndXvjNhh3ZaY"
      },
      "execution_count": 154,
      "outputs": []
    },
    {
      "cell_type": "code",
      "source": [
        "#Penyimpanan hasil sementara di google drive\n",
        "from google.colab import drive\n",
        "drive.mount('/content/drive')"
      ],
      "metadata": {
        "colab": {
          "base_uri": "https://localhost:8080/"
        },
        "id": "c3iqu6N43l32",
        "outputId": "6e20b58d-b6ab-43e4-ac54-2e538116da15"
      },
      "execution_count": 155,
      "outputs": [
        {
          "output_type": "stream",
          "name": "stdout",
          "text": [
            "Drive already mounted at /content/drive; to attempt to forcibly remount, call drive.mount(\"/content/drive\", force_remount=True).\n"
          ]
        }
      ]
    },
    {
      "cell_type": "code",
      "source": [
        "#inisiasi berat sampel\n",
        "from sklearn.utils.class_weight import compute_sample_weight as csw #inspeksi berat dl"
      ],
      "metadata": {
        "id": "3ePCGLMy0bhI"
      },
      "execution_count": 156,
      "outputs": []
    },
    {
      "cell_type": "code",
      "source": [
        "#Bagian multiprocessing melalui instalasi pool\n",
        "import warnings #peringatan\n",
        "import multiprocessing as mp #untuk multiprocessing\n",
        "from multiprocessing import Pool\n",
        "import joblib #Bagian Joblib"
      ],
      "metadata": {
        "id": "OxflnfjP3wry"
      },
      "execution_count": 157,
      "outputs": []
    },
    {
      "cell_type": "code",
      "source": [
        "#penyimpanan hasil melalui dill\n",
        "! pip install dill\n",
        "import dill"
      ],
      "metadata": {
        "colab": {
          "base_uri": "https://localhost:8080/"
        },
        "id": "cIIj64Qs3fIF",
        "outputId": "7e01e495-ed42-4de9-8a2e-d73336b78783"
      },
      "execution_count": 158,
      "outputs": [
        {
          "output_type": "stream",
          "name": "stdout",
          "text": [
            "Requirement already satisfied: dill in /usr/local/lib/python3.10/dist-packages (0.3.9)\n"
          ]
        }
      ]
    },
    {
      "cell_type": "markdown",
      "source": [
        "# **2. Memuat Dataset dari Hasil Clustering**"
      ],
      "metadata": {
        "id": "f3YIEnAFKrKL"
      }
    },
    {
      "cell_type": "markdown",
      "source": [
        "Memuat dataset hasil clustering dari file CSV ke dalam variabel DataFrame."
      ],
      "metadata": {
        "id": "Ey3ItwTen_7E"
      }
    },
    {
      "cell_type": "code",
      "source": [
        "#Cek data\n",
        "df = pd.read_csv('/content/hslclstr.csv')\n",
        "dfc = df.copy() #jangan pakai data asli"
      ],
      "metadata": {
        "id": "GHCGNTyrM5fS"
      },
      "execution_count": 161,
      "outputs": []
    },
    {
      "cell_type": "code",
      "source": [
        "#cek hasil\n",
        "smpl = dfc.head(7)\n",
        "inf = dfc.info() #informasi"
      ],
      "metadata": {
        "colab": {
          "base_uri": "https://localhost:8080/"
        },
        "id": "h3iFgini4lOP",
        "outputId": "32f33a5e-327c-4510-a935-4cb229f837f0"
      },
      "execution_count": 162,
      "outputs": [
        {
          "output_type": "stream",
          "name": "stdout",
          "text": [
            "<class 'pandas.core.frame.DataFrame'>\n",
            "RangeIndex: 64016 entries, 0 to 64015\n",
            "Data columns (total 16 columns):\n",
            " #   Column                       Non-Null Count  Dtype  \n",
            "---  ------                       --------------  -----  \n",
            " 0   img                          64016 non-null  object \n",
            " 1   title                        64016 non-null  object \n",
            " 2   console                      64016 non-null  object \n",
            " 3   genre                        64016 non-null  object \n",
            " 4   publisher                    64016 non-null  object \n",
            " 5   total_sales                  64016 non-null  float64\n",
            " 6   na_sales                     64016 non-null  float64\n",
            " 7   jp_sales                     64016 non-null  float64\n",
            " 8   pal_sales                    64016 non-null  float64\n",
            " 9   other_sales                  64016 non-null  float64\n",
            " 10  critic_score                 64016 non-null  float64\n",
            " 11  release_date                 64016 non-null  object \n",
            " 12  last_update                  64016 non-null  object \n",
            " 13  kemungkinan generasi         64016 non-null  int64  \n",
            " 14  kemungkinan jenis permainan  64016 non-null  int64  \n",
            " 15  Label                        64016 non-null  object \n",
            "dtypes: float64(6), int64(2), object(8)\n",
            "memory usage: 7.8+ MB\n"
          ]
        }
      ]
    },
    {
      "cell_type": "code",
      "source": [
        "#inspeksi label untuk sampel\n",
        "lbl = dfc['Label'].copy()\n",
        "print(lbl.head(7))"
      ],
      "metadata": {
        "colab": {
          "base_uri": "https://localhost:8080/"
        },
        "id": "49_-B54J5LvE",
        "outputId": "e32deb7c-8dc2-43fd-a9d4-d2c63d9c6816"
      },
      "execution_count": 163,
      "outputs": [
        {
          "output_type": "stream",
          "name": "stdout",
          "text": [
            "0    game kurang berkenan dengan fokus pencarian ke...\n",
            "1    game kurang berkenan dengan fokus pencarian ke...\n",
            "2    game kurang berkenan dengan fokus pencarian ke...\n",
            "3                game dengan tujuan utama pencari duit\n",
            "4    game kurang berkenan dengan fokus pencarian ke...\n",
            "5                game dengan tujuan utama pencari duit\n",
            "6                game dengan tujuan utama pencari duit\n",
            "Name: Label, dtype: object\n"
          ]
        }
      ]
    },
    {
      "cell_type": "markdown",
      "source": [
        "Kolom ini menjadi basis sumbu y di klasifikasi"
      ],
      "metadata": {
        "id": "b-xqdRyES5iM"
      }
    },
    {
      "cell_type": "markdown",
      "source": [
        "# **3. Data Splitting**"
      ],
      "metadata": {
        "id": "KkPem5eWL2UP"
      }
    },
    {
      "cell_type": "markdown",
      "source": [
        "Tahap Data Splitting bertujuan untuk memisahkan dataset menjadi dua bagian: data latih (training set) dan data uji (test set)."
      ],
      "metadata": {
        "id": "YYj1rl_JNI9Y"
      }
    },
    {
      "cell_type": "code",
      "source": [
        "#Inisiasi pembagian data\n",
        "inspk = dfc.iloc[:,5:11].copy() #numerikal untuk klasifikasi kluster\n",
        "inspk.info()"
      ],
      "metadata": {
        "id": "vM4BLUu_40kl",
        "colab": {
          "base_uri": "https://localhost:8080/"
        },
        "outputId": "2609e3c9-f562-43c6-8aca-47ec2f51ff48"
      },
      "execution_count": 164,
      "outputs": [
        {
          "output_type": "stream",
          "name": "stdout",
          "text": [
            "<class 'pandas.core.frame.DataFrame'>\n",
            "RangeIndex: 64016 entries, 0 to 64015\n",
            "Data columns (total 6 columns):\n",
            " #   Column        Non-Null Count  Dtype  \n",
            "---  ------        --------------  -----  \n",
            " 0   total_sales   64016 non-null  float64\n",
            " 1   na_sales      64016 non-null  float64\n",
            " 2   jp_sales      64016 non-null  float64\n",
            " 3   pal_sales     64016 non-null  float64\n",
            " 4   other_sales   64016 non-null  float64\n",
            " 5   critic_score  64016 non-null  float64\n",
            "dtypes: float64(6)\n",
            "memory usage: 2.9 MB\n"
          ]
        }
      ]
    },
    {
      "cell_type": "code",
      "source": [
        "#Sumbu x\n",
        "xcls = inspk.copy() #pakai numerik"
      ],
      "metadata": {
        "id": "hdUVAumDGa2c"
      },
      "execution_count": 165,
      "outputs": []
    },
    {
      "cell_type": "markdown",
      "source": [
        "Sumbu x  **(xcls)** adalah nilai numerikal dari tabel yang terdiri dari\n",
        "* Penjualan dari lima indikator (total, spesifik di amerika utara, jepang, PAL, lain-lain)\n",
        "* Nilai kritik dari permainan"
      ],
      "metadata": {
        "id": "lbtI-04vGloX"
      }
    },
    {
      "cell_type": "markdown",
      "source": [
        "Persiapan sumbu y"
      ],
      "metadata": {
        "id": "RqyAniQo-mKa"
      }
    },
    {
      "cell_type": "code",
      "source": [
        "#numerisasi label (identifikasi jenis label)\n",
        "jnslbl = lbl.copy()\n",
        "jnslbl.info()"
      ],
      "metadata": {
        "colab": {
          "base_uri": "https://localhost:8080/"
        },
        "id": "L2klaS2KE7Ct",
        "outputId": "c2bf483c-02ff-48ab-9eb7-340ab671f080"
      },
      "execution_count": 166,
      "outputs": [
        {
          "output_type": "stream",
          "name": "stdout",
          "text": [
            "<class 'pandas.core.series.Series'>\n",
            "RangeIndex: 64016 entries, 0 to 64015\n",
            "Series name: Label\n",
            "Non-Null Count  Dtype \n",
            "--------------  ----- \n",
            "64016 non-null  object\n",
            "dtypes: object(1)\n",
            "memory usage: 500.2+ KB\n"
          ]
        }
      ]
    },
    {
      "cell_type": "code",
      "source": [
        "#Persiapan pembagian data (untuk kluster)\n",
        "ycls = jnslbl #masih kata-kata\n",
        "#pelabelan dengan 'ohen.onehotencoder' (pembentukan ulang)\n",
        "bntkbaru, label = pd.factorize(ycls, sort=True, use_na_sentinel=False)\n",
        "#inspeksi hasil\n",
        "print(bntkbaru)\n",
        "print(label)"
      ],
      "metadata": {
        "id": "OubAW-7ONKVj",
        "colab": {
          "base_uri": "https://localhost:8080/"
        },
        "outputId": "0c9f5551-2bb3-4a59-f73c-bf7531d0a700"
      },
      "execution_count": 167,
      "outputs": [
        {
          "output_type": "stream",
          "name": "stdout",
          "text": [
            "[2 2 2 ... 1 1 1]\n",
            "Index(['game dengan tujuan utama pencari duit',\n",
            "       'game favortit dengan keuntungan rendah',\n",
            "       'game kurang berkenan dengan fokus pencarian keuntungan'],\n",
            "      dtype='object')\n"
          ]
        }
      ]
    },
    {
      "cell_type": "markdown",
      "source": [
        "sampel kolom pelabelan"
      ],
      "metadata": {
        "id": "x8dr89b17Ii4"
      }
    },
    {
      "cell_type": "code",
      "source": [
        "#pembentukan ulang\n",
        "enkoding = bntkbaru.ravel()\n",
        "#inisiasi ohen\n",
        "encoder = lenco() #Untuk proses inti\n",
        "#penyesuaian data\n",
        "lblohen = encoder.fit_transform(enkoding)"
      ],
      "metadata": {
        "id": "GGwhIGqbIbPC"
      },
      "execution_count": 168,
      "outputs": []
    },
    {
      "cell_type": "code",
      "source": [
        "#konversi ke df untuk kluster jadi\n",
        "dflbl = pd.DataFrame(lblohen, columns=['Biner1'], copy=True)\n",
        "#cek hasil\n",
        "smpllbl = dflbl.head(7)\n",
        "tiplbl = dflbl.info()\n",
        "print(smpllbl) #inspeksi hasil"
      ],
      "metadata": {
        "colab": {
          "base_uri": "https://localhost:8080/"
        },
        "id": "-K6VVEnKJD6c",
        "outputId": "d196cbc7-ffd0-4145-c513-2fabd36a1842"
      },
      "execution_count": 169,
      "outputs": [
        {
          "output_type": "stream",
          "name": "stdout",
          "text": [
            "<class 'pandas.core.frame.DataFrame'>\n",
            "RangeIndex: 64016 entries, 0 to 64015\n",
            "Data columns (total 1 columns):\n",
            " #   Column  Non-Null Count  Dtype\n",
            "---  ------  --------------  -----\n",
            " 0   Biner1  64016 non-null  int64\n",
            "dtypes: int64(1)\n",
            "memory usage: 500.2 KB\n",
            "   Biner1\n",
            "0       2\n",
            "1       2\n",
            "2       2\n",
            "3       0\n",
            "4       2\n",
            "5       0\n",
            "6       0\n"
          ]
        }
      ]
    },
    {
      "cell_type": "markdown",
      "source": [
        "Nilai ini menjadi komponen untuk penyatuan dengan variabel **(ycls)**"
      ],
      "metadata": {
        "id": "eVozCln-JVYn"
      }
    },
    {
      "cell_type": "markdown",
      "source": [
        "# **4. Membangun Model Klasifikasi**\n"
      ],
      "metadata": {
        "id": "IVPbB03CMhTT"
      }
    },
    {
      "cell_type": "markdown",
      "source": [
        "## **a. Membangun Model Klasifikasi**"
      ],
      "metadata": {
        "id": "Ned1pL9zMmBK"
      }
    },
    {
      "cell_type": "markdown",
      "source": [
        "Setelah memilih algoritma klasifikasi yang sesuai, langkah selanjutnya adalah melatih model menggunakan data latih.\n",
        "\n",
        "Berikut adalah rekomendasi tahapannya.\n",
        "1. Pilih algoritma klasifikasi yang sesuai, seperti Logistic Regression, Decision Tree, Random Forest, atau K-Nearest Neighbors (KNN).\n",
        "2. Latih model menggunakan data latih."
      ],
      "metadata": {
        "id": "WAWzPOE4Nkti"
      }
    },
    {
      "cell_type": "code",
      "source": [
        "#proses scaling untuk sumbu X (robust)\n",
        "rbsscal = RobustScaler(unit_variance=True) #untuk robust [tahap 1]\n",
        "stdscal = StandardScaler() #untuk standar [Tahap 2]\n",
        "mmscal = MinMaxScaler(clip=True) #untuk indikator 'minmax' [Tahap 3]\n",
        "xclscl = rbsscal.fit_transform(xcls) #untuk tahap 1\n",
        "xclstd = stdscal.fit_transform(xclscl) #untuk tahap 2\n",
        "xclmm = mmscal.fit_transform(xcls) #untuk tahap 3\n",
        "#pengubahan ke data frame untuk evaluasi tahap akhir\n",
        "dfxclmm = pd.DataFrame(xclmm, columns=xcls.columns,copy=True)"
      ],
      "metadata": {
        "id": "hCT3Q_vtT01z"
      },
      "execution_count": 172,
      "outputs": []
    },
    {
      "cell_type": "code",
      "source": [
        "#inspeksi kolom\n",
        "print(dfxclmm.head(7))"
      ],
      "metadata": {
        "colab": {
          "base_uri": "https://localhost:8080/"
        },
        "id": "iRuxkA5lUAvu",
        "outputId": "8411a33c-675a-4f12-e575-59143b1f9ad5"
      },
      "execution_count": 173,
      "outputs": [
        {
          "output_type": "stream",
          "name": "stdout",
          "text": [
            "   total_sales  na_sales  jp_sales  pal_sales  other_sales  critic_score\n",
            "0     1.000000  0.652664  0.464789   1.000000     1.000000      0.933333\n",
            "1     0.954232  0.620902  0.281690   0.985787     0.967949      0.966667\n",
            "2     0.794783  0.861680  0.220657   0.557360     0.570513      0.955556\n",
            "3     0.780512  0.928279  0.028169   0.541117     0.455128      0.955556\n",
            "4     0.742618  0.633197  0.192488   0.614213     0.782051      0.788889\n",
            "5     0.729331  0.929303  0.061033   0.435533     0.426282      0.855556\n",
            "6     0.725394  1.000000  0.051643   0.378680     0.365385      0.866667\n"
          ]
        }
      ]
    },
    {
      "cell_type": "markdown",
      "source": [
        "6 kolom di dataframe 'dfxclstd' menjadi aspek **\"xclstd\"**"
      ],
      "metadata": {
        "id": "OSTrNylU4b6b"
      }
    },
    {
      "cell_type": "code",
      "source": [
        "#deklarasi ycl\n",
        "ycl = dflbl.copy()"
      ],
      "metadata": {
        "id": "WcGMa0JZbLBv"
      },
      "execution_count": 47,
      "outputs": []
    },
    {
      "cell_type": "markdown",
      "source": [
        "Nilai salinan dflbl menjadi basis variabel **'ycl'**"
      ],
      "metadata": {
        "id": "vucEDAEnA5VH"
      }
    },
    {
      "cell_type": "code",
      "source": [
        "#deklarasi nilai X dan y\n",
        "X_train, X_test, y_train, y_test = train_test_split(xclstd, ycl, test_size=0.25, random_state=47, stratify=ycl) #untuk cek kondisi 1\n",
        "X_train2, X_test2, y_train2, y_test2 = train_test_split(xclstd, ycl, test_size=0.225, random_state=47, stratify=ycl) #untuk KOndisi 2"
      ],
      "metadata": {
        "id": "vOTh55sKJSZW"
      },
      "execution_count": 133,
      "outputs": []
    },
    {
      "cell_type": "code",
      "source": [
        "#Berat sampel di latihan\n",
        "brtsmplth = csw(class_weight='balanced', y=y_train) #dipakai di kondisi 1\n",
        "brtsmplth2 = csw(class_weight='balanced', y=y_train2) #dipakai di kondisi 2"
      ],
      "metadata": {
        "id": "V85NAqdUKA_Z"
      },
      "execution_count": 134,
      "outputs": []
    },
    {
      "cell_type": "code",
      "source": [
        "#Inisiasi 'berat sampel' di data tes\n",
        "brtsampel = csw(class_weight='balanced', y=y_test) #dipakai di kondisi 1\n",
        "brtsampel2 = csw(class_weight='balanced', y=y_test2) #dipakai di kondisi 2"
      ],
      "metadata": {
        "id": "G4iGKOIz00Xg"
      },
      "execution_count": 135,
      "outputs": []
    },
    {
      "cell_type": "markdown",
      "source": [
        "- Tujuan pemasan berat di latihan adalah penstabilan data dengan indisitas\n",
        "- Indisitas dengan '1' dan '2' menyatakan kondisi rasio"
      ],
      "metadata": {
        "id": "RYUgBI2SCcSo"
      }
    },
    {
      "cell_type": "markdown",
      "source": [
        "Rincian Percobaan\n",
        "* Percobaan pertama untuk kedua metode berlangsung dengan rasio (3/1) (1)\n",
        "* Percobaan kedua dengan rasio (31/9)"
      ],
      "metadata": {
        "id": "V3pdLLjkPFeX"
      }
    },
    {
      "cell_type": "code",
      "source": [
        "#Fungsi penentu akurasi melalui KNN\n",
        "def train_and_evaluate(k):\n",
        "    model = KNeighborsClassifier(n_neighbors=k, weights='distance', leaf_size=35,\n",
        "                                 metric='seuclidean',p=1,metric_params={'V': np.var(X_train, axis=0)})\n",
        "    #Tahap 'ravelisasi'\n",
        "    y_trainrav = y_train.values.ravel()\n",
        "    model.fit(X_train, y_trainrav)\n",
        "    #Prediksi\n",
        "    y_pred = model.predict(X_test)\n",
        "\n",
        "    # Pembulatan metrik\n",
        "    accuracy = accuracy_score(y_test, y_pred, sample_weight=brtsampel) # Akurasi yang dinormalkan\n",
        "    precision = precision_score(y_test, y_pred, average='weighted', sample_weight=brtsampel, zero_division=0) # Penyesuaian di presisi\n",
        "    recall = recall_score(y_test, y_pred, average='weighted',sample_weight=brtsampel, zero_division=0) #Penyesuaian di kondisi recall\n",
        "    f1 = f1_score(y_test, y_pred, average='weighted',sample_weight=brtsampel, zero_division=0) #Penyesuaian di skor F1\n",
        "\n",
        "    # Print metrics\n",
        "    print(f\"Total Tetangga k={k}\")\n",
        "    print(f\"Nilai Akurasi: {accuracy:.4f}, Presisi: {precision:.4f}, Aspek Recall: {recall:.4f}, Skor F1: {f1:.4f}\")\n",
        "\n",
        "    # Classification report\n",
        "    report = classification_report(y_test, y_pred, sample_weight=brtsampel, zero_division=0)\n",
        "\n",
        "    if (accuracy >= 0.87 and precision >= 0.87 and recall >= 0.87 and f1 >= 0.87) or \\\n",
        "       (accuracy >= 0.92 and precision >= 0.92 and recall >= 0.92 and f1 >= 0.92):\n",
        "        print(\"Hasil sangat bagus untuk disimpan bisa disimpan.\")\n",
        "        return (k, accuracy, precision, recall, f1, y_pred, report)\n",
        "    elif (accuracy >= 0.87 and precision >= 0.87 and recall >= 0.87 and f1 >= 0.87) or \\\n",
        "         (accuracy < 0.92 and precision < 0.92 and recall < 0.92 and f1 < 0.92):\n",
        "        print(\"Hasil masih bisa disimpan.\")\n",
        "        return (k, accuracy, precision, recall, f1, y_pred, report)\n",
        "    elif (accuracy >= 0.87 and precision >= 0.87 and recall < 0.87 and f1 < 0.87) or \\\n",
        "         (accuracy > 0.92 and precision > 0.92 and recall < 0.92 and f1 < 0.92):\n",
        "         print(\"Ada masalah di recall dan nilai f1.\")\n",
        "         return None\n",
        "    else:\n",
        "        print(\"Hasil tidak pantas disimpan.\")\n",
        "        return None\n",
        "  #ke pembentukan matriks"
      ],
      "metadata": {
        "id": "4JYxBe87NLDk"
      },
      "execution_count": 136,
      "outputs": []
    },
    {
      "cell_type": "code",
      "source": [
        "#Fungsi evaluasi matriks\n",
        "def generate_confusion_matrix(y_true, y_pred, brtsampel):\n",
        "    cm = cmatr(y_true, y_pred, sample_weight=brtsampel, normalize='all') #Bisa matriks biasa atau multi matriks\n",
        "    print(\"Confusion Matrix:\")\n",
        "    cm_rounded = np.round(cm.astype(float), decimals=4)  # Pembulatan untuk kemudahan nilai\n",
        "    print(\"Hasil Confusion Matriks:\")\n",
        "    print(cm_rounded)\n",
        "    return cm_rounded\n",
        "#ke eksekusi asli"
      ],
      "metadata": {
        "id": "tMq4QAssNLip"
      },
      "execution_count": 137,
      "outputs": []
    },
    {
      "cell_type": "code",
      "source": [
        "#Deklarasi parameter batas di KNN\n",
        "param_grid = range(5,15)\n",
        "#Paralelisasi melalui KNN\n",
        "if __name__ == '__main__':\n",
        "    with Pool() as pool:\n",
        "        results = pool.map(train_and_evaluate, param_grid)\n",
        "\n",
        "    # Filter out empty results\n",
        "    filtered_results = [result for result in results if result is not None]\n",
        "\n",
        "    # Get the best result\n",
        "    best_result = max(filtered_results, key=lambda x: x[1], default=None)\n",
        "\n",
        "    if best_result:\n",
        "        # Pembulatans\n",
        "        rounded_best_result = (\n",
        "            best_result[0],  # Nilai awal\n",
        "            round(best_result[1], 3),  # Pembulatan 1\n",
        "            round(best_result[2], 3),  # Pembulatan 2\n",
        "            round(best_result[3], 3),  # Pembulatan 3\n",
        "            round(best_result[4], 3),  # Pembulatan 4\n",
        "            best_result[5],  # Predictions (y_pred)\n",
        "            best_result[6]   # Informasi tambahan\n",
        "        )\n",
        "\n",
        "        # Simpan nilai terbaik dari dill\n",
        "        with open('best_knn_result.dill', 'wb') as f:\n",
        "            dill.dump(rounded_best_result, f)\n",
        "\n",
        "        _, _, _, _, _, y_pred, _ = rounded_best_result\n",
        "        cm = generate_confusion_matrix(y_test, y_pred, brtsampel)\n",
        "\n",
        "        # Simpan hasil matriks terbaik saja\n",
        "        with open('best_confusion_matrix.dill', 'wb') as cm_file:\n",
        "            dill.dump(cm, cm_file)\n",
        "\n",
        "        # Print the best rounded result\n",
        "        print(\"Best Result:\", rounded_best_result)\n",
        "#eksekusi KNN"
      ],
      "metadata": {
        "id": "VOTaGStgLZd7",
        "colab": {
          "base_uri": "https://localhost:8080/"
        },
        "outputId": "9b5c336f-80d5-48f2-8b3f-ab761a697c4b"
      },
      "execution_count": 138,
      "outputs": [
        {
          "output_type": "stream",
          "name": "stdout",
          "text": [
            "Total Tetangga k=5\n",
            "Nilai Akurasi: 0.3997, Presisi: 0.4133, Aspek Recall: 0.3997, Skor F1: 0.3779\n",
            "Hasil masih bisa disimpan.\n",
            "Total Tetangga k=7\n",
            "Nilai Akurasi: 0.4102, Presisi: 0.4220, Aspek Recall: 0.4102, Skor F1: 0.3909\n",
            "Hasil masih bisa disimpan.\n",
            "Total Tetangga k=6\n",
            "Nilai Akurasi: 0.4085, Presisi: 0.4156, Aspek Recall: 0.4085, Skor F1: 0.3932\n",
            "Hasil masih bisa disimpan.\n",
            "Total Tetangga k=8\n",
            "Nilai Akurasi: 0.4160, Presisi: 0.4277, Aspek Recall: 0.4160, Skor F1: 0.3963\n",
            "Hasil masih bisa disimpan.\n",
            "Total Tetangga k=9\n",
            "Nilai Akurasi: 0.4159, Presisi: 0.4286, Aspek Recall: 0.4159, Skor F1: 0.3967\n",
            "Hasil masih bisa disimpan.\n",
            "Total Tetangga k=11\n",
            "Nilai Akurasi: 0.4198, Presisi: 0.4297, Aspek Recall: 0.4198, Skor F1: 0.4018\n",
            "Hasil masih bisa disimpan.\n",
            "Total Tetangga k=10\n",
            "Nilai Akurasi: 0.4085, Presisi: 0.4220, Aspek Recall: 0.4085, Skor F1: 0.3856\n",
            "Hasil masih bisa disimpan.\n",
            "Total Tetangga k=12\n",
            "Nilai Akurasi: 0.4194, Presisi: 0.4295, Aspek Recall: 0.4194, Skor F1: 0.4029\n",
            "Hasil masih bisa disimpan.\n",
            "Total Tetangga k=13\n",
            "Nilai Akurasi: 0.4194, Presisi: 0.4307, Aspek Recall: 0.4194, Skor F1: 0.4013\n",
            "Hasil masih bisa disimpan.\n",
            "Total Tetangga k=14\n",
            "Nilai Akurasi: 0.4190, Presisi: 0.4303, Aspek Recall: 0.4190, Skor F1: 0.4003\n",
            "Hasil masih bisa disimpan.\n",
            "Confusion Matrix:\n",
            "Hasil Confusion Matriks:\n",
            "[[0.2267 0.0563 0.0504]\n",
            " [0.1707 0.1005 0.0622]\n",
            " [0.167  0.0737 0.0926]]\n",
            "Best Result: (11, 0.42, 0.43, 0.42, 0.402, array([0, 0, 1, ..., 1, 1, 0]), '              precision    recall  f1-score   support\\n\\n           0       0.40      0.68      0.50 5334.666666666284\\n           1       0.44      0.30      0.36 5334.666666666843\\n           2       0.45      0.28      0.34 5334.666666666667\\n\\n    accuracy                           0.42 16003.999999999796\\n   macro avg       0.43      0.42      0.40 16003.999999999796\\nweighted avg       0.43      0.42      0.40 16003.999999999796\\n')\n"
          ]
        }
      ]
    },
    {
      "cell_type": "code",
      "source": [
        "#Inisiasi joblib di RFC\n",
        "filename = '/tmp/dataset.joblib'\n",
        "joblib.dump(np.asfortranarray(X_train), filename)\n",
        "X_train_mmap = joblib.load(filename, mmap_mode='r')"
      ],
      "metadata": {
        "id": "0K-RqmQu5mZk"
      },
      "execution_count": 139,
      "outputs": []
    },
    {
      "cell_type": "code",
      "source": [
        "#Tahap pertama RFC (pelacakan nilai ccp alpha)\n",
        "nialpf = np.arange(1e-3, 1.0, 1e-3) #Nilai alfa\n",
        "itmaks = 330\n",
        "tolerance = 5.8e-3\n",
        "best_alpha = None\n",
        "best_accuracy = -np.inf\n",
        "best_f1 = -np.inf\n",
        "previous_best_accuracy = None\n",
        "#ke deklarasi berat sampel"
      ],
      "metadata": {
        "id": "povKRBbsg_hI"
      },
      "execution_count": 146,
      "outputs": []
    },
    {
      "cell_type": "code",
      "source": [
        "#Persiapan kasus berat sampel\n",
        "klsbrt = np.unique(y_train) #kelas berat di RFC\n",
        "brtsmplth = csw(class_weight='distance', y=y_train) #nilai deklarasi\n",
        "dictbrt = dict(zip(klsbrt, brtsmplth)) #dideklarasikan sebagai kampus"
      ],
      "metadata": {
        "id": "rvQMj-nQ5QB9"
      },
      "execution_count": 147,
      "outputs": []
    },
    {
      "cell_type": "code",
      "source": [
        "#Fungsi inspeksi nilai ccp alpha optimal\n",
        "def evaluasi_alfa(alpha):\n",
        "    rfc = RandomForestClassifier(n_estimators=105, max_depth=8, n_jobs=1 ,random_state=40, ccp_alpha=alpha, class_weight=dictbrt ,warm_start=True)\n",
        "    #Perataan menjadi satu dimensi\n",
        "    y_trainr = y_train.values.ravel()\n",
        "\n",
        "    rfc.fit(X_train_mmap, y_trainr, sample_weight=brtsmplth)\n",
        "\n",
        "    y_pred = rfc.predict(X_test)\n",
        "\n",
        "    accuracy = accuracy_score(y_test, y_pred, sample_weight=brtsampel)\n",
        "\n",
        "    # Pembulatan akurasi\n",
        "    accuracy_rounded = round(accuracy, 3)\n",
        "    # Penghindaran Peringatan di normalisasi\n",
        "    f1 = f1_score(y_test, y_pred, average='weighted', sample_weight=brtsampel, zero_division=0)  # Nilai f1\n",
        "    precision = precision_score(y_test, y_pred, average='weighted', sample_weight=brtsampel, zero_division=0)  # indikator presisi\n",
        "    recall = recall_score(y_test, y_pred, average='weighted', sample_weight=brtsampel, zero_division=0)  # Nilai Recall\n",
        "\n",
        "    return alpha, accuracy_rounded, f1, precision, recall  # Return values\n",
        "\n",
        "# Iterasi melalui jangkauan nilai alfa\n",
        "for iteration in range(itmaks):\n",
        "    with Pool() as pool:\n",
        "        results = pool.map(evaluasi_alfa, nialpf)\n",
        "\n",
        "    for alpha, accuracy, f1, precision, recall in results:\n",
        "        if accuracy > best_accuracy or (accuracy == best_accuracy and f1 > best_f1):\n",
        "            best_alpha = alpha\n",
        "            best_accuracy = accuracy\n",
        "            best_f1 = f1\n",
        "\n",
        "        # Pemeriksaan untuk nilai minimal (atau optimal)\n",
        "        if (accuracy >= 0.92 and precision >= 0.92 and\n",
        "            recall >= 0.92 and f1 >= 0.92) or \\\n",
        "           (accuracy >= 0.87 and precision >= 0.87 and\n",
        "            recall >= 0.87 and f1 >= 0.87):\n",
        "            print(f\"Optimal metrics reached with ccp_alpha: {alpha}, \"\n",
        "                  f\"Akurasi: {accuracy:.3f}, F1 Score: {f1:.2f}, \"\n",
        "                  f\"Precision: {precision:.2f}, Recall: {recall:.2f}. Stopping search.\")\n",
        "            break\n",
        "\n",
        "    # Pengaturan Nilai alfa\n",
        "    nialpf = np.linspace(max(0.001, best_alpha - 0.005), min(0.1, best_alpha + 0.005), num=10)\n",
        "\n",
        "    # Check for tolerance to stop early\n",
        "    if iteration > 0 and abs(best_accuracy - previous_best_accuracy) < tolerance:\n",
        "        print(\"Penghentian terjadi karena sudah melewati batas toleransi.\")\n",
        "        break\n",
        "\n",
        "    previous_best_accuracy = best_accuracy\n",
        "\n",
        "# Final results output\n",
        "print(f'Nilai ccp_alpha terbaik: {best_alpha}, Accuracy: {best_accuracy:.3f}, F1 Score: {best_f1:.2f}')\n",
        "#ke fungsi RFC"
      ],
      "metadata": {
        "colab": {
          "base_uri": "https://localhost:8080/"
        },
        "id": "Le6fLizfigZG",
        "outputId": "9e0423c5-0104-4bdf-f272-44f43188be6b"
      },
      "execution_count": 119,
      "outputs": [
        {
          "output_type": "stream",
          "name": "stdout",
          "text": [
            "Penghentian terjadi karena sudah melewati batas toleransi.\n",
            "Nilai ccp_alpha terbaik: 0.000175, Accuracy: 0.437, F1 Score: 0.43\n"
          ]
        }
      ]
    },
    {
      "cell_type": "code",
      "source": [
        "#Tahap Perhitungan melalui ravelisasi\n",
        "#Proses penekanan\n",
        "y_trainr = y_train.values.ravel()\n",
        "#eksekusi akhir\n",
        "final_model = RandomForestClassifier(random_state=50, ccp_alpha=best_alpha, class_weight=dictbrt ,warm_start=True)\n",
        "final_model.fit(X_train_mmap, y_trainr, sample_weight=brtsmplth) #harus kumpulan data\n",
        "y_pred_final = final_model.predict(X_test)\n",
        "#Ke evaluasi"
      ],
      "metadata": {
        "id": "PrItSs5glrvg",
        "colab": {
          "base_uri": "https://localhost:8080/"
        },
        "outputId": "eb5dddb1-786f-4467-d7cc-bbb5e8176588"
      },
      "execution_count": 122,
      "outputs": [
        {
          "output_type": "stream",
          "name": "stderr",
          "text": [
            "/usr/local/lib/python3.10/dist-packages/sklearn/base.py:1473: DataConversionWarning: A column-vector y was passed when a 1d array was expected. Please change the shape of y to (n_samples,), for example using ravel().\n",
            "  return fit_method(estimator, *args, **kwargs)\n"
          ]
        }
      ]
    },
    {
      "cell_type": "code",
      "source": [
        "#evaluasi melalui laporan dan 'confusion matrix'\n",
        "conf_matrix = np.round(cmatr(y_test, y_pred_final, sample_weight=brtsampel, normalize='all'),4)\n",
        "class_report = classification_report(y_test, y_pred_final, sample_weight=brtsampel, zero_division=0)\n",
        "#pencetakan nilai matriks\n",
        "print(\"Confusion Matrix:\")\n",
        "print(conf_matrix)\n",
        "print(\"\\nLaporan Klasifikasi:\")\n",
        "print(class_report)"
      ],
      "metadata": {
        "colab": {
          "base_uri": "https://localhost:8080/"
        },
        "id": "yNvQCgi4l3Md",
        "outputId": "477c0845-bc52-411a-cf23-4d72bb47ec3a"
      },
      "execution_count": 125,
      "outputs": [
        {
          "output_type": "stream",
          "name": "stdout",
          "text": [
            "Confusion Matrix:\n",
            "[[0.1667 0.1125 0.0541]\n",
            " [0.0976 0.1816 0.0541]\n",
            " [0.0982 0.137  0.0982]]\n",
            "\n",
            "Laporan Klasifikasi:\n",
            "              precision    recall  f1-score   support\n",
            "\n",
            "           0       0.46      0.50      0.48 5014.6666666668225\n",
            "           1       0.42      0.54      0.48 5014.666666666821\n",
            "           2       0.48      0.29      0.36 5014.666666666816\n",
            "\n",
            "    accuracy                           0.45 15044.000000000458\n",
            "   macro avg       0.45      0.45      0.44 15044.000000000458\n",
            "weighted avg       0.45      0.45      0.44 15044.000000000458\n",
            "\n"
          ]
        }
      ]
    },
    {
      "cell_type": "markdown",
      "source": [
        "Tulis narasi atau penjelasan algoritma yang Anda gunakan.\n",
        "### Rincian pemakaian algoritma KNN (K-nearest Neighboorhood)\n",
        "1. Persiapan numerisasi label **'labelencoder'**\n",
        "2. Proses standardisasi kolom numerik dengan **\"Robustscaler\",\"Standard Scaler\", dan \"Minmax Scaler\"**\n",
        "3. Eksekusi dengan teknik KNN melalui beberapa tahap :\n",
        "#### 3.a. Proses Penentuan parameter di metode K-nearestNeighborhood dengan pemberat di data latihan\n",
        "#### 3.b. Proses Paralelisasi untuk eksekusi dan evaluasi\n",
        "#### 3.c. Tahap pencetakan Nilai akurasi, presisi, 'recall', dan skor f1\n",
        "### Rincian pemkaian algoritma RFC (Random Forest Classifier)\n",
        "* Persiapan numerisasi label dengan metode sama dengan KNN\n",
        "* proses standardisasi dengan metode sama (agar lebih adil)\n",
        "* Eksekusi fungsi yang terdiri dari\n",
        "** a. Pelatihan RFC dengan RandomSearch CV untuk modifikasi nanti\n",
        "** b. Tahapan paralelisasi untuk RFC\n",
        "** c. Tahap pencetakan nilai RFC\n",
        "\n",
        "(Semua metode memakai pemberatan untuk menghindari kasus bias dari data)"
      ],
      "metadata": {
        "id": "seYoHNY3XU1y"
      }
    },
    {
      "cell_type": "markdown",
      "source": [
        "## **b. Evaluasi Model Klasifikasi**"
      ],
      "metadata": {
        "id": "ergzChZFEL-O"
      }
    },
    {
      "cell_type": "markdown",
      "source": [
        "Berikut adalah **rekomendasi** tahapannya.\n",
        "1. Lakukan prediksi menggunakan data uji.\n",
        "2. Hitung metrik evaluasi seperti Accuracy dan F1-Score (Opsional: Precision dan Recall).\n",
        "3. Buat confusion matrix untuk melihat detail prediksi benar dan salah."
      ],
      "metadata": {
        "id": "zOm68u-7NpLT"
      }
    },
    {
      "cell_type": "markdown",
      "source": [
        "Tulis hasil evaluasi algoritma yang digunakan, jika Anda menggunakan 2 algoritma, maka bandingkan hasilnya.\n",
        "\n",
        "## Evaluasi algoritma antara Hasil 'tetangga terdekat' dengan teknik 'randomforest'\n",
        "### Evaluasi dengan teknik KNN\n",
        "#### 1. Hasil mengalmi fluktuasi rendah nilai akurasi presisi indeks 'recall' dan skor f1\n",
        "#### 2. Nilai masih belum mencapai akurasi minimal walau nilai dipasang pemberat\n",
        "#### 3.  \n",
        "### Evaluasi dnegan teknik RFC\n",
        "#### a. Nilai masih terlalu rendah baik tanpa pemberatan ataupun pemberatan\n",
        "#### b."
      ],
      "metadata": {
        "id": "H4_9OwrsXZlz"
      }
    },
    {
      "cell_type": "markdown",
      "source": [
        "## **c. Tuning Model Klasifikasi (Optional)**"
      ],
      "metadata": {
        "id": "ph9yIYDXEPuB"
      }
    },
    {
      "cell_type": "markdown",
      "source": [
        "Gunakan GridSearchCV, RandomizedSearchCV, atau metode lainnya untuk mencari kombinasi hyperparameter terbaik"
      ],
      "metadata": {
        "id": "-Bikx3LINv5e"
      }
    },
    {
      "cell_type": "markdown",
      "source": [
        "## Modifikasi di teknik KNN"
      ],
      "metadata": {
        "id": "26aTlch94foS"
      }
    },
    {
      "cell_type": "code",
      "source": [
        "#Inisiasi grid search di KNN\n",
        "def tuned_train_and_evaluate(X_train, y_train, X_test, y_test, brtsampel):\n",
        "  # Definisikan nilai sampel\n",
        "    knn = KNeighborsClassifier(weights='distance', leaf_size=35,\n",
        "                               metric='seuclidean', p=1,\n",
        "                               metric_params={'V': np.var(X_train, axis=0)})\n",
        "\n",
        "    # Defiisi berat sampel\n",
        "    brtsmplth = csw(class_weight='balanced', y=y_train)\n",
        "\n",
        "    # Define parameter distribution for RandomizedSearchCV\n",
        "    param_dist = {\n",
        "        'n_neighbors': range(2, min(20, len(X_train))),  # Ensure n_neighbors <= number of samples\n",
        "        'weights': ['uniform', brtsmplth],\n",
        "        'metric': ['seuclidean', 'cosine']\n",
        "    }\n",
        "\n",
        "    # Initialize RandomizedSearchCV\n",
        "    random_search = RandomizedSearchCV(knn, param_distributions=param_dist,\n",
        "                                       verbose=1, n_iter=20, cv=5,\n",
        "                                       random_state=40)\n",
        "\n",
        "    # Ravel y_train to ensure it's 1D\n",
        "    y_trainrav = y_train.values.ravel()\n",
        "\n",
        "    try:\n",
        "        # Fit the model with error handling\n",
        "        random_search.fit(X_train, y_trainrav)\n",
        "    except Exception as e:\n",
        "        print(f\"Error during fitting: {e}\")\n",
        "        return None\n",
        "\n",
        "    # Prediksi Nilai dengan Randomsearch\n",
        "    y_pred = random_search.predict(X_test)\n",
        "\n",
        "    # Calculate metrics\n",
        "    accuracy = accuracy_score(y_test, y_pred, sample_weight=brtsampel)\n",
        "    precision = precision_score(y_test, y_pred, average='weighted', sample_weight=brtsampel)\n",
        "    recall = recall_score(y_test, y_pred, average='weighted', sample_weight=brtsampel)\n",
        "    f1 = f1_score(y_test, y_pred, average='weighted', sample_weight=brtsampel)\n",
        "\n",
        "    # Print metrics and best parameters\n",
        "    print(f\"Best Parameters: {random_search.best_params_}\")\n",
        "    print(f\"Accuracy: {accuracy:.4f}, Precision: {precision:.4f}, Recall: {recall:.4f}, F1 Score: {f1:.4f}\")\n",
        "\n",
        "    report = classification_report(y_test, y_pred)\n",
        "\n",
        "    return (random_search.best_params_['n_neighbors'], accuracy, precision, recall, f1, y_pred, report)\n",
        "  #ke tuning lanjutan"
      ],
      "metadata": {
        "id": "OK0T2WS34lK9"
      },
      "execution_count": 144,
      "outputs": []
    },
    {
      "cell_type": "code",
      "source": [
        "#Lanjutan tuning di KNN (matriks)\n",
        "def tuned_confusion_matrix(y_true, y_pred):\n",
        "    cm = cmatr(y_true, y_pred,sample_weight=brtsampel, normalize='all')\n",
        "    print(\"Confusion Matrix:\")\n",
        "    cm_rounded = np.round(cm.astype(float), decimals=4)  # Pembulatan untuk kemudahan nilai\n",
        "    print(\"Hasil Confusion Matriks:\")\n",
        "    print(cm_rounded)\n",
        "    return cm_rounded\n",
        "#ke eksekusi akhir"
      ],
      "metadata": {
        "id": "winbFzb8NL95"
      },
      "execution_count": 130,
      "outputs": []
    },
    {
      "cell_type": "code",
      "source": [
        "#Eksekusi dengan modifikasi 'Randomized search'\n",
        "if __name__ == '__main__':\n",
        "    # Definisi pemberatan\n",
        "    result = tuned_train_and_evaluate(X_train, y_train, X_test, y_test, brtsampel)\n",
        "\n",
        "    if result:\n",
        "        k_value = result[0]\n",
        "        rounded_results = tuple(round(x, 3) if isinstance(x, float) else x for x in result)\n",
        "\n",
        "        # Simpan nilai terbaik dari dill\n",
        "        with open('tuned_knn_result.dill', 'wb') as f:\n",
        "            dill.dump(rounded_results, f)\n",
        "\n",
        "        _, _, _, _, _, y_pred, _ = rounded_results\n",
        "        cm2 = generate_confusion_matrix(y_test, y_pred,brtsampel)\n",
        "\n",
        "        # Simpan hasil matriks terbaik saja\n",
        "        with open('tuned_confusion_matrix.dill', 'wb') as cm_file:\n",
        "            dill.dump(cm2, cm_file)\n",
        "\n",
        "        # Print the best rounded result\n",
        "        print(\"Best Result:\", rounded_results)"
      ],
      "metadata": {
        "id": "PMyTCQctRbN-"
      },
      "execution_count": null,
      "outputs": []
    },
    {
      "cell_type": "markdown",
      "source": [
        "Aspek modifikasi:\n",
        "1. Implementasi dua metode pemberat (seuclidian dan nilai parameter 'brtsmplth')\n",
        "2. Nilai cosine bertujuan untuk inspeksi sudut"
      ],
      "metadata": {
        "id": "DH54qbjKsSrU"
      }
    },
    {
      "cell_type": "markdown",
      "source": [
        "## Modifikasi metode RFC"
      ],
      "metadata": {
        "id": "5QFhKKQp4nWO"
      }
    },
    {
      "cell_type": "code",
      "source": [
        "#Tahap awal di RCT (deklarasi parameter)\n",
        "rcfparam = {'ccp_alpha': np.arange(1.75e-4, 0.175, 1.75e-4),'estimator':[100, 150, 200],\n",
        "            'max_depth':[1,10,20,30],'min_samples_split': [2, 5, 10],'class_weight': ['balanced', brtsmplth]} #Parameter"
      ],
      "metadata": {
        "id": "Yr-zYpk156TH"
      },
      "execution_count": null,
      "outputs": []
    },
    {
      "cell_type": "code",
      "source": [
        "#Lanjutan di RCT (Fungsi)\n",
        "def rfc_randomized(X_train, y_train):\n",
        "#Persiapan berat sampel\n",
        "    klsbrt = np.unique(y_train) #kelas berat di RFC\n",
        "    brtsmplth = csw(class_weight='balanced', y=y_train) #nilai deklarasi\n",
        "    dictbrt = dict(zip(klsbrt, brtsmplth)) #dideklarasikan sebagai kampus\n",
        "    #Inisiasi rfc dalam randomized\n",
        "    rfc2 = RandomForestClassifier(random_state=50, class_weight=dictbrt ,warm_start=True, verbose=1)\n",
        "    #Penyetelan Randomsearch CV\n",
        "    random_search = RandomizedSearchCV(estimator=rfc2, param_distributions=rcfparam,\n",
        "                                       n_iter=100,scoring='f1_weighted',\n",
        "                                       cv=6, verbose=2,\n",
        "                                       random_state=42,\n",
        "                                       n_jobs=-1)\n",
        "  #ke persiapan verbose"
      ],
      "metadata": {
        "id": "WQRB-bOs6Jsu"
      },
      "execution_count": null,
      "outputs": []
    },
    {
      "cell_type": "code",
      "source": [
        "#Tahap 'ravel'isasi\n",
        "y_trainr = y_train.values.ravel()\n",
        "#Pemangilan hasil (Eksekusi)\n",
        "randmod , randparam = rfc_randomized(X_train_mmap, y_trainr)\n",
        "#Prediksi dengan randomized search\n",
        "ypred_rnd = randmod.predict(X_test)\n",
        "#Evaluasi hasil randomizedsearch melalui matriks dan laporan\n",
        "cmatrand = cmatr(y_test, y_pred_final, sample_weight=brtsampel, normalize='all') #pasca modifikasi\n",
        "laporan = classification_report(y_test, y_pred_final, sample_weight=brtsampel, zero_division=0)\n",
        "\n",
        "# Print results\n",
        "print(f'Best Parameters: {randmod}')\n",
        "print(\"Inspeksi Matriks Kebingungan:\")\n",
        "print(cmatrand)\n",
        "print(\"\\nLaporan Klasifikasi:\")\n",
        "print(laporan)"
      ],
      "metadata": {
        "id": "z7IgV0hHpw1P"
      },
      "execution_count": null,
      "outputs": []
    },
    {
      "cell_type": "markdown",
      "source": [
        "## **d. Evaluasi Model Klasifikasi setelah Tuning (Optional)**"
      ],
      "metadata": {
        "id": "hE7pqlEPEYzI"
      }
    },
    {
      "cell_type": "markdown",
      "source": [
        "Berikut adalah rekomendasi tahapannya.\n",
        "1. Gunakan model dengan hyperparameter terbaik.\n",
        "2. Hitung ulang metrik evaluasi untuk melihat apakah ada peningkatan performa."
      ],
      "metadata": {
        "id": "feaPESoeN0zz"
      }
    },
    {
      "cell_type": "code",
      "source": [
        "#Pengubahan nama untuk inspeksi di metode K-NearestNeighborhood (Normal)\n",
        "hslcmatk = cm #Hasil dari K-Nearest Neighborhood\n",
        "hslcmatr = conf_matrix #Hasil dari Randomforest classifier"
      ],
      "metadata": {
        "id": "ZApbldsp59T1"
      },
      "execution_count": null,
      "outputs": []
    },
    {
      "cell_type": "code",
      "source": [
        "#Modifikasi Randomizedsearch CV\n",
        "hslmoda = cm2 #Hasil dari Randomizedsearch CV untuk K-nearest\n",
        "hslmodb = cmatrand #Hasil dari Randomizedsearch CV untuk RFC\n",
        "#ke ilustrasi matriks"
      ],
      "metadata": {
        "id": "rDwI7b1ryuwn"
      },
      "execution_count": null,
      "outputs": []
    },
    {
      "cell_type": "code",
      "source": [
        "#Inspeksi metode 'KNN' melalui ilustrasi matriks (normal)\n",
        "plt.figure(figsize=(12, 7))\n",
        "sns.heatmap(hslcmatk, annot=True, fmt='.4f', cmap='Blues',\n",
        "            xticklabels=['Kelas 1', 'Kelas 2', 'Kelas 3'],  # Adjust according to your classes\n",
        "            yticklabels=['Kelas 1', 'Kelas 2', 'Kelas 3'])  # Adjust according to your classes\n",
        "plt.ylabel('Label sesungguhnya')\n",
        "plt.xlabel('Label terprediksi')\n",
        "plt.title('Inspeksi Matrik melalui metode KNN')\n",
        "plt.show()"
      ],
      "metadata": {
        "id": "wwjyxMHf1OJo"
      },
      "execution_count": null,
      "outputs": []
    },
    {
      "cell_type": "code",
      "source": [
        "#Inspeksi di metode RandomForestClasifier [Normal]\n",
        "plt.figure(figsize=(10, 7))\n",
        "sns.heatmap(hslcmatr, annot=True, fmt='.4f', cmap='Blues',\n",
        "            xticklabels=['Kelas 1', 'Kelas 2', 'Kelas 3'],  # Adjust according to your classes\n",
        "            yticklabels=['Kelas 1', 'Kelas 2', 'Kelas 3'])  # Adjust according to your classes\n",
        "plt.ylabel('Label sesungguhnya')\n",
        "plt.xlabel('Label terprediksi')\n",
        "plt.title('Inspeksi Matrik melalui metode RCF')\n",
        "plt.show()"
      ],
      "metadata": {
        "id": "HTXZRvEeNMb1"
      },
      "execution_count": null,
      "outputs": []
    },
    {
      "cell_type": "code",
      "source": [
        "#Dengan modifikasi 'RandomizedsearchCV'\n"
      ],
      "metadata": {
        "id": "dWjAbZHx1fs4"
      },
      "execution_count": null,
      "outputs": []
    },
    {
      "cell_type": "markdown",
      "source": [
        "## **e. Analisis Hasil Evaluasi Model Klasifikasi**"
      ],
      "metadata": {
        "id": "ZRsOdm4uEgAW"
      }
    },
    {
      "cell_type": "markdown",
      "source": [
        "Berikut adalah **rekomendasi** tahapannya.\n",
        "1. Bandingkan hasil evaluasi sebelum dan setelah tuning (jika dilakukan).\n",
        "2. Identifikasi kelemahan model, seperti:\n",
        "  - Precision atau Recall rendah untuk kelas tertentu.\n",
        "  - Apakah model mengalami overfitting atau underfitting?\n",
        "3. Berikan rekomendasi tindakan lanjutan, seperti mengumpulkan data tambahan atau mencoba algoritma lain jika hasil belum memuaskan."
      ],
      "metadata": {
        "id": "Hm3BhSi6N4_l"
      }
    }
  ]
}