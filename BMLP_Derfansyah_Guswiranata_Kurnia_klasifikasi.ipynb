{
  "nbformat": 4,
  "nbformat_minor": 0,
  "metadata": {
    "colab": {
      "provenance": [],
      "include_colab_link": true
    },
    "kernelspec": {
      "name": "python3",
      "display_name": "Python 3"
    },
    "language_info": {
      "name": "python"
    }
  },
  "cells": [
    {
      "cell_type": "markdown",
      "metadata": {
        "id": "view-in-github",
        "colab_type": "text"
      },
      "source": [
        "<a href=\"https://colab.research.google.com/github/DGkurnia/cnkproject/blob/main/BMLP_Derfansyah_Guswiranata_Kurnia_klasifikasi.ipynb\" target=\"_parent\"><img src=\"https://colab.research.google.com/assets/colab-badge.svg\" alt=\"Open In Colab\"/></a>"
      ]
    },
    {
      "cell_type": "markdown",
      "source": [
        "# Perkenalan diri\n",
        "## Nama : Derfansyah Guswiranata Kurnia (wira)\n",
        "## id dicoding: dgkurnia\n",
        "## email dicoding : weerakurnia@gmail.com"
      ],
      "metadata": {
        "id": "d-BaNFk3T--_"
      }
    },
    {
      "cell_type": "markdown",
      "source": [
        "# **1. Import Library**"
      ],
      "metadata": {
        "id": "fKADPWcFKlj3"
      }
    },
    {
      "cell_type": "markdown",
      "source": [
        "Pada tahap ini, Anda perlu mengimpor beberapa pustaka (library) Python yang dibutuhkan untuk analisis data dan pembangunan model machine learning."
      ],
      "metadata": {
        "id": "LgA3ERnVn84N"
      }
    },
    {
      "cell_type": "code",
      "source": [
        "#inisiasi perpustakaan awal\n",
        "import numpy as np\n",
        "import pandas as pd\n",
        "import matplotlib.pyplot as plt\n",
        "import seaborn as sns"
      ],
      "metadata": {
        "id": "xQBmFyDrT9Ol"
      },
      "execution_count": 1,
      "outputs": []
    },
    {
      "cell_type": "code",
      "source": [
        "#impor data dr google drive\n",
        "from google.colab import drive\n",
        "drive.mount('/content/drive')"
      ],
      "metadata": {
        "colab": {
          "base_uri": "https://localhost:8080/"
        },
        "id": "qFhp5u77URw1",
        "outputId": "8912764d-1cde-454e-d506-fc382fecc198"
      },
      "execution_count": 2,
      "outputs": [
        {
          "output_type": "stream",
          "name": "stdout",
          "text": [
            "Mounted at /content/drive\n"
          ]
        }
      ]
    },
    {
      "cell_type": "code",
      "source": [
        "#Perpustakaan untuk sklearn\n",
        "from sklearn import metrics\n",
        "from sklearn import preprocessing\n",
        "from sklearn import model_selection\n",
        "from sklearn.model_selection import train_test_split, GridSearchCV, RandomizedSearchCV\n",
        "from sklearn.metrics import precision_score, recall_score, f1_score\n",
        "from sklearn.preprocessing import MinMaxScaler, LabelEncoder, StandardScaler, RobustScaler"
      ],
      "metadata": {
        "id": "BlmvjLY9M4Yj"
      },
      "execution_count": 23,
      "outputs": []
    },
    {
      "cell_type": "code",
      "source": [
        "#impor akurasi\n",
        "from sklearn.metrics import accuracy_score"
      ],
      "metadata": {
        "id": "8RS4FLQbiEAy"
      },
      "execution_count": 39,
      "outputs": []
    },
    {
      "cell_type": "code",
      "source": [
        "#impor model\n",
        "from sklearn.feature_selection import SelectFromModel"
      ],
      "metadata": {
        "id": "qX0ux5U0bueE"
      },
      "execution_count": 34,
      "outputs": []
    },
    {
      "cell_type": "code",
      "source": [
        "#klasifikais hutan\n",
        "from sklearn.ensemble import RandomForestClassifier"
      ],
      "metadata": {
        "id": "XzCltmLhVSim"
      },
      "execution_count": 4,
      "outputs": []
    },
    {
      "cell_type": "markdown",
      "source": [
        "# **2. Memuat Dataset dari Hasil Clustering**"
      ],
      "metadata": {
        "id": "f3YIEnAFKrKL"
      }
    },
    {
      "cell_type": "markdown",
      "source": [
        "Memuat dataset hasil clustering dari file CSV ke dalam variabel DataFrame."
      ],
      "metadata": {
        "id": "Ey3ItwTen_7E"
      }
    },
    {
      "cell_type": "code",
      "source": [
        "#Inisiasi pengunduhan dataset dr google\n",
        "clabnb = pd.read_csv('/content/drive/MyDrive/csv-files/clusairbnb.csv')\n",
        "#persiapan salinan\n",
        "clabnbii = clabnb.copy()\n",
        "clabnbii.info()"
      ],
      "metadata": {
        "colab": {
          "base_uri": "https://localhost:8080/"
        },
        "id": "aPep3nuAVV3T",
        "outputId": "2e775504-3cfb-4a83-b790-f0155f1c2032"
      },
      "execution_count": 6,
      "outputs": [
        {
          "output_type": "stream",
          "name": "stdout",
          "text": [
            "<class 'pandas.core.frame.DataFrame'>\n",
            "RangeIndex: 48895 entries, 0 to 48894\n",
            "Data columns (total 17 columns):\n",
            " #   Column                          Non-Null Count  Dtype  \n",
            "---  ------                          --------------  -----  \n",
            " 0   id                              48895 non-null  int64  \n",
            " 1   name                            48879 non-null  object \n",
            " 2   host_id                         48895 non-null  int64  \n",
            " 3   host_name                       48874 non-null  object \n",
            " 4   neighbourhood_group             48895 non-null  object \n",
            " 5   neighbourhood                   48895 non-null  object \n",
            " 6   latitude                        48895 non-null  float64\n",
            " 7   longitude                       48895 non-null  float64\n",
            " 8   room_type                       48895 non-null  object \n",
            " 9   price                           48895 non-null  int64  \n",
            " 10  minimum_nights                  48895 non-null  int64  \n",
            " 11  number_of_reviews               48895 non-null  int64  \n",
            " 12  last_review                     48895 non-null  object \n",
            " 13  reviews_per_month               48895 non-null  int64  \n",
            " 14  calculated_host_listings_count  48895 non-null  int64  \n",
            " 15  availability_365                48895 non-null  int64  \n",
            " 16  Cluster                         48895 non-null  object \n",
            "dtypes: float64(2), int64(8), object(7)\n",
            "memory usage: 6.3+ MB\n"
          ]
        }
      ]
    },
    {
      "cell_type": "code",
      "source": [
        "#Persiapan segmentasi (pengabaian identitas untuk kemudahan)\n",
        "clabnbii[['id','host_id']] = clabnbii[['id','host_id']].astype(str).copy()\n",
        "clabnbii.info()"
      ],
      "metadata": {
        "colab": {
          "base_uri": "https://localhost:8080/"
        },
        "id": "5NKBJkmBVdXB",
        "outputId": "3e4d66b5-6f3f-4da9-8d0c-8b14cfcf56a6"
      },
      "execution_count": 7,
      "outputs": [
        {
          "output_type": "stream",
          "name": "stdout",
          "text": [
            "<class 'pandas.core.frame.DataFrame'>\n",
            "RangeIndex: 48895 entries, 0 to 48894\n",
            "Data columns (total 17 columns):\n",
            " #   Column                          Non-Null Count  Dtype  \n",
            "---  ------                          --------------  -----  \n",
            " 0   id                              48895 non-null  object \n",
            " 1   name                            48879 non-null  object \n",
            " 2   host_id                         48895 non-null  object \n",
            " 3   host_name                       48874 non-null  object \n",
            " 4   neighbourhood_group             48895 non-null  object \n",
            " 5   neighbourhood                   48895 non-null  object \n",
            " 6   latitude                        48895 non-null  float64\n",
            " 7   longitude                       48895 non-null  float64\n",
            " 8   room_type                       48895 non-null  object \n",
            " 9   price                           48895 non-null  int64  \n",
            " 10  minimum_nights                  48895 non-null  int64  \n",
            " 11  number_of_reviews               48895 non-null  int64  \n",
            " 12  last_review                     48895 non-null  object \n",
            " 13  reviews_per_month               48895 non-null  int64  \n",
            " 14  calculated_host_listings_count  48895 non-null  int64  \n",
            " 15  availability_365                48895 non-null  int64  \n",
            " 16  Cluster                         48895 non-null  object \n",
            "dtypes: float64(2), int64(6), object(9)\n",
            "memory usage: 6.3+ MB\n"
          ]
        }
      ]
    },
    {
      "cell_type": "code",
      "source": [
        "#persiapan pengujian kluster\n",
        "clsinvst = clabnbii.iloc[:, 9:].copy() #cek dari harga\n",
        "clsinvst = clsinvst.drop('last_review', axis=1).copy() #kolom tanggal tak usah\n",
        "clsinvst.info()"
      ],
      "metadata": {
        "colab": {
          "base_uri": "https://localhost:8080/"
        },
        "id": "RJRQaG3wWFri",
        "outputId": "7cdd34e5-c0a6-496b-ef16-53356d799ddd"
      },
      "execution_count": 18,
      "outputs": [
        {
          "output_type": "stream",
          "name": "stdout",
          "text": [
            "<class 'pandas.core.frame.DataFrame'>\n",
            "RangeIndex: 48895 entries, 0 to 48894\n",
            "Data columns (total 7 columns):\n",
            " #   Column                          Non-Null Count  Dtype \n",
            "---  ------                          --------------  ----- \n",
            " 0   price                           48895 non-null  int64 \n",
            " 1   minimum_nights                  48895 non-null  int64 \n",
            " 2   number_of_reviews               48895 non-null  int64 \n",
            " 3   reviews_per_month               48895 non-null  int64 \n",
            " 4   calculated_host_listings_count  48895 non-null  int64 \n",
            " 5   availability_365                48895 non-null  int64 \n",
            " 6   Cluster                         48895 non-null  object\n",
            "dtypes: int64(6), object(1)\n",
            "memory usage: 2.6+ MB\n"
          ]
        }
      ]
    },
    {
      "cell_type": "code",
      "source": [
        "#Identifikasi kluster dahulu melalui deklarasi kluster\n",
        "kelcl = clsinvst['Cluster'].unique().copy()\n",
        "kelcl\n",
        "#ke pemecahan"
      ],
      "metadata": {
        "id": "GHCGNTyrM5fS",
        "colab": {
          "base_uri": "https://localhost:8080/"
        },
        "outputId": "ac97e831-e382-41c3-eb36-c5c013bc3da2"
      },
      "execution_count": 26,
      "outputs": [
        {
          "output_type": "execute_result",
          "data": {
            "text/plain": [
              "array(['unit asing', 'unit kurang populer', 'opsi pelancong irit',\n",
              "       'sesi unit favorit di musim tertentu',\n",
              "       'bisa untuk portofolio pemilik', 'unit sangat direkomendasikan',\n",
              "       'ada perencanaan dulu'], dtype=object)"
            ]
          },
          "metadata": {},
          "execution_count": 26
        }
      ]
    },
    {
      "cell_type": "code",
      "source": [
        "#pemecahan\n",
        "[kelcli, kelclii, kelcliii, kelcliv, kelclv, kelclvi, kelclvii] = kelcl #pemecahan menjadi satu komponen\n",
        "print(kelcli) #cek satu komponen"
      ],
      "metadata": {
        "colab": {
          "base_uri": "https://localhost:8080/"
        },
        "id": "m0r6ZMxNYhbY",
        "outputId": "5803d86a-1656-4ad1-fc5b-54e3fe062f3c"
      },
      "execution_count": 22,
      "outputs": [
        {
          "output_type": "stream",
          "name": "stdout",
          "text": [
            "unit asing\n"
          ]
        }
      ]
    },
    {
      "cell_type": "markdown",
      "source": [
        "# **3. Data Splitting**"
      ],
      "metadata": {
        "id": "KkPem5eWL2UP"
      }
    },
    {
      "cell_type": "markdown",
      "source": [
        "Tahap Data Splitting bertujuan untuk memisahkan dataset menjadi dua bagian: data latih (training set) dan data uji (test set)."
      ],
      "metadata": {
        "id": "YYj1rl_JNI9Y"
      }
    },
    {
      "cell_type": "code",
      "source": [
        "#Inisiasi pemisahan\n",
        "ycl = clsinvst['Cluster'].copy()\n",
        "ycl.info()"
      ],
      "metadata": {
        "colab": {
          "base_uri": "https://localhost:8080/"
        },
        "id": "SSkRFXm0Yovo",
        "outputId": "ea6ceb48-ee8e-47b5-8eba-23f580399ff8"
      },
      "execution_count": 27,
      "outputs": [
        {
          "output_type": "stream",
          "name": "stdout",
          "text": [
            "<class 'pandas.core.series.Series'>\n",
            "RangeIndex: 48895 entries, 0 to 48894\n",
            "Series name: Cluster\n",
            "Non-Null Count  Dtype \n",
            "--------------  ----- \n",
            "48895 non-null  object\n",
            "dtypes: object(1)\n",
            "memory usage: 382.1+ KB\n"
          ]
        }
      ]
    },
    {
      "cell_type": "code",
      "source": [
        "#sumbu x (X)\n",
        "Xcl = Xcl = clsinvst.drop('Cluster', axis=1).copy() #di luar kluster\n",
        "Xcl.info()"
      ],
      "metadata": {
        "colab": {
          "base_uri": "https://localhost:8080/"
        },
        "id": "eb2MZOt4ZFpk",
        "outputId": "d94ad284-9458-4d70-8316-23e873c4c816"
      },
      "execution_count": 29,
      "outputs": [
        {
          "output_type": "stream",
          "name": "stdout",
          "text": [
            "<class 'pandas.core.frame.DataFrame'>\n",
            "RangeIndex: 48895 entries, 0 to 48894\n",
            "Data columns (total 6 columns):\n",
            " #   Column                          Non-Null Count  Dtype\n",
            "---  ------                          --------------  -----\n",
            " 0   price                           48895 non-null  int64\n",
            " 1   minimum_nights                  48895 non-null  int64\n",
            " 2   number_of_reviews               48895 non-null  int64\n",
            " 3   reviews_per_month               48895 non-null  int64\n",
            " 4   calculated_host_listings_count  48895 non-null  int64\n",
            " 5   availability_365                48895 non-null  int64\n",
            "dtypes: int64(6)\n",
            "memory usage: 2.2 MB\n"
          ]
        }
      ]
    },
    {
      "cell_type": "code",
      "source": [
        "#Numerisasi kluster dengan 'tiruan'\n",
        "yclnum = pd.get_dummies(ycl).reset_index(drop=True).copy()\n",
        "yclnum.info()"
      ],
      "metadata": {
        "colab": {
          "base_uri": "https://localhost:8080/"
        },
        "id": "u6LmmecZZkBL",
        "outputId": "a6aaf224-774e-4a98-d83d-6239fa43ed09"
      },
      "execution_count": 31,
      "outputs": [
        {
          "output_type": "stream",
          "name": "stdout",
          "text": [
            "<class 'pandas.core.frame.DataFrame'>\n",
            "RangeIndex: 48895 entries, 0 to 48894\n",
            "Data columns (total 7 columns):\n",
            " #   Column                               Non-Null Count  Dtype\n",
            "---  ------                               --------------  -----\n",
            " 0   ada perencanaan dulu                 48895 non-null  bool \n",
            " 1   bisa untuk portofolio pemilik        48895 non-null  bool \n",
            " 2   opsi pelancong irit                  48895 non-null  bool \n",
            " 3   sesi unit favorit di musim tertentu  48895 non-null  bool \n",
            " 4   unit asing                           48895 non-null  bool \n",
            " 5   unit kurang populer                  48895 non-null  bool \n",
            " 6   unit sangat direkomendasikan         48895 non-null  bool \n",
            "dtypes: bool(7)\n",
            "memory usage: 334.4 KB\n"
          ]
        }
      ]
    },
    {
      "cell_type": "code",
      "source": [
        "#Pemisahan pelatihan dan tes\n",
        "Xcltrain, Xcltest, ycltrain, ycltest = train_test_split(Xcl, yclnum, test_size=0.25, random_state=40)"
      ],
      "metadata": {
        "id": "X0GQDbfVZ-dS"
      },
      "execution_count": 32,
      "outputs": []
    },
    {
      "cell_type": "code",
      "source": [
        "#Cek komponen\n",
        "print(Xcltrain.shape)\n",
        "print(Xcltest.shape)\n",
        "print(ycltrain.shape)\n",
        "print(ycltest.shape)"
      ],
      "metadata": {
        "id": "OubAW-7ONKVj",
        "colab": {
          "base_uri": "https://localhost:8080/"
        },
        "outputId": "04d84100-cf87-4b2a-81c2-82d8115320b5"
      },
      "execution_count": 33,
      "outputs": [
        {
          "output_type": "stream",
          "name": "stdout",
          "text": [
            "(36671, 6)\n",
            "(12224, 6)\n",
            "(36671, 7)\n",
            "(12224, 7)\n"
          ]
        }
      ]
    },
    {
      "cell_type": "markdown",
      "source": [
        "Aspek yang diperiksa\n",
        "* i. Xcltrain = klasifikasi sumbu 'X' untuk latihan\n",
        "* ii. Xcltest = klasifikasi sumbu 'X' untuk pengujian   \n",
        "* iii. ycltrain = klasifikasi sumbu 'y' untuk latihan\n",
        "* iv. ycltest = klasifikasi sumbu 'y' untuk pengujian"
      ],
      "metadata": {
        "id": "ESr69xjFhOCo"
      }
    },
    {
      "cell_type": "markdown",
      "source": [
        "# **4. Membangun Model Klasifikasi**\n"
      ],
      "metadata": {
        "id": "IVPbB03CMhTT"
      }
    },
    {
      "cell_type": "markdown",
      "source": [
        "## **a. Membangun Model Klasifikasi**"
      ],
      "metadata": {
        "id": "Ned1pL9zMmBK"
      }
    },
    {
      "cell_type": "markdown",
      "source": [
        "Setelah memilih algoritma klasifikasi yang sesuai, langkah selanjutnya adalah melatih model menggunakan data latih.\n",
        "\n",
        "Berikut adalah rekomendasi tahapannya.\n",
        "1. Pilih algoritma klasifikasi yang sesuai, seperti Logistic Regression, Decision Tree, Random Forest, atau K-Nearest Neighbors (KNN).\n",
        "2. Latih model menggunakan data latih."
      ],
      "metadata": {
        "id": "WAWzPOE4Nkti"
      }
    },
    {
      "cell_type": "code",
      "source": [
        "#Inisiasi rcf (seleksi fitur demi efisiensi ram)\n",
        "pilihan = SelectFromModel(RandomForestClassifier(n_estimators=10, random_state=40))\n",
        "pilihan.fit(Xcltrain, ycltrain) #pelatihan untuk Xcl dan ycl (klasifikasi X dan y)\n",
        "#seleksi pelatihan\n",
        "Xtrpil = pilihan.transform(Xcltrain) #sumbu X latihan\n",
        "Xtspil = pilihan.transform(Xcltest) # Sumbu X bagian uji"
      ],
      "metadata": {
        "id": "JyphVUn7aW3r"
      },
      "execution_count": 35,
      "outputs": []
    },
    {
      "cell_type": "code",
      "source": [
        "#cek bentuk pilihan\n",
        "print(Xtrpil.shape)\n",
        "print(Xtspil.shape)"
      ],
      "metadata": {
        "colab": {
          "base_uri": "https://localhost:8080/"
        },
        "id": "cjijgn3jcg-V",
        "outputId": "6aa60d14-45c7-4673-c0cc-d3f93f741264"
      },
      "execution_count": 36,
      "outputs": [
        {
          "output_type": "stream",
          "name": "stdout",
          "text": [
            "(36671, 3)\n",
            "(12224, 3)\n"
          ]
        }
      ]
    },
    {
      "cell_type": "code",
      "source": [
        "#Inspeksi nilai ccp alpa yang sesuai (inspeksi kisaran nilai)\n",
        "nialpf = np.arange(0.001, 0.1, 5e-4) #pemeriksaan nilai\n",
        "habaik = [] #cek hasil\n",
        "itmaks = 100 #iterasi tertinggi\n",
        "tolerance = 0.01 #toleransi\n",
        "#iterasi untuk pemeriksaan"
      ],
      "metadata": {
        "id": "xmFqyY4BfJMt"
      },
      "execution_count": 46,
      "outputs": []
    },
    {
      "cell_type": "code",
      "source": [
        "#iterasi nilai \"ccp_alpa\"\n",
        "for iteration in range(itmaks):\n",
        "    for alpha in nialpf:\n",
        "        rclasf = RandomForestClassifier(ccp_alpha=alpha, random_state=40)\n",
        "        rclasf.fit(Xcltrain, ycltrain)\n",
        "\n",
        "        # Prediksi\n",
        "        y_pred = rclasf.predict(Xcltest)\n",
        "\n",
        "        # Evaluasi\n",
        "        accuracy = accuracy_score(ycltest, y_pred)\n",
        "        f1 = f1_score(ycltest, y_pred, average='samples')\n",
        "\n",
        "        # Penyimpanan hasil\n",
        "        habaik.append((alpha, accuracy, f1))\n",
        "        print(f'skor ccp_alpha: {alpha:.3f}, Akurasi: {accuracy:.2f}, Nilai F1 : {f1:.2f}')\n",
        "\n",
        "    # Langkah 3: Inspeksi hasil\n",
        "    best_result = max(habaik, key=lambda x: (x[1], x[2]))\n",
        "    best_alpha = best_result[0]\n",
        "\n",
        "    print(f'Nilai ccp terbaik setelah iterasi {iteration + 1}: {best_alpha}, Akurasi: {best_result[1]:.2f}, Nilai F1 : {best_result[2]:.2f}')\n",
        "\n",
        "    # Langkah 4: Penyesuaian sementara\n",
        "    current_best_accuracy = best_result[1]\n",
        "    current_best_f1 = best_result[2]\n",
        "\n",
        "    # If the improvement is below tolerance, stop searching\n",
        "    if iteration > 0 and abs(current_best_accuracy - previous_best_accuracy) < tolerance:\n",
        "        print(\"No significant improvement. Stopping the search.\")\n",
        "        break\n",
        "\n",
        "    previous_best_accuracy = current_best_accuracy\n",
        "\n",
        "    # Penyetelan grafik\n",
        "    nialpf = np.linspace(max(0.001, best_alpha - 0.005), min(0.1, best_alpha + 0.005), num=10)\n",
        "\n",
        "# Deklarasi 'Final best result'\n",
        "final_best_result = max(habaik, key=lambda x: (x[1], x[2]))\n",
        "print(f'Nilai terbaik untuk ccp_alpha: {final_best_result[0]}, Akurasi: {final_best_result[1]:.2f}, Nilai F1 : {final_best_result[2]:.2f}')"
      ],
      "metadata": {
        "colab": {
          "base_uri": "https://localhost:8080/"
        },
        "id": "oJnE-jgLg9TW",
        "outputId": "89426159-810b-4f39-8403-6f4b2c4485ec"
      },
      "execution_count": 47,
      "outputs": [
        {
          "output_type": "stream",
          "name": "stdout",
          "text": [
            "skor ccp_alpha: 0.001, Akurasi: 0.97, Nilai F1 : 0.97\n",
            "skor ccp_alpha: 0.002, Akurasi: 0.96, Nilai F1 : 0.96\n",
            "skor ccp_alpha: 0.002, Akurasi: 0.95, Nilai F1 : 0.95\n",
            "skor ccp_alpha: 0.003, Akurasi: 0.95, Nilai F1 : 0.95\n",
            "skor ccp_alpha: 0.003, Akurasi: 0.95, Nilai F1 : 0.95\n",
            "skor ccp_alpha: 0.004, Akurasi: 0.94, Nilai F1 : 0.94\n",
            "skor ccp_alpha: 0.004, Akurasi: 0.93, Nilai F1 : 0.93\n",
            "skor ccp_alpha: 0.005, Akurasi: 0.93, Nilai F1 : 0.93\n",
            "skor ccp_alpha: 0.005, Akurasi: 0.92, Nilai F1 : 0.92\n",
            "skor ccp_alpha: 0.006, Akurasi: 0.91, Nilai F1 : 0.91\n",
            "skor ccp_alpha: 0.006, Akurasi: 0.91, Nilai F1 : 0.91\n",
            "skor ccp_alpha: 0.006, Akurasi: 0.91, Nilai F1 : 0.91\n",
            "skor ccp_alpha: 0.007, Akurasi: 0.91, Nilai F1 : 0.91\n",
            "skor ccp_alpha: 0.008, Akurasi: 0.91, Nilai F1 : 0.91\n",
            "skor ccp_alpha: 0.008, Akurasi: 0.91, Nilai F1 : 0.91\n",
            "skor ccp_alpha: 0.009, Akurasi: 0.91, Nilai F1 : 0.91\n",
            "skor ccp_alpha: 0.009, Akurasi: 0.91, Nilai F1 : 0.91\n",
            "skor ccp_alpha: 0.010, Akurasi: 0.90, Nilai F1 : 0.90\n",
            "skor ccp_alpha: 0.010, Akurasi: 0.90, Nilai F1 : 0.90\n",
            "skor ccp_alpha: 0.010, Akurasi: 0.90, Nilai F1 : 0.90\n",
            "skor ccp_alpha: 0.011, Akurasi: 0.90, Nilai F1 : 0.90\n",
            "skor ccp_alpha: 0.011, Akurasi: 0.90, Nilai F1 : 0.90\n",
            "skor ccp_alpha: 0.012, Akurasi: 0.90, Nilai F1 : 0.90\n",
            "skor ccp_alpha: 0.013, Akurasi: 0.89, Nilai F1 : 0.89\n",
            "skor ccp_alpha: 0.013, Akurasi: 0.89, Nilai F1 : 0.89\n",
            "skor ccp_alpha: 0.014, Akurasi: 0.89, Nilai F1 : 0.89\n",
            "skor ccp_alpha: 0.014, Akurasi: 0.89, Nilai F1 : 0.89\n",
            "skor ccp_alpha: 0.014, Akurasi: 0.89, Nilai F1 : 0.89\n",
            "skor ccp_alpha: 0.015, Akurasi: 0.89, Nilai F1 : 0.89\n",
            "skor ccp_alpha: 0.015, Akurasi: 0.89, Nilai F1 : 0.89\n",
            "skor ccp_alpha: 0.016, Akurasi: 0.89, Nilai F1 : 0.89\n",
            "skor ccp_alpha: 0.017, Akurasi: 0.89, Nilai F1 : 0.89\n",
            "skor ccp_alpha: 0.017, Akurasi: 0.89, Nilai F1 : 0.89\n",
            "skor ccp_alpha: 0.018, Akurasi: 0.89, Nilai F1 : 0.89\n",
            "skor ccp_alpha: 0.018, Akurasi: 0.89, Nilai F1 : 0.89\n",
            "skor ccp_alpha: 0.019, Akurasi: 0.89, Nilai F1 : 0.89\n",
            "skor ccp_alpha: 0.019, Akurasi: 0.89, Nilai F1 : 0.89\n",
            "skor ccp_alpha: 0.019, Akurasi: 0.89, Nilai F1 : 0.89\n",
            "skor ccp_alpha: 0.020, Akurasi: 0.89, Nilai F1 : 0.89\n",
            "skor ccp_alpha: 0.021, Akurasi: 0.89, Nilai F1 : 0.89\n",
            "skor ccp_alpha: 0.021, Akurasi: 0.89, Nilai F1 : 0.89\n",
            "skor ccp_alpha: 0.022, Akurasi: 0.89, Nilai F1 : 0.89\n",
            "skor ccp_alpha: 0.022, Akurasi: 0.89, Nilai F1 : 0.89\n",
            "skor ccp_alpha: 0.023, Akurasi: 0.89, Nilai F1 : 0.89\n",
            "skor ccp_alpha: 0.023, Akurasi: 0.89, Nilai F1 : 0.89\n",
            "skor ccp_alpha: 0.024, Akurasi: 0.89, Nilai F1 : 0.89\n",
            "skor ccp_alpha: 0.024, Akurasi: 0.89, Nilai F1 : 0.89\n",
            "skor ccp_alpha: 0.025, Akurasi: 0.89, Nilai F1 : 0.89\n",
            "skor ccp_alpha: 0.025, Akurasi: 0.89, Nilai F1 : 0.89\n",
            "skor ccp_alpha: 0.026, Akurasi: 0.89, Nilai F1 : 0.89\n",
            "skor ccp_alpha: 0.026, Akurasi: 0.89, Nilai F1 : 0.89\n",
            "skor ccp_alpha: 0.027, Akurasi: 0.89, Nilai F1 : 0.89\n",
            "skor ccp_alpha: 0.027, Akurasi: 0.89, Nilai F1 : 0.89\n",
            "skor ccp_alpha: 0.028, Akurasi: 0.89, Nilai F1 : 0.89\n",
            "skor ccp_alpha: 0.028, Akurasi: 0.89, Nilai F1 : 0.89\n",
            "skor ccp_alpha: 0.029, Akurasi: 0.89, Nilai F1 : 0.89\n",
            "skor ccp_alpha: 0.029, Akurasi: 0.89, Nilai F1 : 0.89\n",
            "skor ccp_alpha: 0.030, Akurasi: 0.89, Nilai F1 : 0.89\n",
            "skor ccp_alpha: 0.030, Akurasi: 0.88, Nilai F1 : 0.88\n",
            "skor ccp_alpha: 0.031, Akurasi: 0.80, Nilai F1 : 0.80\n",
            "skor ccp_alpha: 0.031, Akurasi: 0.80, Nilai F1 : 0.80\n",
            "skor ccp_alpha: 0.032, Akurasi: 0.80, Nilai F1 : 0.80\n",
            "skor ccp_alpha: 0.032, Akurasi: 0.80, Nilai F1 : 0.80\n",
            "skor ccp_alpha: 0.033, Akurasi: 0.80, Nilai F1 : 0.80\n",
            "skor ccp_alpha: 0.033, Akurasi: 0.80, Nilai F1 : 0.80\n",
            "skor ccp_alpha: 0.034, Akurasi: 0.80, Nilai F1 : 0.80\n",
            "skor ccp_alpha: 0.034, Akurasi: 0.80, Nilai F1 : 0.80\n",
            "skor ccp_alpha: 0.035, Akurasi: 0.80, Nilai F1 : 0.80\n",
            "skor ccp_alpha: 0.035, Akurasi: 0.80, Nilai F1 : 0.80\n",
            "skor ccp_alpha: 0.036, Akurasi: 0.80, Nilai F1 : 0.80\n",
            "skor ccp_alpha: 0.036, Akurasi: 0.80, Nilai F1 : 0.80\n",
            "skor ccp_alpha: 0.037, Akurasi: 0.80, Nilai F1 : 0.80\n",
            "skor ccp_alpha: 0.037, Akurasi: 0.80, Nilai F1 : 0.80\n",
            "skor ccp_alpha: 0.037, Akurasi: 0.80, Nilai F1 : 0.80\n",
            "skor ccp_alpha: 0.038, Akurasi: 0.80, Nilai F1 : 0.80\n",
            "skor ccp_alpha: 0.038, Akurasi: 0.80, Nilai F1 : 0.80\n",
            "skor ccp_alpha: 0.039, Akurasi: 0.80, Nilai F1 : 0.80\n",
            "skor ccp_alpha: 0.040, Akurasi: 0.80, Nilai F1 : 0.80\n",
            "skor ccp_alpha: 0.040, Akurasi: 0.80, Nilai F1 : 0.80\n",
            "skor ccp_alpha: 0.041, Akurasi: 0.80, Nilai F1 : 0.80\n",
            "skor ccp_alpha: 0.041, Akurasi: 0.80, Nilai F1 : 0.80\n",
            "skor ccp_alpha: 0.042, Akurasi: 0.80, Nilai F1 : 0.80\n",
            "skor ccp_alpha: 0.042, Akurasi: 0.80, Nilai F1 : 0.80\n",
            "skor ccp_alpha: 0.043, Akurasi: 0.80, Nilai F1 : 0.80\n",
            "skor ccp_alpha: 0.043, Akurasi: 0.80, Nilai F1 : 0.80\n",
            "skor ccp_alpha: 0.044, Akurasi: 0.80, Nilai F1 : 0.80\n",
            "skor ccp_alpha: 0.044, Akurasi: 0.80, Nilai F1 : 0.80\n",
            "skor ccp_alpha: 0.045, Akurasi: 0.80, Nilai F1 : 0.80\n",
            "skor ccp_alpha: 0.045, Akurasi: 0.80, Nilai F1 : 0.80\n",
            "skor ccp_alpha: 0.045, Akurasi: 0.80, Nilai F1 : 0.80\n",
            "skor ccp_alpha: 0.046, Akurasi: 0.80, Nilai F1 : 0.80\n",
            "skor ccp_alpha: 0.046, Akurasi: 0.80, Nilai F1 : 0.80\n",
            "skor ccp_alpha: 0.047, Akurasi: 0.80, Nilai F1 : 0.80\n",
            "skor ccp_alpha: 0.048, Akurasi: 0.80, Nilai F1 : 0.80\n",
            "skor ccp_alpha: 0.048, Akurasi: 0.80, Nilai F1 : 0.80\n",
            "skor ccp_alpha: 0.049, Akurasi: 0.80, Nilai F1 : 0.80\n",
            "skor ccp_alpha: 0.049, Akurasi: 0.80, Nilai F1 : 0.80\n",
            "skor ccp_alpha: 0.050, Akurasi: 0.80, Nilai F1 : 0.80\n",
            "skor ccp_alpha: 0.050, Akurasi: 0.80, Nilai F1 : 0.80\n",
            "skor ccp_alpha: 0.051, Akurasi: 0.80, Nilai F1 : 0.80\n",
            "skor ccp_alpha: 0.051, Akurasi: 0.80, Nilai F1 : 0.80\n",
            "skor ccp_alpha: 0.052, Akurasi: 0.80, Nilai F1 : 0.80\n",
            "skor ccp_alpha: 0.052, Akurasi: 0.80, Nilai F1 : 0.80\n",
            "skor ccp_alpha: 0.053, Akurasi: 0.80, Nilai F1 : 0.80\n",
            "skor ccp_alpha: 0.053, Akurasi: 0.80, Nilai F1 : 0.80\n",
            "skor ccp_alpha: 0.053, Akurasi: 0.80, Nilai F1 : 0.80\n",
            "skor ccp_alpha: 0.054, Akurasi: 0.80, Nilai F1 : 0.80\n",
            "skor ccp_alpha: 0.054, Akurasi: 0.80, Nilai F1 : 0.80\n",
            "skor ccp_alpha: 0.055, Akurasi: 0.80, Nilai F1 : 0.80\n",
            "skor ccp_alpha: 0.056, Akurasi: 0.80, Nilai F1 : 0.80\n",
            "skor ccp_alpha: 0.056, Akurasi: 0.80, Nilai F1 : 0.80\n",
            "skor ccp_alpha: 0.057, Akurasi: 0.80, Nilai F1 : 0.80\n",
            "skor ccp_alpha: 0.057, Akurasi: 0.80, Nilai F1 : 0.80\n",
            "skor ccp_alpha: 0.058, Akurasi: 0.80, Nilai F1 : 0.80\n",
            "skor ccp_alpha: 0.058, Akurasi: 0.80, Nilai F1 : 0.80\n",
            "skor ccp_alpha: 0.059, Akurasi: 0.80, Nilai F1 : 0.80\n",
            "skor ccp_alpha: 0.059, Akurasi: 0.80, Nilai F1 : 0.80\n",
            "skor ccp_alpha: 0.060, Akurasi: 0.80, Nilai F1 : 0.80\n",
            "skor ccp_alpha: 0.060, Akurasi: 0.80, Nilai F1 : 0.80\n",
            "skor ccp_alpha: 0.061, Akurasi: 0.80, Nilai F1 : 0.80\n",
            "skor ccp_alpha: 0.061, Akurasi: 0.80, Nilai F1 : 0.80\n",
            "skor ccp_alpha: 0.061, Akurasi: 0.80, Nilai F1 : 0.80\n",
            "skor ccp_alpha: 0.062, Akurasi: 0.80, Nilai F1 : 0.80\n",
            "skor ccp_alpha: 0.062, Akurasi: 0.80, Nilai F1 : 0.80\n",
            "skor ccp_alpha: 0.063, Akurasi: 0.80, Nilai F1 : 0.80\n",
            "skor ccp_alpha: 0.064, Akurasi: 0.80, Nilai F1 : 0.80\n",
            "skor ccp_alpha: 0.064, Akurasi: 0.80, Nilai F1 : 0.80\n",
            "skor ccp_alpha: 0.065, Akurasi: 0.80, Nilai F1 : 0.80\n",
            "skor ccp_alpha: 0.065, Akurasi: 0.80, Nilai F1 : 0.80\n",
            "skor ccp_alpha: 0.066, Akurasi: 0.80, Nilai F1 : 0.80\n",
            "skor ccp_alpha: 0.066, Akurasi: 0.80, Nilai F1 : 0.80\n",
            "skor ccp_alpha: 0.067, Akurasi: 0.80, Nilai F1 : 0.80\n",
            "skor ccp_alpha: 0.067, Akurasi: 0.80, Nilai F1 : 0.80\n",
            "skor ccp_alpha: 0.068, Akurasi: 0.80, Nilai F1 : 0.80\n",
            "skor ccp_alpha: 0.068, Akurasi: 0.80, Nilai F1 : 0.80\n",
            "skor ccp_alpha: 0.069, Akurasi: 0.80, Nilai F1 : 0.80\n",
            "skor ccp_alpha: 0.069, Akurasi: 0.80, Nilai F1 : 0.80\n",
            "skor ccp_alpha: 0.070, Akurasi: 0.80, Nilai F1 : 0.80\n",
            "skor ccp_alpha: 0.070, Akurasi: 0.80, Nilai F1 : 0.80\n",
            "skor ccp_alpha: 0.071, Akurasi: 0.80, Nilai F1 : 0.80\n",
            "skor ccp_alpha: 0.071, Akurasi: 0.80, Nilai F1 : 0.80\n",
            "skor ccp_alpha: 0.072, Akurasi: 0.80, Nilai F1 : 0.80\n",
            "skor ccp_alpha: 0.072, Akurasi: 0.80, Nilai F1 : 0.80\n",
            "skor ccp_alpha: 0.073, Akurasi: 0.80, Nilai F1 : 0.80\n",
            "skor ccp_alpha: 0.073, Akurasi: 0.80, Nilai F1 : 0.80\n",
            "skor ccp_alpha: 0.073, Akurasi: 0.80, Nilai F1 : 0.80\n",
            "skor ccp_alpha: 0.074, Akurasi: 0.80, Nilai F1 : 0.80\n",
            "skor ccp_alpha: 0.074, Akurasi: 0.80, Nilai F1 : 0.80\n",
            "skor ccp_alpha: 0.075, Akurasi: 0.80, Nilai F1 : 0.80\n",
            "skor ccp_alpha: 0.075, Akurasi: 0.80, Nilai F1 : 0.80\n",
            "skor ccp_alpha: 0.076, Akurasi: 0.80, Nilai F1 : 0.80\n",
            "skor ccp_alpha: 0.076, Akurasi: 0.80, Nilai F1 : 0.80\n",
            "skor ccp_alpha: 0.077, Akurasi: 0.80, Nilai F1 : 0.80\n",
            "skor ccp_alpha: 0.077, Akurasi: 0.80, Nilai F1 : 0.80\n",
            "skor ccp_alpha: 0.078, Akurasi: 0.80, Nilai F1 : 0.80\n",
            "skor ccp_alpha: 0.079, Akurasi: 0.80, Nilai F1 : 0.80\n",
            "skor ccp_alpha: 0.079, Akurasi: 0.80, Nilai F1 : 0.80\n",
            "skor ccp_alpha: 0.080, Akurasi: 0.80, Nilai F1 : 0.80\n",
            "skor ccp_alpha: 0.080, Akurasi: 0.80, Nilai F1 : 0.80\n",
            "skor ccp_alpha: 0.081, Akurasi: 0.80, Nilai F1 : 0.80\n",
            "skor ccp_alpha: 0.081, Akurasi: 0.80, Nilai F1 : 0.80\n",
            "skor ccp_alpha: 0.082, Akurasi: 0.80, Nilai F1 : 0.80\n",
            "skor ccp_alpha: 0.082, Akurasi: 0.80, Nilai F1 : 0.80\n",
            "skor ccp_alpha: 0.083, Akurasi: 0.80, Nilai F1 : 0.80\n",
            "skor ccp_alpha: 0.083, Akurasi: 0.80, Nilai F1 : 0.80\n",
            "skor ccp_alpha: 0.084, Akurasi: 0.80, Nilai F1 : 0.80\n",
            "skor ccp_alpha: 0.084, Akurasi: 0.80, Nilai F1 : 0.80\n",
            "skor ccp_alpha: 0.085, Akurasi: 0.80, Nilai F1 : 0.80\n",
            "skor ccp_alpha: 0.085, Akurasi: 0.80, Nilai F1 : 0.80\n",
            "skor ccp_alpha: 0.086, Akurasi: 0.80, Nilai F1 : 0.80\n",
            "skor ccp_alpha: 0.086, Akurasi: 0.80, Nilai F1 : 0.80\n",
            "skor ccp_alpha: 0.087, Akurasi: 0.80, Nilai F1 : 0.80\n",
            "skor ccp_alpha: 0.087, Akurasi: 0.80, Nilai F1 : 0.80\n",
            "skor ccp_alpha: 0.088, Akurasi: 0.80, Nilai F1 : 0.80\n",
            "skor ccp_alpha: 0.088, Akurasi: 0.80, Nilai F1 : 0.80\n",
            "skor ccp_alpha: 0.089, Akurasi: 0.80, Nilai F1 : 0.80\n",
            "skor ccp_alpha: 0.089, Akurasi: 0.80, Nilai F1 : 0.80\n",
            "skor ccp_alpha: 0.089, Akurasi: 0.80, Nilai F1 : 0.80\n",
            "skor ccp_alpha: 0.090, Akurasi: 0.80, Nilai F1 : 0.80\n",
            "skor ccp_alpha: 0.090, Akurasi: 0.80, Nilai F1 : 0.80\n",
            "skor ccp_alpha: 0.091, Akurasi: 0.80, Nilai F1 : 0.80\n",
            "skor ccp_alpha: 0.091, Akurasi: 0.80, Nilai F1 : 0.80\n",
            "skor ccp_alpha: 0.092, Akurasi: 0.80, Nilai F1 : 0.80\n",
            "skor ccp_alpha: 0.092, Akurasi: 0.80, Nilai F1 : 0.80\n",
            "skor ccp_alpha: 0.093, Akurasi: 0.80, Nilai F1 : 0.80\n",
            "skor ccp_alpha: 0.093, Akurasi: 0.80, Nilai F1 : 0.80\n",
            "skor ccp_alpha: 0.094, Akurasi: 0.80, Nilai F1 : 0.80\n",
            "skor ccp_alpha: 0.095, Akurasi: 0.80, Nilai F1 : 0.80\n",
            "skor ccp_alpha: 0.095, Akurasi: 0.80, Nilai F1 : 0.80\n",
            "skor ccp_alpha: 0.096, Akurasi: 0.80, Nilai F1 : 0.80\n",
            "skor ccp_alpha: 0.096, Akurasi: 0.80, Nilai F1 : 0.80\n",
            "skor ccp_alpha: 0.097, Akurasi: 0.80, Nilai F1 : 0.80\n",
            "skor ccp_alpha: 0.097, Akurasi: 0.80, Nilai F1 : 0.80\n",
            "skor ccp_alpha: 0.098, Akurasi: 0.80, Nilai F1 : 0.80\n",
            "skor ccp_alpha: 0.098, Akurasi: 0.80, Nilai F1 : 0.80\n",
            "skor ccp_alpha: 0.099, Akurasi: 0.80, Nilai F1 : 0.80\n",
            "skor ccp_alpha: 0.099, Akurasi: 0.80, Nilai F1 : 0.80\n",
            "skor ccp_alpha: 0.100, Akurasi: 0.80, Nilai F1 : 0.80\n",
            "Nilai ccp terbaik setelah iterasi 1: 0.001, Akurasi: 0.97, Nilai F1 : 0.97\n",
            "skor ccp_alpha: 0.001, Akurasi: 0.97, Nilai F1 : 0.97\n",
            "skor ccp_alpha: 0.002, Akurasi: 0.95, Nilai F1 : 0.95\n",
            "skor ccp_alpha: 0.002, Akurasi: 0.95, Nilai F1 : 0.95\n",
            "skor ccp_alpha: 0.003, Akurasi: 0.95, Nilai F1 : 0.95\n",
            "skor ccp_alpha: 0.003, Akurasi: 0.94, Nilai F1 : 0.94\n",
            "skor ccp_alpha: 0.004, Akurasi: 0.93, Nilai F1 : 0.93\n",
            "skor ccp_alpha: 0.004, Akurasi: 0.93, Nilai F1 : 0.93\n",
            "skor ccp_alpha: 0.005, Akurasi: 0.92, Nilai F1 : 0.92\n",
            "skor ccp_alpha: 0.005, Akurasi: 0.91, Nilai F1 : 0.91\n",
            "skor ccp_alpha: 0.006, Akurasi: 0.91, Nilai F1 : 0.91\n",
            "Nilai ccp terbaik setelah iterasi 2: 0.001, Akurasi: 0.97, Nilai F1 : 0.97\n",
            "No significant improvement. Stopping the search.\n",
            "Nilai terbaik untuk ccp_alpha: 0.001, Akurasi: 0.97, Nilai F1 : 0.97\n"
          ]
        }
      ]
    },
    {
      "cell_type": "code",
      "source": [
        "#Dinamisasi variabel 'Rclasifier'\n",
        "rclasf = RandomForestClassifier(\n",
        "    random_state=40,\n",
        "    n_estimators=50,  # Efisiensi pohon\n",
        "    max_depth=8,      # Pengurangan pohon demi akurasi\n",
        "    min_samples_split=5,  # Pemisahan untuk bagian pohon\n",
        "    min_samples_leaf=3 ,# Sampel untuk daun\n",
        "    warm_start=True,  # Penyesuaian sementara\n",
        "    ccp_alpha = final_best_result #nilai dari iterasi\n",
        ")"
      ],
      "metadata": {
        "id": "zM0ZW6NfclMq"
      },
      "execution_count": 48,
      "outputs": []
    },
    {
      "cell_type": "markdown",
      "source": [
        "## Tulis narasi atau penjelasan algoritma yang Anda gunakan.\n",
        "### Urutan p"
      ],
      "metadata": {
        "id": "seYoHNY3XU1y"
      }
    },
    {
      "cell_type": "markdown",
      "source": [
        "## **b. Evaluasi Model Klasifikasi**"
      ],
      "metadata": {
        "id": "ergzChZFEL-O"
      }
    },
    {
      "cell_type": "markdown",
      "source": [
        "Berikut adalah **rekomendasi** tahapannya.\n",
        "1. Lakukan prediksi menggunakan data uji.\n",
        "2. Hitung metrik evaluasi seperti Accuracy dan F1-Score (Opsional: Precision dan Recall).\n",
        "3. Buat confusion matrix untuk melihat detail prediksi benar dan salah."
      ],
      "metadata": {
        "id": "zOm68u-7NpLT"
      }
    },
    {
      "cell_type": "code",
      "source": [
        "#Peningkatan periodik\n",
        "for n_estimators in range(10, 101, 10):  # Awal 10 pohon akhir 100 pohon\n",
        "    rclasf.n_estimators = n_estimators\n",
        "    rclasf.fit(Xcltrain, ycltrain)\n",
        "\n",
        "    # Prediksis\n",
        "    y_pred = rclasf.predict(Xcltest)\n",
        "\n",
        "    # Evaluate model performance\n",
        "    accuracy = accuracy_score(ycltest, y_pred)\n",
        "    f1 = f1_score(ycltest, y_pred)\n",
        "\n",
        "    print(f'Total Pohon: {n_estimators}, Akurasi: {accuracy:.2f}, Nilai F1 : {f1:.2f}')\n",
        "\n",
        "    # Check if performance meets requirements\n",
        "    if accuracy >= 0.87 and f1 >= 0.87:\n",
        "        print(\"Model sudah memenuhi nilai metrik.\")\n",
        "        break\n",
        "    elif accuracy >= 0.87 and f1 < 0.87:\n",
        "        print(\"Akurasi sudah memenuhi, tetapi Nilai F1 belum memenuhi.\")\n",
        "    elif accuracy < 0.87 and f1 >= 0.87:\n",
        "        print(\"Nilai F1 sudah memenuhi, tetapi akurasi belum memenuhi.\")\n",
        "else:\n",
        "    print(\"Model tidak memenuhi metrik yang diperlukan dengan pengaturan yang diberikan.\")"
      ],
      "metadata": {
        "id": "umw0nOj7ck3p"
      },
      "execution_count": null,
      "outputs": []
    },
    {
      "cell_type": "markdown",
      "source": [
        "Tulis hasil evaluasi algoritma yang digunakan, jika Anda menggunakan 2 algoritma, maka bandingkan hasilnya."
      ],
      "metadata": {
        "id": "H4_9OwrsXZlz"
      }
    },
    {
      "cell_type": "markdown",
      "source": [
        "## **c. Tuning Model Klasifikasi (Optional)**"
      ],
      "metadata": {
        "id": "ph9yIYDXEPuB"
      }
    },
    {
      "cell_type": "markdown",
      "source": [
        "Gunakan GridSearchCV, RandomizedSearchCV, atau metode lainnya untuk mencari kombinasi hyperparameter terbaik"
      ],
      "metadata": {
        "id": "-Bikx3LINv5e"
      }
    },
    {
      "cell_type": "code",
      "source": [
        "#Inisiasi gridsearch"
      ],
      "metadata": {
        "id": "hTkJ_FcQlrlo"
      },
      "execution_count": null,
      "outputs": []
    },
    {
      "cell_type": "code",
      "source": [
        "#Type your code here"
      ],
      "metadata": {
        "id": "winbFzb8NL95"
      },
      "execution_count": null,
      "outputs": []
    },
    {
      "cell_type": "markdown",
      "source": [
        "## **d. Evaluasi Model Klasifikasi setelah Tuning (Optional)**"
      ],
      "metadata": {
        "id": "hE7pqlEPEYzI"
      }
    },
    {
      "cell_type": "markdown",
      "source": [
        "Berikut adalah rekomendasi tahapannya.\n",
        "1. Gunakan model dengan hyperparameter terbaik.\n",
        "2. Hitung ulang metrik evaluasi untuk melihat apakah ada peningkatan performa."
      ],
      "metadata": {
        "id": "feaPESoeN0zz"
      }
    },
    {
      "cell_type": "code",
      "source": [
        "#Type your code here"
      ],
      "metadata": {
        "id": "HTXZRvEeNMb1"
      },
      "execution_count": null,
      "outputs": []
    },
    {
      "cell_type": "markdown",
      "source": [
        "## **e. Analisis Hasil Evaluasi Model Klasifikasi**"
      ],
      "metadata": {
        "id": "ZRsOdm4uEgAW"
      }
    },
    {
      "cell_type": "markdown",
      "source": [
        "Berikut adalah **rekomendasi** tahapannya.\n",
        "1. Bandingkan hasil evaluasi sebelum dan setelah tuning (jika dilakukan).\n",
        "2. Identifikasi kelemahan model, seperti:\n",
        "  - Precision atau Recall rendah untuk kelas tertentu.\n",
        "  - Apakah model mengalami overfitting atau underfitting?\n",
        "3. Berikan rekomendasi tindakan lanjutan, seperti mengumpulkan data tambahan atau mencoba algoritma lain jika hasil belum memuaskan."
      ],
      "metadata": {
        "id": "Hm3BhSi6N4_l"
      }
    }
  ]
}