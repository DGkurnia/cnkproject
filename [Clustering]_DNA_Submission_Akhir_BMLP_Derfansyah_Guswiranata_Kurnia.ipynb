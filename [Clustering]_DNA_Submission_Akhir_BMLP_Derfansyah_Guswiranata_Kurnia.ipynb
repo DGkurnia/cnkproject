{
  "nbformat": 4,
  "nbformat_minor": 0,
  "metadata": {
    "colab": {
      "provenance": [],
      "include_colab_link": true
    },
    "kernelspec": {
      "name": "python3",
      "display_name": "Python 3"
    },
    "language_info": {
      "name": "python"
    }
  },
  "cells": [
    {
      "cell_type": "markdown",
      "metadata": {
        "id": "view-in-github",
        "colab_type": "text"
      },
      "source": [
        "<a href=\"https://colab.research.google.com/github/DGkurnia/cnkproject/blob/main/%5BClustering%5D_DNA_Submission_Akhir_BMLP_Derfansyah_Guswiranata_Kurnia.ipynb\" target=\"_parent\"><img src=\"https://colab.research.google.com/assets/colab-badge.svg\" alt=\"Open In Colab\"/></a>"
      ]
    },
    {
      "cell_type": "markdown",
      "source": [
        "* Name : Derfansyah Guswiranata Kurnia\n",
        "* Dicding ID : dgkurnia"
      ],
      "metadata": {
        "id": "MvgITqsyFEWL"
      }
    },
    {
      "cell_type": "markdown",
      "source": [
        "# **1. Perkenalan Dataset**\n"
      ],
      "metadata": {
        "id": "kZLRMFl0JyyQ"
      }
    },
    {
      "cell_type": "markdown",
      "source": [
        "Tahap pertama, Anda harus mencari dan menggunakan dataset **tanpa label** dengan ketentuan sebagai berikut:\n",
        "\n",
        "1. **Sumber Dataset**:  \n",
        "   Dataset dapat diperoleh dari berbagai sumber, seperti public repositories (*Kaggle*, *UCI ML Repository*, *Open Data*) atau data primer yang Anda kumpulkan sendiri.\n",
        "   \n",
        "2. **Ketentuan Dataset**:\n",
        "   - **Tanpa label**: Dataset tidak boleh memiliki label atau kelas.\n",
        "   - **Jumlah Baris**: Minimal 1000 baris untuk memastikan dataset cukup besar untuk analisis yang bermakna.\n",
        "   - **Tipe Data**: Harus mengandung data **kategorikal** dan **numerikal**.\n",
        "     - *Kategorikal*: Misalnya jenis kelamin, kategori produk.\n",
        "     - *Numerikal*: Misalnya usia, pendapatan, harga.\n",
        "\n",
        "3. **Pembatasan**:  \n",
        "   Dataset yang sudah digunakan dalam latihan clustering (seperti customer segmentation) tidak boleh digunakan."
      ],
      "metadata": {
        "id": "hssSDn-5n3HR"
      }
    },
    {
      "cell_type": "markdown",
      "source": [
        "## Kaggle access"
      ],
      "metadata": {
        "id": "StZF7jjTF6-S"
      }
    },
    {
      "cell_type": "code",
      "source": [
        "#Initiation from uploaded file\n",
        "from google.colab import files\n",
        "upload = files.upload()"
      ],
      "metadata": {
        "colab": {
          "base_uri": "https://localhost:8080/",
          "height": 73
        },
        "id": "EPOmIrCg0Iw_",
        "outputId": "0275d62e-b860-4ef9-e3d3-5dc8100e5d63"
      },
      "execution_count": 4,
      "outputs": [
        {
          "output_type": "display_data",
          "data": {
            "text/plain": [
              "<IPython.core.display.HTML object>"
            ],
            "text/html": [
              "\n",
              "     <input type=\"file\" id=\"files-14a2eb46-2c91-41a1-9b26-dc752e8d6abd\" name=\"files[]\" multiple disabled\n",
              "        style=\"border:none\" />\n",
              "     <output id=\"result-14a2eb46-2c91-41a1-9b26-dc752e8d6abd\">\n",
              "      Upload widget is only available when the cell has been executed in the\n",
              "      current browser session. Please rerun this cell to enable.\n",
              "      </output>\n",
              "      <script>// Copyright 2017 Google LLC\n",
              "//\n",
              "// Licensed under the Apache License, Version 2.0 (the \"License\");\n",
              "// you may not use this file except in compliance with the License.\n",
              "// You may obtain a copy of the License at\n",
              "//\n",
              "//      http://www.apache.org/licenses/LICENSE-2.0\n",
              "//\n",
              "// Unless required by applicable law or agreed to in writing, software\n",
              "// distributed under the License is distributed on an \"AS IS\" BASIS,\n",
              "// WITHOUT WARRANTIES OR CONDITIONS OF ANY KIND, either express or implied.\n",
              "// See the License for the specific language governing permissions and\n",
              "// limitations under the License.\n",
              "\n",
              "/**\n",
              " * @fileoverview Helpers for google.colab Python module.\n",
              " */\n",
              "(function(scope) {\n",
              "function span(text, styleAttributes = {}) {\n",
              "  const element = document.createElement('span');\n",
              "  element.textContent = text;\n",
              "  for (const key of Object.keys(styleAttributes)) {\n",
              "    element.style[key] = styleAttributes[key];\n",
              "  }\n",
              "  return element;\n",
              "}\n",
              "\n",
              "// Max number of bytes which will be uploaded at a time.\n",
              "const MAX_PAYLOAD_SIZE = 100 * 1024;\n",
              "\n",
              "function _uploadFiles(inputId, outputId) {\n",
              "  const steps = uploadFilesStep(inputId, outputId);\n",
              "  const outputElement = document.getElementById(outputId);\n",
              "  // Cache steps on the outputElement to make it available for the next call\n",
              "  // to uploadFilesContinue from Python.\n",
              "  outputElement.steps = steps;\n",
              "\n",
              "  return _uploadFilesContinue(outputId);\n",
              "}\n",
              "\n",
              "// This is roughly an async generator (not supported in the browser yet),\n",
              "// where there are multiple asynchronous steps and the Python side is going\n",
              "// to poll for completion of each step.\n",
              "// This uses a Promise to block the python side on completion of each step,\n",
              "// then passes the result of the previous step as the input to the next step.\n",
              "function _uploadFilesContinue(outputId) {\n",
              "  const outputElement = document.getElementById(outputId);\n",
              "  const steps = outputElement.steps;\n",
              "\n",
              "  const next = steps.next(outputElement.lastPromiseValue);\n",
              "  return Promise.resolve(next.value.promise).then((value) => {\n",
              "    // Cache the last promise value to make it available to the next\n",
              "    // step of the generator.\n",
              "    outputElement.lastPromiseValue = value;\n",
              "    return next.value.response;\n",
              "  });\n",
              "}\n",
              "\n",
              "/**\n",
              " * Generator function which is called between each async step of the upload\n",
              " * process.\n",
              " * @param {string} inputId Element ID of the input file picker element.\n",
              " * @param {string} outputId Element ID of the output display.\n",
              " * @return {!Iterable<!Object>} Iterable of next steps.\n",
              " */\n",
              "function* uploadFilesStep(inputId, outputId) {\n",
              "  const inputElement = document.getElementById(inputId);\n",
              "  inputElement.disabled = false;\n",
              "\n",
              "  const outputElement = document.getElementById(outputId);\n",
              "  outputElement.innerHTML = '';\n",
              "\n",
              "  const pickedPromise = new Promise((resolve) => {\n",
              "    inputElement.addEventListener('change', (e) => {\n",
              "      resolve(e.target.files);\n",
              "    });\n",
              "  });\n",
              "\n",
              "  const cancel = document.createElement('button');\n",
              "  inputElement.parentElement.appendChild(cancel);\n",
              "  cancel.textContent = 'Cancel upload';\n",
              "  const cancelPromise = new Promise((resolve) => {\n",
              "    cancel.onclick = () => {\n",
              "      resolve(null);\n",
              "    };\n",
              "  });\n",
              "\n",
              "  // Wait for the user to pick the files.\n",
              "  const files = yield {\n",
              "    promise: Promise.race([pickedPromise, cancelPromise]),\n",
              "    response: {\n",
              "      action: 'starting',\n",
              "    }\n",
              "  };\n",
              "\n",
              "  cancel.remove();\n",
              "\n",
              "  // Disable the input element since further picks are not allowed.\n",
              "  inputElement.disabled = true;\n",
              "\n",
              "  if (!files) {\n",
              "    return {\n",
              "      response: {\n",
              "        action: 'complete',\n",
              "      }\n",
              "    };\n",
              "  }\n",
              "\n",
              "  for (const file of files) {\n",
              "    const li = document.createElement('li');\n",
              "    li.append(span(file.name, {fontWeight: 'bold'}));\n",
              "    li.append(span(\n",
              "        `(${file.type || 'n/a'}) - ${file.size} bytes, ` +\n",
              "        `last modified: ${\n",
              "            file.lastModifiedDate ? file.lastModifiedDate.toLocaleDateString() :\n",
              "                                    'n/a'} - `));\n",
              "    const percent = span('0% done');\n",
              "    li.appendChild(percent);\n",
              "\n",
              "    outputElement.appendChild(li);\n",
              "\n",
              "    const fileDataPromise = new Promise((resolve) => {\n",
              "      const reader = new FileReader();\n",
              "      reader.onload = (e) => {\n",
              "        resolve(e.target.result);\n",
              "      };\n",
              "      reader.readAsArrayBuffer(file);\n",
              "    });\n",
              "    // Wait for the data to be ready.\n",
              "    let fileData = yield {\n",
              "      promise: fileDataPromise,\n",
              "      response: {\n",
              "        action: 'continue',\n",
              "      }\n",
              "    };\n",
              "\n",
              "    // Use a chunked sending to avoid message size limits. See b/62115660.\n",
              "    let position = 0;\n",
              "    do {\n",
              "      const length = Math.min(fileData.byteLength - position, MAX_PAYLOAD_SIZE);\n",
              "      const chunk = new Uint8Array(fileData, position, length);\n",
              "      position += length;\n",
              "\n",
              "      const base64 = btoa(String.fromCharCode.apply(null, chunk));\n",
              "      yield {\n",
              "        response: {\n",
              "          action: 'append',\n",
              "          file: file.name,\n",
              "          data: base64,\n",
              "        },\n",
              "      };\n",
              "\n",
              "      let percentDone = fileData.byteLength === 0 ?\n",
              "          100 :\n",
              "          Math.round((position / fileData.byteLength) * 100);\n",
              "      percent.textContent = `${percentDone}% done`;\n",
              "\n",
              "    } while (position < fileData.byteLength);\n",
              "  }\n",
              "\n",
              "  // All done.\n",
              "  yield {\n",
              "    response: {\n",
              "      action: 'complete',\n",
              "    }\n",
              "  };\n",
              "}\n",
              "\n",
              "scope.google = scope.google || {};\n",
              "scope.google.colab = scope.google.colab || {};\n",
              "scope.google.colab._files = {\n",
              "  _uploadFiles,\n",
              "  _uploadFilesContinue,\n",
              "};\n",
              "})(self);\n",
              "</script> "
            ]
          },
          "metadata": {}
        },
        {
          "output_type": "stream",
          "name": "stdout",
          "text": [
            "Saving akses_kaggle.json to akses_kaggle.json\n"
          ]
        }
      ]
    },
    {
      "cell_type": "code",
      "source": [
        "#downloading data from Kaggle (acess)\n",
        "! pip install -q kaggle"
      ],
      "metadata": {
        "id": "x8fTgOvMMzcp"
      },
      "execution_count": 5,
      "outputs": []
    },
    {
      "cell_type": "code",
      "source": [
        "#other metric\n",
        "! mkdir ~/.kaggle\n",
        "! cp kaggle.json ~/.kaggle/"
      ],
      "metadata": {
        "id": "EvPVEa5EFh_9"
      },
      "execution_count": 6,
      "outputs": []
    },
    {
      "cell_type": "code",
      "source": [
        "#permission\n",
        "! chmod 600 ~/.kaggle/kaggle.json"
      ],
      "metadata": {
        "id": "geBZcgbpFpsZ"
      },
      "execution_count": 7,
      "outputs": []
    },
    {
      "cell_type": "markdown",
      "source": [
        "## Data download"
      ],
      "metadata": {
        "id": "Z3GYM2y9F87R"
      }
    },
    {
      "cell_type": "code",
      "source": [
        "#first step: downloading from website\n",
        "!kaggle datasets download -d kirkdco/protein-secondary-structure-2022"
      ],
      "metadata": {
        "colab": {
          "base_uri": "https://localhost:8080/"
        },
        "id": "t9_v-NhKGb7P",
        "outputId": "bcd0e3cc-348b-4766-cdff-a53d7d2dd0ad"
      },
      "execution_count": 27,
      "outputs": [
        {
          "output_type": "stream",
          "name": "stdout",
          "text": [
            "Dataset URL: https://www.kaggle.com/datasets/kirkdco/protein-secondary-structure-2022\n",
            "License(s): DbCL-1.0\n",
            "Downloading protein-secondary-structure-2022.zip to /content\n",
            " 81% 51.0M/62.9M [00:00<00:00, 139MB/s]\n",
            "100% 62.9M/62.9M [00:00<00:00, 101MB/s]\n"
          ]
        }
      ]
    },
    {
      "cell_type": "code",
      "source": [
        "#folder making\n",
        "! mkdir dataset"
      ],
      "metadata": {
        "id": "MHii0xzlIOpF"
      },
      "execution_count": 22,
      "outputs": []
    },
    {
      "cell_type": "code",
      "source": [
        "#quite extraction\n",
        "with zipfile.ZipFile('/content/protein-secondary-structure-2022.zip', 'r', strict_timestamps=False) as zip_ref: # Replace with the actual zip file name\n",
        "    zip_ref.extractall('./dataset') # File extraction"
      ],
      "metadata": {
        "id": "LSEYKNKjGjBF"
      },
      "execution_count": 28,
      "outputs": []
    },
    {
      "cell_type": "markdown",
      "source": [
        "The data is stored in one folder"
      ],
      "metadata": {
        "id": "65NYVGdDlxJG"
      }
    },
    {
      "cell_type": "code",
      "source": [
        "#Essential libraries for K-medoids (basics)\n",
        "import numpy as np\n",
        "import pandas as pd\n",
        "#Graphic\n",
        "import matplotlib.pyplot as plt\n",
        "import seaborn as sns\n",
        "import datetime"
      ],
      "metadata": {
        "id": "yLQEaow66PhF"
      },
      "execution_count": 9,
      "outputs": []
    },
    {
      "cell_type": "code",
      "source": [
        "#Interpolation\n",
        "from scipy.interpolate import interp1d\n",
        "#Pairwise\n",
        "from sklearn.metrics import pairwise_distances\n",
        "#quite extraction\n",
        "import zipfile"
      ],
      "metadata": {
        "id": "N67biYdEHPbu"
      },
      "execution_count": 10,
      "outputs": []
    },
    {
      "cell_type": "code",
      "source": [
        "#Part 2 (K-means)\n",
        "from sklearn.cluster import KMeans\n",
        "from sklearn.feature_selection import SelectKBest, f_classif\n",
        "from sklearn.metrics import silhouette_score"
      ],
      "metadata": {
        "id": "2cjBjGb877HQ"
      },
      "execution_count": 11,
      "outputs": []
    },
    {
      "cell_type": "code",
      "source": [
        "#Part 3 (Labeling and distance)\n",
        "from sklearn.preprocessing import MultiLabelBinarizer as mlbin #for multi label analyzer\n",
        "from sklearn.decomposition import PCA\n",
        "from scipy.spatial import distance"
      ],
      "metadata": {
        "id": "Ehm_jIZ18JWI"
      },
      "execution_count": 13,
      "outputs": []
    },
    {
      "cell_type": "code",
      "source": [
        "#Inisiasi scaler\n",
        "from sklearn.preprocessing import StandardScaler #in the PCA\n",
        "from sklearn.preprocessing import RobustScaler #in Hierarchical\n",
        "from sklearn.preprocessing import MinMaxScaler #in K-medoid"
      ],
      "metadata": {
        "id": "BntY7aLhHaqf"
      },
      "execution_count": 14,
      "outputs": []
    },
    {
      "cell_type": "code",
      "source": [
        "#instalasi gc\n",
        "import gc"
      ],
      "metadata": {
        "id": "t5pdgOPFKNMT"
      },
      "execution_count": 30,
      "outputs": []
    },
    {
      "cell_type": "markdown",
      "source": [
        "# **2. Import Library**"
      ],
      "metadata": {
        "id": "fKADPWcFKlj3"
      }
    },
    {
      "cell_type": "markdown",
      "source": [
        "Pada tahap ini, Anda perlu mengimpor beberapa pustaka (library) Python yang dibutuhkan untuk analisis data dan pembangunan model machine learning."
      ],
      "metadata": {
        "id": "LgA3ERnVn84N"
      }
    },
    {
      "cell_type": "code",
      "source": [
        "#google drive saving result\n",
        "from google.colab import drive\n",
        "drive.mount('/content/drive')"
      ],
      "metadata": {
        "id": "mzLYMVLG8_lA",
        "colab": {
          "base_uri": "https://localhost:8080/"
        },
        "outputId": "357c55c2-6552-454f-e2a4-a7671db33b02"
      },
      "execution_count": 15,
      "outputs": [
        {
          "output_type": "stream",
          "name": "stdout",
          "text": [
            "Mounted at /content/drive\n"
          ]
        }
      ]
    },
    {
      "cell_type": "code",
      "source": [
        "#Additional mandatory\n",
        "from sklearn.utils import resample #resample\n",
        "from concurrent.futures import ProcessPoolExecutor #Pool process\n",
        "from scipy.spatial.distance import euclidean\n",
        "from joblib import Memory #Memory"
      ],
      "metadata": {
        "id": "nMKxKz5b9Jia"
      },
      "execution_count": 16,
      "outputs": []
    },
    {
      "cell_type": "code",
      "source": [
        "#knee locator\n",
        "! pip install kneed\n",
        "from kneed import KneeLocator"
      ],
      "metadata": {
        "colab": {
          "base_uri": "https://localhost:8080/"
        },
        "id": "ZS3EaK-ZH_R0",
        "outputId": "1e17a301-1e03-42ee-cdf9-1c3f75107a3b"
      },
      "execution_count": 17,
      "outputs": [
        {
          "output_type": "stream",
          "name": "stdout",
          "text": [
            "Collecting kneed\n",
            "  Downloading kneed-0.8.5-py3-none-any.whl.metadata (5.5 kB)\n",
            "Requirement already satisfied: numpy>=1.14.2 in /usr/local/lib/python3.11/dist-packages (from kneed) (1.26.4)\n",
            "Requirement already satisfied: scipy>=1.0.0 in /usr/local/lib/python3.11/dist-packages (from kneed) (1.13.1)\n",
            "Downloading kneed-0.8.5-py3-none-any.whl (10 kB)\n",
            "Installing collected packages: kneed\n",
            "Successfully installed kneed-0.8.5\n"
          ]
        }
      ]
    },
    {
      "cell_type": "code",
      "source": [
        "#Additional mandatory (K-medoids)\n",
        "!pip install scikit-learn-extra\n",
        "from sklearn_extra.cluster import KMedoids"
      ],
      "metadata": {
        "id": "BlmvjLY9M4Yj",
        "colab": {
          "base_uri": "https://localhost:8080/"
        },
        "outputId": "f0358d6a-9f5b-4d11-d8b9-b5fcf554a920"
      },
      "execution_count": 18,
      "outputs": [
        {
          "output_type": "stream",
          "name": "stdout",
          "text": [
            "Collecting scikit-learn-extra\n",
            "  Downloading scikit_learn_extra-0.3.0-cp311-cp311-manylinux_2_17_x86_64.manylinux2014_x86_64.whl.metadata (3.6 kB)\n",
            "Requirement already satisfied: numpy>=1.13.3 in /usr/local/lib/python3.11/dist-packages (from scikit-learn-extra) (1.26.4)\n",
            "Requirement already satisfied: scipy>=0.19.1 in /usr/local/lib/python3.11/dist-packages (from scikit-learn-extra) (1.13.1)\n",
            "Requirement already satisfied: scikit-learn>=0.23.0 in /usr/local/lib/python3.11/dist-packages (from scikit-learn-extra) (1.6.1)\n",
            "Requirement already satisfied: joblib>=1.2.0 in /usr/local/lib/python3.11/dist-packages (from scikit-learn>=0.23.0->scikit-learn-extra) (1.4.2)\n",
            "Requirement already satisfied: threadpoolctl>=3.1.0 in /usr/local/lib/python3.11/dist-packages (from scikit-learn>=0.23.0->scikit-learn-extra) (3.5.0)\n",
            "Downloading scikit_learn_extra-0.3.0-cp311-cp311-manylinux_2_17_x86_64.manylinux2014_x86_64.whl (2.1 MB)\n",
            "\u001b[2K   \u001b[90m━━━━━━━━━━━━━━━━━━━━━━━━━━━━━━━━━━━━━━━━\u001b[0m \u001b[32m2.1/2.1 MB\u001b[0m \u001b[31m22.3 MB/s\u001b[0m eta \u001b[36m0:00:00\u001b[0m\n",
            "\u001b[?25hInstalling collected packages: scikit-learn-extra\n",
            "Successfully installed scikit-learn-extra-0.3.0\n"
          ]
        }
      ]
    },
    {
      "cell_type": "code",
      "source": [
        "# the inisiation of Dill\n",
        "! pip install dill\n",
        "import dill"
      ],
      "metadata": {
        "id": "fPO6Y1ko9Yix",
        "colab": {
          "base_uri": "https://localhost:8080/"
        },
        "outputId": "de4b2663-8f5d-4339-9834-11eca27674d1"
      },
      "execution_count": 19,
      "outputs": [
        {
          "output_type": "stream",
          "name": "stdout",
          "text": [
            "Collecting dill\n",
            "  Downloading dill-0.3.9-py3-none-any.whl.metadata (10 kB)\n",
            "Downloading dill-0.3.9-py3-none-any.whl (119 kB)\n",
            "\u001b[?25l   \u001b[90m━━━━━━━━━━━━━━━━━━━━━━━━━━━━━━━━━━━━━━━━\u001b[0m \u001b[32m0.0/119.4 kB\u001b[0m \u001b[31m?\u001b[0m eta \u001b[36m-:--:--\u001b[0m\r\u001b[2K   \u001b[90m━━━━━━━━━━━━━━━━━━━━━━━━━━━━━━━━━━━━━━━━\u001b[0m \u001b[32m119.4/119.4 kB\u001b[0m \u001b[31m4.9 MB/s\u001b[0m eta \u001b[36m0:00:00\u001b[0m\n",
            "\u001b[?25hInstalling collected packages: dill\n",
            "Successfully installed dill-0.3.9\n"
          ]
        }
      ]
    },
    {
      "cell_type": "code",
      "source": [
        "#for kneelocator & K-means\n",
        "from sklearn.cluster import KMeans"
      ],
      "metadata": {
        "id": "6Opbo-3b83gd"
      },
      "execution_count": 20,
      "outputs": []
    },
    {
      "cell_type": "code",
      "source": [
        "#yellowbrick\n",
        "!pip install yellowbrick\n",
        "from yellowbrick.cluster import SilhouetteVisualizer"
      ],
      "metadata": {
        "id": "qbEmxSZd9eN5",
        "colab": {
          "base_uri": "https://localhost:8080/"
        },
        "outputId": "d2cfc4aa-8717-4b13-f566-26a10a3963fa"
      },
      "execution_count": 21,
      "outputs": [
        {
          "output_type": "stream",
          "name": "stdout",
          "text": [
            "Requirement already satisfied: yellowbrick in /usr/local/lib/python3.11/dist-packages (1.5)\n",
            "Requirement already satisfied: matplotlib!=3.0.0,>=2.0.2 in /usr/local/lib/python3.11/dist-packages (from yellowbrick) (3.10.0)\n",
            "Requirement already satisfied: scipy>=1.0.0 in /usr/local/lib/python3.11/dist-packages (from yellowbrick) (1.13.1)\n",
            "Requirement already satisfied: scikit-learn>=1.0.0 in /usr/local/lib/python3.11/dist-packages (from yellowbrick) (1.6.1)\n",
            "Requirement already satisfied: numpy>=1.16.0 in /usr/local/lib/python3.11/dist-packages (from yellowbrick) (1.26.4)\n",
            "Requirement already satisfied: cycler>=0.10.0 in /usr/local/lib/python3.11/dist-packages (from yellowbrick) (0.12.1)\n",
            "Requirement already satisfied: contourpy>=1.0.1 in /usr/local/lib/python3.11/dist-packages (from matplotlib!=3.0.0,>=2.0.2->yellowbrick) (1.3.1)\n",
            "Requirement already satisfied: fonttools>=4.22.0 in /usr/local/lib/python3.11/dist-packages (from matplotlib!=3.0.0,>=2.0.2->yellowbrick) (4.56.0)\n",
            "Requirement already satisfied: kiwisolver>=1.3.1 in /usr/local/lib/python3.11/dist-packages (from matplotlib!=3.0.0,>=2.0.2->yellowbrick) (1.4.8)\n",
            "Requirement already satisfied: packaging>=20.0 in /usr/local/lib/python3.11/dist-packages (from matplotlib!=3.0.0,>=2.0.2->yellowbrick) (24.2)\n",
            "Requirement already satisfied: pillow>=8 in /usr/local/lib/python3.11/dist-packages (from matplotlib!=3.0.0,>=2.0.2->yellowbrick) (11.1.0)\n",
            "Requirement already satisfied: pyparsing>=2.3.1 in /usr/local/lib/python3.11/dist-packages (from matplotlib!=3.0.0,>=2.0.2->yellowbrick) (3.2.1)\n",
            "Requirement already satisfied: python-dateutil>=2.7 in /usr/local/lib/python3.11/dist-packages (from matplotlib!=3.0.0,>=2.0.2->yellowbrick) (2.8.2)\n",
            "Requirement already satisfied: joblib>=1.2.0 in /usr/local/lib/python3.11/dist-packages (from scikit-learn>=1.0.0->yellowbrick) (1.4.2)\n",
            "Requirement already satisfied: threadpoolctl>=3.1.0 in /usr/local/lib/python3.11/dist-packages (from scikit-learn>=1.0.0->yellowbrick) (3.5.0)\n",
            "Requirement already satisfied: six>=1.5 in /usr/local/lib/python3.11/dist-packages (from python-dateutil>=2.7->matplotlib!=3.0.0,>=2.0.2->yellowbrick) (1.17.0)\n"
          ]
        }
      ]
    },
    {
      "cell_type": "markdown",
      "source": [
        "# **3. Memuat Dataset**"
      ],
      "metadata": {
        "id": "f3YIEnAFKrKL"
      }
    },
    {
      "cell_type": "markdown",
      "source": [
        "Pada tahap ini, Anda perlu memuat dataset ke dalam notebook. Jika dataset dalam format CSV, Anda bisa menggunakan pustaka pandas untuk membacanya. Pastikan untuk mengecek beberapa baris awal dataset untuk memahami strukturnya dan memastikan data telah dimuat dengan benar.\n",
        "\n",
        "Jika dataset berada di Google Drive, pastikan Anda menghubungkan Google Drive ke Colab terlebih dahulu. Setelah dataset berhasil dimuat, langkah berikutnya adalah memeriksa kesesuaian data dan siap untuk dianalisis lebih lanjut."
      ],
      "metadata": {
        "id": "Ey3ItwTen_7E"
      }
    },
    {
      "cell_type": "code",
      "source": [
        "#inisiasi gc\n",
        "gc.collect()"
      ],
      "metadata": {
        "colab": {
          "base_uri": "https://localhost:8080/"
        },
        "id": "_p6lcjfdKP8S",
        "outputId": "bba905e0-1f7c-4731-abb1-e7d131d46feb"
      },
      "execution_count": 31,
      "outputs": [
        {
          "output_type": "execute_result",
          "data": {
            "text/plain": [
              "60"
            ]
          },
          "metadata": {},
          "execution_count": 31
        }
      ]
    },
    {
      "cell_type": "code",
      "source": [
        "#Data preparation main\n",
        "dfclean = pd.read_csv('/content/dataset/2022-08-03-ss.cleaned.csv')\n",
        "dfcleank = dfclean.copy()"
      ],
      "metadata": {
        "id": "wlirwjbH-aaM"
      },
      "execution_count": 33,
      "outputs": []
    },
    {
      "cell_type": "code",
      "source": [
        "#inspection in main cleandf\n",
        "print(dfcleank.info())"
      ],
      "metadata": {
        "colab": {
          "base_uri": "https://localhost:8080/"
        },
        "id": "lmIypZIXKp5r",
        "outputId": "943db06b-daf3-4406-a025-ef93855bd80e"
      },
      "execution_count": 34,
      "outputs": [
        {
          "output_type": "stream",
          "name": "stdout",
          "text": [
            "<class 'pandas.core.frame.DataFrame'>\n",
            "RangeIndex: 477153 entries, 0 to 477152\n",
            "Data columns (total 7 columns):\n",
            " #   Column         Non-Null Count   Dtype \n",
            "---  ------         --------------   ----- \n",
            " 0   pdb_id         477153 non-null  object\n",
            " 1   chain_code     477153 non-null  object\n",
            " 2   seq            477153 non-null  object\n",
            " 3   sst8           477153 non-null  object\n",
            " 4   sst3           477153 non-null  object\n",
            " 5   len            477153 non-null  int64 \n",
            " 6   has_nonstd_aa  477153 non-null  bool  \n",
            "dtypes: bool(1), int64(1), object(5)\n",
            "memory usage: 22.3+ MB\n",
            "None\n"
          ]
        }
      ]
    },
    {
      "cell_type": "markdown",
      "source": [
        "## Preparing the cutoff"
      ],
      "metadata": {
        "id": "VarstvAzK8_h"
      }
    },
    {
      "cell_type": "code",
      "source": [
        "#Data preparation (pc25 a2)\n",
        "dfint1 = pd.read_csv('/content/dataset/2022-08-06-pdb-intersect-pisces_pc25_r2.0.csv')\n",
        "dfint1k = dfint1.copy()\n",
        "#info indataset\n",
        "print(dfint1k.info())"
      ],
      "metadata": {
        "id": "GHCGNTyrM5fS",
        "colab": {
          "base_uri": "https://localhost:8080/"
        },
        "outputId": "b9ef3320-88e3-424e-d494-dd79681a8ef8"
      },
      "execution_count": 37,
      "outputs": [
        {
          "output_type": "stream",
          "name": "stdout",
          "text": [
            "<class 'pandas.core.frame.DataFrame'>\n",
            "RangeIndex: 7320 entries, 0 to 7319\n",
            "Data columns (total 12 columns):\n",
            " #   Column         Non-Null Count  Dtype  \n",
            "---  ------         --------------  -----  \n",
            " 0   pdb_id         7320 non-null   object \n",
            " 1   chain_code     7320 non-null   object \n",
            " 2   seq            7320 non-null   object \n",
            " 3   sst8           7320 non-null   object \n",
            " 4   sst3           7320 non-null   object \n",
            " 5   len_x          7320 non-null   int64  \n",
            " 6   has_nonstd_aa  7320 non-null   bool   \n",
            " 7   len_y          7320 non-null   int64  \n",
            " 8   method         7320 non-null   object \n",
            " 9   resol          7320 non-null   float64\n",
            " 10  rfac           7320 non-null   float64\n",
            " 11  freerfac       7259 non-null   float64\n",
            "dtypes: bool(1), float64(3), int64(2), object(6)\n",
            "memory usage: 636.3+ KB\n",
            "None\n"
          ]
        }
      ]
    },
    {
      "cell_type": "code",
      "source": [
        "#continuing the inspection 25 identity\n",
        "dfint2 = pd.read_csv('/content/dataset/2022-08-06-pdb-intersect-pisces_pc25_r2.5.csv')\n",
        "dfint2k = dfint2.copy()\n",
        "#inspection\n",
        "print(dfint2k.info())"
      ],
      "metadata": {
        "colab": {
          "base_uri": "https://localhost:8080/"
        },
        "id": "8dF5RiVTMofI",
        "outputId": "bcfcfc91-2275-44ee-e0e0-52e051fe134e"
      },
      "execution_count": 44,
      "outputs": [
        {
          "output_type": "stream",
          "name": "stdout",
          "text": [
            "<class 'pandas.core.frame.DataFrame'>\n",
            "RangeIndex: 9646 entries, 0 to 9645\n",
            "Data columns (total 12 columns):\n",
            " #   Column         Non-Null Count  Dtype  \n",
            "---  ------         --------------  -----  \n",
            " 0   pdb_id         9646 non-null   object \n",
            " 1   chain_code     9646 non-null   object \n",
            " 2   seq            9646 non-null   object \n",
            " 3   sst8           9646 non-null   object \n",
            " 4   sst3           9646 non-null   object \n",
            " 5   len_x          9646 non-null   int64  \n",
            " 6   has_nonstd_aa  9646 non-null   bool   \n",
            " 7   len_y          9646 non-null   int64  \n",
            " 8   method         9646 non-null   object \n",
            " 9   resol          9646 non-null   float64\n",
            " 10  rfac           9646 non-null   float64\n",
            " 11  freerfac       9562 non-null   float64\n",
            "dtypes: bool(1), float64(3), int64(2), object(6)\n",
            "memory usage: 838.5+ KB\n",
            "None\n"
          ]
        }
      ]
    },
    {
      "cell_type": "code",
      "source": [
        "#a2.5 in equal quality\n",
        "dfint3 = pd.read_csv('/content/dataset/2022-08-06-pdb-intersect-pisces_pc30_r2.5.csv')\n",
        "dfint3k = dfint3.copy()\n",
        "#information check\n",
        "print(dfint3k.info())"
      ],
      "metadata": {
        "colab": {
          "base_uri": "https://localhost:8080/"
        },
        "id": "PTlOSEwZMceQ",
        "outputId": "f3b323ac-5412-4297-d196-94633fc90217"
      },
      "execution_count": 46,
      "outputs": [
        {
          "output_type": "stream",
          "name": "stdout",
          "text": [
            "<class 'pandas.core.frame.DataFrame'>\n",
            "RangeIndex: 13406 entries, 0 to 13405\n",
            "Data columns (total 12 columns):\n",
            " #   Column         Non-Null Count  Dtype  \n",
            "---  ------         --------------  -----  \n",
            " 0   pdb_id         13406 non-null  object \n",
            " 1   chain_code     13406 non-null  object \n",
            " 2   seq            13406 non-null  object \n",
            " 3   sst8           13406 non-null  object \n",
            " 4   sst3           13406 non-null  object \n",
            " 5   len_x          13406 non-null  int64  \n",
            " 6   has_nonstd_aa  13406 non-null  bool   \n",
            " 7   len_y          13406 non-null  int64  \n",
            " 8   method         13406 non-null  object \n",
            " 9   resol          13406 non-null  float64\n",
            " 10  rfac           13406 non-null  float64\n",
            " 11  freerfac       13294 non-null  float64\n",
            "dtypes: bool(1), float64(3), int64(2), object(6)\n",
            "memory usage: 1.1+ MB\n",
            "None\n"
          ]
        }
      ]
    },
    {
      "cell_type": "code",
      "source": [
        "#continuing the dataset (identity 30%)\n",
        "dfint4 = pd.read_csv('/content/dataset/2022-12-17-pdb-intersect-pisces_pc25_r2.0.csv')\n",
        "dfint4k = dfint4.copy()\n",
        "#information check\n",
        "print(dfint4k.info())"
      ],
      "metadata": {
        "colab": {
          "base_uri": "https://localhost:8080/"
        },
        "id": "zB9aBbviLyn2",
        "outputId": "ed9a0261-2447-4edc-e28e-9e66e0b5bfb5"
      },
      "execution_count": 47,
      "outputs": [
        {
          "output_type": "stream",
          "name": "stdout",
          "text": [
            "<class 'pandas.core.frame.DataFrame'>\n",
            "RangeIndex: 8313 entries, 0 to 8312\n",
            "Data columns (total 12 columns):\n",
            " #   Column         Non-Null Count  Dtype  \n",
            "---  ------         --------------  -----  \n",
            " 0   pdb_id         8313 non-null   object \n",
            " 1   chain_code     8313 non-null   object \n",
            " 2   seq            8313 non-null   object \n",
            " 3   sst8           8313 non-null   object \n",
            " 4   sst3           8313 non-null   object \n",
            " 5   len_x          8313 non-null   int64  \n",
            " 6   has_nonstd_aa  8313 non-null   bool   \n",
            " 7   len_y          8313 non-null   int64  \n",
            " 8   method         8313 non-null   object \n",
            " 9   resol          8313 non-null   float64\n",
            " 10  rfac           8313 non-null   float64\n",
            " 11  freerfac       8252 non-null   float64\n",
            "dtypes: bool(1), float64(3), int64(2), object(6)\n",
            "memory usage: 722.6+ KB\n",
            "None\n"
          ]
        }
      ]
    },
    {
      "cell_type": "code",
      "source": [
        "#Data preparation (pc30)\n",
        "dfint5 = pd.read_csv('/content/dataset/2022-12-17-pdb-intersect-pisces_pc25_r2.5.csv')\n",
        "dfint5k = dfint5.copy()\n",
        "#information check\n",
        "print(dfint5k.info())"
      ],
      "metadata": {
        "id": "Q6Mv-lT599QT",
        "colab": {
          "base_uri": "https://localhost:8080/"
        },
        "outputId": "1493e1b1-6ac1-42c1-e89b-62fcf9795702"
      },
      "execution_count": 48,
      "outputs": [
        {
          "output_type": "stream",
          "name": "stdout",
          "text": [
            "<class 'pandas.core.frame.DataFrame'>\n",
            "RangeIndex: 10931 entries, 0 to 10930\n",
            "Data columns (total 12 columns):\n",
            " #   Column         Non-Null Count  Dtype  \n",
            "---  ------         --------------  -----  \n",
            " 0   pdb_id         10931 non-null  object \n",
            " 1   chain_code     10931 non-null  object \n",
            " 2   seq            10931 non-null  object \n",
            " 3   sst8           10931 non-null  object \n",
            " 4   sst3           10931 non-null  object \n",
            " 5   len_x          10931 non-null  int64  \n",
            " 6   has_nonstd_aa  10931 non-null  bool   \n",
            " 7   len_y          10931 non-null  int64  \n",
            " 8   method         10931 non-null  object \n",
            " 9   resol          10931 non-null  float64\n",
            " 10  rfac           10931 non-null  float64\n",
            " 11  freerfac       10847 non-null  float64\n",
            "dtypes: bool(1), float64(3), int64(2), object(6)\n",
            "memory usage: 950.2+ KB\n",
            "None\n"
          ]
        }
      ]
    },
    {
      "cell_type": "code",
      "source": [
        "#final section\n",
        "dfint6 = pd.read_csv('/content/dataset/2022-12-17-pdb-intersect-pisces_pc30_r2.5.csv')\n",
        "dfint6k = dfint6.copy()\n",
        "#inspection\n",
        "print(dfint6k.info())"
      ],
      "metadata": {
        "colab": {
          "base_uri": "https://localhost:8080/"
        },
        "id": "YR-SaOEMOqO0",
        "outputId": "2fe10acf-17cf-4fde-ed12-1b6826a44adb"
      },
      "execution_count": 50,
      "outputs": [
        {
          "output_type": "stream",
          "name": "stdout",
          "text": [
            "<class 'pandas.core.frame.DataFrame'>\n",
            "RangeIndex: 15079 entries, 0 to 15078\n",
            "Data columns (total 12 columns):\n",
            " #   Column         Non-Null Count  Dtype  \n",
            "---  ------         --------------  -----  \n",
            " 0   pdb_id         15079 non-null  object \n",
            " 1   chain_code     15079 non-null  object \n",
            " 2   seq            15079 non-null  object \n",
            " 3   sst8           15079 non-null  object \n",
            " 4   sst3           15079 non-null  object \n",
            " 5   len_x          15079 non-null  int64  \n",
            " 6   has_nonstd_aa  15079 non-null  bool   \n",
            " 7   len_y          15079 non-null  int64  \n",
            " 8   method         15079 non-null  object \n",
            " 9   resol          15079 non-null  float64\n",
            " 10  rfac           15079 non-null  float64\n",
            " 11  freerfac       14966 non-null  float64\n",
            "dtypes: bool(1), float64(3), int64(2), object(6)\n",
            "memory usage: 1.3+ MB\n",
            "None\n"
          ]
        }
      ]
    },
    {
      "cell_type": "markdown",
      "source": [
        "# **4. Exploratory Data Analysis (EDA)**\n",
        "\n",
        "Pada tahap ini, Anda akan melakukan **Exploratory Data Analysis (EDA)** untuk memahami karakteristik dataset. EDA bertujuan untuk:\n",
        "\n",
        "1. **Memahami Struktur Data**\n",
        "   - Tinjau jumlah baris dan kolom dalam dataset.  \n",
        "   - Tinjau jenis data di setiap kolom (numerikal atau kategorikal).\n",
        "\n",
        "2. **Menangani Data yang Hilang**  \n",
        "   - Identifikasi dan analisis data yang hilang (*missing values*). Tentukan langkah-langkah yang diperlukan untuk menangani data yang hilang, seperti pengisian atau penghapusan data tersebut.\n",
        "\n",
        "3. **Analisis Distribusi dan Korelasi**  \n",
        "   - Analisis distribusi variabel numerik dengan statistik deskriptif dan visualisasi seperti histogram atau boxplot.  \n",
        "   - Periksa hubungan antara variabel menggunakan matriks korelasi atau scatter plot.\n",
        "\n",
        "4. **Visualisasi Data**  \n",
        "   - Buat visualisasi dasar seperti grafik distribusi dan diagram batang untuk variabel kategorikal.  \n",
        "   - Gunakan heatmap atau pairplot untuk menganalisis korelasi antar variabel.\n",
        "\n",
        "Tujuan dari EDA adalah untuk memperoleh wawasan awal yang mendalam mengenai data dan menentukan langkah selanjutnya dalam analisis atau pemodelan."
      ],
      "metadata": {
        "id": "bgZkbJLpK9UR"
      }
    },
    {
      "cell_type": "code",
      "source": [
        "#Preparing a concatinated dataset from intersection\n",
        "dfjune = pd.concat([dfint1k, dfint2k, dfint3k], verify_integrity=False, sort=True,copy=True)\n",
        "dfjunek = dfjune.copy()\n",
        "#inspectng info\n",
        "print(dfjunek.info())"
      ],
      "metadata": {
        "id": "dKeejtvxM6X1",
        "colab": {
          "base_uri": "https://localhost:8080/"
        },
        "outputId": "5a884c19-d60b-43f0-95e4-4461e9e7fb36"
      },
      "execution_count": 53,
      "outputs": [
        {
          "output_type": "stream",
          "name": "stdout",
          "text": [
            "<class 'pandas.core.frame.DataFrame'>\n",
            "Index: 30372 entries, 0 to 13405\n",
            "Data columns (total 12 columns):\n",
            " #   Column         Non-Null Count  Dtype  \n",
            "---  ------         --------------  -----  \n",
            " 0   chain_code     30372 non-null  object \n",
            " 1   freerfac       30115 non-null  float64\n",
            " 2   has_nonstd_aa  30372 non-null  bool   \n",
            " 3   len_x          30372 non-null  int64  \n",
            " 4   len_y          30372 non-null  int64  \n",
            " 5   method         30372 non-null  object \n",
            " 6   pdb_id         30372 non-null  object \n",
            " 7   resol          30372 non-null  float64\n",
            " 8   rfac           30372 non-null  float64\n",
            " 9   seq            30372 non-null  object \n",
            " 10  sst3           30372 non-null  object \n",
            " 11  sst8           30372 non-null  object \n",
            "dtypes: bool(1), float64(3), int64(2), object(6)\n",
            "memory usage: 2.8+ MB\n",
            "None\n"
          ]
        }
      ]
    },
    {
      "cell_type": "markdown",
      "source": [
        "data inspection in june"
      ],
      "metadata": {
        "id": "bz8-fVltP2k2"
      }
    },
    {
      "cell_type": "code",
      "source": [
        "#data inspection in december\n",
        "dfdec = pd.concat([dfint4k, dfint5k, dfint6k], verify_integrity=False, sort=True,copy=True)\n",
        "dfdecek = dfdec.copy()\n",
        "#inspecting info\n",
        "print(dfdecek.info())"
      ],
      "metadata": {
        "colab": {
          "base_uri": "https://localhost:8080/"
        },
        "id": "lAcc_Mx-QBy5",
        "outputId": "63b54240-07e0-4592-c47e-92f48220bba0"
      },
      "execution_count": 54,
      "outputs": [
        {
          "output_type": "stream",
          "name": "stdout",
          "text": [
            "<class 'pandas.core.frame.DataFrame'>\n",
            "Index: 34323 entries, 0 to 15078\n",
            "Data columns (total 12 columns):\n",
            " #   Column         Non-Null Count  Dtype  \n",
            "---  ------         --------------  -----  \n",
            " 0   chain_code     34323 non-null  object \n",
            " 1   freerfac       34065 non-null  float64\n",
            " 2   has_nonstd_aa  34323 non-null  bool   \n",
            " 3   len_x          34323 non-null  int64  \n",
            " 4   len_y          34323 non-null  int64  \n",
            " 5   method         34323 non-null  object \n",
            " 6   pdb_id         34323 non-null  object \n",
            " 7   resol          34323 non-null  float64\n",
            " 8   rfac           34323 non-null  float64\n",
            " 9   seq            34323 non-null  object \n",
            " 10  sst3           34323 non-null  object \n",
            " 11  sst8           34323 non-null  object \n",
            "dtypes: bool(1), float64(3), int64(2), object(6)\n",
            "memory usage: 3.2+ MB\n",
            "None\n"
          ]
        }
      ]
    },
    {
      "cell_type": "markdown",
      "source": [
        "data inspection in december"
      ],
      "metadata": {
        "id": "rXggPnNsQQfn"
      }
    },
    {
      "cell_type": "code",
      "source": [
        "#total inspection of intersection\n",
        "dftotal = pd.concat([dfjunek, dfdecek], verify_integrity=False, sort=True,copy=True)\n",
        "dftotalk = dftotal.copy()\n",
        "#inspecting info\n",
        "print(dftotalk.info())"
      ],
      "metadata": {
        "colab": {
          "base_uri": "https://localhost:8080/"
        },
        "id": "PDpNEdl7QTzk",
        "outputId": "0603efb2-3b3e-495a-bb3c-59b5447b2fae"
      },
      "execution_count": 55,
      "outputs": [
        {
          "output_type": "stream",
          "name": "stdout",
          "text": [
            "<class 'pandas.core.frame.DataFrame'>\n",
            "Index: 64695 entries, 0 to 15078\n",
            "Data columns (total 12 columns):\n",
            " #   Column         Non-Null Count  Dtype  \n",
            "---  ------         --------------  -----  \n",
            " 0   chain_code     64695 non-null  object \n",
            " 1   freerfac       64180 non-null  float64\n",
            " 2   has_nonstd_aa  64695 non-null  bool   \n",
            " 3   len_x          64695 non-null  int64  \n",
            " 4   len_y          64695 non-null  int64  \n",
            " 5   method         64695 non-null  object \n",
            " 6   pdb_id         64695 non-null  object \n",
            " 7   resol          64695 non-null  float64\n",
            " 8   rfac           64695 non-null  float64\n",
            " 9   seq            64695 non-null  object \n",
            " 10  sst3           64695 non-null  object \n",
            " 11  sst8           64695 non-null  object \n",
            "dtypes: bool(1), float64(3), int64(2), object(6)\n",
            "memory usage: 6.0+ MB\n",
            "None\n"
          ]
        }
      ]
    },
    {
      "cell_type": "markdown",
      "source": [
        "# **5. Data Preprocessing**"
      ],
      "metadata": {
        "id": "cpgHfgnSK3ip"
      }
    },
    {
      "cell_type": "markdown",
      "source": [
        "CPada tahap ini, data preprocessing adalah langkah penting untuk memastikan kualitas data sebelum digunakan dalam model machine learning. Data mentah sering kali mengandung nilai kosong, duplikasi, atau rentang nilai yang tidak konsisten, yang dapat memengaruhi kinerja model. Oleh karena itu, proses ini bertujuan untuk membersihkan dan mempersiapkan data agar analisis berjalan optimal.\n",
        "\n",
        "Berikut adalah tahapan-tahapan yang perlu dilakukan, namun **tidak terbatas** pada:\n",
        "1. Menghapus atau Menangani Data Kosong (Missing Values)\n",
        "2. Menghapus Data Duplikat\n",
        "3. Normalisasi atau Standarisasi Fitur\n",
        "4. Deteksi dan Penanganan Outlier\n",
        "5. Encoding Data Kategorikal\n",
        "6. Binning (Pengelompokan Data)"
      ],
      "metadata": {
        "id": "COf8KUPXLg5r"
      }
    },
    {
      "cell_type": "code",
      "source": [
        "#Clearing the duplicates\n",
        "dfcleank.drop_duplicates()\n",
        "dfcleank.info()"
      ],
      "metadata": {
        "id": "WzBGjcbQM7N8",
        "colab": {
          "base_uri": "https://localhost:8080/"
        },
        "outputId": "927115ee-a268-4fbd-c2f9-f10dcfa05b2f"
      },
      "execution_count": 60,
      "outputs": [
        {
          "output_type": "stream",
          "name": "stdout",
          "text": [
            "<class 'pandas.core.frame.DataFrame'>\n",
            "RangeIndex: 477153 entries, 0 to 477152\n",
            "Data columns (total 7 columns):\n",
            " #   Column         Non-Null Count   Dtype \n",
            "---  ------         --------------   ----- \n",
            " 0   pdb_id         477153 non-null  object\n",
            " 1   chain_code     477153 non-null  object\n",
            " 2   seq            477153 non-null  object\n",
            " 3   sst8           477153 non-null  object\n",
            " 4   sst3           477153 non-null  object\n",
            " 5   len            477153 non-null  int64 \n",
            " 6   has_nonstd_aa  477153 non-null  bool  \n",
            "dtypes: bool(1), int64(1), object(5)\n",
            "memory usage: 22.3+ MB\n"
          ]
        }
      ]
    },
    {
      "cell_type": "code",
      "source": [
        "#in totalk\n",
        "dftotalk.drop_duplicates()\n",
        "dftotalk.info()"
      ],
      "metadata": {
        "colab": {
          "base_uri": "https://localhost:8080/"
        },
        "id": "pYCTpWlqRKQi",
        "outputId": "1fd8eb18-15f7-46a6-8e12-c554dafd17c7"
      },
      "execution_count": 59,
      "outputs": [
        {
          "output_type": "stream",
          "name": "stdout",
          "text": [
            "<class 'pandas.core.frame.DataFrame'>\n",
            "Index: 64695 entries, 0 to 15078\n",
            "Data columns (total 12 columns):\n",
            " #   Column         Non-Null Count  Dtype  \n",
            "---  ------         --------------  -----  \n",
            " 0   chain_code     64695 non-null  object \n",
            " 1   freerfac       64180 non-null  float64\n",
            " 2   has_nonstd_aa  64695 non-null  bool   \n",
            " 3   len_x          64695 non-null  int64  \n",
            " 4   len_y          64695 non-null  int64  \n",
            " 5   method         64695 non-null  object \n",
            " 6   pdb_id         64695 non-null  object \n",
            " 7   resol          64695 non-null  float64\n",
            " 8   rfac           64695 non-null  float64\n",
            " 9   seq            64695 non-null  object \n",
            " 10  sst3           64695 non-null  object \n",
            " 11  sst8           64695 non-null  object \n",
            "dtypes: bool(1), float64(3), int64(2), object(6)\n",
            "memory usage: 6.0+ MB\n"
          ]
        }
      ]
    },
    {
      "cell_type": "code",
      "source": [
        "#preparing gc\n",
        "gc.collect()"
      ],
      "metadata": {
        "colab": {
          "base_uri": "https://localhost:8080/"
        },
        "id": "OHW-14meRsAJ",
        "outputId": "8c2317a4-59ae-4a54-ab6c-4e1488380d8b"
      },
      "execution_count": 61,
      "outputs": [
        {
          "output_type": "execute_result",
          "data": {
            "text/plain": [
              "90"
            ]
          },
          "metadata": {},
          "execution_count": 61
        }
      ]
    },
    {
      "cell_type": "code",
      "source": [
        "# Picking columns in totalk\n",
        "selcoltot = dftotalk.iloc[:, [6,0,9,11,10,3,4,2,8]].copy() #No data slicing in original\n",
        "selcoltot.info()"
      ],
      "metadata": {
        "colab": {
          "base_uri": "https://localhost:8080/"
        },
        "id": "BZOoYtVSRXRn",
        "outputId": "80bd24ef-18f4-4b3b-ce36-83e67b3e4fcf"
      },
      "execution_count": 81,
      "outputs": [
        {
          "output_type": "stream",
          "name": "stdout",
          "text": [
            "<class 'pandas.core.frame.DataFrame'>\n",
            "Index: 64695 entries, 0 to 15078\n",
            "Data columns (total 9 columns):\n",
            " #   Column         Non-Null Count  Dtype  \n",
            "---  ------         --------------  -----  \n",
            " 0   pdb_id         64695 non-null  object \n",
            " 1   chain_code     64695 non-null  object \n",
            " 2   seq            64695 non-null  object \n",
            " 3   sst8           64695 non-null  object \n",
            " 4   sst3           64695 non-null  object \n",
            " 5   len_x          64695 non-null  int64  \n",
            " 6   len_y          64695 non-null  int64  \n",
            " 7   has_nonstd_aa  64695 non-null  bool   \n",
            " 8   rfac           64695 non-null  float64\n",
            "dtypes: bool(1), float64(1), int64(2), object(5)\n",
            "memory usage: 4.5+ MB\n"
          ]
        }
      ]
    },
    {
      "cell_type": "markdown",
      "source": [
        "## Initiating data cleaning"
      ],
      "metadata": {
        "id": "F79kKx8RUVzO"
      }
    },
    {
      "cell_type": "code",
      "source": [
        "#selecting freerfac in dftotalk\n",
        "frfacv = dftotalk.iloc[:,1].copy()\n",
        "frfacv.info()"
      ],
      "metadata": {
        "colab": {
          "base_uri": "https://localhost:8080/"
        },
        "id": "lU_OC8eVV9OE",
        "outputId": "7fa627c3-a325-41fa-d1c3-2a77c79f21e9"
      },
      "execution_count": 84,
      "outputs": [
        {
          "output_type": "stream",
          "name": "stdout",
          "text": [
            "<class 'pandas.core.series.Series'>\n",
            "Index: 64695 entries, 0 to 15078\n",
            "Series name: freerfac\n",
            "Non-Null Count  Dtype  \n",
            "--------------  -----  \n",
            "64180 non-null  float64\n",
            "dtypes: float64(1)\n",
            "memory usage: 1010.9 KB\n"
          ]
        }
      ]
    },
    {
      "cell_type": "code",
      "source": [
        "#inspecting missing column in selcoltot\n",
        "selcoltot.isnull().sum()"
      ],
      "metadata": {
        "colab": {
          "base_uri": "https://localhost:8080/",
          "height": 366
        },
        "id": "1b17CIsDUVJt",
        "outputId": "3691f393-9c6f-4324-faeb-2dace9056219"
      },
      "execution_count": 82,
      "outputs": [
        {
          "output_type": "execute_result",
          "data": {
            "text/plain": [
              "pdb_id           0\n",
              "chain_code       0\n",
              "seq              0\n",
              "sst8             0\n",
              "sst3             0\n",
              "len_x            0\n",
              "len_y            0\n",
              "has_nonstd_aa    0\n",
              "rfac             0\n",
              "dtype: int64"
            ],
            "text/html": [
              "<div>\n",
              "<style scoped>\n",
              "    .dataframe tbody tr th:only-of-type {\n",
              "        vertical-align: middle;\n",
              "    }\n",
              "\n",
              "    .dataframe tbody tr th {\n",
              "        vertical-align: top;\n",
              "    }\n",
              "\n",
              "    .dataframe thead th {\n",
              "        text-align: right;\n",
              "    }\n",
              "</style>\n",
              "<table border=\"1\" class=\"dataframe\">\n",
              "  <thead>\n",
              "    <tr style=\"text-align: right;\">\n",
              "      <th></th>\n",
              "      <th>0</th>\n",
              "    </tr>\n",
              "  </thead>\n",
              "  <tbody>\n",
              "    <tr>\n",
              "      <th>pdb_id</th>\n",
              "      <td>0</td>\n",
              "    </tr>\n",
              "    <tr>\n",
              "      <th>chain_code</th>\n",
              "      <td>0</td>\n",
              "    </tr>\n",
              "    <tr>\n",
              "      <th>seq</th>\n",
              "      <td>0</td>\n",
              "    </tr>\n",
              "    <tr>\n",
              "      <th>sst8</th>\n",
              "      <td>0</td>\n",
              "    </tr>\n",
              "    <tr>\n",
              "      <th>sst3</th>\n",
              "      <td>0</td>\n",
              "    </tr>\n",
              "    <tr>\n",
              "      <th>len_x</th>\n",
              "      <td>0</td>\n",
              "    </tr>\n",
              "    <tr>\n",
              "      <th>len_y</th>\n",
              "      <td>0</td>\n",
              "    </tr>\n",
              "    <tr>\n",
              "      <th>has_nonstd_aa</th>\n",
              "      <td>0</td>\n",
              "    </tr>\n",
              "    <tr>\n",
              "      <th>rfac</th>\n",
              "      <td>0</td>\n",
              "    </tr>\n",
              "  </tbody>\n",
              "</table>\n",
              "</div><br><label><b>dtype:</b> int64</label>"
            ]
          },
          "metadata": {},
          "execution_count": 82
        }
      ]
    },
    {
      "cell_type": "code",
      "source": [
        "#inspecting after erasure\n",
        "selcoltot.info()"
      ],
      "metadata": {
        "colab": {
          "base_uri": "https://localhost:8080/"
        },
        "id": "Dp3eFf9DVF92",
        "outputId": "ceabd1c3-0e60-4b45-c235-9a8d65edb38a"
      },
      "execution_count": 83,
      "outputs": [
        {
          "output_type": "stream",
          "name": "stdout",
          "text": [
            "<class 'pandas.core.frame.DataFrame'>\n",
            "Index: 64695 entries, 0 to 15078\n",
            "Data columns (total 9 columns):\n",
            " #   Column         Non-Null Count  Dtype  \n",
            "---  ------         --------------  -----  \n",
            " 0   pdb_id         64695 non-null  object \n",
            " 1   chain_code     64695 non-null  object \n",
            " 2   seq            64695 non-null  object \n",
            " 3   sst8           64695 non-null  object \n",
            " 4   sst3           64695 non-null  object \n",
            " 5   len_x          64695 non-null  int64  \n",
            " 6   len_y          64695 non-null  int64  \n",
            " 7   has_nonstd_aa  64695 non-null  bool   \n",
            " 8   rfac           64695 non-null  float64\n",
            "dtypes: bool(1), float64(1), int64(2), object(5)\n",
            "memory usage: 4.5+ MB\n"
          ]
        }
      ]
    },
    {
      "cell_type": "code",
      "source": [
        "#blending the dataset\n",
        "mergeddf = pd.merge(dfcleank, selcoltot, on='pdb_id', how='inner', copy=True, sort=True)\n",
        "mergeddfk = mergeddf.copy()\n",
        "#inspecting result\n",
        "print(mergeddfk.info())"
      ],
      "metadata": {
        "colab": {
          "base_uri": "https://localhost:8080/"
        },
        "id": "GkUQWcv9Xa4J",
        "outputId": "d8e0a6a0-36e3-4bb1-f137-38ef6e05d1a3"
      },
      "execution_count": 89,
      "outputs": [
        {
          "output_type": "stream",
          "name": "stdout",
          "text": [
            "<class 'pandas.core.frame.DataFrame'>\n",
            "RangeIndex: 140963 entries, 0 to 140962\n",
            "Data columns (total 15 columns):\n",
            " #   Column           Non-Null Count   Dtype  \n",
            "---  ------           --------------   -----  \n",
            " 0   pdb_id           140963 non-null  object \n",
            " 1   chain_code_x     140963 non-null  object \n",
            " 2   seq_x            140963 non-null  object \n",
            " 3   sst8_x           140963 non-null  object \n",
            " 4   sst3_x           140963 non-null  object \n",
            " 5   len              140963 non-null  int64  \n",
            " 6   has_nonstd_aa_x  140963 non-null  bool   \n",
            " 7   chain_code_y     140963 non-null  object \n",
            " 8   seq_y            140963 non-null  object \n",
            " 9   sst8_y           140963 non-null  object \n",
            " 10  sst3_y           140963 non-null  object \n",
            " 11  len_x            140963 non-null  int64  \n",
            " 12  len_y            140963 non-null  int64  \n",
            " 13  has_nonstd_aa_y  140963 non-null  bool   \n",
            " 14  rfac             140963 non-null  float64\n",
            "dtypes: bool(2), float64(1), int64(3), object(9)\n",
            "memory usage: 14.3+ MB\n",
            "None\n"
          ]
        }
      ]
    },
    {
      "cell_type": "code",
      "source": [
        "#inspecting samples\n",
        "mergeddfk.head(7)"
      ],
      "metadata": {
        "colab": {
          "base_uri": "https://localhost:8080/",
          "height": 289
        },
        "id": "3jkjcJS2Zxxp",
        "outputId": "3642d7cf-895e-476b-d7fd-4e04e85e8943"
      },
      "execution_count": 91,
      "outputs": [
        {
          "output_type": "execute_result",
          "data": {
            "text/plain": [
              "  pdb_id chain_code_x                                              seq_x  \\\n",
              "0   12AS            A  MKTAYIAKQRQISFVKSHFSRQLEERLGLIEVQAPILSRVGDGTQD...   \n",
              "1   12AS            A  MKTAYIAKQRQISFVKSHFSRQLEERLGLIEVQAPILSRVGDGTQD...   \n",
              "2   12AS            A  MKTAYIAKQRQISFVKSHFSRQLEERLGLIEVQAPILSRVGDGTQD...   \n",
              "3   12AS            A  MKTAYIAKQRQISFVKSHFSRQLEERLGLIEVQAPILSRVGDGTQD...   \n",
              "4   12AS            B  MKTAYIAKQRQISFVKSHFSRQLEERLGLIEVQAPILSRVGDGTQD...   \n",
              "5   12AS            B  MKTAYIAKQRQISFVKSHFSRQLEERLGLIEVQAPILSRVGDGTQD...   \n",
              "6   12AS            B  MKTAYIAKQRQISFVKSHFSRQLEERLGLIEVQAPILSRVGDGTQD...   \n",
              "\n",
              "                                              sst8_x  \\\n",
              "0  CCCCHHHHHHHHHHHHHHHHHHHHHHHCEEECCCCSEEETTSSCSC...   \n",
              "1  CCCCHHHHHHHHHHHHHHHHHHHHHHHCEEECCCCSEEETTSSCSC...   \n",
              "2  CCCCHHHHHHHHHHHHHHHHHHHHHHHCEEECCCCSEEETTSSCSC...   \n",
              "3  CCCCHHHHHHHHHHHHHHHHHHHHHHHCEEECCCCSEEETTSSCSC...   \n",
              "4  CCCCHHHHHHHHHHHHHHHHHHHHHHSCEEECCCCSEEETTSSCSC...   \n",
              "5  CCCCHHHHHHHHHHHHHHHHHHHHHHSCEEECCCCSEEETTSSCSC...   \n",
              "6  CCCCHHHHHHHHHHHHHHHHHHHHHHSCEEECCCCSEEETTSSCSC...   \n",
              "\n",
              "                                              sst3_x  len  has_nonstd_aa_x  \\\n",
              "0  CCCCHHHHHHHHHHHHHHHHHHHHHHHCEEECCCCCEEECCCCCCC...  330            False   \n",
              "1  CCCCHHHHHHHHHHHHHHHHHHHHHHHCEEECCCCCEEECCCCCCC...  330            False   \n",
              "2  CCCCHHHHHHHHHHHHHHHHHHHHHHHCEEECCCCCEEECCCCCCC...  330            False   \n",
              "3  CCCCHHHHHHHHHHHHHHHHHHHHHHHCEEECCCCCEEECCCCCCC...  330            False   \n",
              "4  CCCCHHHHHHHHHHHHHHHHHHHHHHCCEEECCCCCEEECCCCCCC...  330            False   \n",
              "5  CCCCHHHHHHHHHHHHHHHHHHHHHHCCEEECCCCCEEECCCCCCC...  330            False   \n",
              "6  CCCCHHHHHHHHHHHHHHHHHHHHHHCCEEECCCCCEEECCCCCCC...  330            False   \n",
              "\n",
              "  chain_code_y                                              seq_y  \\\n",
              "0            A  MKTAYIAKQRQISFVKSHFSRQLEERLGLIEVQAPILSRVGDGTQD...   \n",
              "1            A  MKTAYIAKQRQISFVKSHFSRQLEERLGLIEVQAPILSRVGDGTQD...   \n",
              "2            A  AYIAKQRQISFVKSHFSRQLEERLGLIEVQAPILSRVGDGTQDNLS...   \n",
              "3            A  AYIAKQRQISFVKSHFSRQLEERLGLIEVQAPILSRVGDGTQDNLS...   \n",
              "4            A  MKTAYIAKQRQISFVKSHFSRQLEERLGLIEVQAPILSRVGDGTQD...   \n",
              "5            A  MKTAYIAKQRQISFVKSHFSRQLEERLGLIEVQAPILSRVGDGTQD...   \n",
              "6            A  AYIAKQRQISFVKSHFSRQLEERLGLIEVQAPILSRVGDGTQDNLS...   \n",
              "\n",
              "                                              sst8_y  \\\n",
              "0  CCCCHHHHHHHHHHHHHHHHHHHHHHHCEEECCCCSEEETTSSCSC...   \n",
              "1  CCCCHHHHHHHHHHHHHHHHHHHHHHHCEEECCCCSEEETTSSCSC...   \n",
              "2  CHHHHHHHHHHHHHHHHHHHHHHHCEEECCCCSEEETTSSCSCCTT...   \n",
              "3  CHHHHHHHHHHHHHHHHHHHHHHHCEEECCCCSEEETTSSCSCCTT...   \n",
              "4  CCCCHHHHHHHHHHHHHHHHHHHHHHHCEEECCCCSEEETTSSCSC...   \n",
              "5  CCCCHHHHHHHHHHHHHHHHHHHHHHHCEEECCCCSEEETTSSCSC...   \n",
              "6  CHHHHHHHHHHHHHHHHHHHHHHHCEEECCCCSEEETTSSCSCCTT...   \n",
              "\n",
              "                                              sst3_y  len_x  len_y  \\\n",
              "0  CCCCHHHHHHHHHHHHHHHHHHHHHHHCEEECCCCCEEECCCCCCC...    330    330   \n",
              "1  CCCCHHHHHHHHHHHHHHHHHHHHHHHCEEECCCCCEEECCCCCCC...    330    330   \n",
              "2  CHHHHHHHHHHHHHHHHHHHHHHHCEEECCCCCEEECCCCCCCCCC...    327    327   \n",
              "3  CHHHHHHHHHHHHHHHHHHHHHHHCEEECCCCCEEECCCCCCCCCC...    327    327   \n",
              "4  CCCCHHHHHHHHHHHHHHHHHHHHHHHCEEECCCCCEEECCCCCCC...    330    330   \n",
              "5  CCCCHHHHHHHHHHHHHHHHHHHHHHHCEEECCCCCEEECCCCCCC...    330    330   \n",
              "6  CHHHHHHHHHHHHHHHHHHHHHHHCEEECCCCCEEECCCCCCCCCC...    327    327   \n",
              "\n",
              "   has_nonstd_aa_y   rfac  \n",
              "0            False  0.164  \n",
              "1            False  0.164  \n",
              "2            False  0.164  \n",
              "3            False  0.164  \n",
              "4            False  0.164  \n",
              "5            False  0.164  \n",
              "6            False  0.164  "
            ],
            "text/html": [
              "\n",
              "  <div id=\"df-77f0e6c1-ceca-4dff-a2a4-eca3f31fc462\" class=\"colab-df-container\">\n",
              "    <div>\n",
              "<style scoped>\n",
              "    .dataframe tbody tr th:only-of-type {\n",
              "        vertical-align: middle;\n",
              "    }\n",
              "\n",
              "    .dataframe tbody tr th {\n",
              "        vertical-align: top;\n",
              "    }\n",
              "\n",
              "    .dataframe thead th {\n",
              "        text-align: right;\n",
              "    }\n",
              "</style>\n",
              "<table border=\"1\" class=\"dataframe\">\n",
              "  <thead>\n",
              "    <tr style=\"text-align: right;\">\n",
              "      <th></th>\n",
              "      <th>pdb_id</th>\n",
              "      <th>chain_code_x</th>\n",
              "      <th>seq_x</th>\n",
              "      <th>sst8_x</th>\n",
              "      <th>sst3_x</th>\n",
              "      <th>len</th>\n",
              "      <th>has_nonstd_aa_x</th>\n",
              "      <th>chain_code_y</th>\n",
              "      <th>seq_y</th>\n",
              "      <th>sst8_y</th>\n",
              "      <th>sst3_y</th>\n",
              "      <th>len_x</th>\n",
              "      <th>len_y</th>\n",
              "      <th>has_nonstd_aa_y</th>\n",
              "      <th>rfac</th>\n",
              "    </tr>\n",
              "  </thead>\n",
              "  <tbody>\n",
              "    <tr>\n",
              "      <th>0</th>\n",
              "      <td>12AS</td>\n",
              "      <td>A</td>\n",
              "      <td>MKTAYIAKQRQISFVKSHFSRQLEERLGLIEVQAPILSRVGDGTQD...</td>\n",
              "      <td>CCCCHHHHHHHHHHHHHHHHHHHHHHHCEEECCCCSEEETTSSCSC...</td>\n",
              "      <td>CCCCHHHHHHHHHHHHHHHHHHHHHHHCEEECCCCCEEECCCCCCC...</td>\n",
              "      <td>330</td>\n",
              "      <td>False</td>\n",
              "      <td>A</td>\n",
              "      <td>MKTAYIAKQRQISFVKSHFSRQLEERLGLIEVQAPILSRVGDGTQD...</td>\n",
              "      <td>CCCCHHHHHHHHHHHHHHHHHHHHHHHCEEECCCCSEEETTSSCSC...</td>\n",
              "      <td>CCCCHHHHHHHHHHHHHHHHHHHHHHHCEEECCCCCEEECCCCCCC...</td>\n",
              "      <td>330</td>\n",
              "      <td>330</td>\n",
              "      <td>False</td>\n",
              "      <td>0.164</td>\n",
              "    </tr>\n",
              "    <tr>\n",
              "      <th>1</th>\n",
              "      <td>12AS</td>\n",
              "      <td>A</td>\n",
              "      <td>MKTAYIAKQRQISFVKSHFSRQLEERLGLIEVQAPILSRVGDGTQD...</td>\n",
              "      <td>CCCCHHHHHHHHHHHHHHHHHHHHHHHCEEECCCCSEEETTSSCSC...</td>\n",
              "      <td>CCCCHHHHHHHHHHHHHHHHHHHHHHHCEEECCCCCEEECCCCCCC...</td>\n",
              "      <td>330</td>\n",
              "      <td>False</td>\n",
              "      <td>A</td>\n",
              "      <td>MKTAYIAKQRQISFVKSHFSRQLEERLGLIEVQAPILSRVGDGTQD...</td>\n",
              "      <td>CCCCHHHHHHHHHHHHHHHHHHHHHHHCEEECCCCSEEETTSSCSC...</td>\n",
              "      <td>CCCCHHHHHHHHHHHHHHHHHHHHHHHCEEECCCCCEEECCCCCCC...</td>\n",
              "      <td>330</td>\n",
              "      <td>330</td>\n",
              "      <td>False</td>\n",
              "      <td>0.164</td>\n",
              "    </tr>\n",
              "    <tr>\n",
              "      <th>2</th>\n",
              "      <td>12AS</td>\n",
              "      <td>A</td>\n",
              "      <td>MKTAYIAKQRQISFVKSHFSRQLEERLGLIEVQAPILSRVGDGTQD...</td>\n",
              "      <td>CCCCHHHHHHHHHHHHHHHHHHHHHHHCEEECCCCSEEETTSSCSC...</td>\n",
              "      <td>CCCCHHHHHHHHHHHHHHHHHHHHHHHCEEECCCCCEEECCCCCCC...</td>\n",
              "      <td>330</td>\n",
              "      <td>False</td>\n",
              "      <td>A</td>\n",
              "      <td>AYIAKQRQISFVKSHFSRQLEERLGLIEVQAPILSRVGDGTQDNLS...</td>\n",
              "      <td>CHHHHHHHHHHHHHHHHHHHHHHHCEEECCCCSEEETTSSCSCCTT...</td>\n",
              "      <td>CHHHHHHHHHHHHHHHHHHHHHHHCEEECCCCCEEECCCCCCCCCC...</td>\n",
              "      <td>327</td>\n",
              "      <td>327</td>\n",
              "      <td>False</td>\n",
              "      <td>0.164</td>\n",
              "    </tr>\n",
              "    <tr>\n",
              "      <th>3</th>\n",
              "      <td>12AS</td>\n",
              "      <td>A</td>\n",
              "      <td>MKTAYIAKQRQISFVKSHFSRQLEERLGLIEVQAPILSRVGDGTQD...</td>\n",
              "      <td>CCCCHHHHHHHHHHHHHHHHHHHHHHHCEEECCCCSEEETTSSCSC...</td>\n",
              "      <td>CCCCHHHHHHHHHHHHHHHHHHHHHHHCEEECCCCCEEECCCCCCC...</td>\n",
              "      <td>330</td>\n",
              "      <td>False</td>\n",
              "      <td>A</td>\n",
              "      <td>AYIAKQRQISFVKSHFSRQLEERLGLIEVQAPILSRVGDGTQDNLS...</td>\n",
              "      <td>CHHHHHHHHHHHHHHHHHHHHHHHCEEECCCCSEEETTSSCSCCTT...</td>\n",
              "      <td>CHHHHHHHHHHHHHHHHHHHHHHHCEEECCCCCEEECCCCCCCCCC...</td>\n",
              "      <td>327</td>\n",
              "      <td>327</td>\n",
              "      <td>False</td>\n",
              "      <td>0.164</td>\n",
              "    </tr>\n",
              "    <tr>\n",
              "      <th>4</th>\n",
              "      <td>12AS</td>\n",
              "      <td>B</td>\n",
              "      <td>MKTAYIAKQRQISFVKSHFSRQLEERLGLIEVQAPILSRVGDGTQD...</td>\n",
              "      <td>CCCCHHHHHHHHHHHHHHHHHHHHHHSCEEECCCCSEEETTSSCSC...</td>\n",
              "      <td>CCCCHHHHHHHHHHHHHHHHHHHHHHCCEEECCCCCEEECCCCCCC...</td>\n",
              "      <td>330</td>\n",
              "      <td>False</td>\n",
              "      <td>A</td>\n",
              "      <td>MKTAYIAKQRQISFVKSHFSRQLEERLGLIEVQAPILSRVGDGTQD...</td>\n",
              "      <td>CCCCHHHHHHHHHHHHHHHHHHHHHHHCEEECCCCSEEETTSSCSC...</td>\n",
              "      <td>CCCCHHHHHHHHHHHHHHHHHHHHHHHCEEECCCCCEEECCCCCCC...</td>\n",
              "      <td>330</td>\n",
              "      <td>330</td>\n",
              "      <td>False</td>\n",
              "      <td>0.164</td>\n",
              "    </tr>\n",
              "    <tr>\n",
              "      <th>5</th>\n",
              "      <td>12AS</td>\n",
              "      <td>B</td>\n",
              "      <td>MKTAYIAKQRQISFVKSHFSRQLEERLGLIEVQAPILSRVGDGTQD...</td>\n",
              "      <td>CCCCHHHHHHHHHHHHHHHHHHHHHHSCEEECCCCSEEETTSSCSC...</td>\n",
              "      <td>CCCCHHHHHHHHHHHHHHHHHHHHHHCCEEECCCCCEEECCCCCCC...</td>\n",
              "      <td>330</td>\n",
              "      <td>False</td>\n",
              "      <td>A</td>\n",
              "      <td>MKTAYIAKQRQISFVKSHFSRQLEERLGLIEVQAPILSRVGDGTQD...</td>\n",
              "      <td>CCCCHHHHHHHHHHHHHHHHHHHHHHHCEEECCCCSEEETTSSCSC...</td>\n",
              "      <td>CCCCHHHHHHHHHHHHHHHHHHHHHHHCEEECCCCCEEECCCCCCC...</td>\n",
              "      <td>330</td>\n",
              "      <td>330</td>\n",
              "      <td>False</td>\n",
              "      <td>0.164</td>\n",
              "    </tr>\n",
              "    <tr>\n",
              "      <th>6</th>\n",
              "      <td>12AS</td>\n",
              "      <td>B</td>\n",
              "      <td>MKTAYIAKQRQISFVKSHFSRQLEERLGLIEVQAPILSRVGDGTQD...</td>\n",
              "      <td>CCCCHHHHHHHHHHHHHHHHHHHHHHSCEEECCCCSEEETTSSCSC...</td>\n",
              "      <td>CCCCHHHHHHHHHHHHHHHHHHHHHHCCEEECCCCCEEECCCCCCC...</td>\n",
              "      <td>330</td>\n",
              "      <td>False</td>\n",
              "      <td>A</td>\n",
              "      <td>AYIAKQRQISFVKSHFSRQLEERLGLIEVQAPILSRVGDGTQDNLS...</td>\n",
              "      <td>CHHHHHHHHHHHHHHHHHHHHHHHCEEECCCCSEEETTSSCSCCTT...</td>\n",
              "      <td>CHHHHHHHHHHHHHHHHHHHHHHHCEEECCCCCEEECCCCCCCCCC...</td>\n",
              "      <td>327</td>\n",
              "      <td>327</td>\n",
              "      <td>False</td>\n",
              "      <td>0.164</td>\n",
              "    </tr>\n",
              "  </tbody>\n",
              "</table>\n",
              "</div>\n",
              "    <div class=\"colab-df-buttons\">\n",
              "\n",
              "  <div class=\"colab-df-container\">\n",
              "    <button class=\"colab-df-convert\" onclick=\"convertToInteractive('df-77f0e6c1-ceca-4dff-a2a4-eca3f31fc462')\"\n",
              "            title=\"Convert this dataframe to an interactive table.\"\n",
              "            style=\"display:none;\">\n",
              "\n",
              "  <svg xmlns=\"http://www.w3.org/2000/svg\" height=\"24px\" viewBox=\"0 -960 960 960\">\n",
              "    <path d=\"M120-120v-720h720v720H120Zm60-500h600v-160H180v160Zm220 220h160v-160H400v160Zm0 220h160v-160H400v160ZM180-400h160v-160H180v160Zm440 0h160v-160H620v160ZM180-180h160v-160H180v160Zm440 0h160v-160H620v160Z\"/>\n",
              "  </svg>\n",
              "    </button>\n",
              "\n",
              "  <style>\n",
              "    .colab-df-container {\n",
              "      display:flex;\n",
              "      gap: 12px;\n",
              "    }\n",
              "\n",
              "    .colab-df-convert {\n",
              "      background-color: #E8F0FE;\n",
              "      border: none;\n",
              "      border-radius: 50%;\n",
              "      cursor: pointer;\n",
              "      display: none;\n",
              "      fill: #1967D2;\n",
              "      height: 32px;\n",
              "      padding: 0 0 0 0;\n",
              "      width: 32px;\n",
              "    }\n",
              "\n",
              "    .colab-df-convert:hover {\n",
              "      background-color: #E2EBFA;\n",
              "      box-shadow: 0px 1px 2px rgba(60, 64, 67, 0.3), 0px 1px 3px 1px rgba(60, 64, 67, 0.15);\n",
              "      fill: #174EA6;\n",
              "    }\n",
              "\n",
              "    .colab-df-buttons div {\n",
              "      margin-bottom: 4px;\n",
              "    }\n",
              "\n",
              "    [theme=dark] .colab-df-convert {\n",
              "      background-color: #3B4455;\n",
              "      fill: #D2E3FC;\n",
              "    }\n",
              "\n",
              "    [theme=dark] .colab-df-convert:hover {\n",
              "      background-color: #434B5C;\n",
              "      box-shadow: 0px 1px 3px 1px rgba(0, 0, 0, 0.15);\n",
              "      filter: drop-shadow(0px 1px 2px rgba(0, 0, 0, 0.3));\n",
              "      fill: #FFFFFF;\n",
              "    }\n",
              "  </style>\n",
              "\n",
              "    <script>\n",
              "      const buttonEl =\n",
              "        document.querySelector('#df-77f0e6c1-ceca-4dff-a2a4-eca3f31fc462 button.colab-df-convert');\n",
              "      buttonEl.style.display =\n",
              "        google.colab.kernel.accessAllowed ? 'block' : 'none';\n",
              "\n",
              "      async function convertToInteractive(key) {\n",
              "        const element = document.querySelector('#df-77f0e6c1-ceca-4dff-a2a4-eca3f31fc462');\n",
              "        const dataTable =\n",
              "          await google.colab.kernel.invokeFunction('convertToInteractive',\n",
              "                                                    [key], {});\n",
              "        if (!dataTable) return;\n",
              "\n",
              "        const docLinkHtml = 'Like what you see? Visit the ' +\n",
              "          '<a target=\"_blank\" href=https://colab.research.google.com/notebooks/data_table.ipynb>data table notebook</a>'\n",
              "          + ' to learn more about interactive tables.';\n",
              "        element.innerHTML = '';\n",
              "        dataTable['output_type'] = 'display_data';\n",
              "        await google.colab.output.renderOutput(dataTable, element);\n",
              "        const docLink = document.createElement('div');\n",
              "        docLink.innerHTML = docLinkHtml;\n",
              "        element.appendChild(docLink);\n",
              "      }\n",
              "    </script>\n",
              "  </div>\n",
              "\n",
              "\n",
              "<div id=\"df-06a6b35c-612a-4ec1-9b01-4092b59b786f\">\n",
              "  <button class=\"colab-df-quickchart\" onclick=\"quickchart('df-06a6b35c-612a-4ec1-9b01-4092b59b786f')\"\n",
              "            title=\"Suggest charts\"\n",
              "            style=\"display:none;\">\n",
              "\n",
              "<svg xmlns=\"http://www.w3.org/2000/svg\" height=\"24px\"viewBox=\"0 0 24 24\"\n",
              "     width=\"24px\">\n",
              "    <g>\n",
              "        <path d=\"M19 3H5c-1.1 0-2 .9-2 2v14c0 1.1.9 2 2 2h14c1.1 0 2-.9 2-2V5c0-1.1-.9-2-2-2zM9 17H7v-7h2v7zm4 0h-2V7h2v10zm4 0h-2v-4h2v4z\"/>\n",
              "    </g>\n",
              "</svg>\n",
              "  </button>\n",
              "\n",
              "<style>\n",
              "  .colab-df-quickchart {\n",
              "      --bg-color: #E8F0FE;\n",
              "      --fill-color: #1967D2;\n",
              "      --hover-bg-color: #E2EBFA;\n",
              "      --hover-fill-color: #174EA6;\n",
              "      --disabled-fill-color: #AAA;\n",
              "      --disabled-bg-color: #DDD;\n",
              "  }\n",
              "\n",
              "  [theme=dark] .colab-df-quickchart {\n",
              "      --bg-color: #3B4455;\n",
              "      --fill-color: #D2E3FC;\n",
              "      --hover-bg-color: #434B5C;\n",
              "      --hover-fill-color: #FFFFFF;\n",
              "      --disabled-bg-color: #3B4455;\n",
              "      --disabled-fill-color: #666;\n",
              "  }\n",
              "\n",
              "  .colab-df-quickchart {\n",
              "    background-color: var(--bg-color);\n",
              "    border: none;\n",
              "    border-radius: 50%;\n",
              "    cursor: pointer;\n",
              "    display: none;\n",
              "    fill: var(--fill-color);\n",
              "    height: 32px;\n",
              "    padding: 0;\n",
              "    width: 32px;\n",
              "  }\n",
              "\n",
              "  .colab-df-quickchart:hover {\n",
              "    background-color: var(--hover-bg-color);\n",
              "    box-shadow: 0 1px 2px rgba(60, 64, 67, 0.3), 0 1px 3px 1px rgba(60, 64, 67, 0.15);\n",
              "    fill: var(--button-hover-fill-color);\n",
              "  }\n",
              "\n",
              "  .colab-df-quickchart-complete:disabled,\n",
              "  .colab-df-quickchart-complete:disabled:hover {\n",
              "    background-color: var(--disabled-bg-color);\n",
              "    fill: var(--disabled-fill-color);\n",
              "    box-shadow: none;\n",
              "  }\n",
              "\n",
              "  .colab-df-spinner {\n",
              "    border: 2px solid var(--fill-color);\n",
              "    border-color: transparent;\n",
              "    border-bottom-color: var(--fill-color);\n",
              "    animation:\n",
              "      spin 1s steps(1) infinite;\n",
              "  }\n",
              "\n",
              "  @keyframes spin {\n",
              "    0% {\n",
              "      border-color: transparent;\n",
              "      border-bottom-color: var(--fill-color);\n",
              "      border-left-color: var(--fill-color);\n",
              "    }\n",
              "    20% {\n",
              "      border-color: transparent;\n",
              "      border-left-color: var(--fill-color);\n",
              "      border-top-color: var(--fill-color);\n",
              "    }\n",
              "    30% {\n",
              "      border-color: transparent;\n",
              "      border-left-color: var(--fill-color);\n",
              "      border-top-color: var(--fill-color);\n",
              "      border-right-color: var(--fill-color);\n",
              "    }\n",
              "    40% {\n",
              "      border-color: transparent;\n",
              "      border-right-color: var(--fill-color);\n",
              "      border-top-color: var(--fill-color);\n",
              "    }\n",
              "    60% {\n",
              "      border-color: transparent;\n",
              "      border-right-color: var(--fill-color);\n",
              "    }\n",
              "    80% {\n",
              "      border-color: transparent;\n",
              "      border-right-color: var(--fill-color);\n",
              "      border-bottom-color: var(--fill-color);\n",
              "    }\n",
              "    90% {\n",
              "      border-color: transparent;\n",
              "      border-bottom-color: var(--fill-color);\n",
              "    }\n",
              "  }\n",
              "</style>\n",
              "\n",
              "  <script>\n",
              "    async function quickchart(key) {\n",
              "      const quickchartButtonEl =\n",
              "        document.querySelector('#' + key + ' button');\n",
              "      quickchartButtonEl.disabled = true;  // To prevent multiple clicks.\n",
              "      quickchartButtonEl.classList.add('colab-df-spinner');\n",
              "      try {\n",
              "        const charts = await google.colab.kernel.invokeFunction(\n",
              "            'suggestCharts', [key], {});\n",
              "      } catch (error) {\n",
              "        console.error('Error during call to suggestCharts:', error);\n",
              "      }\n",
              "      quickchartButtonEl.classList.remove('colab-df-spinner');\n",
              "      quickchartButtonEl.classList.add('colab-df-quickchart-complete');\n",
              "    }\n",
              "    (() => {\n",
              "      let quickchartButtonEl =\n",
              "        document.querySelector('#df-06a6b35c-612a-4ec1-9b01-4092b59b786f button');\n",
              "      quickchartButtonEl.style.display =\n",
              "        google.colab.kernel.accessAllowed ? 'block' : 'none';\n",
              "    })();\n",
              "  </script>\n",
              "</div>\n",
              "\n",
              "    </div>\n",
              "  </div>\n"
            ],
            "application/vnd.google.colaboratory.intrinsic+json": {
              "type": "dataframe",
              "variable_name": "mergeddfk"
            }
          },
          "metadata": {},
          "execution_count": 91
        }
      ]
    },
    {
      "cell_type": "code",
      "source": [
        "#selecting potential columns\n",
        "potcol = mergeddfk.iloc[:,[0,1,7,11,12,14,13]].copy()\n",
        "#inspecting result\n",
        "print(potcol.info())"
      ],
      "metadata": {
        "colab": {
          "base_uri": "https://localhost:8080/"
        },
        "id": "M3e8VmzbaqAq",
        "outputId": "73dc66fc-bb97-4345-a1b1-39ab5fa7195a"
      },
      "execution_count": 92,
      "outputs": [
        {
          "output_type": "stream",
          "name": "stdout",
          "text": [
            "<class 'pandas.core.frame.DataFrame'>\n",
            "RangeIndex: 140963 entries, 0 to 140962\n",
            "Data columns (total 7 columns):\n",
            " #   Column           Non-Null Count   Dtype  \n",
            "---  ------           --------------   -----  \n",
            " 0   pdb_id           140963 non-null  object \n",
            " 1   chain_code_x     140963 non-null  object \n",
            " 2   chain_code_y     140963 non-null  object \n",
            " 3   len_x            140963 non-null  int64  \n",
            " 4   len_y            140963 non-null  int64  \n",
            " 5   rfac             140963 non-null  float64\n",
            " 6   has_nonstd_aa_y  140963 non-null  bool   \n",
            "dtypes: bool(1), float64(1), int64(2), object(3)\n",
            "memory usage: 6.6+ MB\n",
            "None\n"
          ]
        }
      ]
    },
    {
      "cell_type": "markdown",
      "source": [
        "# **6. Pembangunan Model Clustering**"
      ],
      "metadata": {
        "id": "BR73dCnrLEiq"
      }
    },
    {
      "cell_type": "markdown",
      "source": [
        "## **a. Pembangunan Model Clustering**"
      ],
      "metadata": {
        "id": "Fkd_QHXWMBDr"
      }
    },
    {
      "cell_type": "markdown",
      "source": [
        "Pada tahap ini, Anda membangun model clustering dengan memilih algoritma yang sesuai untuk mengelompokkan data berdasarkan kesamaan. Berikut adalah **rekomendasi** tahapannya.\n",
        "1. Pilih algoritma clustering yang sesuai.\n",
        "2. Latih model dengan data menggunakan algoritma tersebut."
      ],
      "metadata": {
        "id": "Kn6Y2qbqMVLP"
      }
    },
    {
      "cell_type": "code",
      "source": [
        "#Type your code here"
      ],
      "metadata": {
        "id": "hgYvwWOzM93L"
      },
      "execution_count": null,
      "outputs": []
    },
    {
      "cell_type": "markdown",
      "source": [
        "## **b. Evaluasi Model Clustering**"
      ],
      "metadata": {
        "id": "zsGVwzPKMEvn"
      }
    },
    {
      "cell_type": "markdown",
      "source": [
        "Untuk menentukan jumlah cluster yang optimal dalam model clustering, Anda dapat menggunakan metode Elbow atau Silhouette Score.\n",
        "\n",
        "Metode ini membantu kita menemukan jumlah cluster yang memberikan pemisahan terbaik antar kelompok data, sehingga model yang dibangun dapat lebih efektif. Berikut adalah **rekomendasi** tahapannya.\n",
        "1. Gunakan Silhouette Score dan Elbow Method untuk menentukan jumlah cluster optimal.\n",
        "2. Hitung Silhouette Score sebagai ukuran kualitas cluster."
      ],
      "metadata": {
        "id": "qk63ew39MeBf"
      }
    },
    {
      "cell_type": "code",
      "source": [
        "#Type your code here"
      ],
      "metadata": {
        "id": "yrPkK_bvM-Ya"
      },
      "execution_count": null,
      "outputs": []
    },
    {
      "cell_type": "markdown",
      "source": [
        "## **c. Feature Selection (Opsional)**"
      ],
      "metadata": {
        "id": "vWZp5vKNQddd"
      }
    },
    {
      "cell_type": "markdown",
      "source": [
        "Silakan lakukan feature selection jika Anda membutuhkan optimasi model clustering. Jika Anda menerapkan proses ini, silakan lakukan pemodelan dan evaluasi kembali menggunakan kolom-kolom hasil feature selection. Terakhir, bandingkan hasil performa model sebelum dan sesudah menerapkan feature selection."
      ],
      "metadata": {
        "id": "QIHKgE07Q4c0"
      }
    },
    {
      "cell_type": "code",
      "source": [
        "#Type your code here"
      ],
      "metadata": {
        "id": "Vbstha0PRUpI"
      },
      "execution_count": null,
      "outputs": []
    },
    {
      "cell_type": "markdown",
      "source": [
        "## **d. Visualisasi Hasil Clustering**"
      ],
      "metadata": {
        "id": "nn01TKkLLRiF"
      }
    },
    {
      "cell_type": "markdown",
      "source": [
        "Setelah model clustering dilatih dan jumlah cluster optimal ditentukan, langkah selanjutnya adalah menampilkan hasil clustering melalui visualisasi.\n",
        "\n",
        "Berikut adalah **rekomendasi** tahapannya.\n",
        "1. Tampilkan hasil clustering dalam bentuk visualisasi, seperti grafik scatter plot atau 2D PCA projection."
      ],
      "metadata": {
        "id": "gaz0fnhhMkRI"
      }
    },
    {
      "cell_type": "code",
      "source": [
        "#Type your code here"
      ],
      "metadata": {
        "id": "lfOjVvfYM-4v"
      },
      "execution_count": null,
      "outputs": []
    },
    {
      "cell_type": "markdown",
      "source": [
        "## **e. Analisis dan Interpretasi Hasil Cluster**"
      ],
      "metadata": {
        "id": "X4eydPWJLH4I"
      }
    },
    {
      "cell_type": "markdown",
      "source": [
        "Setelah melakukan clustering, langkah selanjutnya adalah menganalisis karakteristik dari masing-masing cluster berdasarkan fitur yang tersedia.\n",
        "\n",
        "Berikut adalah **rekomendasi** tahapannya.\n",
        "1. Analisis karakteristik tiap cluster berdasarkan fitur yang tersedia (misalnya, distribusi nilai dalam cluster).\n",
        "2. Berikan interpretasi: Apakah hasil clustering sesuai dengan ekspektasi dan logika bisnis? Apakah ada pola tertentu yang bisa dimanfaatkan?"
      ],
      "metadata": {
        "id": "SENfLnfRMpC-"
      }
    },
    {
      "cell_type": "code",
      "source": [
        "#Type your code here"
      ],
      "metadata": {
        "id": "MFq0x-OzM_Wt"
      },
      "execution_count": null,
      "outputs": []
    },
    {
      "cell_type": "markdown",
      "source": [
        "Tulis hasil interpretasinya di sini.\n",
        "1. Cluster 1:\n",
        "2. Cluster 2:\n",
        "3. Cluster 3:"
      ],
      "metadata": {
        "id": "JfgVMEBDS3KG"
      }
    },
    {
      "cell_type": "markdown",
      "source": [
        "# **7. Mengeksport Data**\n",
        "\n",
        "Simpan hasilnya ke dalam file CSV."
      ],
      "metadata": {
        "id": "jaYP1fx5VgWO"
      }
    },
    {
      "cell_type": "code",
      "source": [],
      "metadata": {
        "id": "fkbg_o80aRSH"
      },
      "execution_count": null,
      "outputs": []
    }
  ]
}