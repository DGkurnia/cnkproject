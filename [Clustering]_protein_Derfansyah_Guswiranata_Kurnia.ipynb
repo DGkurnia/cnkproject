{
  "nbformat": 4,
  "nbformat_minor": 0,
  "metadata": {
    "colab": {
      "provenance": [],
      "include_colab_link": true
    },
    "kernelspec": {
      "name": "python3",
      "display_name": "Python 3"
    },
    "language_info": {
      "name": "python"
    }
  },
  "cells": [
    {
      "cell_type": "markdown",
      "metadata": {
        "id": "view-in-github",
        "colab_type": "text"
      },
      "source": [
        "<a href=\"https://colab.research.google.com/github/DGkurnia/cnkproject/blob/main/%5BClustering%5D_protein_Derfansyah_Guswiranata_Kurnia.ipynb\" target=\"_parent\"><img src=\"https://colab.research.google.com/assets/colab-badge.svg\" alt=\"Open In Colab\"/></a>"
      ]
    },
    {
      "cell_type": "markdown",
      "source": [
        "# Pengenalan Diri\n",
        "## Nama: Derfansyah Guswiranata Kurnia\n",
        "## Identitas Dicoding : dgkurnia\n",
        "## Alamat Email Dicoding : weerakurnia@gmail.com"
      ],
      "metadata": {
        "id": "HIJCVgF4X9xH"
      }
    },
    {
      "cell_type": "markdown",
      "source": [
        "# **1. Perkenalan Dataset**\n"
      ],
      "metadata": {
        "id": "kZLRMFl0JyyQ"
      }
    },
    {
      "cell_type": "markdown",
      "source": [
        "Tahap pertama, Anda harus mencari dan menggunakan dataset **tanpa label** dengan ketentuan sebagai berikut:\n",
        "\n",
        "1. **Sumber Dataset**:  \n",
        "   Dataset dapat diperoleh dari berbagai sumber, seperti public repositories (*Kaggle*, *UCI ML Repository*, *Open Data*) atau data primer yang Anda kumpulkan sendiri.\n",
        "   \n",
        "2. **Ketentuan Dataset**:\n",
        "   - **Tanpa label**: Dataset tidak boleh memiliki label atau kelas.\n",
        "   - **Jumlah Baris**: Minimal 1000 baris untuk memastikan dataset cukup besar untuk analisis yang bermakna.\n",
        "   - **Tipe Data**: Harus mengandung data **kategorikal** dan **numerikal**.\n",
        "     - *Kategorikal*: Misalnya jenis kelamin, kategori produk.\n",
        "     - *Numerikal*: Misalnya usia, pendapatan, harga.\n",
        "\n",
        "3. **Pembatasan**:  \n",
        "   Dataset yang sudah digunakan dalam latihan clustering (seperti customer segmentation) tidak boleh digunakan."
      ],
      "metadata": {
        "id": "hssSDn-5n3HR"
      }
    },
    {
      "cell_type": "code",
      "source": [
        "#Inisiasi Pengunduhan ke Kaggle\n",
        "!pip install kaggle"
      ],
      "metadata": {
        "colab": {
          "base_uri": "https://localhost:8080/"
        },
        "id": "vSSEc58MW1Jf",
        "outputId": "90b54249-0686-44a4-9aa1-b6b061a655d9"
      },
      "execution_count": null,
      "outputs": [
        {
          "output_type": "stream",
          "name": "stdout",
          "text": [
            "Requirement already satisfied: kaggle in /usr/local/lib/python3.10/dist-packages (1.6.17)\n",
            "Requirement already satisfied: six>=1.10 in /usr/local/lib/python3.10/dist-packages (from kaggle) (1.16.0)\n",
            "Requirement already satisfied: certifi>=2023.7.22 in /usr/local/lib/python3.10/dist-packages (from kaggle) (2024.8.30)\n",
            "Requirement already satisfied: python-dateutil in /usr/local/lib/python3.10/dist-packages (from kaggle) (2.8.2)\n",
            "Requirement already satisfied: requests in /usr/local/lib/python3.10/dist-packages (from kaggle) (2.32.3)\n",
            "Requirement already satisfied: tqdm in /usr/local/lib/python3.10/dist-packages (from kaggle) (4.66.6)\n",
            "Requirement already satisfied: python-slugify in /usr/local/lib/python3.10/dist-packages (from kaggle) (8.0.4)\n",
            "Requirement already satisfied: urllib3 in /usr/local/lib/python3.10/dist-packages (from kaggle) (2.2.3)\n",
            "Requirement already satisfied: bleach in /usr/local/lib/python3.10/dist-packages (from kaggle) (6.2.0)\n",
            "Requirement already satisfied: webencodings in /usr/local/lib/python3.10/dist-packages (from bleach->kaggle) (0.5.1)\n",
            "Requirement already satisfied: text-unidecode>=1.3 in /usr/local/lib/python3.10/dist-packages (from python-slugify->kaggle) (1.3)\n",
            "Requirement already satisfied: charset-normalizer<4,>=2 in /usr/local/lib/python3.10/dist-packages (from requests->kaggle) (3.4.0)\n",
            "Requirement already satisfied: idna<4,>=2.5 in /usr/local/lib/python3.10/dist-packages (from requests->kaggle) (3.10)\n"
          ]
        }
      ]
    },
    {
      "cell_type": "code",
      "source": [
        "#Instalasi file json\n",
        "from google.colab import files\n",
        "files.upload()"
      ],
      "metadata": {
        "colab": {
          "base_uri": "https://localhost:8080/",
          "height": 90
        },
        "id": "1J1LW1EwYsxv",
        "outputId": "54d44e1c-efe0-4df6-e3d6-98323588c7c1"
      },
      "execution_count": null,
      "outputs": [
        {
          "output_type": "display_data",
          "data": {
            "text/plain": [
              "<IPython.core.display.HTML object>"
            ],
            "text/html": [
              "\n",
              "     <input type=\"file\" id=\"files-5407442c-4e9f-4b9d-ad02-74a7357758a6\" name=\"files[]\" multiple disabled\n",
              "        style=\"border:none\" />\n",
              "     <output id=\"result-5407442c-4e9f-4b9d-ad02-74a7357758a6\">\n",
              "      Upload widget is only available when the cell has been executed in the\n",
              "      current browser session. Please rerun this cell to enable.\n",
              "      </output>\n",
              "      <script>// Copyright 2017 Google LLC\n",
              "//\n",
              "// Licensed under the Apache License, Version 2.0 (the \"License\");\n",
              "// you may not use this file except in compliance with the License.\n",
              "// You may obtain a copy of the License at\n",
              "//\n",
              "//      http://www.apache.org/licenses/LICENSE-2.0\n",
              "//\n",
              "// Unless required by applicable law or agreed to in writing, software\n",
              "// distributed under the License is distributed on an \"AS IS\" BASIS,\n",
              "// WITHOUT WARRANTIES OR CONDITIONS OF ANY KIND, either express or implied.\n",
              "// See the License for the specific language governing permissions and\n",
              "// limitations under the License.\n",
              "\n",
              "/**\n",
              " * @fileoverview Helpers for google.colab Python module.\n",
              " */\n",
              "(function(scope) {\n",
              "function span(text, styleAttributes = {}) {\n",
              "  const element = document.createElement('span');\n",
              "  element.textContent = text;\n",
              "  for (const key of Object.keys(styleAttributes)) {\n",
              "    element.style[key] = styleAttributes[key];\n",
              "  }\n",
              "  return element;\n",
              "}\n",
              "\n",
              "// Max number of bytes which will be uploaded at a time.\n",
              "const MAX_PAYLOAD_SIZE = 100 * 1024;\n",
              "\n",
              "function _uploadFiles(inputId, outputId) {\n",
              "  const steps = uploadFilesStep(inputId, outputId);\n",
              "  const outputElement = document.getElementById(outputId);\n",
              "  // Cache steps on the outputElement to make it available for the next call\n",
              "  // to uploadFilesContinue from Python.\n",
              "  outputElement.steps = steps;\n",
              "\n",
              "  return _uploadFilesContinue(outputId);\n",
              "}\n",
              "\n",
              "// This is roughly an async generator (not supported in the browser yet),\n",
              "// where there are multiple asynchronous steps and the Python side is going\n",
              "// to poll for completion of each step.\n",
              "// This uses a Promise to block the python side on completion of each step,\n",
              "// then passes the result of the previous step as the input to the next step.\n",
              "function _uploadFilesContinue(outputId) {\n",
              "  const outputElement = document.getElementById(outputId);\n",
              "  const steps = outputElement.steps;\n",
              "\n",
              "  const next = steps.next(outputElement.lastPromiseValue);\n",
              "  return Promise.resolve(next.value.promise).then((value) => {\n",
              "    // Cache the last promise value to make it available to the next\n",
              "    // step of the generator.\n",
              "    outputElement.lastPromiseValue = value;\n",
              "    return next.value.response;\n",
              "  });\n",
              "}\n",
              "\n",
              "/**\n",
              " * Generator function which is called between each async step of the upload\n",
              " * process.\n",
              " * @param {string} inputId Element ID of the input file picker element.\n",
              " * @param {string} outputId Element ID of the output display.\n",
              " * @return {!Iterable<!Object>} Iterable of next steps.\n",
              " */\n",
              "function* uploadFilesStep(inputId, outputId) {\n",
              "  const inputElement = document.getElementById(inputId);\n",
              "  inputElement.disabled = false;\n",
              "\n",
              "  const outputElement = document.getElementById(outputId);\n",
              "  outputElement.innerHTML = '';\n",
              "\n",
              "  const pickedPromise = new Promise((resolve) => {\n",
              "    inputElement.addEventListener('change', (e) => {\n",
              "      resolve(e.target.files);\n",
              "    });\n",
              "  });\n",
              "\n",
              "  const cancel = document.createElement('button');\n",
              "  inputElement.parentElement.appendChild(cancel);\n",
              "  cancel.textContent = 'Cancel upload';\n",
              "  const cancelPromise = new Promise((resolve) => {\n",
              "    cancel.onclick = () => {\n",
              "      resolve(null);\n",
              "    };\n",
              "  });\n",
              "\n",
              "  // Wait for the user to pick the files.\n",
              "  const files = yield {\n",
              "    promise: Promise.race([pickedPromise, cancelPromise]),\n",
              "    response: {\n",
              "      action: 'starting',\n",
              "    }\n",
              "  };\n",
              "\n",
              "  cancel.remove();\n",
              "\n",
              "  // Disable the input element since further picks are not allowed.\n",
              "  inputElement.disabled = true;\n",
              "\n",
              "  if (!files) {\n",
              "    return {\n",
              "      response: {\n",
              "        action: 'complete',\n",
              "      }\n",
              "    };\n",
              "  }\n",
              "\n",
              "  for (const file of files) {\n",
              "    const li = document.createElement('li');\n",
              "    li.append(span(file.name, {fontWeight: 'bold'}));\n",
              "    li.append(span(\n",
              "        `(${file.type || 'n/a'}) - ${file.size} bytes, ` +\n",
              "        `last modified: ${\n",
              "            file.lastModifiedDate ? file.lastModifiedDate.toLocaleDateString() :\n",
              "                                    'n/a'} - `));\n",
              "    const percent = span('0% done');\n",
              "    li.appendChild(percent);\n",
              "\n",
              "    outputElement.appendChild(li);\n",
              "\n",
              "    const fileDataPromise = new Promise((resolve) => {\n",
              "      const reader = new FileReader();\n",
              "      reader.onload = (e) => {\n",
              "        resolve(e.target.result);\n",
              "      };\n",
              "      reader.readAsArrayBuffer(file);\n",
              "    });\n",
              "    // Wait for the data to be ready.\n",
              "    let fileData = yield {\n",
              "      promise: fileDataPromise,\n",
              "      response: {\n",
              "        action: 'continue',\n",
              "      }\n",
              "    };\n",
              "\n",
              "    // Use a chunked sending to avoid message size limits. See b/62115660.\n",
              "    let position = 0;\n",
              "    do {\n",
              "      const length = Math.min(fileData.byteLength - position, MAX_PAYLOAD_SIZE);\n",
              "      const chunk = new Uint8Array(fileData, position, length);\n",
              "      position += length;\n",
              "\n",
              "      const base64 = btoa(String.fromCharCode.apply(null, chunk));\n",
              "      yield {\n",
              "        response: {\n",
              "          action: 'append',\n",
              "          file: file.name,\n",
              "          data: base64,\n",
              "        },\n",
              "      };\n",
              "\n",
              "      let percentDone = fileData.byteLength === 0 ?\n",
              "          100 :\n",
              "          Math.round((position / fileData.byteLength) * 100);\n",
              "      percent.textContent = `${percentDone}% done`;\n",
              "\n",
              "    } while (position < fileData.byteLength);\n",
              "  }\n",
              "\n",
              "  // All done.\n",
              "  yield {\n",
              "    response: {\n",
              "      action: 'complete',\n",
              "    }\n",
              "  };\n",
              "}\n",
              "\n",
              "scope.google = scope.google || {};\n",
              "scope.google.colab = scope.google.colab || {};\n",
              "scope.google.colab._files = {\n",
              "  _uploadFiles,\n",
              "  _uploadFilesContinue,\n",
              "};\n",
              "})(self);\n",
              "</script> "
            ]
          },
          "metadata": {}
        },
        {
          "output_type": "stream",
          "name": "stdout",
          "text": [
            "Saving kaggle.json to kaggle.json\n"
          ]
        },
        {
          "output_type": "execute_result",
          "data": {
            "text/plain": [
              "{'kaggle.json': b'{\"username\":\"derfansyahgk\",\"key\":\"24be196f622b75f71753aee422847c5c\"}'}"
            ]
          },
          "metadata": {},
          "execution_count": 2
        }
      ]
    },
    {
      "cell_type": "code",
      "source": [
        "#Penyetalan Lingkungan\n",
        "import os\n",
        "os.environ['KAGGLE_CONFIG_DIR'] = \"/content/\""
      ],
      "metadata": {
        "id": "x8fTgOvMMzcp"
      },
      "execution_count": null,
      "outputs": []
    },
    {
      "cell_type": "code",
      "source": [
        "#Pengunduhan dataset\n",
        "!kaggle datasets download -d shahir/protein-data-set"
      ],
      "metadata": {
        "colab": {
          "base_uri": "https://localhost:8080/"
        },
        "id": "pMLsdHrDbXuR",
        "outputId": "2bc48ca5-97d3-4445-fb0d-347f8d0b7030"
      },
      "execution_count": null,
      "outputs": [
        {
          "output_type": "stream",
          "name": "stdout",
          "text": [
            "Warning: Your Kaggle API key is readable by other users on this system! To fix this, you can run 'chmod 600 /content/kaggle.json'\n",
            "Dataset URL: https://www.kaggle.com/datasets/shahir/protein-data-set\n",
            "License(s): DbCL-1.0\n",
            "Downloading protein-data-set.zip to /content\n",
            " 55% 15.0M/27.4M [00:00<00:00, 79.0MB/s]\n",
            "100% 27.4M/27.4M [00:00<00:00, 92.9MB/s]\n"
          ]
        }
      ]
    },
    {
      "cell_type": "markdown",
      "source": [
        "# **2. Import Library**"
      ],
      "metadata": {
        "id": "fKADPWcFKlj3"
      }
    },
    {
      "cell_type": "markdown",
      "source": [
        "Pada tahap ini, Anda perlu mengimpor beberapa pustaka (library) Python yang dibutuhkan untuk analisis data dan pembangunan model machine learning."
      ],
      "metadata": {
        "id": "LgA3ERnVn84N"
      }
    },
    {
      "cell_type": "code",
      "source": [
        "#Perpustakaan dasar\n",
        "import numpy as np\n",
        "import pandas as pd\n",
        "#Grafik dasar\n",
        "import matplotlib.pyplot as plt\n",
        "import seaborn as sns"
      ],
      "metadata": {
        "id": "BlmvjLY9M4Yj"
      },
      "execution_count": null,
      "outputs": []
    },
    {
      "cell_type": "code",
      "source": [
        "#persiapan 'titik sementara' di google colab\n",
        "from google.colab import drive\n",
        "drive.mount('/content/drive')"
      ],
      "metadata": {
        "colab": {
          "base_uri": "https://localhost:8080/"
        },
        "id": "0eWx1UOEcF4S",
        "outputId": "a8d523b4-dba7-41be-c62a-d49bd842a87d"
      },
      "execution_count": null,
      "outputs": [
        {
          "output_type": "stream",
          "name": "stdout",
          "text": [
            "Drive already mounted at /content/drive; to attempt to forcibly remount, call drive.mount(\"/content/drive\", force_remount=True).\n"
          ]
        }
      ]
    },
    {
      "cell_type": "code",
      "source": [
        "#Bagian Scaler\n",
        "from sklearn.preprocessing import StandardScaler #Untuk PCA\n",
        "from sklearn.preprocessing import RobustScaler #untuk hierarki\n",
        "#PCA\n",
        "from sklearn.decomposition import PCA\n",
        "#ke optimasi"
      ],
      "metadata": {
        "id": "Is5lzDapcc9J"
      },
      "execution_count": null,
      "outputs": []
    },
    {
      "cell_type": "code",
      "source": [
        "#inisiasi 'dill' untuk serialisasi\n",
        "! pip install dill\n",
        "import dill"
      ],
      "metadata": {
        "colab": {
          "base_uri": "https://localhost:8080/"
        },
        "id": "z0_FqMb3c888",
        "outputId": "113067eb-940e-4acd-f362-551d7d3597ff"
      },
      "execution_count": null,
      "outputs": [
        {
          "output_type": "stream",
          "name": "stdout",
          "text": [
            "Requirement already satisfied: dill in /usr/local/lib/python3.10/dist-packages (0.3.9)\n"
          ]
        }
      ]
    },
    {
      "cell_type": "code",
      "source": [
        "#optimasi fungsi demi kelanjutan eksekusi\n",
        "from joblib import Parallel, delayed, dump, load\n",
        "#Lanjutan serialisasi\n",
        "import multiprocessing\n",
        "from multiprocessing import Pool\n",
        "import os #untuk os\n",
        "import time"
      ],
      "metadata": {
        "id": "HVshU7aSc6G0"
      },
      "execution_count": null,
      "outputs": []
    },
    {
      "cell_type": "code",
      "source": [
        "#Perpustakaan untuk protokol 'clustering'\n",
        "from scipy.cluster.hierarchy import dendrogram, linkage, fcluster #demi 0.55-0.70\n",
        "from sklearn.cluster import AgglomerativeClustering\n",
        "from scipy.spatial.distance import squareform\n",
        "from sklearn.metrics import silhouette_score"
      ],
      "metadata": {
        "id": "v3IFRtNYcG4t"
      },
      "execution_count": null,
      "outputs": []
    },
    {
      "cell_type": "markdown",
      "source": [
        "# **3. Memuat Dataset**"
      ],
      "metadata": {
        "id": "f3YIEnAFKrKL"
      }
    },
    {
      "cell_type": "markdown",
      "source": [
        "Pada tahap ini, Anda perlu memuat dataset ke dalam notebook. Jika dataset dalam format CSV, Anda bisa menggunakan pustaka pandas untuk membacanya. Pastikan untuk mengecek beberapa baris awal dataset untuk memahami strukturnya dan memastikan data telah dimuat dengan benar.\n",
        "\n",
        "Jika dataset berada di Google Drive, pastikan Anda menghubungkan Google Drive ke Colab terlebih dahulu. Setelah dataset berhasil dimuat, langkah berikutnya adalah memeriksa kesesuaian data dan siap untuk dianalisis lebih lanjut."
      ],
      "metadata": {
        "id": "Ey3ItwTen_7E"
      }
    },
    {
      "cell_type": "code",
      "source": [
        "#Buka dataset\n",
        "!unzip protein-data-set.zip"
      ],
      "metadata": {
        "id": "GHCGNTyrM5fS",
        "colab": {
          "base_uri": "https://localhost:8080/"
        },
        "outputId": "2bd4534d-dd01-45a7-b850-b209cd799cc9"
      },
      "execution_count": null,
      "outputs": [
        {
          "output_type": "stream",
          "name": "stdout",
          "text": [
            "Archive:  protein-data-set.zip\n",
            "  inflating: pdb_data_no_dups.csv    \n",
            "  inflating: pdb_data_seq.csv        \n"
          ]
        }
      ]
    },
    {
      "cell_type": "code",
      "source": [
        "#Baca dataset\n",
        "dfi = pd.read_csv('/content/pdb_data_no_dups.csv')\n",
        "dfic = dfi.copy()\n",
        "dfii = pd.read_csv('/content/pdb_data_seq.csv')\n",
        "dfiic = dfii.copy()"
      ],
      "metadata": {
        "id": "jfg2rU16bfRO"
      },
      "execution_count": null,
      "outputs": []
    },
    {
      "cell_type": "code",
      "source": [
        "#cek hasil\n",
        "dfiic.head(7)"
      ],
      "metadata": {
        "colab": {
          "base_uri": "https://localhost:8080/",
          "height": 269
        },
        "collapsed": true,
        "id": "7oJvLUFndolS",
        "outputId": "7b126ea2-0eea-4684-b817-ee29d2903d2c"
      },
      "execution_count": null,
      "outputs": [
        {
          "output_type": "execute_result",
          "data": {
            "text/plain": [
              "  structureId chainId                                           sequence  \\\n",
              "0        100D       A                                         CCGGCGCCGG   \n",
              "1        100D       B                                         CCGGCGCCGG   \n",
              "2        101D       A                                       CGCGAATTCGCG   \n",
              "3        101D       B                                       CGCGAATTCGCG   \n",
              "4        101M       A  MVLSEGEWQLVLHVWAKVEADVAGHGQDILIRLFKSHPETLEKFDR...   \n",
              "5        102D       A                                       CGCAAATTTGCG   \n",
              "6        102D       B                                       CGCAAATTTGCG   \n",
              "\n",
              "   residueCount macromoleculeType  \n",
              "0            20    DNA/RNA Hybrid  \n",
              "1            20    DNA/RNA Hybrid  \n",
              "2            24               DNA  \n",
              "3            24               DNA  \n",
              "4           154           Protein  \n",
              "5            24               DNA  \n",
              "6            24               DNA  "
            ],
            "text/html": [
              "\n",
              "  <div id=\"df-70529a76-154d-462a-9853-46f8fe67ccf0\" class=\"colab-df-container\">\n",
              "    <div>\n",
              "<style scoped>\n",
              "    .dataframe tbody tr th:only-of-type {\n",
              "        vertical-align: middle;\n",
              "    }\n",
              "\n",
              "    .dataframe tbody tr th {\n",
              "        vertical-align: top;\n",
              "    }\n",
              "\n",
              "    .dataframe thead th {\n",
              "        text-align: right;\n",
              "    }\n",
              "</style>\n",
              "<table border=\"1\" class=\"dataframe\">\n",
              "  <thead>\n",
              "    <tr style=\"text-align: right;\">\n",
              "      <th></th>\n",
              "      <th>structureId</th>\n",
              "      <th>chainId</th>\n",
              "      <th>sequence</th>\n",
              "      <th>residueCount</th>\n",
              "      <th>macromoleculeType</th>\n",
              "    </tr>\n",
              "  </thead>\n",
              "  <tbody>\n",
              "    <tr>\n",
              "      <th>0</th>\n",
              "      <td>100D</td>\n",
              "      <td>A</td>\n",
              "      <td>CCGGCGCCGG</td>\n",
              "      <td>20</td>\n",
              "      <td>DNA/RNA Hybrid</td>\n",
              "    </tr>\n",
              "    <tr>\n",
              "      <th>1</th>\n",
              "      <td>100D</td>\n",
              "      <td>B</td>\n",
              "      <td>CCGGCGCCGG</td>\n",
              "      <td>20</td>\n",
              "      <td>DNA/RNA Hybrid</td>\n",
              "    </tr>\n",
              "    <tr>\n",
              "      <th>2</th>\n",
              "      <td>101D</td>\n",
              "      <td>A</td>\n",
              "      <td>CGCGAATTCGCG</td>\n",
              "      <td>24</td>\n",
              "      <td>DNA</td>\n",
              "    </tr>\n",
              "    <tr>\n",
              "      <th>3</th>\n",
              "      <td>101D</td>\n",
              "      <td>B</td>\n",
              "      <td>CGCGAATTCGCG</td>\n",
              "      <td>24</td>\n",
              "      <td>DNA</td>\n",
              "    </tr>\n",
              "    <tr>\n",
              "      <th>4</th>\n",
              "      <td>101M</td>\n",
              "      <td>A</td>\n",
              "      <td>MVLSEGEWQLVLHVWAKVEADVAGHGQDILIRLFKSHPETLEKFDR...</td>\n",
              "      <td>154</td>\n",
              "      <td>Protein</td>\n",
              "    </tr>\n",
              "    <tr>\n",
              "      <th>5</th>\n",
              "      <td>102D</td>\n",
              "      <td>A</td>\n",
              "      <td>CGCAAATTTGCG</td>\n",
              "      <td>24</td>\n",
              "      <td>DNA</td>\n",
              "    </tr>\n",
              "    <tr>\n",
              "      <th>6</th>\n",
              "      <td>102D</td>\n",
              "      <td>B</td>\n",
              "      <td>CGCAAATTTGCG</td>\n",
              "      <td>24</td>\n",
              "      <td>DNA</td>\n",
              "    </tr>\n",
              "  </tbody>\n",
              "</table>\n",
              "</div>\n",
              "    <div class=\"colab-df-buttons\">\n",
              "\n",
              "  <div class=\"colab-df-container\">\n",
              "    <button class=\"colab-df-convert\" onclick=\"convertToInteractive('df-70529a76-154d-462a-9853-46f8fe67ccf0')\"\n",
              "            title=\"Convert this dataframe to an interactive table.\"\n",
              "            style=\"display:none;\">\n",
              "\n",
              "  <svg xmlns=\"http://www.w3.org/2000/svg\" height=\"24px\" viewBox=\"0 -960 960 960\">\n",
              "    <path d=\"M120-120v-720h720v720H120Zm60-500h600v-160H180v160Zm220 220h160v-160H400v160Zm0 220h160v-160H400v160ZM180-400h160v-160H180v160Zm440 0h160v-160H620v160ZM180-180h160v-160H180v160Zm440 0h160v-160H620v160Z\"/>\n",
              "  </svg>\n",
              "    </button>\n",
              "\n",
              "  <style>\n",
              "    .colab-df-container {\n",
              "      display:flex;\n",
              "      gap: 12px;\n",
              "    }\n",
              "\n",
              "    .colab-df-convert {\n",
              "      background-color: #E8F0FE;\n",
              "      border: none;\n",
              "      border-radius: 50%;\n",
              "      cursor: pointer;\n",
              "      display: none;\n",
              "      fill: #1967D2;\n",
              "      height: 32px;\n",
              "      padding: 0 0 0 0;\n",
              "      width: 32px;\n",
              "    }\n",
              "\n",
              "    .colab-df-convert:hover {\n",
              "      background-color: #E2EBFA;\n",
              "      box-shadow: 0px 1px 2px rgba(60, 64, 67, 0.3), 0px 1px 3px 1px rgba(60, 64, 67, 0.15);\n",
              "      fill: #174EA6;\n",
              "    }\n",
              "\n",
              "    .colab-df-buttons div {\n",
              "      margin-bottom: 4px;\n",
              "    }\n",
              "\n",
              "    [theme=dark] .colab-df-convert {\n",
              "      background-color: #3B4455;\n",
              "      fill: #D2E3FC;\n",
              "    }\n",
              "\n",
              "    [theme=dark] .colab-df-convert:hover {\n",
              "      background-color: #434B5C;\n",
              "      box-shadow: 0px 1px 3px 1px rgba(0, 0, 0, 0.15);\n",
              "      filter: drop-shadow(0px 1px 2px rgba(0, 0, 0, 0.3));\n",
              "      fill: #FFFFFF;\n",
              "    }\n",
              "  </style>\n",
              "\n",
              "    <script>\n",
              "      const buttonEl =\n",
              "        document.querySelector('#df-70529a76-154d-462a-9853-46f8fe67ccf0 button.colab-df-convert');\n",
              "      buttonEl.style.display =\n",
              "        google.colab.kernel.accessAllowed ? 'block' : 'none';\n",
              "\n",
              "      async function convertToInteractive(key) {\n",
              "        const element = document.querySelector('#df-70529a76-154d-462a-9853-46f8fe67ccf0');\n",
              "        const dataTable =\n",
              "          await google.colab.kernel.invokeFunction('convertToInteractive',\n",
              "                                                    [key], {});\n",
              "        if (!dataTable) return;\n",
              "\n",
              "        const docLinkHtml = 'Like what you see? Visit the ' +\n",
              "          '<a target=\"_blank\" href=https://colab.research.google.com/notebooks/data_table.ipynb>data table notebook</a>'\n",
              "          + ' to learn more about interactive tables.';\n",
              "        element.innerHTML = '';\n",
              "        dataTable['output_type'] = 'display_data';\n",
              "        await google.colab.output.renderOutput(dataTable, element);\n",
              "        const docLink = document.createElement('div');\n",
              "        docLink.innerHTML = docLinkHtml;\n",
              "        element.appendChild(docLink);\n",
              "      }\n",
              "    </script>\n",
              "  </div>\n",
              "\n",
              "\n",
              "<div id=\"df-535f4aee-7da3-4681-a4ef-024dac9bae05\">\n",
              "  <button class=\"colab-df-quickchart\" onclick=\"quickchart('df-535f4aee-7da3-4681-a4ef-024dac9bae05')\"\n",
              "            title=\"Suggest charts\"\n",
              "            style=\"display:none;\">\n",
              "\n",
              "<svg xmlns=\"http://www.w3.org/2000/svg\" height=\"24px\"viewBox=\"0 0 24 24\"\n",
              "     width=\"24px\">\n",
              "    <g>\n",
              "        <path d=\"M19 3H5c-1.1 0-2 .9-2 2v14c0 1.1.9 2 2 2h14c1.1 0 2-.9 2-2V5c0-1.1-.9-2-2-2zM9 17H7v-7h2v7zm4 0h-2V7h2v10zm4 0h-2v-4h2v4z\"/>\n",
              "    </g>\n",
              "</svg>\n",
              "  </button>\n",
              "\n",
              "<style>\n",
              "  .colab-df-quickchart {\n",
              "      --bg-color: #E8F0FE;\n",
              "      --fill-color: #1967D2;\n",
              "      --hover-bg-color: #E2EBFA;\n",
              "      --hover-fill-color: #174EA6;\n",
              "      --disabled-fill-color: #AAA;\n",
              "      --disabled-bg-color: #DDD;\n",
              "  }\n",
              "\n",
              "  [theme=dark] .colab-df-quickchart {\n",
              "      --bg-color: #3B4455;\n",
              "      --fill-color: #D2E3FC;\n",
              "      --hover-bg-color: #434B5C;\n",
              "      --hover-fill-color: #FFFFFF;\n",
              "      --disabled-bg-color: #3B4455;\n",
              "      --disabled-fill-color: #666;\n",
              "  }\n",
              "\n",
              "  .colab-df-quickchart {\n",
              "    background-color: var(--bg-color);\n",
              "    border: none;\n",
              "    border-radius: 50%;\n",
              "    cursor: pointer;\n",
              "    display: none;\n",
              "    fill: var(--fill-color);\n",
              "    height: 32px;\n",
              "    padding: 0;\n",
              "    width: 32px;\n",
              "  }\n",
              "\n",
              "  .colab-df-quickchart:hover {\n",
              "    background-color: var(--hover-bg-color);\n",
              "    box-shadow: 0 1px 2px rgba(60, 64, 67, 0.3), 0 1px 3px 1px rgba(60, 64, 67, 0.15);\n",
              "    fill: var(--button-hover-fill-color);\n",
              "  }\n",
              "\n",
              "  .colab-df-quickchart-complete:disabled,\n",
              "  .colab-df-quickchart-complete:disabled:hover {\n",
              "    background-color: var(--disabled-bg-color);\n",
              "    fill: var(--disabled-fill-color);\n",
              "    box-shadow: none;\n",
              "  }\n",
              "\n",
              "  .colab-df-spinner {\n",
              "    border: 2px solid var(--fill-color);\n",
              "    border-color: transparent;\n",
              "    border-bottom-color: var(--fill-color);\n",
              "    animation:\n",
              "      spin 1s steps(1) infinite;\n",
              "  }\n",
              "\n",
              "  @keyframes spin {\n",
              "    0% {\n",
              "      border-color: transparent;\n",
              "      border-bottom-color: var(--fill-color);\n",
              "      border-left-color: var(--fill-color);\n",
              "    }\n",
              "    20% {\n",
              "      border-color: transparent;\n",
              "      border-left-color: var(--fill-color);\n",
              "      border-top-color: var(--fill-color);\n",
              "    }\n",
              "    30% {\n",
              "      border-color: transparent;\n",
              "      border-left-color: var(--fill-color);\n",
              "      border-top-color: var(--fill-color);\n",
              "      border-right-color: var(--fill-color);\n",
              "    }\n",
              "    40% {\n",
              "      border-color: transparent;\n",
              "      border-right-color: var(--fill-color);\n",
              "      border-top-color: var(--fill-color);\n",
              "    }\n",
              "    60% {\n",
              "      border-color: transparent;\n",
              "      border-right-color: var(--fill-color);\n",
              "    }\n",
              "    80% {\n",
              "      border-color: transparent;\n",
              "      border-right-color: var(--fill-color);\n",
              "      border-bottom-color: var(--fill-color);\n",
              "    }\n",
              "    90% {\n",
              "      border-color: transparent;\n",
              "      border-bottom-color: var(--fill-color);\n",
              "    }\n",
              "  }\n",
              "</style>\n",
              "\n",
              "  <script>\n",
              "    async function quickchart(key) {\n",
              "      const quickchartButtonEl =\n",
              "        document.querySelector('#' + key + ' button');\n",
              "      quickchartButtonEl.disabled = true;  // To prevent multiple clicks.\n",
              "      quickchartButtonEl.classList.add('colab-df-spinner');\n",
              "      try {\n",
              "        const charts = await google.colab.kernel.invokeFunction(\n",
              "            'suggestCharts', [key], {});\n",
              "      } catch (error) {\n",
              "        console.error('Error during call to suggestCharts:', error);\n",
              "      }\n",
              "      quickchartButtonEl.classList.remove('colab-df-spinner');\n",
              "      quickchartButtonEl.classList.add('colab-df-quickchart-complete');\n",
              "    }\n",
              "    (() => {\n",
              "      let quickchartButtonEl =\n",
              "        document.querySelector('#df-535f4aee-7da3-4681-a4ef-024dac9bae05 button');\n",
              "      quickchartButtonEl.style.display =\n",
              "        google.colab.kernel.accessAllowed ? 'block' : 'none';\n",
              "    })();\n",
              "  </script>\n",
              "</div>\n",
              "\n",
              "    </div>\n",
              "  </div>\n"
            ],
            "application/vnd.google.colaboratory.intrinsic+json": {
              "type": "dataframe",
              "variable_name": "dfiic"
            }
          },
          "metadata": {},
          "execution_count": 16
        }
      ]
    },
    {
      "cell_type": "markdown",
      "source": [
        "# **4. Exploratory Data Analysis (EDA)**\n",
        "\n",
        "Pada tahap ini, Anda akan melakukan **Exploratory Data Analysis (EDA)** untuk memahami karakteristik dataset. EDA bertujuan untuk:\n",
        "\n",
        "1. **Memahami Struktur Data**\n",
        "   - Tinjau jumlah baris dan kolom dalam dataset.  \n",
        "   - Tinjau jenis data di setiap kolom (numerikal atau kategorikal).\n",
        "\n",
        "2. **Menangani Data yang Hilang**  \n",
        "   - Identifikasi dan analisis data yang hilang (*missing values*). Tentukan langkah-langkah yang diperlukan untuk menangani data yang hilang, seperti pengisian atau penghapusan data tersebut.\n",
        "\n",
        "3. **Analisis Distribusi dan Korelasi**  \n",
        "   - Analisis distribusi variabel numerik dengan statistik deskriptif dan visualisasi seperti histogram atau boxplot.  \n",
        "   - Periksa hubungan antara variabel menggunakan matriks korelasi atau scatter plot.\n",
        "\n",
        "4. **Visualisasi Data**  \n",
        "   - Buat visualisasi dasar seperti grafik distribusi dan diagram batang untuk variabel kategorikal.  \n",
        "   - Gunakan heatmap atau pairplot untuk menganalisis korelasi antar variabel.\n",
        "\n",
        "Tujuan dari EDA adalah untuk memperoleh wawasan awal yang mendalam mengenai data dan menentukan langkah selanjutnya dalam analisis atau pemodelan."
      ],
      "metadata": {
        "id": "bgZkbJLpK9UR"
      }
    },
    {
      "cell_type": "code",
      "source": [
        "#penyatuan awal\n",
        "dfkomb = dfic.merge(dfiic, how='inner', on ='structureId', sort=True).copy()\n",
        "dfkomb.head(7)"
      ],
      "metadata": {
        "colab": {
          "base_uri": "https://localhost:8080/",
          "height": 688
        },
        "id": "L7_-OxuIkURy",
        "outputId": "4311a1fc-8fbd-4b8c-b3ec-ee7d95d429c4"
      },
      "execution_count": null,
      "outputs": [
        {
          "output_type": "execute_result",
          "data": {
            "text/plain": [
              "  structureId    classification experimentalTechnique macromoleculeType_x  \\\n",
              "0        100D    DNA-RNA HYBRID     X-RAY DIFFRACTION      DNA/RNA Hybrid   \n",
              "1        100D    DNA-RNA HYBRID     X-RAY DIFFRACTION      DNA/RNA Hybrid   \n",
              "2        101D               DNA     X-RAY DIFFRACTION                 DNA   \n",
              "3        101D               DNA     X-RAY DIFFRACTION                 DNA   \n",
              "4        101M  OXYGEN TRANSPORT     X-RAY DIFFRACTION             Protein   \n",
              "5        102D               DNA     X-RAY DIFFRACTION                 DNA   \n",
              "6        102D               DNA     X-RAY DIFFRACTION                 DNA   \n",
              "\n",
              "   residueCount_x  resolution  structureMolecularWeight  \\\n",
              "0              20        1.90                   6360.30   \n",
              "1              20        1.90                   6360.30   \n",
              "2              24        2.25                   7939.35   \n",
              "3              24        2.25                   7939.35   \n",
              "4             154        2.07                  18112.80   \n",
              "5              24        2.20                   7637.17   \n",
              "6              24        2.20                   7637.17   \n",
              "\n",
              "           crystallizationMethod  crystallizationTempK  densityMatthews  \\\n",
              "0  VAPOR DIFFUSION, HANGING DROP                   NaN             1.78   \n",
              "1  VAPOR DIFFUSION, HANGING DROP                   NaN             1.78   \n",
              "2                            NaN                   NaN             2.00   \n",
              "3                            NaN                   NaN             2.00   \n",
              "4                            NaN                   NaN             3.09   \n",
              "5  VAPOR DIFFUSION, SITTING DROP                 277.0             2.28   \n",
              "6  VAPOR DIFFUSION, SITTING DROP                 277.0             2.28   \n",
              "\n",
              "   densityPercentSol                                        pdbxDetails  \\\n",
              "0              30.89             pH 7.00, VAPOR DIFFUSION, HANGING DROP   \n",
              "1              30.89             pH 7.00, VAPOR DIFFUSION, HANGING DROP   \n",
              "2              38.45                                                NaN   \n",
              "3              38.45                                                NaN   \n",
              "4              60.20  3.0 M AMMONIUM SULFATE, 20 MM TRIS, 1MM EDTA, ...   \n",
              "5              46.06  pH 7.00, VAPOR DIFFUSION, SITTING DROP, temper...   \n",
              "6              46.06  pH 7.00, VAPOR DIFFUSION, SITTING DROP, temper...   \n",
              "\n",
              "   phValue  publicationYear chainId  \\\n",
              "0      7.0           1994.0       A   \n",
              "1      7.0           1994.0       B   \n",
              "2      NaN           1995.0       A   \n",
              "3      NaN           1995.0       B   \n",
              "4      9.0           1999.0       A   \n",
              "5      7.0           1995.0       A   \n",
              "6      7.0           1995.0       B   \n",
              "\n",
              "                                            sequence  residueCount_y  \\\n",
              "0                                         CCGGCGCCGG              20   \n",
              "1                                         CCGGCGCCGG              20   \n",
              "2                                       CGCGAATTCGCG              24   \n",
              "3                                       CGCGAATTCGCG              24   \n",
              "4  MVLSEGEWQLVLHVWAKVEADVAGHGQDILIRLFKSHPETLEKFDR...             154   \n",
              "5                                       CGCAAATTTGCG              24   \n",
              "6                                       CGCAAATTTGCG              24   \n",
              "\n",
              "  macromoleculeType_y  \n",
              "0      DNA/RNA Hybrid  \n",
              "1      DNA/RNA Hybrid  \n",
              "2                 DNA  \n",
              "3                 DNA  \n",
              "4             Protein  \n",
              "5                 DNA  \n",
              "6                 DNA  "
            ],
            "text/html": [
              "\n",
              "  <div id=\"df-23e8a5ac-590d-4f3e-ad60-968da142076e\" class=\"colab-df-container\">\n",
              "    <div>\n",
              "<style scoped>\n",
              "    .dataframe tbody tr th:only-of-type {\n",
              "        vertical-align: middle;\n",
              "    }\n",
              "\n",
              "    .dataframe tbody tr th {\n",
              "        vertical-align: top;\n",
              "    }\n",
              "\n",
              "    .dataframe thead th {\n",
              "        text-align: right;\n",
              "    }\n",
              "</style>\n",
              "<table border=\"1\" class=\"dataframe\">\n",
              "  <thead>\n",
              "    <tr style=\"text-align: right;\">\n",
              "      <th></th>\n",
              "      <th>structureId</th>\n",
              "      <th>classification</th>\n",
              "      <th>experimentalTechnique</th>\n",
              "      <th>macromoleculeType_x</th>\n",
              "      <th>residueCount_x</th>\n",
              "      <th>resolution</th>\n",
              "      <th>structureMolecularWeight</th>\n",
              "      <th>crystallizationMethod</th>\n",
              "      <th>crystallizationTempK</th>\n",
              "      <th>densityMatthews</th>\n",
              "      <th>densityPercentSol</th>\n",
              "      <th>pdbxDetails</th>\n",
              "      <th>phValue</th>\n",
              "      <th>publicationYear</th>\n",
              "      <th>chainId</th>\n",
              "      <th>sequence</th>\n",
              "      <th>residueCount_y</th>\n",
              "      <th>macromoleculeType_y</th>\n",
              "    </tr>\n",
              "  </thead>\n",
              "  <tbody>\n",
              "    <tr>\n",
              "      <th>0</th>\n",
              "      <td>100D</td>\n",
              "      <td>DNA-RNA HYBRID</td>\n",
              "      <td>X-RAY DIFFRACTION</td>\n",
              "      <td>DNA/RNA Hybrid</td>\n",
              "      <td>20</td>\n",
              "      <td>1.90</td>\n",
              "      <td>6360.30</td>\n",
              "      <td>VAPOR DIFFUSION, HANGING DROP</td>\n",
              "      <td>NaN</td>\n",
              "      <td>1.78</td>\n",
              "      <td>30.89</td>\n",
              "      <td>pH 7.00, VAPOR DIFFUSION, HANGING DROP</td>\n",
              "      <td>7.0</td>\n",
              "      <td>1994.0</td>\n",
              "      <td>A</td>\n",
              "      <td>CCGGCGCCGG</td>\n",
              "      <td>20</td>\n",
              "      <td>DNA/RNA Hybrid</td>\n",
              "    </tr>\n",
              "    <tr>\n",
              "      <th>1</th>\n",
              "      <td>100D</td>\n",
              "      <td>DNA-RNA HYBRID</td>\n",
              "      <td>X-RAY DIFFRACTION</td>\n",
              "      <td>DNA/RNA Hybrid</td>\n",
              "      <td>20</td>\n",
              "      <td>1.90</td>\n",
              "      <td>6360.30</td>\n",
              "      <td>VAPOR DIFFUSION, HANGING DROP</td>\n",
              "      <td>NaN</td>\n",
              "      <td>1.78</td>\n",
              "      <td>30.89</td>\n",
              "      <td>pH 7.00, VAPOR DIFFUSION, HANGING DROP</td>\n",
              "      <td>7.0</td>\n",
              "      <td>1994.0</td>\n",
              "      <td>B</td>\n",
              "      <td>CCGGCGCCGG</td>\n",
              "      <td>20</td>\n",
              "      <td>DNA/RNA Hybrid</td>\n",
              "    </tr>\n",
              "    <tr>\n",
              "      <th>2</th>\n",
              "      <td>101D</td>\n",
              "      <td>DNA</td>\n",
              "      <td>X-RAY DIFFRACTION</td>\n",
              "      <td>DNA</td>\n",
              "      <td>24</td>\n",
              "      <td>2.25</td>\n",
              "      <td>7939.35</td>\n",
              "      <td>NaN</td>\n",
              "      <td>NaN</td>\n",
              "      <td>2.00</td>\n",
              "      <td>38.45</td>\n",
              "      <td>NaN</td>\n",
              "      <td>NaN</td>\n",
              "      <td>1995.0</td>\n",
              "      <td>A</td>\n",
              "      <td>CGCGAATTCGCG</td>\n",
              "      <td>24</td>\n",
              "      <td>DNA</td>\n",
              "    </tr>\n",
              "    <tr>\n",
              "      <th>3</th>\n",
              "      <td>101D</td>\n",
              "      <td>DNA</td>\n",
              "      <td>X-RAY DIFFRACTION</td>\n",
              "      <td>DNA</td>\n",
              "      <td>24</td>\n",
              "      <td>2.25</td>\n",
              "      <td>7939.35</td>\n",
              "      <td>NaN</td>\n",
              "      <td>NaN</td>\n",
              "      <td>2.00</td>\n",
              "      <td>38.45</td>\n",
              "      <td>NaN</td>\n",
              "      <td>NaN</td>\n",
              "      <td>1995.0</td>\n",
              "      <td>B</td>\n",
              "      <td>CGCGAATTCGCG</td>\n",
              "      <td>24</td>\n",
              "      <td>DNA</td>\n",
              "    </tr>\n",
              "    <tr>\n",
              "      <th>4</th>\n",
              "      <td>101M</td>\n",
              "      <td>OXYGEN TRANSPORT</td>\n",
              "      <td>X-RAY DIFFRACTION</td>\n",
              "      <td>Protein</td>\n",
              "      <td>154</td>\n",
              "      <td>2.07</td>\n",
              "      <td>18112.80</td>\n",
              "      <td>NaN</td>\n",
              "      <td>NaN</td>\n",
              "      <td>3.09</td>\n",
              "      <td>60.20</td>\n",
              "      <td>3.0 M AMMONIUM SULFATE, 20 MM TRIS, 1MM EDTA, ...</td>\n",
              "      <td>9.0</td>\n",
              "      <td>1999.0</td>\n",
              "      <td>A</td>\n",
              "      <td>MVLSEGEWQLVLHVWAKVEADVAGHGQDILIRLFKSHPETLEKFDR...</td>\n",
              "      <td>154</td>\n",
              "      <td>Protein</td>\n",
              "    </tr>\n",
              "    <tr>\n",
              "      <th>5</th>\n",
              "      <td>102D</td>\n",
              "      <td>DNA</td>\n",
              "      <td>X-RAY DIFFRACTION</td>\n",
              "      <td>DNA</td>\n",
              "      <td>24</td>\n",
              "      <td>2.20</td>\n",
              "      <td>7637.17</td>\n",
              "      <td>VAPOR DIFFUSION, SITTING DROP</td>\n",
              "      <td>277.0</td>\n",
              "      <td>2.28</td>\n",
              "      <td>46.06</td>\n",
              "      <td>pH 7.00, VAPOR DIFFUSION, SITTING DROP, temper...</td>\n",
              "      <td>7.0</td>\n",
              "      <td>1995.0</td>\n",
              "      <td>A</td>\n",
              "      <td>CGCAAATTTGCG</td>\n",
              "      <td>24</td>\n",
              "      <td>DNA</td>\n",
              "    </tr>\n",
              "    <tr>\n",
              "      <th>6</th>\n",
              "      <td>102D</td>\n",
              "      <td>DNA</td>\n",
              "      <td>X-RAY DIFFRACTION</td>\n",
              "      <td>DNA</td>\n",
              "      <td>24</td>\n",
              "      <td>2.20</td>\n",
              "      <td>7637.17</td>\n",
              "      <td>VAPOR DIFFUSION, SITTING DROP</td>\n",
              "      <td>277.0</td>\n",
              "      <td>2.28</td>\n",
              "      <td>46.06</td>\n",
              "      <td>pH 7.00, VAPOR DIFFUSION, SITTING DROP, temper...</td>\n",
              "      <td>7.0</td>\n",
              "      <td>1995.0</td>\n",
              "      <td>B</td>\n",
              "      <td>CGCAAATTTGCG</td>\n",
              "      <td>24</td>\n",
              "      <td>DNA</td>\n",
              "    </tr>\n",
              "  </tbody>\n",
              "</table>\n",
              "</div>\n",
              "    <div class=\"colab-df-buttons\">\n",
              "\n",
              "  <div class=\"colab-df-container\">\n",
              "    <button class=\"colab-df-convert\" onclick=\"convertToInteractive('df-23e8a5ac-590d-4f3e-ad60-968da142076e')\"\n",
              "            title=\"Convert this dataframe to an interactive table.\"\n",
              "            style=\"display:none;\">\n",
              "\n",
              "  <svg xmlns=\"http://www.w3.org/2000/svg\" height=\"24px\" viewBox=\"0 -960 960 960\">\n",
              "    <path d=\"M120-120v-720h720v720H120Zm60-500h600v-160H180v160Zm220 220h160v-160H400v160Zm0 220h160v-160H400v160ZM180-400h160v-160H180v160Zm440 0h160v-160H620v160ZM180-180h160v-160H180v160Zm440 0h160v-160H620v160Z\"/>\n",
              "  </svg>\n",
              "    </button>\n",
              "\n",
              "  <style>\n",
              "    .colab-df-container {\n",
              "      display:flex;\n",
              "      gap: 12px;\n",
              "    }\n",
              "\n",
              "    .colab-df-convert {\n",
              "      background-color: #E8F0FE;\n",
              "      border: none;\n",
              "      border-radius: 50%;\n",
              "      cursor: pointer;\n",
              "      display: none;\n",
              "      fill: #1967D2;\n",
              "      height: 32px;\n",
              "      padding: 0 0 0 0;\n",
              "      width: 32px;\n",
              "    }\n",
              "\n",
              "    .colab-df-convert:hover {\n",
              "      background-color: #E2EBFA;\n",
              "      box-shadow: 0px 1px 2px rgba(60, 64, 67, 0.3), 0px 1px 3px 1px rgba(60, 64, 67, 0.15);\n",
              "      fill: #174EA6;\n",
              "    }\n",
              "\n",
              "    .colab-df-buttons div {\n",
              "      margin-bottom: 4px;\n",
              "    }\n",
              "\n",
              "    [theme=dark] .colab-df-convert {\n",
              "      background-color: #3B4455;\n",
              "      fill: #D2E3FC;\n",
              "    }\n",
              "\n",
              "    [theme=dark] .colab-df-convert:hover {\n",
              "      background-color: #434B5C;\n",
              "      box-shadow: 0px 1px 3px 1px rgba(0, 0, 0, 0.15);\n",
              "      filter: drop-shadow(0px 1px 2px rgba(0, 0, 0, 0.3));\n",
              "      fill: #FFFFFF;\n",
              "    }\n",
              "  </style>\n",
              "\n",
              "    <script>\n",
              "      const buttonEl =\n",
              "        document.querySelector('#df-23e8a5ac-590d-4f3e-ad60-968da142076e button.colab-df-convert');\n",
              "      buttonEl.style.display =\n",
              "        google.colab.kernel.accessAllowed ? 'block' : 'none';\n",
              "\n",
              "      async function convertToInteractive(key) {\n",
              "        const element = document.querySelector('#df-23e8a5ac-590d-4f3e-ad60-968da142076e');\n",
              "        const dataTable =\n",
              "          await google.colab.kernel.invokeFunction('convertToInteractive',\n",
              "                                                    [key], {});\n",
              "        if (!dataTable) return;\n",
              "\n",
              "        const docLinkHtml = 'Like what you see? Visit the ' +\n",
              "          '<a target=\"_blank\" href=https://colab.research.google.com/notebooks/data_table.ipynb>data table notebook</a>'\n",
              "          + ' to learn more about interactive tables.';\n",
              "        element.innerHTML = '';\n",
              "        dataTable['output_type'] = 'display_data';\n",
              "        await google.colab.output.renderOutput(dataTable, element);\n",
              "        const docLink = document.createElement('div');\n",
              "        docLink.innerHTML = docLinkHtml;\n",
              "        element.appendChild(docLink);\n",
              "      }\n",
              "    </script>\n",
              "  </div>\n",
              "\n",
              "\n",
              "<div id=\"df-3da85f31-7190-40a4-a676-01a76583ba68\">\n",
              "  <button class=\"colab-df-quickchart\" onclick=\"quickchart('df-3da85f31-7190-40a4-a676-01a76583ba68')\"\n",
              "            title=\"Suggest charts\"\n",
              "            style=\"display:none;\">\n",
              "\n",
              "<svg xmlns=\"http://www.w3.org/2000/svg\" height=\"24px\"viewBox=\"0 0 24 24\"\n",
              "     width=\"24px\">\n",
              "    <g>\n",
              "        <path d=\"M19 3H5c-1.1 0-2 .9-2 2v14c0 1.1.9 2 2 2h14c1.1 0 2-.9 2-2V5c0-1.1-.9-2-2-2zM9 17H7v-7h2v7zm4 0h-2V7h2v10zm4 0h-2v-4h2v4z\"/>\n",
              "    </g>\n",
              "</svg>\n",
              "  </button>\n",
              "\n",
              "<style>\n",
              "  .colab-df-quickchart {\n",
              "      --bg-color: #E8F0FE;\n",
              "      --fill-color: #1967D2;\n",
              "      --hover-bg-color: #E2EBFA;\n",
              "      --hover-fill-color: #174EA6;\n",
              "      --disabled-fill-color: #AAA;\n",
              "      --disabled-bg-color: #DDD;\n",
              "  }\n",
              "\n",
              "  [theme=dark] .colab-df-quickchart {\n",
              "      --bg-color: #3B4455;\n",
              "      --fill-color: #D2E3FC;\n",
              "      --hover-bg-color: #434B5C;\n",
              "      --hover-fill-color: #FFFFFF;\n",
              "      --disabled-bg-color: #3B4455;\n",
              "      --disabled-fill-color: #666;\n",
              "  }\n",
              "\n",
              "  .colab-df-quickchart {\n",
              "    background-color: var(--bg-color);\n",
              "    border: none;\n",
              "    border-radius: 50%;\n",
              "    cursor: pointer;\n",
              "    display: none;\n",
              "    fill: var(--fill-color);\n",
              "    height: 32px;\n",
              "    padding: 0;\n",
              "    width: 32px;\n",
              "  }\n",
              "\n",
              "  .colab-df-quickchart:hover {\n",
              "    background-color: var(--hover-bg-color);\n",
              "    box-shadow: 0 1px 2px rgba(60, 64, 67, 0.3), 0 1px 3px 1px rgba(60, 64, 67, 0.15);\n",
              "    fill: var(--button-hover-fill-color);\n",
              "  }\n",
              "\n",
              "  .colab-df-quickchart-complete:disabled,\n",
              "  .colab-df-quickchart-complete:disabled:hover {\n",
              "    background-color: var(--disabled-bg-color);\n",
              "    fill: var(--disabled-fill-color);\n",
              "    box-shadow: none;\n",
              "  }\n",
              "\n",
              "  .colab-df-spinner {\n",
              "    border: 2px solid var(--fill-color);\n",
              "    border-color: transparent;\n",
              "    border-bottom-color: var(--fill-color);\n",
              "    animation:\n",
              "      spin 1s steps(1) infinite;\n",
              "  }\n",
              "\n",
              "  @keyframes spin {\n",
              "    0% {\n",
              "      border-color: transparent;\n",
              "      border-bottom-color: var(--fill-color);\n",
              "      border-left-color: var(--fill-color);\n",
              "    }\n",
              "    20% {\n",
              "      border-color: transparent;\n",
              "      border-left-color: var(--fill-color);\n",
              "      border-top-color: var(--fill-color);\n",
              "    }\n",
              "    30% {\n",
              "      border-color: transparent;\n",
              "      border-left-color: var(--fill-color);\n",
              "      border-top-color: var(--fill-color);\n",
              "      border-right-color: var(--fill-color);\n",
              "    }\n",
              "    40% {\n",
              "      border-color: transparent;\n",
              "      border-right-color: var(--fill-color);\n",
              "      border-top-color: var(--fill-color);\n",
              "    }\n",
              "    60% {\n",
              "      border-color: transparent;\n",
              "      border-right-color: var(--fill-color);\n",
              "    }\n",
              "    80% {\n",
              "      border-color: transparent;\n",
              "      border-right-color: var(--fill-color);\n",
              "      border-bottom-color: var(--fill-color);\n",
              "    }\n",
              "    90% {\n",
              "      border-color: transparent;\n",
              "      border-bottom-color: var(--fill-color);\n",
              "    }\n",
              "  }\n",
              "</style>\n",
              "\n",
              "  <script>\n",
              "    async function quickchart(key) {\n",
              "      const quickchartButtonEl =\n",
              "        document.querySelector('#' + key + ' button');\n",
              "      quickchartButtonEl.disabled = true;  // To prevent multiple clicks.\n",
              "      quickchartButtonEl.classList.add('colab-df-spinner');\n",
              "      try {\n",
              "        const charts = await google.colab.kernel.invokeFunction(\n",
              "            'suggestCharts', [key], {});\n",
              "      } catch (error) {\n",
              "        console.error('Error during call to suggestCharts:', error);\n",
              "      }\n",
              "      quickchartButtonEl.classList.remove('colab-df-spinner');\n",
              "      quickchartButtonEl.classList.add('colab-df-quickchart-complete');\n",
              "    }\n",
              "    (() => {\n",
              "      let quickchartButtonEl =\n",
              "        document.querySelector('#df-3da85f31-7190-40a4-a676-01a76583ba68 button');\n",
              "      quickchartButtonEl.style.display =\n",
              "        google.colab.kernel.accessAllowed ? 'block' : 'none';\n",
              "    })();\n",
              "  </script>\n",
              "</div>\n",
              "\n",
              "    </div>\n",
              "  </div>\n"
            ],
            "application/vnd.google.colaboratory.intrinsic+json": {
              "type": "dataframe",
              "variable_name": "dfkomb"
            }
          },
          "metadata": {},
          "execution_count": 17
        }
      ]
    },
    {
      "cell_type": "code",
      "source": [
        "#pembersihan kolom null dan na di 'dfkomb' (dataframe kombinasi)\n",
        "dfkomb = dfkomb.dropna().copy()\n",
        "dfkomb.isna().sum()"
      ],
      "metadata": {
        "colab": {
          "base_uri": "https://localhost:8080/",
          "height": 648
        },
        "id": "iQuddZUXkfJ6",
        "outputId": "cbfc76ed-cebd-4ff9-f25d-6cb7e8df73d7"
      },
      "execution_count": null,
      "outputs": [
        {
          "output_type": "execute_result",
          "data": {
            "text/plain": [
              "structureId                 0\n",
              "classification              0\n",
              "experimentalTechnique       0\n",
              "macromoleculeType_x         0\n",
              "residueCount_x              0\n",
              "resolution                  0\n",
              "structureMolecularWeight    0\n",
              "crystallizationMethod       0\n",
              "crystallizationTempK        0\n",
              "densityMatthews             0\n",
              "densityPercentSol           0\n",
              "pdbxDetails                 0\n",
              "phValue                     0\n",
              "publicationYear             0\n",
              "chainId                     0\n",
              "sequence                    0\n",
              "residueCount_y              0\n",
              "macromoleculeType_y         0\n",
              "dtype: int64"
            ],
            "text/html": [
              "<div>\n",
              "<style scoped>\n",
              "    .dataframe tbody tr th:only-of-type {\n",
              "        vertical-align: middle;\n",
              "    }\n",
              "\n",
              "    .dataframe tbody tr th {\n",
              "        vertical-align: top;\n",
              "    }\n",
              "\n",
              "    .dataframe thead th {\n",
              "        text-align: right;\n",
              "    }\n",
              "</style>\n",
              "<table border=\"1\" class=\"dataframe\">\n",
              "  <thead>\n",
              "    <tr style=\"text-align: right;\">\n",
              "      <th></th>\n",
              "      <th>0</th>\n",
              "    </tr>\n",
              "  </thead>\n",
              "  <tbody>\n",
              "    <tr>\n",
              "      <th>structureId</th>\n",
              "      <td>0</td>\n",
              "    </tr>\n",
              "    <tr>\n",
              "      <th>classification</th>\n",
              "      <td>0</td>\n",
              "    </tr>\n",
              "    <tr>\n",
              "      <th>experimentalTechnique</th>\n",
              "      <td>0</td>\n",
              "    </tr>\n",
              "    <tr>\n",
              "      <th>macromoleculeType_x</th>\n",
              "      <td>0</td>\n",
              "    </tr>\n",
              "    <tr>\n",
              "      <th>residueCount_x</th>\n",
              "      <td>0</td>\n",
              "    </tr>\n",
              "    <tr>\n",
              "      <th>resolution</th>\n",
              "      <td>0</td>\n",
              "    </tr>\n",
              "    <tr>\n",
              "      <th>structureMolecularWeight</th>\n",
              "      <td>0</td>\n",
              "    </tr>\n",
              "    <tr>\n",
              "      <th>crystallizationMethod</th>\n",
              "      <td>0</td>\n",
              "    </tr>\n",
              "    <tr>\n",
              "      <th>crystallizationTempK</th>\n",
              "      <td>0</td>\n",
              "    </tr>\n",
              "    <tr>\n",
              "      <th>densityMatthews</th>\n",
              "      <td>0</td>\n",
              "    </tr>\n",
              "    <tr>\n",
              "      <th>densityPercentSol</th>\n",
              "      <td>0</td>\n",
              "    </tr>\n",
              "    <tr>\n",
              "      <th>pdbxDetails</th>\n",
              "      <td>0</td>\n",
              "    </tr>\n",
              "    <tr>\n",
              "      <th>phValue</th>\n",
              "      <td>0</td>\n",
              "    </tr>\n",
              "    <tr>\n",
              "      <th>publicationYear</th>\n",
              "      <td>0</td>\n",
              "    </tr>\n",
              "    <tr>\n",
              "      <th>chainId</th>\n",
              "      <td>0</td>\n",
              "    </tr>\n",
              "    <tr>\n",
              "      <th>sequence</th>\n",
              "      <td>0</td>\n",
              "    </tr>\n",
              "    <tr>\n",
              "      <th>residueCount_y</th>\n",
              "      <td>0</td>\n",
              "    </tr>\n",
              "    <tr>\n",
              "      <th>macromoleculeType_y</th>\n",
              "      <td>0</td>\n",
              "    </tr>\n",
              "  </tbody>\n",
              "</table>\n",
              "</div><br><label><b>dtype:</b> int64</label>"
            ]
          },
          "metadata": {},
          "execution_count": 18
        }
      ]
    },
    {
      "cell_type": "code",
      "source": [
        "#Tahap awal EDA\n",
        "dfkomb.info()"
      ],
      "metadata": {
        "id": "dKeejtvxM6X1",
        "colab": {
          "base_uri": "https://localhost:8080/"
        },
        "outputId": "82f5ea05-d7ec-4c2e-d112-e5c8cea4b829"
      },
      "execution_count": null,
      "outputs": [
        {
          "output_type": "stream",
          "name": "stdout",
          "text": [
            "<class 'pandas.core.frame.DataFrame'>\n",
            "Index: 215142 entries, 5 to 470659\n",
            "Data columns (total 18 columns):\n",
            " #   Column                    Non-Null Count   Dtype  \n",
            "---  ------                    --------------   -----  \n",
            " 0   structureId               215142 non-null  object \n",
            " 1   classification            215142 non-null  object \n",
            " 2   experimentalTechnique     215142 non-null  object \n",
            " 3   macromoleculeType_x       215142 non-null  object \n",
            " 4   residueCount_x            215142 non-null  int64  \n",
            " 5   resolution                215142 non-null  float64\n",
            " 6   structureMolecularWeight  215142 non-null  float64\n",
            " 7   crystallizationMethod     215142 non-null  object \n",
            " 8   crystallizationTempK      215142 non-null  float64\n",
            " 9   densityMatthews           215142 non-null  float64\n",
            " 10  densityPercentSol         215142 non-null  float64\n",
            " 11  pdbxDetails               215142 non-null  object \n",
            " 12  phValue                   215142 non-null  float64\n",
            " 13  publicationYear           215142 non-null  float64\n",
            " 14  chainId                   215142 non-null  object \n",
            " 15  sequence                  215142 non-null  object \n",
            " 16  residueCount_y            215142 non-null  int64  \n",
            " 17  macromoleculeType_y       215142 non-null  object \n",
            "dtypes: float64(7), int64(2), object(9)\n",
            "memory usage: 31.2+ MB\n"
          ]
        }
      ]
    },
    {
      "cell_type": "markdown",
      "source": [
        "# **5. Data Preprocessing**"
      ],
      "metadata": {
        "id": "cpgHfgnSK3ip"
      }
    },
    {
      "cell_type": "markdown",
      "source": [
        "Pada tahap ini, data preprocessing adalah langkah penting untuk memastikan kualitas data sebelum digunakan dalam model machine learning. Data mentah sering kali mengandung nilai kosong, duplikasi, atau rentang nilai yang tidak konsisten, yang dapat memengaruhi kinerja model. Oleh karena itu, proses ini bertujuan untuk membersihkan dan mempersiapkan data agar analisis berjalan optimal.\n",
        "\n",
        "Berikut adalah tahapan-tahapan yang perlu dilakukan, namun **tidak terbatas** pada:\n",
        "1. Menghapus atau Menangani Data Kosong (Missing Values)\n",
        "2. Menghapus Data Duplikat\n",
        "3. Normalisasi atau Standarisasi Fitur\n",
        "4. Deteksi dan Penanganan Outlier\n",
        "5. Encoding Data Kategorikal\n",
        "6. Binning (Pengelompokan Data)"
      ],
      "metadata": {
        "id": "COf8KUPXLg5r"
      }
    },
    {
      "cell_type": "code",
      "source": [
        "#inspeksi tipe data\n",
        "infodf1 = dfic.info()\n",
        "infodf2 = dfiic.info()\n",
        "print(\"Info dfic\")\n",
        "print(infodf1)\n",
        "print(\"info dataset di dfiic\")\n",
        "print(infodf2)"
      ],
      "metadata": {
        "colab": {
          "base_uri": "https://localhost:8080/"
        },
        "id": "MGQedCB-ebLc",
        "outputId": "1644220b-02bb-4388-ed47-a4ded1d43441"
      },
      "execution_count": null,
      "outputs": [
        {
          "output_type": "stream",
          "name": "stdout",
          "text": [
            "<class 'pandas.core.frame.DataFrame'>\n",
            "RangeIndex: 141401 entries, 0 to 141400\n",
            "Data columns (total 14 columns):\n",
            " #   Column                    Non-Null Count   Dtype  \n",
            "---  ------                    --------------   -----  \n",
            " 0   structureId               141401 non-null  object \n",
            " 1   classification            141399 non-null  object \n",
            " 2   experimentalTechnique     141401 non-null  object \n",
            " 3   macromoleculeType         137636 non-null  object \n",
            " 4   residueCount              141401 non-null  int64  \n",
            " 5   resolution                128589 non-null  float64\n",
            " 6   structureMolecularWeight  141401 non-null  float64\n",
            " 7   crystallizationMethod     96242 non-null   object \n",
            " 8   crystallizationTempK      97039 non-null   float64\n",
            " 9   densityMatthews           124724 non-null  float64\n",
            " 10  densityPercentSol         124749 non-null  float64\n",
            " 11  pdbxDetails               118534 non-null  object \n",
            " 12  phValue                   105110 non-null  float64\n",
            " 13  publicationYear           117602 non-null  float64\n",
            "dtypes: float64(7), int64(1), object(6)\n",
            "memory usage: 15.1+ MB\n",
            "<class 'pandas.core.frame.DataFrame'>\n",
            "RangeIndex: 467304 entries, 0 to 467303\n",
            "Data columns (total 5 columns):\n",
            " #   Column             Non-Null Count   Dtype \n",
            "---  ------             --------------   ----- \n",
            " 0   structureId        467304 non-null  object\n",
            " 1   chainId            467294 non-null  object\n",
            " 2   sequence           467276 non-null  object\n",
            " 3   residueCount       467304 non-null  int64 \n",
            " 4   macromoleculeType  432487 non-null  object\n",
            "dtypes: int64(1), object(4)\n",
            "memory usage: 17.8+ MB\n",
            "Info dfic\n",
            "None\n",
            "info dataset di dfiic\n",
            "None\n"
          ]
        }
      ]
    },
    {
      "cell_type": "code",
      "source": [
        "#cek data kosong\n",
        "totkosongi = dfic.isnull().sum().sort_values(ascending=False)\n",
        "print(\"Total data kosong di df1\")\n",
        "print(totkosongi)"
      ],
      "metadata": {
        "colab": {
          "base_uri": "https://localhost:8080/"
        },
        "id": "CnKpr91kdw_U",
        "outputId": "65558e4c-cf6c-4cc3-b3db-bbba11626d91"
      },
      "execution_count": null,
      "outputs": [
        {
          "output_type": "stream",
          "name": "stdout",
          "text": [
            "Total data kosong di df1\n",
            "crystallizationMethod       45159\n",
            "crystallizationTempK        44362\n",
            "phValue                     36291\n",
            "publicationYear             23799\n",
            "pdbxDetails                 22867\n",
            "densityMatthews             16677\n",
            "densityPercentSol           16652\n",
            "resolution                  12812\n",
            "macromoleculeType            3765\n",
            "classification                  2\n",
            "structureId                     0\n",
            "experimentalTechnique           0\n",
            "residueCount                    0\n",
            "structureMolecularWeight        0\n",
            "dtype: int64\n"
          ]
        }
      ]
    },
    {
      "cell_type": "code",
      "source": [
        "#Pemisah kolom numerik dan non numerik di dfic dan dfiic\n",
        "dfic_num = dfic.select_dtypes(include=['float64', 'int64']).copy()\n",
        "dfic_cat = dfic.select_dtypes(include=['object']).copy()\n",
        "#di dataset dfiic\n",
        "dfiic_num = dfiic.select_dtypes(include=['float64', 'int64']).copy()\n",
        "dfiic_cat = dfiic.select_dtypes(include=['object']).copy()"
      ],
      "metadata": {
        "id": "WzBGjcbQM7N8"
      },
      "execution_count": null,
      "outputs": []
    },
    {
      "cell_type": "code",
      "source": [
        "#cek hasil di dfic dan dfiic\n",
        "print(\"kolom numerik yang hilang di dfic\")\n",
        "print(dfic_num.isnull().sum())\n",
        "print(\"kolom non numerik yang hilang di dfic\")\n",
        "print(dfic_cat.isnull().sum())\n",
        "#di dataset dfiic\n",
        "print(\"kolom numerik di dfiic yang hilang\")\n",
        "print(dfiic_num.isnull().sum())\n",
        "print(\"kolom non numerik di dfiic yang hilang\")\n",
        "print(dfiic_cat.isnull().sum())"
      ],
      "metadata": {
        "colab": {
          "base_uri": "https://localhost:8080/"
        },
        "id": "Pakq-1poe9mD",
        "outputId": "c17567e3-b541-46ac-bd87-2ec9a2a0fff2"
      },
      "execution_count": null,
      "outputs": [
        {
          "output_type": "stream",
          "name": "stdout",
          "text": [
            "kolom numerik yang hilang di dfic\n",
            "residueCount                    0\n",
            "resolution                  12812\n",
            "structureMolecularWeight        0\n",
            "crystallizationTempK        44362\n",
            "densityMatthews             16677\n",
            "densityPercentSol           16652\n",
            "phValue                     36291\n",
            "publicationYear             23799\n",
            "dtype: int64\n",
            "kolom non numerik yang hilang di dfic\n",
            "structureId                  0\n",
            "classification               2\n",
            "experimentalTechnique        0\n",
            "macromoleculeType         3765\n",
            "crystallizationMethod    45159\n",
            "pdbxDetails              22867\n",
            "dtype: int64\n",
            "kolom numerik di dfiic yang hilang\n",
            "residueCount    0\n",
            "dtype: int64\n",
            "kolom non numerik di dfiic yang hilang\n",
            "structureId              0\n",
            "chainId                 10\n",
            "sequence                28\n",
            "macromoleculeType    34817\n",
            "dtype: int64\n"
          ]
        }
      ]
    },
    {
      "cell_type": "code",
      "source": [
        "#Persiapan untuk pengisian data kosong (bagian non numerik di dfic)\n",
        "dfic_cat = dfic_cat.fillna(dfic_cat.mode().iloc[0])\n",
        "#di dataset dfiic\n",
        "dfiic_cat = dfiic_cat.fillna(dfiic_cat.mode().iloc[0])"
      ],
      "metadata": {
        "id": "Wt85PyvLfcD5"
      },
      "execution_count": null,
      "outputs": []
    },
    {
      "cell_type": "code",
      "source": [
        "#Inspeksi data non numerik\n",
        "print(\"kolom non numerik yang hilang di dfic\")\n",
        "print(dfic_cat.isnull().sum())\n",
        "#di dataset dfiic\n",
        "print(\"kolom non numerik yang hilang di dfiic\")\n",
        "print(dfiic_cat.isnull().sum())\n",
        "#cek sampel hasil di dfic dan dfiic\n",
        "print(\"sampel hasil di dfic\")\n",
        "print(dfic_cat.head())\n",
        "print(\"sampel hasil di dfiic\")\n",
        "print(dfiic_cat.head())"
      ],
      "metadata": {
        "colab": {
          "base_uri": "https://localhost:8080/"
        },
        "id": "L9nHvLb7gA_0",
        "outputId": "7a5704ed-5314-464d-82db-a39e9221629f"
      },
      "execution_count": null,
      "outputs": [
        {
          "output_type": "stream",
          "name": "stdout",
          "text": [
            "kolom non numerik yang hilang di dfic\n",
            "structureId              0\n",
            "classification           0\n",
            "experimentalTechnique    0\n",
            "macromoleculeType        0\n",
            "crystallizationMethod    0\n",
            "pdbxDetails              0\n",
            "dtype: int64\n",
            "kolom non numerik yang hilang di dfiic\n",
            "structureId          0\n",
            "chainId              0\n",
            "sequence             0\n",
            "macromoleculeType    0\n",
            "dtype: int64\n",
            "sampel hasil di dfic\n",
            "  structureId         classification experimentalTechnique macromoleculeType  \\\n",
            "0        100D         DNA-RNA HYBRID     X-RAY DIFFRACTION    DNA/RNA Hybrid   \n",
            "1        101D                    DNA     X-RAY DIFFRACTION               DNA   \n",
            "2        101M       OXYGEN TRANSPORT     X-RAY DIFFRACTION           Protein   \n",
            "3        102D                    DNA     X-RAY DIFFRACTION               DNA   \n",
            "4        102L  HYDROLASE(O-GLYCOSYL)     X-RAY DIFFRACTION           Protein   \n",
            "\n",
            "           crystallizationMethod  \\\n",
            "0  VAPOR DIFFUSION, HANGING DROP   \n",
            "1  VAPOR DIFFUSION, HANGING DROP   \n",
            "2  VAPOR DIFFUSION, HANGING DROP   \n",
            "3  VAPOR DIFFUSION, SITTING DROP   \n",
            "4  VAPOR DIFFUSION, HANGING DROP   \n",
            "\n",
            "                                         pdbxDetails  \n",
            "0             pH 7.00, VAPOR DIFFUSION, HANGING DROP  \n",
            "1                                             pH 7.5  \n",
            "2  3.0 M AMMONIUM SULFATE, 20 MM TRIS, 1MM EDTA, ...  \n",
            "3  pH 7.00, VAPOR DIFFUSION, SITTING DROP, temper...  \n",
            "4                                             pH 7.5  \n",
            "sampel hasil di dfiic\n",
            "  structureId chainId                                           sequence  \\\n",
            "0        100D       A                                         CCGGCGCCGG   \n",
            "1        100D       B                                         CCGGCGCCGG   \n",
            "2        101D       A                                       CGCGAATTCGCG   \n",
            "3        101D       B                                       CGCGAATTCGCG   \n",
            "4        101M       A  MVLSEGEWQLVLHVWAKVEADVAGHGQDILIRLFKSHPETLEKFDR...   \n",
            "\n",
            "  macromoleculeType  \n",
            "0    DNA/RNA Hybrid  \n",
            "1    DNA/RNA Hybrid  \n",
            "2               DNA  \n",
            "3               DNA  \n",
            "4           Protein  \n"
          ]
        }
      ]
    },
    {
      "cell_type": "code",
      "source": [
        "#Ke Bagian numerikal di dua dataset\n",
        "dfic_num = dfic_num.fillna(dfic_num.median()) #Numerik di dfic\n",
        "dfiic_num = dfiic_num.fillna(dfiic_num.median()) #Numerik di dfiic"
      ],
      "metadata": {
        "id": "IwoQidd7gLZQ"
      },
      "execution_count": null,
      "outputs": []
    },
    {
      "cell_type": "code",
      "source": [
        "#cek hasil di kolom numerik (dfic dan dfiic)\n",
        "print(\"kolom numerik yang hilang di dfic\")\n",
        "print(dfic_num.isnull().sum())\n",
        "#di dataset dfiic\n",
        "print(\"kolom numerik yang hilang di dfiic\")\n",
        "print(dfiic_num.isnull().sum())\n",
        "#cek sampel\n",
        "print(\"Sampel di dfic_num\")\n",
        "print(dfic_num.head(7)) #dataset dfic\n",
        "print(\"Sampel di dfiic_num\")\n",
        "print(dfiic_num.head(7)) #dataset dfiic"
      ],
      "metadata": {
        "colab": {
          "base_uri": "https://localhost:8080/"
        },
        "id": "4yOcS3Fsgb_X",
        "outputId": "1b8a9e9b-2e81-4d36-d8e8-03102e833374"
      },
      "execution_count": null,
      "outputs": [
        {
          "output_type": "stream",
          "name": "stdout",
          "text": [
            "kolom numerik yang hilang di dfic\n",
            "residueCount                0\n",
            "resolution                  0\n",
            "structureMolecularWeight    0\n",
            "crystallizationTempK        0\n",
            "densityMatthews             0\n",
            "densityPercentSol           0\n",
            "phValue                     0\n",
            "publicationYear             0\n",
            "dtype: int64\n",
            "kolom numerik yang hilang di dfiic\n",
            "residueCount    0\n",
            "dtype: int64\n",
            "Sampel di dfic_num\n",
            "   residueCount  resolution  structureMolecularWeight  crystallizationTempK  \\\n",
            "0            20        1.90                   6360.30                 293.0   \n",
            "1            24        2.25                   7939.35                 293.0   \n",
            "2           154        2.07                  18112.80                 293.0   \n",
            "3            24        2.20                   7637.17                 277.0   \n",
            "4           165        1.74                  18926.61                 293.0   \n",
            "5           154        1.84                  18010.64                 293.0   \n",
            "6            24        2.10                   7502.93                 293.0   \n",
            "\n",
            "   densityMatthews  densityPercentSol  phValue  publicationYear  \n",
            "0             1.78              30.89      7.0           1994.0  \n",
            "1             2.00              38.45      7.0           1995.0  \n",
            "2             3.09              60.20      9.0           1999.0  \n",
            "3             2.28              46.06      7.0           1995.0  \n",
            "4             2.75              55.28      7.0           1993.0  \n",
            "5             3.09              60.20      9.0           1999.0  \n",
            "6             2.49              50.50      7.0           1994.0  \n",
            "Sampel di dfiic_num\n",
            "   residueCount\n",
            "0            20\n",
            "1            20\n",
            "2            24\n",
            "3            24\n",
            "4           154\n",
            "5            24\n",
            "6            24\n"
          ]
        }
      ]
    },
    {
      "cell_type": "markdown",
      "source": [
        "# **6. Pembangunan Model Clustering**"
      ],
      "metadata": {
        "id": "BR73dCnrLEiq"
      }
    },
    {
      "cell_type": "markdown",
      "source": [
        "## **a. Pembangunan Model Clustering**"
      ],
      "metadata": {
        "id": "Fkd_QHXWMBDr"
      }
    },
    {
      "cell_type": "markdown",
      "source": [
        "Pada tahap ini, Anda membangun model clustering dengan memilih algoritma yang sesuai untuk mengelompokkan data berdasarkan kesamaan. Berikut adalah **rekomendasi** tahapannya.\n",
        "1. Pilih algoritma clustering yang sesuai.\n",
        "2. Latih model dengan data menggunakan algoritma tersebut."
      ],
      "metadata": {
        "id": "Kn6Y2qbqMVLP"
      }
    },
    {
      "cell_type": "code",
      "source": [
        "#TPenyatuan kembali dua dataset\n",
        "dficompl = pd.concat([dfic_cat, dfic_num], axis=1).copy()\n",
        "dfiicompl = pd.concat([dfiic_cat, dfiic_num], axis=1).copy()"
      ],
      "metadata": {
        "id": "hgYvwWOzM93L"
      },
      "execution_count": null,
      "outputs": []
    },
    {
      "cell_type": "code",
      "source": [
        "#Penyatuan dua dataset tersebut\n",
        "dfgabung = dfic.merge(dfiic, how='inner', on ='structureId', sort=True).copy()\n",
        "dfgabung = dfgabung.rename({'macromoleculeType_x':'macromoleculeType','residueCount_y':'residueCount'},axis=1) #Ubah nama\n",
        "#cek kolom\n",
        "dfgabung.columns"
      ],
      "metadata": {
        "colab": {
          "base_uri": "https://localhost:8080/"
        },
        "id": "uuGoXfaQhSg_",
        "outputId": "f6a03ace-7d37-4f5c-84c4-982f76fac0a6"
      },
      "execution_count": null,
      "outputs": [
        {
          "output_type": "execute_result",
          "data": {
            "text/plain": [
              "Index(['structureId', 'classification', 'experimentalTechnique',\n",
              "       'macromoleculeType', 'residueCount_x', 'resolution',\n",
              "       'structureMolecularWeight', 'crystallizationMethod',\n",
              "       'crystallizationTempK', 'densityMatthews', 'densityPercentSol',\n",
              "       'pdbxDetails', 'phValue', 'publicationYear', 'chainId', 'sequence',\n",
              "       'residueCount', 'macromoleculeType_y'],\n",
              "      dtype='object')"
            ]
          },
          "metadata": {},
          "execution_count": 29
        }
      ]
    },
    {
      "cell_type": "code",
      "source": [
        "#cek informasi kolom\n",
        "dfgabung.isna().sum()"
      ],
      "metadata": {
        "colab": {
          "base_uri": "https://localhost:8080/",
          "height": 648
        },
        "id": "_SyKrkm9imVE",
        "outputId": "51c20e0a-a1ce-458c-a363-ac378a364c44"
      },
      "execution_count": null,
      "outputs": [
        {
          "output_type": "execute_result",
          "data": {
            "text/plain": [
              "structureId                      0\n",
              "classification                   4\n",
              "experimentalTechnique            0\n",
              "macromoleculeType            35770\n",
              "residueCount_x                   0\n",
              "resolution                   21663\n",
              "structureMolecularWeight         0\n",
              "crystallizationMethod       156395\n",
              "crystallizationTempK        153452\n",
              "densityMatthews              81504\n",
              "densityPercentSol            81381\n",
              "pdbxDetails                  85681\n",
              "phValue                     130455\n",
              "publicationYear              57636\n",
              "chainId                         10\n",
              "sequence                        28\n",
              "residueCount                     0\n",
              "macromoleculeType_y          35770\n",
              "dtype: int64"
            ],
            "text/html": [
              "<div>\n",
              "<style scoped>\n",
              "    .dataframe tbody tr th:only-of-type {\n",
              "        vertical-align: middle;\n",
              "    }\n",
              "\n",
              "    .dataframe tbody tr th {\n",
              "        vertical-align: top;\n",
              "    }\n",
              "\n",
              "    .dataframe thead th {\n",
              "        text-align: right;\n",
              "    }\n",
              "</style>\n",
              "<table border=\"1\" class=\"dataframe\">\n",
              "  <thead>\n",
              "    <tr style=\"text-align: right;\">\n",
              "      <th></th>\n",
              "      <th>0</th>\n",
              "    </tr>\n",
              "  </thead>\n",
              "  <tbody>\n",
              "    <tr>\n",
              "      <th>structureId</th>\n",
              "      <td>0</td>\n",
              "    </tr>\n",
              "    <tr>\n",
              "      <th>classification</th>\n",
              "      <td>4</td>\n",
              "    </tr>\n",
              "    <tr>\n",
              "      <th>experimentalTechnique</th>\n",
              "      <td>0</td>\n",
              "    </tr>\n",
              "    <tr>\n",
              "      <th>macromoleculeType</th>\n",
              "      <td>35770</td>\n",
              "    </tr>\n",
              "    <tr>\n",
              "      <th>residueCount_x</th>\n",
              "      <td>0</td>\n",
              "    </tr>\n",
              "    <tr>\n",
              "      <th>resolution</th>\n",
              "      <td>21663</td>\n",
              "    </tr>\n",
              "    <tr>\n",
              "      <th>structureMolecularWeight</th>\n",
              "      <td>0</td>\n",
              "    </tr>\n",
              "    <tr>\n",
              "      <th>crystallizationMethod</th>\n",
              "      <td>156395</td>\n",
              "    </tr>\n",
              "    <tr>\n",
              "      <th>crystallizationTempK</th>\n",
              "      <td>153452</td>\n",
              "    </tr>\n",
              "    <tr>\n",
              "      <th>densityMatthews</th>\n",
              "      <td>81504</td>\n",
              "    </tr>\n",
              "    <tr>\n",
              "      <th>densityPercentSol</th>\n",
              "      <td>81381</td>\n",
              "    </tr>\n",
              "    <tr>\n",
              "      <th>pdbxDetails</th>\n",
              "      <td>85681</td>\n",
              "    </tr>\n",
              "    <tr>\n",
              "      <th>phValue</th>\n",
              "      <td>130455</td>\n",
              "    </tr>\n",
              "    <tr>\n",
              "      <th>publicationYear</th>\n",
              "      <td>57636</td>\n",
              "    </tr>\n",
              "    <tr>\n",
              "      <th>chainId</th>\n",
              "      <td>10</td>\n",
              "    </tr>\n",
              "    <tr>\n",
              "      <th>sequence</th>\n",
              "      <td>28</td>\n",
              "    </tr>\n",
              "    <tr>\n",
              "      <th>residueCount</th>\n",
              "      <td>0</td>\n",
              "    </tr>\n",
              "    <tr>\n",
              "      <th>macromoleculeType_y</th>\n",
              "      <td>35770</td>\n",
              "    </tr>\n",
              "  </tbody>\n",
              "</table>\n",
              "</div><br><label><b>dtype:</b> int64</label>"
            ]
          },
          "metadata": {},
          "execution_count": 30
        }
      ]
    },
    {
      "cell_type": "code",
      "source": [
        "#Hapus kolom kosong\n",
        "dfgabungbsh = dfgabung.dropna(subset =['structureId', 'classification', 'experimentalTechnique',\n",
        "       'macromoleculeType', 'residueCount_x', 'resolution',\n",
        "       'structureMolecularWeight', 'crystallizationMethod',\n",
        "       'crystallizationTempK', 'densityMatthews', 'densityPercentSol',\n",
        "       'pdbxDetails', 'phValue', 'publicationYear', 'chainId', 'sequence',\n",
        "       'residueCount', 'macromoleculeType_y']).copy()\n",
        "#lihat kolom hilang pasca pembersihan\n",
        "dfgabungbsh.isna().sum()"
      ],
      "metadata": {
        "colab": {
          "base_uri": "https://localhost:8080/",
          "height": 648
        },
        "id": "q76wEJndjExK",
        "outputId": "0513de04-3c95-4277-d85e-a57e0f52dfb0",
        "collapsed": true
      },
      "execution_count": null,
      "outputs": [
        {
          "output_type": "execute_result",
          "data": {
            "text/plain": [
              "structureId                 0\n",
              "classification              0\n",
              "experimentalTechnique       0\n",
              "macromoleculeType           0\n",
              "residueCount_x              0\n",
              "resolution                  0\n",
              "structureMolecularWeight    0\n",
              "crystallizationMethod       0\n",
              "crystallizationTempK        0\n",
              "densityMatthews             0\n",
              "densityPercentSol           0\n",
              "pdbxDetails                 0\n",
              "phValue                     0\n",
              "publicationYear             0\n",
              "chainId                     0\n",
              "sequence                    0\n",
              "residueCount                0\n",
              "macromoleculeType_y         0\n",
              "dtype: int64"
            ],
            "text/html": [
              "<div>\n",
              "<style scoped>\n",
              "    .dataframe tbody tr th:only-of-type {\n",
              "        vertical-align: middle;\n",
              "    }\n",
              "\n",
              "    .dataframe tbody tr th {\n",
              "        vertical-align: top;\n",
              "    }\n",
              "\n",
              "    .dataframe thead th {\n",
              "        text-align: right;\n",
              "    }\n",
              "</style>\n",
              "<table border=\"1\" class=\"dataframe\">\n",
              "  <thead>\n",
              "    <tr style=\"text-align: right;\">\n",
              "      <th></th>\n",
              "      <th>0</th>\n",
              "    </tr>\n",
              "  </thead>\n",
              "  <tbody>\n",
              "    <tr>\n",
              "      <th>structureId</th>\n",
              "      <td>0</td>\n",
              "    </tr>\n",
              "    <tr>\n",
              "      <th>classification</th>\n",
              "      <td>0</td>\n",
              "    </tr>\n",
              "    <tr>\n",
              "      <th>experimentalTechnique</th>\n",
              "      <td>0</td>\n",
              "    </tr>\n",
              "    <tr>\n",
              "      <th>macromoleculeType</th>\n",
              "      <td>0</td>\n",
              "    </tr>\n",
              "    <tr>\n",
              "      <th>residueCount_x</th>\n",
              "      <td>0</td>\n",
              "    </tr>\n",
              "    <tr>\n",
              "      <th>resolution</th>\n",
              "      <td>0</td>\n",
              "    </tr>\n",
              "    <tr>\n",
              "      <th>structureMolecularWeight</th>\n",
              "      <td>0</td>\n",
              "    </tr>\n",
              "    <tr>\n",
              "      <th>crystallizationMethod</th>\n",
              "      <td>0</td>\n",
              "    </tr>\n",
              "    <tr>\n",
              "      <th>crystallizationTempK</th>\n",
              "      <td>0</td>\n",
              "    </tr>\n",
              "    <tr>\n",
              "      <th>densityMatthews</th>\n",
              "      <td>0</td>\n",
              "    </tr>\n",
              "    <tr>\n",
              "      <th>densityPercentSol</th>\n",
              "      <td>0</td>\n",
              "    </tr>\n",
              "    <tr>\n",
              "      <th>pdbxDetails</th>\n",
              "      <td>0</td>\n",
              "    </tr>\n",
              "    <tr>\n",
              "      <th>phValue</th>\n",
              "      <td>0</td>\n",
              "    </tr>\n",
              "    <tr>\n",
              "      <th>publicationYear</th>\n",
              "      <td>0</td>\n",
              "    </tr>\n",
              "    <tr>\n",
              "      <th>chainId</th>\n",
              "      <td>0</td>\n",
              "    </tr>\n",
              "    <tr>\n",
              "      <th>sequence</th>\n",
              "      <td>0</td>\n",
              "    </tr>\n",
              "    <tr>\n",
              "      <th>residueCount</th>\n",
              "      <td>0</td>\n",
              "    </tr>\n",
              "    <tr>\n",
              "      <th>macromoleculeType_y</th>\n",
              "      <td>0</td>\n",
              "    </tr>\n",
              "  </tbody>\n",
              "</table>\n",
              "</div><br><label><b>dtype:</b> int64</label>"
            ]
          },
          "metadata": {},
          "execution_count": 31
        }
      ]
    },
    {
      "cell_type": "code",
      "source": [
        "#inspeksi informasi\n",
        "dfgabungbsh.info()"
      ],
      "metadata": {
        "colab": {
          "base_uri": "https://localhost:8080/"
        },
        "id": "bM9aBgVHlB3D",
        "outputId": "8f426115-38b0-4984-bf5d-18ee26791ed9"
      },
      "execution_count": null,
      "outputs": [
        {
          "output_type": "stream",
          "name": "stdout",
          "text": [
            "<class 'pandas.core.frame.DataFrame'>\n",
            "Index: 215142 entries, 5 to 470659\n",
            "Data columns (total 18 columns):\n",
            " #   Column                    Non-Null Count   Dtype  \n",
            "---  ------                    --------------   -----  \n",
            " 0   structureId               215142 non-null  object \n",
            " 1   classification            215142 non-null  object \n",
            " 2   experimentalTechnique     215142 non-null  object \n",
            " 3   macromoleculeType         215142 non-null  object \n",
            " 4   residueCount_x            215142 non-null  int64  \n",
            " 5   resolution                215142 non-null  float64\n",
            " 6   structureMolecularWeight  215142 non-null  float64\n",
            " 7   crystallizationMethod     215142 non-null  object \n",
            " 8   crystallizationTempK      215142 non-null  float64\n",
            " 9   densityMatthews           215142 non-null  float64\n",
            " 10  densityPercentSol         215142 non-null  float64\n",
            " 11  pdbxDetails               215142 non-null  object \n",
            " 12  phValue                   215142 non-null  float64\n",
            " 13  publicationYear           215142 non-null  float64\n",
            " 14  chainId                   215142 non-null  object \n",
            " 15  sequence                  215142 non-null  object \n",
            " 16  residueCount              215142 non-null  int64  \n",
            " 17  macromoleculeType_y       215142 non-null  object \n",
            "dtypes: float64(7), int64(2), object(9)\n",
            "memory usage: 31.2+ MB\n"
          ]
        }
      ]
    },
    {
      "cell_type": "code",
      "source": [
        "#Pemilihan dataset\n",
        "dfgabungnum = dfgabungbsh.select_dtypes(include=['float64', 'int64']).copy()\n",
        "dfgabungnum.info()"
      ],
      "metadata": {
        "colab": {
          "base_uri": "https://localhost:8080/"
        },
        "id": "ZDhebTsyG39w",
        "outputId": "ac11a6fd-19e5-48b0-f249-f4c2cf3a77cc"
      },
      "execution_count": null,
      "outputs": [
        {
          "output_type": "stream",
          "name": "stdout",
          "text": [
            "<class 'pandas.core.frame.DataFrame'>\n",
            "Index: 215142 entries, 5 to 470659\n",
            "Data columns (total 9 columns):\n",
            " #   Column                    Non-Null Count   Dtype  \n",
            "---  ------                    --------------   -----  \n",
            " 0   residueCount_x            215142 non-null  int64  \n",
            " 1   resolution                215142 non-null  float64\n",
            " 2   structureMolecularWeight  215142 non-null  float64\n",
            " 3   crystallizationTempK      215142 non-null  float64\n",
            " 4   densityMatthews           215142 non-null  float64\n",
            " 5   densityPercentSol         215142 non-null  float64\n",
            " 6   phValue                   215142 non-null  float64\n",
            " 7   publicationYear           215142 non-null  float64\n",
            " 8   residueCount              215142 non-null  int64  \n",
            "dtypes: float64(7), int64(2)\n",
            "memory usage: 16.4 MB\n"
          ]
        }
      ]
    },
    {
      "cell_type": "code",
      "source": [
        "#Proses scaler\n",
        "stdscal = StandardScaler() #untuk PCA\n",
        "rbscal = RobustScaler() #untuk hierarki"
      ],
      "metadata": {
        "id": "JlOvQ_cZHL5O"
      },
      "execution_count": null,
      "outputs": []
    },
    {
      "cell_type": "code",
      "source": [
        "#Persiapan dataset untuk hierarki via Robust\n",
        "sdfgbngnum = stdscal.fit_transform(dfgabungnum) #untuk PCA\n",
        "rscaldfgbgnum = rbscal.fit_transform(dfgabungnum) #untuk hierarki"
      ],
      "metadata": {
        "id": "_rA-cZ0QIKch"
      },
      "execution_count": null,
      "outputs": []
    },
    {
      "cell_type": "markdown",
      "source": [
        "## **b. Evaluasi Model Clustering**"
      ],
      "metadata": {
        "id": "zsGVwzPKMEvn"
      }
    },
    {
      "cell_type": "markdown",
      "source": [
        "Untuk menentukan jumlah cluster yang optimal dalam model clustering, Anda dapat menggunakan metode Elbow atau Silhouette Score.\n",
        "\n",
        "Metode ini membantu kita menemukan jumlah cluster yang memberikan pemisahan terbaik antar kelompok data, sehingga model yang dibangun dapat lebih efektif. Berikut adalah **rekomendasi** tahapannya.\n",
        "1. Gunakan Silhouette Score dan Elbow Method untuk menentukan jumlah cluster optimal.\n",
        "2. Hitung Silhouette Score sebagai ukuran kualitas cluster."
      ],
      "metadata": {
        "id": "qk63ew39MeBf"
      }
    },
    {
      "cell_type": "code",
      "source": [
        "#Tahap Awal (Determinasi metode terbaik)\n",
        "def hierarchical_clustering(data, method='ward', threshold=0.55):\n",
        "    # Pemakaian subset demi 'efisiensi'\n",
        "    if len(data) > 10000:  # Dataset untuk inspeksi demi 'efisiensi RAM'\n",
        "        sample_indices = np.random.choice(len(data), 10000, replace=False)\n",
        "        data_subset = data[sample_indices]\n",
        "    else:\n",
        "        data_subset = data\n",
        "\n",
        "    Z = linkage(data_subset, method=method)\n",
        "    clusters = fcluster(Z, t=threshold, criterion='distance')\n",
        "\n",
        "    # Cek nilai kluster\n",
        "    silhouette_avg = silhouette_score(data_subset, clusters)\n",
        "\n",
        "    return clusters, silhouette_avg, Z\n",
        "\n",
        "def adjust_clustering(data):\n",
        "    methods = ['ward', 'single', 'complete', 'average']  # Metode memungkinkan\n",
        "    best_silhouette = 0\n",
        "    best_clusters = None\n",
        "    best_method = None\n",
        "\n",
        "    if len(data) > 10000:  # Perwakilan\n",
        "        sample_indices = np.random.choice(len(data), 10000, replace=False)\n",
        "        data_subset = data[sample_indices]\n",
        "    else:\n",
        "        data_subset = data\n",
        "\n",
        "    for method in methods:\n",
        "        print(f\"Testing method: {method}\")\n",
        "        clusters, silhouette_avg, Z = hierarchical_clustering(data_subset, method=method)\n",
        "\n",
        "        if silhouette_avg >= 0.55:\n",
        "            print(f\"Method: {method}, Silhouette score: {silhouette_avg:.2f}\")\n",
        "            if silhouette_avg > best_silhouette:\n",
        "                best_silhouette = silhouette_avg\n",
        "                best_clusters = clusters\n",
        "                best_method = method\n",
        "\n",
        "        # Hasil inspeksi\n",
        "        dump((clusters, silhouette_avg, Z), f'{method}_checkpoint.joblib')\n",
        "\n",
        "    return best_clusters, best_silhouette, best_method\n",
        "\n",
        "def run_clustering_with_multiprocessing(data):\n",
        "    num_cores = multiprocessing.cpu_count()\n",
        "\n",
        "    # Use a subset of data to avoid memory issues\n",
        "    if len(data) > 10000:\n",
        "        sample_indices = np.random.choice(len(data), 10000, replace=False)\n",
        "        data_subset = data[sample_indices]\n",
        "    else:\n",
        "        data_subset = data\n",
        "\n",
        "    # Persiapan kluster\n",
        "    results = Parallel(n_jobs=num_cores)(\n",
        "        delayed(hierarchical_clustering)(data_subset, method) for method in ['ward', 'single', 'complete', 'average']\n",
        "    )\n",
        "\n",
        "    # Penyimpanan hasil untuk sementara\n",
        "    dump(results, 'clustering_results.joblib')\n",
        "\n",
        "    return results\n",
        "    #ke persiapan data"
      ],
      "metadata": {
        "id": "cgC4yyVGjbgJ"
      },
      "execution_count": null,
      "outputs": []
    },
    {
      "cell_type": "code",
      "source": [
        "#ke persiapan data\n",
        "nilrobust = rscaldfgbgnum\n",
        "dfnilrobust = pd.DataFrame(nilrobust, columns=dfgabungnum.columns)\n",
        "#Eksekusi nilai"
      ],
      "metadata": {
        "id": "yrPkK_bvM-Ya"
      },
      "execution_count": null,
      "outputs": []
    },
    {
      "cell_type": "code",
      "source": [
        "#cek hasil siluet\n",
        "clusters, silhouette_avg, Z = hierarchical_clustering(dfnilrobust)\n",
        "\n",
        "# Inspeksi nilai\n",
        "if silhouette_avg >= 0.70:\n",
        "    print(f\"Achieved optimal silhouette score: {silhouette_avg:.2f}\")\n",
        "elif silhouette_avg >= 0.55:\n",
        "    print(\"Niai minimal terpenuhi.\")\n",
        "else:\n",
        "    print(\"Nilai membutuhkan penyetelan lanjut karena nilai belum oprimal.\")\n",
        "#ke eksekusi hasil"
      ],
      "metadata": {
        "id": "VYCWEIrzN5PO"
      },
      "execution_count": null,
      "outputs": []
    },
    {
      "cell_type": "code",
      "source": [
        "#Eksekusi Nilai\n",
        "best_clusters, best_silhouette, best_method = adjust_clustering(dfnilrobust)\n",
        "print(f\"Metode terbaik: {best_method}, Nilai siluet terbaik: {best_silhouette:.2f}\")"
      ],
      "metadata": {
        "colab": {
          "base_uri": "https://localhost:8080/"
        },
        "id": "QJgSY3IAMBDt",
        "outputId": "6a6383cb-d3cb-4039-d11c-3306e53caec1"
      },
      "execution_count": null,
      "outputs": [
        {
          "output_type": "stream",
          "name": "stdout",
          "text": [
            "Metode pengetesan : ward\n"
          ]
        }
      ]
    },
    {
      "cell_type": "markdown",
      "source": [
        "## **c. Feature Selection (Opsional)**"
      ],
      "metadata": {
        "id": "vWZp5vKNQddd"
      }
    },
    {
      "cell_type": "markdown",
      "source": [
        "Silakan lakukan feature selection jika Anda membutuhkan optimasi model clustering. Jika Anda menerapkan proses ini, silakan lakukan pemodelan dan evaluasi kembali menggunakan kolom-kolom hasil feature selection. Terakhir, bandingkan hasil performa model sebelum dan sesudah menerapkan feature selection."
      ],
      "metadata": {
        "id": "QIHKgE07Q4c0"
      }
    },
    {
      "cell_type": "code",
      "source": [
        "#Modifikasi dengan seleksi fitur\n"
      ],
      "metadata": {
        "id": "Vbstha0PRUpI"
      },
      "execution_count": null,
      "outputs": []
    },
    {
      "cell_type": "markdown",
      "source": [
        "## **d. Visualisasi Hasil Clustering**"
      ],
      "metadata": {
        "id": "nn01TKkLLRiF"
      }
    },
    {
      "cell_type": "markdown",
      "source": [
        "Setelah model clustering dilatih dan jumlah cluster optimal ditentukan, langkah selanjutnya adalah menampilkan hasil clustering melalui visualisasi.\n",
        "\n",
        "Berikut adalah **rekomendasi** tahapannya.\n",
        "1. Tampilkan hasil clustering dalam bentuk visualisasi, seperti grafik scatter plot atau 2D PCA projection."
      ],
      "metadata": {
        "id": "gaz0fnhhMkRI"
      }
    },
    {
      "cell_type": "code",
      "source": [
        "#Type your code here"
      ],
      "metadata": {
        "id": "lfOjVvfYM-4v"
      },
      "execution_count": null,
      "outputs": []
    },
    {
      "cell_type": "markdown",
      "source": [
        "## **e. Analisis dan Interpretasi Hasil Cluster**"
      ],
      "metadata": {
        "id": "X4eydPWJLH4I"
      }
    },
    {
      "cell_type": "markdown",
      "source": [
        "Setelah melakukan clustering, langkah selanjutnya adalah menganalisis karakteristik dari masing-masing cluster berdasarkan fitur yang tersedia.\n",
        "\n",
        "Berikut adalah **rekomendasi** tahapannya.\n",
        "1. Analisis karakteristik tiap cluster berdasarkan fitur yang tersedia (misalnya, distribusi nilai dalam cluster).\n",
        "2. Berikan interpretasi: Apakah hasil clustering sesuai dengan ekspektasi dan logika bisnis? Apakah ada pola tertentu yang bisa dimanfaatkan?"
      ],
      "metadata": {
        "id": "SENfLnfRMpC-"
      }
    },
    {
      "cell_type": "code",
      "source": [
        "#Type your code here"
      ],
      "metadata": {
        "id": "MFq0x-OzM_Wt"
      },
      "execution_count": null,
      "outputs": []
    },
    {
      "cell_type": "markdown",
      "source": [
        "Tulis hasil interpretasinya di sini.\n",
        "1. Cluster 1:\n",
        "2. Cluster 2:\n",
        "3. Cluster 3:"
      ],
      "metadata": {
        "id": "JfgVMEBDS3KG"
      }
    },
    {
      "cell_type": "markdown",
      "source": [
        "# **7. Mengeksport Data**\n",
        "\n",
        "Simpan hasilnya ke dalam file CSV."
      ],
      "metadata": {
        "id": "jaYP1fx5VgWO"
      }
    },
    {
      "cell_type": "code",
      "source": [],
      "metadata": {
        "id": "fkbg_o80aRSH"
      },
      "execution_count": null,
      "outputs": []
    }
  ]
}